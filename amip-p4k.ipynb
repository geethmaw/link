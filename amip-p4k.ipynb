{
 "cells": [
  {
   "cell_type": "code",
   "execution_count": 1,
   "id": "f1f6cd88-afba-42d0-81b3-790be6af8da2",
   "metadata": {},
   "outputs": [
    {
     "data": {
      "text/plain": [
       "<Figure size 600x400 with 0 Axes>"
      ]
     },
     "metadata": {},
     "output_type": "display_data"
    }
   ],
   "source": [
    "# import xarray as xr\n",
    "import matplotlib.pyplot as plt\n",
    "import numpy as np\n",
    "from matplotlib.cm import get_cmap\n",
    "from myReadGCMsDaily import read_var_mod\n",
    "from read_amip import read_amip_var\n",
    "import calendar\n",
    "from global_land_mask import globe\n",
    "import glob\n",
    "import math\n",
    "from regrid_wght_3d import regrid_wght_wnans\n",
    "from scipy import stats\n",
    "import os\n",
    "import netCDF4 as nc\n",
    "\n",
    "import matplotlib as mpl\n",
    "mpl.rcParams['figure.dpi'] = 100\n",
    "plt.clf()\n",
    "plt.rcParams['figure.figsize'] = (10, 10)"
   ]
  },
  {
   "cell_type": "code",
   "execution_count": 15,
   "id": "5844113a-5e8f-410f-bcfa-7486aeaeb1e2",
   "metadata": {},
   "outputs": [],
   "source": [
    "time1=[2010, 1, 1]\n",
    "time2=[2012, 12, 30]"
   ]
  },
  {
   "cell_type": "code",
   "execution_count": 17,
   "id": "e262a7da-d8ea-4f87-9a59-345659ff0ce6",
   "metadata": {},
   "outputs": [],
   "source": [
    "#latitude range\n",
    "latr1 = 30\n",
    "latr2 = 80\n"
   ]
  },
  {
   "cell_type": "code",
   "execution_count": 19,
   "id": "7f2dcd25-16cf-4f93-9de3-90b695ff2cb7",
   "metadata": {},
   "outputs": [],
   "source": [
    "l = 0\n",
    "m = len(amip_md)"
   ]
  },
  {
   "cell_type": "code",
   "execution_count": 20,
   "id": "6b26b51c-3fda-48a7-bb0c-bf38fa39dec1",
   "metadata": {},
   "outputs": [],
   "source": [
    "lats_edges = np.arange(latr1,latr2+1,5)\n",
    "lons_edges = np.arange(-180,181,5)\n",
    "\n",
    "#binning\n",
    "n_bins  = 20\n",
    "M_range = (-9,-6)\n",
    "bin_co  = 1000\n",
    "\n",
    "b_coun = []"
   ]
  },
  {
   "cell_type": "code",
   "execution_count": 20,
   "id": "888c8220-173c-4131-943b-c074e9e1a353",
   "metadata": {},
   "outputs": [],
   "source": [
    "fpath      = glob.glob('/glade/scratch/geethma/cmip6/surface/*sfcWind*_amip_*')"
   ]
  },
  {
   "cell_type": "code",
   "execution_count": 21,
   "id": "0ba73ccf-b056-46dd-9c12-f8794509f423",
   "metadata": {},
   "outputs": [
    {
     "data": {
      "text/plain": [
       "['/glade/scratch/geethma/cmip6/surface/sfcWind_day_CESM2_amip_r2i1p1f1_gn_20100101-20150101.nc',\n",
       " '/glade/scratch/geethma/cmip6/surface/sfcWind_day_IPSL-CM6A-LR_amip_r11i1p1f1_gr_19580101-20141231.nc']"
      ]
     },
     "execution_count": 21,
     "metadata": {},
     "output_type": "execute_result"
    }
   ],
   "source": [
    "fpath"
   ]
  },
  {
   "cell_type": "code",
   "execution_count": 26,
   "id": "ed7e08a3-96ba-4fa8-905f-5b882cff3c95",
   "metadata": {},
   "outputs": [
    {
     "name": "stdout",
     "output_type": "stream",
     "text": [
      "CESM2\n",
      "sfcWind hist\n"
     ]
    },
    {
     "name": "stderr",
     "output_type": "stream",
     "text": [
      "/glade/work/geethma/research/codes/read_amip.py:69: UserWarning: WARNING: missing_value not used since it\n",
      "cannot be safely cast to variable data type\n",
      "  data.extend(np.array(datai[ind1:ind2+1,:,:]))\n"
     ]
    },
    {
     "name": "stdout",
     "output_type": "stream",
     "text": [
      "sfcWind warm\n"
     ]
    },
    {
     "name": "stderr",
     "output_type": "stream",
     "text": [
      "/glade/work/geethma/research/codes/myReadGCMsDaily.py:69: UserWarning: WARNING: missing_value not used since it\n",
      "cannot be safely cast to variable data type\n",
      "  data.extend(np.array(datai[ind1:ind2+1,:,:]))\n"
     ]
    },
    {
     "name": "stdout",
     "output_type": "stream",
     "text": [
      "tas hist\n",
      "tas warm\n",
      "psl hist\n",
      "psl warm\n",
      "ta hist\n",
      "ta warm\n",
      "IPSL-CM6A-LR\n",
      "sfcWind hist\n",
      "sfcWind warm\n",
      "tas hist\n",
      "tas warm\n",
      "psl hist\n",
      "psl warm\n",
      "ta hist\n",
      "ta warm\n"
     ]
    }
   ],
   "source": [
    "for j in range(0,len(amip_md)):\n",
    "    print(amip_md[j])\n",
    "    for i in varname:\n",
    "        print(i,'hist')\n",
    "        locals()['hist_'+i+'__'+str(j+1)] = read_amip_var('surface', amip_md[j], '_amip_', i, time1, time2)\n",
    "        print(i,'warm')\n",
    "        locals()['warm_'+i+'__'+str(j+1)] = read_var_mod('surface', amip_md[j], 'amip-p4K', i, time1, time2)\n",
    "\n",
    "    for k in pvarname:\n",
    "        print(k,'hist')\n",
    "        locals()['hist_'+k+'__'+str(j+1)] = read_amip_var('p_level', amip_md[j], '_amip_', k, time1, time2)\n",
    "        print(k,'warm')\n",
    "        locals()['warm_'+k+'__'+str(j+1)] = read_var_mod('p_level', amip_md[j], 'amip-p4K', k, time1, time2)\n",
    "        "
   ]
  },
  {
   "cell_type": "code",
   "execution_count": 27,
   "id": "388aa71a-4b1f-4461-aad4-81db87198f2f",
   "metadata": {},
   "outputs": [
    {
     "name": "stdout",
     "output_type": "stream",
     "text": [
      "CESM2\n"
     ]
    },
    {
     "name": "stderr",
     "output_type": "stream",
     "text": [
      "/glade/work/geethma/research/codes/regrid_wght_3d.py:46: RuntimeWarning: invalid value encountered in true_divide\n",
      "  zout[i]=zz[0]/ww[0]\n"
     ]
    },
    {
     "name": "stdout",
     "output_type": "stream",
     "text": [
      "IPSL-CM6A-LR\n"
     ]
    }
   ],
   "source": [
    "M_hist = []\n",
    "W_hist = []\n",
    "bin_count = 1000\n",
    "\n",
    "for i in range(0,len(amip_md)):\n",
    "    print(amip_md[i])\n",
    "    for j in varname:\n",
    "        lat  = locals()['hist_'+j+'__'+str(i+1)][0]\n",
    "        lon  = locals()['hist_'+j+'__'+str(i+1)][1]\n",
    "        time = locals()['hist_'+j+'__'+str(i+1)][2]\n",
    "\n",
    "        x_lat = np.array(lat)\n",
    "        lat_ind1 = np.where(x_lat == x_lat.flat[np.abs(x_lat - (latr1)).argmin()])[0]\n",
    "        lat_ind2 = np.where(x_lat == x_lat.flat[np.abs(x_lat - (latr2)).argmin()])[0]\n",
    "        lats = lat[lat_ind1[0]:lat_ind2[0]]\n",
    "\n",
    "        x_lon = lon\n",
    "        lon = np.array(lon)\n",
    "        lon[lon > 180] = lon[lon > 180]-360\n",
    "\n",
    "        maskm = np.ones((len(time),len(lats),len(lon)))\n",
    "\n",
    "        for a in range(len(lats)):\n",
    "            for b in range(len(lon)):\n",
    "                if globe.is_land(lats[a], lon[b])==True:\n",
    "                    maskm[:,a,b] = math.nan\n",
    "        #print(j)\n",
    "        locals()[j+str(i+1)] = locals()['hist_'+j+'__'+str(i+1)][4]\n",
    "        locals()[j+str(i+1)] = np.ma.filled(locals()[j+str(i+1)], fill_value=np.nan)\n",
    "        locals()['plot_'+j+str(i+1)] = np.array(np.multiply(maskm,locals()[j+str(i+1)][:,lat_ind1[0]:lat_ind2[0],:]))\n",
    "        locals()['grid_'+j+str(i+1)] = regrid_wght_wnans(lats,lon,locals()['plot_'+j+str(i+1)],lats_edges,lons_edges)[0]\n",
    "\n",
    "    for k in pvarname:\n",
    "        #print(k)\n",
    "        lat  = locals()['hist_'+k+'__'+str(i+1)][0]\n",
    "        lon  = locals()['hist_'+k+'__'+str(i+1)][1]\n",
    "        time = locals()['hist_'+k+'__'+str(i+1)][2]\n",
    "\n",
    "        x_lat = np.array(lat)\n",
    "        lat_ind1 = np.where(x_lat == x_lat.flat[np.abs(x_lat - (latr1)).argmin()])[0]\n",
    "        lat_ind2 = np.where(x_lat == x_lat.flat[np.abs(x_lat - (latr2)).argmin()])[0]\n",
    "        lats = lat[lat_ind1[0]:lat_ind2[0]]\n",
    "\n",
    "        x_lon = lon\n",
    "        lon = np.array(lon)\n",
    "        lon[lon > 180] = lon[lon > 180]-360\n",
    "\n",
    "        maskm = np.ones((len(time),len(lats),len(lon)))\n",
    "\n",
    "        for a in range(len(lats)):\n",
    "            for b in range(len(lon)):\n",
    "                if globe.is_land(lats[a], lon[b])==True:\n",
    "                    maskm[:,a,b] = math.nan\n",
    "        locals()['plot_levels'+str(i+1)] = locals()['hist_ta__'+str(i+1)][3]\n",
    "        locals()['grid_'+k+str(i+1)] = []\n",
    "\n",
    "        levels = locals()['plot_levels'+str(i+1)]\n",
    "\n",
    "        for p in range(len(levels)):\n",
    "            if levels[p] == 70000:\n",
    "                #print(levels[p])\n",
    "                locals()[k+str(i+1)] = locals()['hist_'+k+'__'+str(i+1)][4]\n",
    "                locals()[k+str(i+1)] = np.ma.filled(locals()[k+str(i+1)], fill_value=np.nan)\n",
    "                temp_700   = np.array(np.multiply(maskm,locals()[k+str(i+1)][:,p,lat_ind1[0]:lat_ind2[0],:]))\n",
    "                grid_t_700 = regrid_wght_wnans(lats,lon,temp_700,lats_edges,lons_edges)[0]\n",
    "                break;\n",
    "\n",
    "    theta_700 = grid_t_700*(100000/70000)**con\n",
    "    theta_t2m = locals()['grid_tas'+str(i+1)]*(100000/locals()['grid_psl'+str(i+1)])**con\n",
    "\n",
    "    t = min(len(theta_t2m),len(theta_700))\n",
    "    M_700  = theta_t2m[0:t,:,:] - theta_700[0:t,:,:]\n",
    "    plot_M = M_700.flatten()\n",
    "    try_W  = locals()['grid_sfcWind'+str(i+1)][0:t,:,:]\n",
    "    plot_W = try_W.flatten()\n",
    "\n",
    "    ind = np.argsort(plot_M)\n",
    "\n",
    "    final_M = np.sort(plot_M)\n",
    "    final_W = plot_W[ind]\n",
    "\n",
    "    indx = np.isnan(final_M*final_W)==False\n",
    "\n",
    "    bin_means, bin_edges, binnumber       = stats.binned_statistic(final_M[indx], final_W[indx], 'mean', bins=n_bins,range=M_range)\n",
    "    bin_means_c, bin_edges_c, binnumber_c = stats.binned_statistic(final_M[indx], final_W[indx], 'count', bins=n_bins,range=M_range)\n",
    "    bin_means_x, bin_edges_x, binnumber_x = stats.binned_statistic(final_M[indx], final_M[indx], 'mean', bins=n_bins,range=M_range)\n",
    "\n",
    "    ind_c = np.where(bin_means_c > bin_co)\n",
    "\n",
    "    M_hist.append(np.ma.masked_invalid(bin_means_x[ind_c])) #[ind_c]\n",
    "    W_hist.append(np.ma.masked_invalid(bin_means[ind_c]))\n",
    "    bin_count = min(bin_count,len(bin_means_c[ind_c]))\n",
    "print('HISTORICAL DONE')\n",
    "    "
   ]
  },
  {
   "cell_type": "code",
   "execution_count": 28,
   "id": "7745575c-61ed-4f33-a9d4-90d477fd0a8a",
   "metadata": {},
   "outputs": [
    {
     "name": "stdout",
     "output_type": "stream",
     "text": [
      "CESM2\n",
      "IPSL-CM6A-LR\n"
     ]
    }
   ],
   "source": [
    "W_warm = []\n",
    "M_warm = []\n",
    "\n",
    "for i in range(0,len(amip_md)):\n",
    "    print(amip_md[i])\n",
    "    for j in varname:\n",
    "        lat  = locals()['warm_'+j+'__'+str(i+1)][0]\n",
    "        lon  = locals()['warm_'+j+'__'+str(i+1)][1]\n",
    "        time = locals()['warm_'+j+'__'+str(i+1)][2]\n",
    "\n",
    "        x_lat = np.array(lat)\n",
    "        lat_ind1 = np.where(x_lat == x_lat.flat[np.abs(x_lat - (latr1)).argmin()])[0]\n",
    "        lat_ind2 = np.where(x_lat == x_lat.flat[np.abs(x_lat - (latr2)).argmin()])[0]\n",
    "        lats = lat[lat_ind1[0]:lat_ind2[0]]\n",
    "\n",
    "        x_lon = lon\n",
    "        lon = np.array(lon)\n",
    "        lon[lon > 180] = lon[lon > 180]-360\n",
    "\n",
    "        maskm = np.ones((len(time),len(lats),len(lon)))\n",
    "\n",
    "        for a in range(len(lats)):\n",
    "            for b in range(len(lon)):\n",
    "                if globe.is_land(lats[a], lon[b])==True:\n",
    "                    maskm[:,a,b] = math.nan\n",
    "        print(j)\n",
    "        locals()[j+str(i+1)] = locals()['warm_'+j+'__'+str(i+1)][4]\n",
    "        locals()[j+str(i+1)] = np.ma.filled(locals()[j+str(i+1)], fill_value=np.nan)\n",
    "        locals()['plot_'+j+str(i+1)] = np.array(np.multiply(maskm,locals()[j+str(i+1)][:,lat_ind1[0]:lat_ind2[0],:]))\n",
    "        locals()['grid_'+j+str(i+1)] = regrid_wght_wnans(lats,lon,locals()['plot_'+j+str(i+1)],lats_edges,lons_edges)[0]\n",
    "\n",
    "    for k in pvarname:\n",
    "        print(k)\n",
    "        lat  = locals()['warm_'+k+'__'+str(i+1)][0]\n",
    "        lon  = locals()['warm_'+k+'__'+str(i+1)][1]\n",
    "        time = locals()['warm_'+k+'__'+str(i+1)][2]\n",
    "\n",
    "        x_lat = np.array(lat)\n",
    "        lat_ind1 = np.where(x_lat == x_lat.flat[np.abs(x_lat - (latr1)).argmin()])[0]\n",
    "        lat_ind2 = np.where(x_lat == x_lat.flat[np.abs(x_lat - (latr2)).argmin()])[0]\n",
    "        lats = lat[lat_ind1[0]:lat_ind2[0]]\n",
    "\n",
    "        x_lon = lon\n",
    "        lon = np.array(lon)\n",
    "        lon[lon > 180] = lon[lon > 180]-360\n",
    "\n",
    "        maskm = np.ones((len(time),len(lats),len(lon)))\n",
    "\n",
    "        for a in range(len(lats)):\n",
    "            for b in range(len(lon)):\n",
    "                if globe.is_land(lats[a], lon[b])==True:\n",
    "                    maskm[:,a,b] = math.nan\n",
    "        locals()['plot_levels'+str(i+1)] = locals()['warm_ta__'+str(i+1)][3]\n",
    "        locals()['grid_'+k+str(i+1)] = []\n",
    "\n",
    "        levels = locals()['plot_levels'+str(i+1)]\n",
    "\n",
    "        for p in range(len(levels)):\n",
    "            if levels[p] == 70000:\n",
    "                print(levels[p])\n",
    "                locals()[k+str(i+1)] = locals()['warm_'+k+'__'+str(i+1)][4]\n",
    "                locals()[k+str(i+1)] = np.ma.filled(locals()[k+str(i+1)], fill_value=np.nan)\n",
    "                temp_700   = np.array(np.multiply(maskm,locals()[k+str(i+1)][:,p,lat_ind1[0]:lat_ind2[0],:]))\n",
    "                grid_t_700 = regrid_wght_wnans(lats,lon,temp_700,lats_edges,lons_edges)[0]\n",
    "                break;\n",
    "\n",
    "    theta_700 = grid_t_700*(100000/70000)**con\n",
    "    theta_t2m = locals()['grid_tas'+str(i+1)]*(100000/locals()['grid_psl'+str(i+1)])**con\n",
    "\n",
    "    t = min(len(theta_t2m),len(theta_700))\n",
    "    M_700  = theta_t2m[0:t,:,:] - theta_700[0:t,:,:]\n",
    "    plot_M = M_700.flatten()\n",
    "    try_W  = locals()['grid_sfcWind'+str(i+1)][0:t,:,:]\n",
    "    plot_W = try_W.flatten()\n",
    "\n",
    "    ind = np.argsort(plot_M)\n",
    "\n",
    "    final_M = np.sort(plot_M)\n",
    "    final_W = plot_W[ind]\n",
    "\n",
    "    indx = np.isnan(final_M*final_W)==False\n",
    "\n",
    "    bin_means, bin_edges, binnumber       = stats.binned_statistic(final_M[indx], final_W[indx], 'mean', bins=n_bins,range=M_range)\n",
    "    bin_means_c, bin_edges_c, binnumber_c = stats.binned_statistic(final_M[indx], final_W[indx], 'count', bins=n_bins,range=M_range)\n",
    "    bin_means_x, bin_edges_x, binnumber_x = stats.binned_statistic(final_M[indx], final_M[indx], 'mean', bins=n_bins,range=M_range)\n",
    "\n",
    "    ind_c = np.where(bin_means_c > bin_co)\n",
    "\n",
    "    M_warm.append(np.ma.masked_invalid(bin_means_x[ind_c])) #[ind_c]\n",
    "    W_warm.append(np.ma.masked_invalid(bin_means[ind_c]))\n",
    "    bin_count = min(bin_count,len(bin_means_c[ind_c]))\n",
    "print('WARMING DONE')"
   ]
  },
  {
   "cell_type": "code",
   "execution_count": null,
   "id": "0a11c648-ed44-4acd-9ff5-0e680e93737d",
   "metadata": {},
   "outputs": [],
   "source": [
    "s = 15\n",
    "\n",
    "for i in range(len(amip_md)):\n",
    "    plt.scatter(W_hist[i][0:bin_count], W_warm[i][0:bin_count], label=amip_md[i], color=use_colors[i+len(modname)],s=s,marker=\"_\")\n",
    "    x = np.sort(W_hist[i])[bin_count-1]-0.2\n",
    "    y = np.sort(W_warm[i])[bin_count-1]+0.03\n",
    "    plt.annotate(xy=(x,y), text=amip_md[i]+'\\n :amip', color=use_colors[i+len(modname)],fontsize=9)\n",
    "    # print(i)\n",
    "\n",
    "# plt.ylabel('Warming U10 [m/s]')\n",
    "# plt.plot([7,10],[7,10],'k--')\n",
    "# plt.annotate(xy=(10,10), text='1-1', color='black',fontsize=7)\n",
    "# # plt.xlim(-20,0)\n",
    "# yti = '700'\n",
    "# plt.xlabel('Historical U10 [m/s]')\n",
    "# plt.title('U10 comparison for historical and warming scenarios\\nin cold air outbreaks')\n",
    "plt.savefig('../figures/abrupt_amip_warmingVShistorical.png')"
   ]
  },
  {
   "cell_type": "code",
   "execution_count": 32,
   "id": "b651088c-ef2e-4b69-86d5-6aaf8f6b22bf",
   "metadata": {},
   "outputs": [
    {
     "name": "stdout",
     "output_type": "stream",
     "text": [
      "0\n",
      "1\n"
     ]
    },
    {
     "data": {
      "image/png": "[encoded data removed]",
      "text/plain": [
       "<Figure size 600x600 with 1 Axes>"
      ]
     },
     "metadata": {
      "needs_background": "light"
     },
     "output_type": "display_data"
    }
   ],
   "source": [
    "for i in range(len(warming_modname)):\n",
    "    plt.scatter(W_hist[i][0:bin_count], W_warm[i][0:bin_count], label=warming_modname[i], color=use_colors[i])\n",
    "    plt.annotate(xy=(W_hist[i][bin_count-1]+0.03, W_warm[i][bin_count-1]+0.03), text=warming_modname[i], color=use_colors[i],fontsize=7)\n",
    "    print(i)\n",
    "    \n",
    "plt.ylabel('Warming U10 [m/s]')\n",
    "plt.plot([8,10],[8,10],'k--')\n",
    "plt.annotate(xy=(10,10), text='1-1', color='black',fontsize=7)\n",
    "# plt.xlim(-20,0)\n",
    "yti = '700'\n",
    "plt.xlabel('Historical U10 [m/s]')\n",
    "plt.title('U10 comparison for amip and warming scenarios\\nin cold air outbreaks')\n",
    "plt.savefig('../figures/amipp4kVSamip.png')\n",
    "plt.show()"
   ]
  },
  {
   "cell_type": "code",
   "execution_count": 34,
   "id": "00ae571a-e582-423e-af64-8a0420339523",
   "metadata": {},
   "outputs": [
    {
     "name": "stdout",
     "output_type": "stream",
     "text": [
      "0\n",
      "1\n"
     ]
    },
    {
     "data": {
      "image/png": "[encoded data removed]",
      "text/plain": [
       "<Figure size 600x600 with 1 Axes>"
      ]
     },
     "metadata": {
      "needs_background": "light"
     },
     "output_type": "display_data"
    }
   ],
   "source": [
    "\n",
    "for i in range(len(warming_modname)):\n",
    "    plt.scatter(W_hist[i][0:bin_count], W_warm[i][0:bin_count], label=warming_modname[i], color=use_colors[i])\n",
    "    plt.annotate(xy=(W_hist[i][bin_count-1]+0.03, W_warm[i][bin_count-1]+0.03), text=warming_modname[i], color=use_colors[i],fontsize=7)\n",
    "    print(i)\n",
    "    \n",
    "plt.ylabel('Warming U10 [m/s]')\n",
    "plt.plot([7,10],[7,10],'k--')\n",
    "plt.annotate(xy=(10,10), text='1-1', color='black',fontsize=7)\n",
    "# plt.xlim(-20,0)\n",
    "yti = '700'\n",
    "plt.xlabel('Historical U10 [m/s]')\n",
    "plt.title('U10 comparison for historical and warming scenarios\\nin cold air outbreaks')\n",
    "plt.savefig('../figures/amipp4kVShistorical.png')\n",
    "plt.show()"
   ]
  },
  {
   "cell_type": "code",
   "execution_count": null,
   "id": "6fa3394c-48de-4f07-9d2c-48be85a731b4",
   "metadata": {},
   "outputs": [],
   "source": []
  }
 ],
 "metadata": {
  "kernelspec": {
   "display_name": "wgh",
   "language": "python",
   "name": "wgh"
  },
  "language_info": {
   "codemirror_mode": {
    "name": "ipython",
    "version": 3
   },
   "file_extension": ".py",
   "mimetype": "text/x-python",
   "name": "python",
   "nbconvert_exporter": "python",
   "pygments_lexer": "ipython3",
   "version": "3.9.7"
  }
 },
 "nbformat": 4,
 "nbformat_minor": 5
}
