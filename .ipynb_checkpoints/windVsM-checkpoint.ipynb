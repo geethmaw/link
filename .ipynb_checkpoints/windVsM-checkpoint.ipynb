{
 "cells": [
  {
   "cell_type": "code",
   "execution_count": 2,
   "id": "ebfa0efe-16c0-49f2-9c85-b1165b3facb8",
   "metadata": {},
   "outputs": [],
   "source": [
    "import xarray as xr\n",
    "import matplotlib.pyplot as plt\n",
    "import numpy as np\n",
    "from matplotlib.cm import get_cmap\n",
    "import cartopy.crs as ccrs\n",
    "import math"
   ]
  },
  {
   "cell_type": "code",
   "execution_count": 3,
   "id": "acd2a329-13cd-4363-9b69-1a33df9dd600",
   "metadata": {},
   "outputs": [],
   "source": [
    "#####Constants\n",
    "Cp = 1004           #J/kg/K\n",
    "Rd = 287            #J/kg/K"
   ]
  },
  {
   "cell_type": "markdown",
   "id": "e193f81c-aba8-4d57-b1c8-8bf152de5327",
   "metadata": {},
   "source": [
    "MERRA2_400.inst3_3d_asm_Np.20160124.SUB.nc\n",
    "lat_mer (89.5, -89.5) lon_mer (0.5, 359.5) T(time, lev, lat, lon)"
   ]
  },
  {
   "cell_type": "code",
   "execution_count": 40,
   "id": "3e1c2fa4-0667-45a9-bbc2-5c04d4fe7834",
   "metadata": {},
   "outputs": [],
   "source": [
    "def mer(y,m):\n",
    "#     for i in ['lat', 'lon', 'T']:\n",
    "    theta = []\n",
    "    for j in range(1,2):\n",
    "        d_path = 'link/potT/merra2/MERRA2_400.inst3_3d_asm_Np.'+str(y)+f'{m:02d}'+f'{j:02d}'+'.SUB.nc'\n",
    "        data =xr.open_dataset(d_path)\n",
    "        T = data.variables['T'][:]\n",
    "#         locals()['pot_'+f'{m:02d}'+'_'+f'{j:02d}'] = np.nanmean((T * (1000/700)**(Rd/Cp)),axis=2)#.mean(dim='lat')\n",
    "#         locals()['pot_'+f'{m:02d}'+'_'+f'{j:02d}'] = np.nanmean((locals()['pot_'+f'{m:02d}'+'_'+f'{j:02d}']),axis=2)\n",
    "#         theta.append(locals()['pot_'+f'{m:02d}'+'_'+f'{j:02d}'])\n",
    "        pot = np.nanmean((T * (1000/700)**(Rd/Cp)),axis=2)#.mean(dim='lat')\n",
    "        pot = np.nanmean(pot,axis=2)\n",
    "        theta.append(pot)\n",
    "        fig = plt.figure()\n",
    "        plt.plot(f'{j:02d}',pot, marker='o', label='Potential temperature (mm/month)')\n",
    "        plt.xlabel('month')\n",
    "        plt.ylabel('monthly mean (mm/month)')\n",
    "        plt.legend(loc='center left', bbox_to_anchor=(1, 0.5))\n",
    "        plt.show\n",
    "#     theta.reshape(1)\n",
    "    \n",
    "#     plt.plot(var,lh, label='Latent heat (mm/month)', color='red')\n",
    "#     plt.plot(var,pc, label='Precipitation (mm/month)')\n",
    "#     plt.plot(var,pet, label='PET (mm/month)')\n",
    "#     plt.plot(var,ev, label='Evaporation (mm/month)', color='red')\n",
    "#     plt.title(a)\n",
    "    \n",
    "#         locals()[i+'_mer'] = data.variables[i][:]\n",
    "            \n",
    "#             if i=='T':\n",
    "# #                 T.append(locals()[i+'_mer'])\n",
    "#                 print('done')\n",
    "# #                 locals()['pot_700_'+f'{j:02d}'] = (T * (1000/700)**(Rd/Cp)).nanmean(dim='lat')\n",
    "# #                 print(locals()['pot_700_'+f'{j:02d}'])\n",
    "#                     print(T)"
   ]
  },
  {
   "cell_type": "code",
   "execution_count": 29,
   "id": "43e4bcc0-ef56-43f7-964b-c797358714ec",
   "metadata": {},
   "outputs": [
    {
     "name": "stdout",
     "output_type": "stream",
     "text": [
      "[[297.49854]]\n"
     ]
    }
   ],
   "source": [
    "mer(2016,1)"
   ]
  },
  {
   "cell_type": "code",
   "execution_count": 41,
   "id": "8e7d88a0-9979-4f16-952e-e070e5471b0d",
   "metadata": {},
   "outputs": [
    {
     "data": {
      "image/png": "[encoded data removed]",
      "text/plain": [
       "<Figure size 432x288 with 1 Axes>"
      ]
     },
     "metadata": {
      "needs_background": "light"
     },
     "output_type": "display_data"
    }
   ],
   "source": [
    "mer(2016,1)"
   ]
  },
  {
   "cell_type": "code",
   "execution_count": 1,
   "id": "0898841f-b788-4358-aa21-db212cb5091a",
   "metadata": {},
   "outputs": [],
   "source": [
    "# print(lat_mer[0],lat_mer[-1],lon_mer[0],lon_mer[-1])"
   ]
  },
  {
   "cell_type": "markdown",
   "id": "77465350-2e7b-4173-9665-d5226db829ce",
   "metadata": {},
   "source": [
    "wind1deg_maclwpv1.201612.nc4\n",
    "lat_mac (89.5, -89.5) lon_mac (0.5, 359.5) sfcwind(time, lat, lon)"
   ]
  },
  {
   "cell_type": "code",
   "execution_count": 38,
   "id": "69c6fa5d-dd8d-4ed5-86b5-9e3458408841",
   "metadata": {},
   "outputs": [],
   "source": [
    "def mac():\n",
    "    for i in ['lat', 'lon', 'time','sfcwind']:\n",
    "        d_path = 'link/MACLWP_dailymean/wind1deg_maclwpv1.201612.nc4'\n",
    "        data =xr.open_dataset(d_path)\n",
    "        locals()[i+'_mac'] = data.variables[i][:]\n",
    "    lat_mac = lat_mac[::-1]\n",
    "    sfcwind_mac = sfcwind_mac[:,::-1,:]"
   ]
  },
  {
   "cell_type": "code",
   "execution_count": 41,
   "id": "2ce0ec8b-d85c-48b0-acad-d59705492f47",
   "metadata": {},
   "outputs": [],
   "source": [
    "# print(lat_mac[0],lat_mac[-1],lon_mac[0],lon_mac[-1],time_mac[0],time_mac[-1])"
   ]
  }
 ],
 "metadata": {
  "kernelspec": {
   "display_name": "NPL-3.7.9",
   "language": "python",
   "name": "npl-3.7.9"
  },
  "language_info": {
   "codemirror_mode": {
    "name": "ipython",
    "version": 3
   },
   "file_extension": ".py",
   "mimetype": "text/x-python",
   "name": "python",
   "nbconvert_exporter": "python",
   "pygments_lexer": "ipython3",
   "version": "3.7.9"
  }
 },
 "nbformat": 4,
 "nbformat_minor": 5
}
