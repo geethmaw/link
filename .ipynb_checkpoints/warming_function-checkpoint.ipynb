{
 "cells": [
  {
   "cell_type": "code",
   "execution_count": 1,
   "id": "8b14d6fb-1568-4c67-99bc-2b96a9c2c78e",
   "metadata": {},
   "outputs": [],
   "source": [
    "import netCDF4 as nc\n",
    "import glob\n",
    "import numpy as np\n",
    "import xarray as xr\n",
    "import cftime\n",
    "\n",
    "pp_path_scratch='/glade/scratch/geethma/cmip6'"
   ]
  },
  {
   "cell_type": "code",
   "execution_count": null,
   "id": "dd6cc5c4-e6db-48cc-b3f2-eb51db05ccd0",
   "metadata": {},
   "outputs": [],
   "source": [
    "#'/glade/scratch/geethma/cmip6/surface/\n",
    "#CMIP6.CMIP.NCAR.CESM2-WACCM.abrupt-4xCO2.r1i1p1f1.day.tas.gn.v20190425.tas_day_CESM2-WACCM_abrupt-4xCO2_r1i1p1f1_gn_00210101-00301231.nc'"
   ]
  },
  {
   "cell_type": "code",
   "execution_count": 29,
   "id": "a7e5840d-6b7a-4f7d-8dd2-1de2cd855888",
   "metadata": {},
   "outputs": [],
   "source": [
    "def read_warming(level, modn, exper, varnm, n_yr):\n",
    "    path    = pp_path_scratch+'/'+level+'/'\n",
    "     \n",
    "    ncname  = 'CMIP6.CMIP.*'+modn+'.'+exper+'.*'+varnm\n",
    "     \n",
    "    fn      = np.sort(glob.glob(path+ncname+'*nc*'))\n",
    "    \n",
    "    n       = -1\n",
    "\n",
    "    data     = []\n",
    "    \n",
    "    num_yr = n_yr\n",
    "    \n",
    "    for i in range(len(fn)):\n",
    "        f       = nc.Dataset(fn[n])\n",
    "        time    = f.variables['time']\n",
    "    \n",
    "        if n == -1:\n",
    "            if len(time) > n_yr:\n",
    "                f       = nc.Dataset(fn[n])\n",
    "                lats    = f.variables['lat']\n",
    "                lons    = f.variables['lon']\n",
    "                datai   = f.variables[varnm]\n",
    "                data.extend(np.array(datai[-n_yr::,:,:]))\n",
    "                break\n",
    "        \n",
    "        if len(time) <= num_yr:\n",
    "            f       = nc.Dataset(fn[n])\n",
    "            lats    = f.variables['lat']\n",
    "            lons    = f.variables['lon']\n",
    "            datai   = f.variables[varnm]\n",
    "            data.extend(np.array(datai))\n",
    "            n       = n-1\n",
    "            num_yr  = num_yr - len(time)\n",
    "            \n",
    "        if len(time) > num_yr:\n",
    "            f       = nc.Dataset(fn[n])\n",
    "            lats    = f.variables['lat']\n",
    "            lons    = f.variables['lon']\n",
    "            datai   = f.variables[varnm]\n",
    "            data.extend(np.array(datai[-num_yr::,:,:]))\n",
    "            break\n",
    "\n",
    "\n",
    "            \n",
    "        \n",
    "#     for i in range(len(fn)):\n",
    "#         #print(fn[i])\n",
    "#         f      = nc.Dataset(fn[i])\n",
    "#         time   = f.variables['time']\n",
    "\n",
    "#         timeout = []\n",
    "#         lats    = []\n",
    "#         lons    = []\n",
    "#         lev     = []\n",
    "        \n",
    "#         if level=='p_level':\n",
    "#             lev = f.variables['plev']\n",
    "\n",
    "#         for j in range(len(time[:])):\n",
    "#             tt1 = nc.num2date(time[j], f.variables['time'].units,\n",
    "#                               calendar=f.variables['time'].calendar)\n",
    "#             timeout.append([int(tt1.year), int(tt1.month), int(tt1.day)])\n",
    "       \n",
    "#         ind1  = -1\n",
    "#         ind2  = -1\n",
    "        \n",
    "#         for k in range(len(timeout)):\n",
    "#             if timeout[k]==time1:\n",
    "#                 ind1 = k\n",
    "\n",
    "#         for k in range(len(timeout)):\n",
    "#             if timeout[k]==time2:\n",
    "#                 ind2 = k\n",
    "\n",
    "#                         if ind1>=0 and ind2>=0:\n",
    "#             #print('1')\n",
    "#             lats    = f.variables['lat']\n",
    "#             lons    = f.variables['lon']\n",
    "#             times.extend(timeout[ind1:ind2+1])\n",
    "#             datai = f.variables[varnm]\n",
    "#             data.extend(np.array(datai[ind1:ind2+1,:,:]))\n",
    "#             break\n",
    "\n",
    "            \n",
    "#         elif ind1>=0 and ind2<0:\n",
    "#             #print('2')\n",
    "#             lats    = f.variables['lat']\n",
    "#             lons    = f.variables['lon']\n",
    "#             times.extend(timeout[ind1:])\n",
    "#             datai = f.variables[varnm]\n",
    "#             data.extend(np.array(f.variables[varnm][ind1:,:,:]))\n",
    "\n",
    "            \n",
    "#         elif ind1<0 and ind2<0:\n",
    "#             #print('3')\n",
    "#             if data:\n",
    "#                 #print('4')\n",
    "#                 lats    = f.variables['lat']\n",
    "#                 lons    = f.variables['lon']\n",
    "#                 times.extend(timeout[:])\n",
    "#                 datai = f.variables[varnm]\n",
    "#                 data.extend(np.array(f.variables[varnm][:,:,:]))\n",
    "\n",
    "            \n",
    "#         elif ind2>=0 and ind1<0:\n",
    "#             #print('5')\n",
    "#             lats    = f.variables['lat']\n",
    "#             lons    = f.variables['lon']\n",
    "#             times.extend(timeout[:ind2+1])\n",
    "#             datai = f.variables[varnm]\n",
    "#             data.extend(np.array(f.variables[varnm][:ind2+1,:,:]))\n",
    "#             break\n",
    "            \n",
    "        \n",
    "#         if times: \n",
    "#             print('t')\n",
    "#             if times[0]<time1:\n",
    "#                 print('invalid start date')\n",
    "\n",
    "#             if times[-1]>time2:\n",
    "#                 print('invalid end date')\n",
    "\n",
    "    return(lats,lons,np.array(data))"
   ]
  },
  {
   "cell_type": "code",
   "execution_count": 30,
   "id": "423cbd6f-b7dc-4b2e-ae7a-82c1aeff015e",
   "metadata": {},
   "outputs": [
    {
     "name": "stderr",
     "output_type": "stream",
     "text": [
      "/glade/scratch/geethma/ipykernel_90969/141665318.py:32: UserWarning: WARNING: missing_value not used since it\n",
      "cannot be safely cast to variable data type\n",
      "  data.extend(np.array(datai))\n",
      "/glade/scratch/geethma/ipykernel_90969/141665318.py:41: UserWarning: WARNING: missing_value not used since it\n",
      "cannot be safely cast to variable data type\n",
      "  data.extend(np.array(datai[-n_yr::,:,:]))\n"
     ]
    }
   ],
   "source": [
    "test = read_warming('surface','CESM2-WACCM','abrupt-4xCO2','sfcWind',1000)"
   ]
  },
  {
   "cell_type": "code",
   "execution_count": 31,
   "id": "a79a6f53-f329-41e1-aca4-9bcb101406be",
   "metadata": {},
   "outputs": [
    {
     "data": {
      "text/plain": [
       "(1366, 192, 288)"
      ]
     },
     "execution_count": 31,
     "metadata": {},
     "output_type": "execute_result"
    }
   ],
   "source": [
    "np.shape(test[2])\n"
   ]
  },
  {
   "cell_type": "code",
   "execution_count": 27,
   "id": "0cfbe371-681a-45b7-9aa1-ac4864653cec",
   "metadata": {},
   "outputs": [
    {
     "ename": "NameError",
     "evalue": "name 'time' is not defined",
     "output_type": "error",
     "traceback": [
      "\u001b[0;31m---------------------------------------------------------------------------\u001b[0m",
      "\u001b[0;31mNameError\u001b[0m                                 Traceback (most recent call last)",
      "\u001b[0;32m/glade/scratch/geethma/ipykernel_90969/477521422.py\u001b[0m in \u001b[0;36m<module>\u001b[0;34m\u001b[0m\n\u001b[0;32m----> 1\u001b[0;31m \u001b[0mnp\u001b[0m\u001b[0;34m.\u001b[0m\u001b[0mshape\u001b[0m\u001b[0;34m(\u001b[0m\u001b[0mtime\u001b[0m\u001b[0;34m)\u001b[0m\u001b[0;34m\u001b[0m\u001b[0;34m\u001b[0m\u001b[0m\n\u001b[0m",
      "\u001b[0;31mNameError\u001b[0m: name 'time' is not defined"
     ]
    }
   ],
   "source": [
    "np.shape(time)"
   ]
  },
  {
   "cell_type": "code",
   "execution_count": null,
   "id": "a9ff5f71-bb21-42d2-b9b3-9a5207697f41",
   "metadata": {},
   "outputs": [],
   "source": []
  }
 ],
 "metadata": {
  "kernelspec": {
   "display_name": "wgh",
   "language": "python",
   "name": "wgh"
  },
  "language_info": {
   "codemirror_mode": {
    "name": "ipython",
    "version": 3
   },
   "file_extension": ".py",
   "mimetype": "text/x-python",
   "name": "python",
   "nbconvert_exporter": "python",
   "pygments_lexer": "ipython3",
   "version": "3.9.7"
  }
 },
 "nbformat": 4,
 "nbformat_minor": 5
}
