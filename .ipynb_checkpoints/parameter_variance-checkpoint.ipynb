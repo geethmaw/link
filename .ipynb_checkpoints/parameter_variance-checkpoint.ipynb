{
 "cells": [
  {
   "cell_type": "code",
   "execution_count": 27,
   "id": "c707f9b7-8580-48d3-b84f-3ac0fc398040",
   "metadata": {},
   "outputs": [],
   "source": [
    "import xarray as xr\n",
    "import matplotlib.pyplot as plt\n",
    "import numpy as np\n",
    "import sys\n",
    "# sys.path.append(\"/glade/u/home/dtmccoy/scripts\")\n",
    "import seaborn as sns\n",
    "from numpy.ma import *\n",
    "import datetime\n",
    "from numpy import *\n",
    "import glob\n",
    "import matplotlib.pyplot as plt\n",
    "import scipy.stats as st\n",
    "import netCDF4 as nc\n",
    "from global_land_mask import globe\n",
    "from scipy import stats\n",
    "%matplotlib inline "
   ]
  },
  {
   "cell_type": "code",
   "execution_count": 5,
   "id": "84a19ea4-3c80-47d2-91df-8955dd922176",
   "metadata": {},
   "outputs": [],
   "source": [
    "fpath      = '/glade/campaign/cgd/projects/ppe/cam_ppe/rerun_PPE_250/parameter_250_w_control.nc'\n",
    "data       = xr.open_dataset(fpath)"
   ]
  },
  {
   "cell_type": "code",
   "execution_count": 3,
   "id": "53210b29-103d-4e84-bf6a-f9629bca0005",
   "metadata": {},
   "outputs": [],
   "source": [
    "param_name=list(data.keys())"
   ]
  },
  {
   "cell_type": "code",
   "execution_count": 4,
   "id": "14eac377-ede7-4e71-8aa3-5eda91825284",
   "metadata": {},
   "outputs": [
    {
     "data": {
      "text/plain": [
       "['micro_mg_dcs',\n",
       " 'micro_mg_autocon_nd_exp',\n",
       " 'Sample_nmb',\n",
       " 'cldfrc_dp1',\n",
       " 'cldfrc_dp2',\n",
       " 'clubb_C2rt',\n",
       " 'clubb_C6rt',\n",
       " 'clubb_C6rtb',\n",
       " 'clubb_C6thl',\n",
       " 'clubb_C6thlb',\n",
       " 'clubb_C8',\n",
       " 'clubb_beta',\n",
       " 'clubb_c1',\n",
       " 'clubb_c11',\n",
       " 'clubb_c14',\n",
       " 'clubb_c_K10',\n",
       " 'clubb_gamma_coef',\n",
       " 'clubb_wpxp_L_thresh',\n",
       " 'dust_emis_fact',\n",
       " 'micro_mg_accre_enhan_fact',\n",
       " 'micro_mg_autocon_fact',\n",
       " 'micro_mg_autocon_lwp_exp',\n",
       " 'micro_mg_berg_eff_factor',\n",
       " 'micro_mg_effi_factor',\n",
       " 'micro_mg_homog_size',\n",
       " 'micro_mg_iaccr_factor',\n",
       " 'micro_mg_max_nicons',\n",
       " 'micro_mg_vtrmi_factor',\n",
       " 'microp_aero_npccn_scale',\n",
       " 'microp_aero_wsub_min',\n",
       " 'microp_aero_wsub_scale',\n",
       " 'microp_aero_wsubi_min',\n",
       " 'microp_aero_wsubi_scale',\n",
       " 'seasalt_emis_scale',\n",
       " 'sol_factb_interstitial',\n",
       " 'sol_factic_interstitial',\n",
       " 'zmconv_c0_lnd',\n",
       " 'zmconv_c0_ocn',\n",
       " 'zmconv_capelmt',\n",
       " 'zmconv_dmpdz',\n",
       " 'zmconv_ke',\n",
       " 'zmconv_ke_lnd',\n",
       " 'zmconv_momcd',\n",
       " 'zmconv_momcu',\n",
       " 'zmconv_num_cin',\n",
       " 'zmconv_tiedke_add']"
      ]
     },
     "execution_count": 4,
     "metadata": {},
     "output_type": "execute_result"
    }
   ],
   "source": [
    "param_name"
   ]
  },
  {
   "cell_type": "code",
   "execution_count": 6,
   "id": "e7967d22-9167-4acf-9bc9-6c7f5e7e0d19",
   "metadata": {},
   "outputs": [],
   "source": [
    "f      = nc.Dataset(fpath)"
   ]
  },
  {
   "cell_type": "code",
   "execution_count": 11,
   "id": "fcf59d48-d0b7-4d71-b2c2-88f20436d837",
   "metadata": {},
   "outputs": [],
   "source": [
    "enn = (np.arange(0,252)).tolist()\n",
    "enn.remove(175)"
   ]
  },
  {
   "cell_type": "code",
   "execution_count": 13,
   "id": "5e5bf9e6-bedc-4479-851e-e03c76b52b75",
   "metadata": {},
   "outputs": [
    {
     "data": {
      "text/plain": [
       "251"
      ]
     },
     "execution_count": 13,
     "metadata": {},
     "output_type": "execute_result"
    }
   ],
   "source": [
    "len(enn)"
   ]
  },
  {
   "cell_type": "code",
   "execution_count": 118,
   "id": "90767b08-b5dc-4b3d-b682-b48e79a52028",
   "metadata": {},
   "outputs": [
    {
     "name": "stdout",
     "output_type": "stream",
     "text": [
      "251 251\n"
     ]
    }
   ],
   "source": [
    "u = 0\n",
    "v = 251\n",
    "print(len(enn),v)"
   ]
  },
  {
   "cell_type": "code",
   "execution_count": 119,
   "id": "b007962b-a586-4027-8112-51f62f731d5d",
   "metadata": {},
   "outputs": [],
   "source": [
    "M_plot = []\n",
    "W_plot = []\n",
    "b_coun  = []"
   ]
  },
  {
   "cell_type": "code",
   "execution_count": 120,
   "id": "52b2f12b-b15d-4cbf-82e8-85b6497d2c1a",
   "metadata": {},
   "outputs": [],
   "source": [
    "\n",
    "#latitude range\n",
    "latr1 = 30\n",
    "latr2 = 80"
   ]
  },
  {
   "cell_type": "code",
   "execution_count": 121,
   "id": "6651fcd0-fded-4b31-b0f6-8fdfc640cb81",
   "metadata": {},
   "outputs": [],
   "source": [
    "#####Constants\n",
    "Cp = 1004           #J/kg/K\n",
    "Rd = 287            #J/kg/K\n",
    "con= Rd/Cp"
   ]
  },
  {
   "cell_type": "code",
   "execution_count": 122,
   "id": "8d5172a3-a364-424b-92a6-0c28a48e40ab",
   "metadata": {},
   "outputs": [],
   "source": [
    "#binning\n",
    "n_bins  = 1\n",
    "M_range = (-7,2.5)"
   ]
  },
  {
   "cell_type": "code",
   "execution_count": 123,
   "id": "a2f82c0c-cfdc-450e-b091-5fc3b7c8977f",
   "metadata": {},
   "outputs": [
    {
     "name": "stdout",
     "output_type": "stream",
     "text": [
      "0\n",
      "1\n",
      "2\n",
      "3\n",
      "4\n",
      "5\n",
      "6\n",
      "7\n",
      "8\n",
      "9\n",
      "10\n",
      "11\n",
      "12\n",
      "13\n",
      "14\n",
      "15\n",
      "16\n",
      "17\n",
      "18\n",
      "19\n",
      "20\n",
      "21\n",
      "22\n",
      "23\n",
      "24\n",
      "25\n",
      "26\n",
      "27\n",
      "28\n",
      "29\n",
      "30\n",
      "31\n",
      "32\n",
      "33\n",
      "34\n",
      "35\n",
      "36\n",
      "37\n"
     ]
    },
    {
     "ename": "KeyboardInterrupt",
     "evalue": "",
     "output_type": "error",
     "traceback": [
      "\u001b[0;31m---------------------------------------------------------------------------\u001b[0m",
      "\u001b[0;31mKeyboardInterrupt\u001b[0m                         Traceback (most recent call last)",
      "\u001b[0;32m/glade/scratch/geethma/ipykernel_22633/2518327776.py\u001b[0m in \u001b[0;36m<module>\u001b[0;34m\u001b[0m\n\u001b[1;32m     24\u001b[0m         \u001b[0;32mfor\u001b[0m \u001b[0ma\u001b[0m \u001b[0;32min\u001b[0m \u001b[0mrange\u001b[0m\u001b[0;34m(\u001b[0m\u001b[0mlen\u001b[0m\u001b[0;34m(\u001b[0m\u001b[0mlats\u001b[0m\u001b[0;34m)\u001b[0m\u001b[0;34m)\u001b[0m\u001b[0;34m:\u001b[0m\u001b[0;34m\u001b[0m\u001b[0;34m\u001b[0m\u001b[0m\n\u001b[1;32m     25\u001b[0m             \u001b[0;32mfor\u001b[0m \u001b[0mb\u001b[0m \u001b[0;32min\u001b[0m \u001b[0mrange\u001b[0m\u001b[0;34m(\u001b[0m\u001b[0mlen\u001b[0m\u001b[0;34m(\u001b[0m\u001b[0mlon\u001b[0m\u001b[0;34m)\u001b[0m\u001b[0;34m)\u001b[0m\u001b[0;34m:\u001b[0m\u001b[0;34m\u001b[0m\u001b[0;34m\u001b[0m\u001b[0m\n\u001b[0;32m---> 26\u001b[0;31m                 \u001b[0;32mif\u001b[0m \u001b[0mglobe\u001b[0m\u001b[0;34m.\u001b[0m\u001b[0mis_land\u001b[0m\u001b[0;34m(\u001b[0m\u001b[0mlats\u001b[0m\u001b[0;34m[\u001b[0m\u001b[0ma\u001b[0m\u001b[0;34m]\u001b[0m\u001b[0;34m,\u001b[0m \u001b[0mlon\u001b[0m\u001b[0;34m[\u001b[0m\u001b[0mb\u001b[0m\u001b[0;34m]\u001b[0m\u001b[0;34m)\u001b[0m\u001b[0;34m==\u001b[0m\u001b[0;32mTrue\u001b[0m\u001b[0;34m:\u001b[0m\u001b[0;34m\u001b[0m\u001b[0;34m\u001b[0m\u001b[0m\n\u001b[0m\u001b[1;32m     27\u001b[0m                     \u001b[0mmaskm\u001b[0m\u001b[0;34m[\u001b[0m\u001b[0;34m:\u001b[0m\u001b[0;34m,\u001b[0m\u001b[0ma\u001b[0m\u001b[0;34m,\u001b[0m\u001b[0mb\u001b[0m\u001b[0;34m]\u001b[0m \u001b[0;34m=\u001b[0m \u001b[0mmath\u001b[0m\u001b[0;34m.\u001b[0m\u001b[0mnan\u001b[0m\u001b[0;34m\u001b[0m\u001b[0;34m\u001b[0m\u001b[0m\n\u001b[1;32m     28\u001b[0m \u001b[0;34m\u001b[0m\u001b[0m\n",
      "\u001b[0;32m~/.local/lib/python3.9/site-packages/global_land_mask/globe.py\u001b[0m in \u001b[0;36mis_land\u001b[0;34m(lat, lon)\u001b[0m\n\u001b[1;32m    146\u001b[0m \u001b[0;34m\u001b[0m\u001b[0m\n\u001b[1;32m    147\u001b[0m     \"\"\"\n\u001b[0;32m--> 148\u001b[0;31m     \u001b[0mlat_i\u001b[0m \u001b[0;34m=\u001b[0m \u001b[0mlat_to_index\u001b[0m\u001b[0;34m(\u001b[0m\u001b[0mlat\u001b[0m\u001b[0;34m)\u001b[0m\u001b[0;34m\u001b[0m\u001b[0;34m\u001b[0m\u001b[0m\n\u001b[0m\u001b[1;32m    149\u001b[0m     \u001b[0mlon_i\u001b[0m \u001b[0;34m=\u001b[0m \u001b[0mlon_to_index\u001b[0m\u001b[0;34m(\u001b[0m\u001b[0mlon\u001b[0m\u001b[0;34m)\u001b[0m\u001b[0;34m\u001b[0m\u001b[0;34m\u001b[0m\u001b[0m\n\u001b[1;32m    150\u001b[0m \u001b[0;34m\u001b[0m\u001b[0m\n",
      "\u001b[0;32m~/.local/lib/python3.9/site-packages/global_land_mask/globe.py\u001b[0m in \u001b[0;36mlat_to_index\u001b[0;34m(lat)\u001b[0m\n\u001b[1;32m     51\u001b[0m         \u001b[0;32mraise\u001b[0m \u001b[0mValueError\u001b[0m\u001b[0;34m(\u001b[0m\u001b[0;34m'latitude must be <= 90'\u001b[0m\u001b[0;34m)\u001b[0m\u001b[0;34m\u001b[0m\u001b[0;34m\u001b[0m\u001b[0m\n\u001b[1;32m     52\u001b[0m \u001b[0;34m\u001b[0m\u001b[0m\n\u001b[0;32m---> 53\u001b[0;31m     \u001b[0;32mif\u001b[0m \u001b[0mnp\u001b[0m\u001b[0;34m.\u001b[0m\u001b[0many\u001b[0m\u001b[0;34m(\u001b[0m\u001b[0mlat\u001b[0m\u001b[0;34m<\u001b[0m\u001b[0;34m-\u001b[0m\u001b[0;36m90\u001b[0m\u001b[0;34m)\u001b[0m\u001b[0;34m:\u001b[0m\u001b[0;34m\u001b[0m\u001b[0;34m\u001b[0m\u001b[0m\n\u001b[0m\u001b[1;32m     54\u001b[0m         \u001b[0;32mraise\u001b[0m \u001b[0mValueError\u001b[0m\u001b[0;34m(\u001b[0m\u001b[0;34m'latitude must be >= -90'\u001b[0m\u001b[0;34m)\u001b[0m\u001b[0;34m\u001b[0m\u001b[0;34m\u001b[0m\u001b[0m\n\u001b[1;32m     55\u001b[0m \u001b[0;34m\u001b[0m\u001b[0m\n",
      "\u001b[0;32m~/.local/lib/python3.9/site-packages/numpy/core/overrides.py\u001b[0m in \u001b[0;36many\u001b[0;34m(*args, **kwargs)\u001b[0m\n",
      "\u001b[0;32m~/.local/lib/python3.9/site-packages/numpy/core/fromnumeric.py\u001b[0m in \u001b[0;36many\u001b[0;34m(a, axis, out, keepdims, where)\u001b[0m\n\u001b[1;32m   2393\u001b[0m \u001b[0;34m\u001b[0m\u001b[0m\n\u001b[1;32m   2394\u001b[0m     \"\"\"\n\u001b[0;32m-> 2395\u001b[0;31m     return _wrapreduction(a, np.logical_or, 'any', axis, None, out,\n\u001b[0m\u001b[1;32m   2396\u001b[0m                           keepdims=keepdims, where=where)\n\u001b[1;32m   2397\u001b[0m \u001b[0;34m\u001b[0m\u001b[0m\n",
      "\u001b[0;32m~/.local/lib/python3.9/site-packages/numpy/core/fromnumeric.py\u001b[0m in \u001b[0;36m_wrapreduction\u001b[0;34m(obj, ufunc, method, axis, dtype, out, **kwargs)\u001b[0m\n\u001b[1;32m     82\u001b[0m                 \u001b[0;32mreturn\u001b[0m \u001b[0mreduction\u001b[0m\u001b[0;34m(\u001b[0m\u001b[0maxis\u001b[0m\u001b[0;34m=\u001b[0m\u001b[0maxis\u001b[0m\u001b[0;34m,\u001b[0m \u001b[0mdtype\u001b[0m\u001b[0;34m=\u001b[0m\u001b[0mdtype\u001b[0m\u001b[0;34m,\u001b[0m \u001b[0mout\u001b[0m\u001b[0;34m=\u001b[0m\u001b[0mout\u001b[0m\u001b[0;34m,\u001b[0m \u001b[0;34m**\u001b[0m\u001b[0mpasskwargs\u001b[0m\u001b[0;34m)\u001b[0m\u001b[0;34m\u001b[0m\u001b[0;34m\u001b[0m\u001b[0m\n\u001b[1;32m     83\u001b[0m             \u001b[0;32melse\u001b[0m\u001b[0;34m:\u001b[0m\u001b[0;34m\u001b[0m\u001b[0;34m\u001b[0m\u001b[0m\n\u001b[0;32m---> 84\u001b[0;31m                 \u001b[0;32mreturn\u001b[0m \u001b[0mreduction\u001b[0m\u001b[0;34m(\u001b[0m\u001b[0maxis\u001b[0m\u001b[0;34m=\u001b[0m\u001b[0maxis\u001b[0m\u001b[0;34m,\u001b[0m \u001b[0mout\u001b[0m\u001b[0;34m=\u001b[0m\u001b[0mout\u001b[0m\u001b[0;34m,\u001b[0m \u001b[0;34m**\u001b[0m\u001b[0mpasskwargs\u001b[0m\u001b[0;34m)\u001b[0m\u001b[0;34m\u001b[0m\u001b[0;34m\u001b[0m\u001b[0m\n\u001b[0m\u001b[1;32m     85\u001b[0m \u001b[0;34m\u001b[0m\u001b[0m\n\u001b[1;32m     86\u001b[0m     \u001b[0;32mreturn\u001b[0m \u001b[0mufunc\u001b[0m\u001b[0;34m.\u001b[0m\u001b[0mreduce\u001b[0m\u001b[0;34m(\u001b[0m\u001b[0mobj\u001b[0m\u001b[0;34m,\u001b[0m \u001b[0maxis\u001b[0m\u001b[0;34m,\u001b[0m \u001b[0mdtype\u001b[0m\u001b[0;34m,\u001b[0m \u001b[0mout\u001b[0m\u001b[0;34m,\u001b[0m \u001b[0;34m**\u001b[0m\u001b[0mpasskwargs\u001b[0m\u001b[0;34m)\u001b[0m\u001b[0;34m\u001b[0m\u001b[0;34m\u001b[0m\u001b[0m\n",
      "\u001b[0;32m~/.local/lib/python3.9/site-packages/numpy/core/_methods.py\u001b[0m in \u001b[0;36m_any\u001b[0;34m(a, axis, dtype, out, keepdims, where)\u001b[0m\n\u001b[1;32m     52\u001b[0m     \u001b[0;32mreturn\u001b[0m \u001b[0mumr_prod\u001b[0m\u001b[0;34m(\u001b[0m\u001b[0ma\u001b[0m\u001b[0;34m,\u001b[0m \u001b[0maxis\u001b[0m\u001b[0;34m,\u001b[0m \u001b[0mdtype\u001b[0m\u001b[0;34m,\u001b[0m \u001b[0mout\u001b[0m\u001b[0;34m,\u001b[0m \u001b[0mkeepdims\u001b[0m\u001b[0;34m,\u001b[0m \u001b[0minitial\u001b[0m\u001b[0;34m,\u001b[0m \u001b[0mwhere\u001b[0m\u001b[0;34m)\u001b[0m\u001b[0;34m\u001b[0m\u001b[0;34m\u001b[0m\u001b[0m\n\u001b[1;32m     53\u001b[0m \u001b[0;34m\u001b[0m\u001b[0m\n\u001b[0;32m---> 54\u001b[0;31m \u001b[0;32mdef\u001b[0m \u001b[0m_any\u001b[0m\u001b[0;34m(\u001b[0m\u001b[0ma\u001b[0m\u001b[0;34m,\u001b[0m \u001b[0maxis\u001b[0m\u001b[0;34m=\u001b[0m\u001b[0;32mNone\u001b[0m\u001b[0;34m,\u001b[0m \u001b[0mdtype\u001b[0m\u001b[0;34m=\u001b[0m\u001b[0;32mNone\u001b[0m\u001b[0;34m,\u001b[0m \u001b[0mout\u001b[0m\u001b[0;34m=\u001b[0m\u001b[0;32mNone\u001b[0m\u001b[0;34m,\u001b[0m \u001b[0mkeepdims\u001b[0m\u001b[0;34m=\u001b[0m\u001b[0;32mFalse\u001b[0m\u001b[0;34m,\u001b[0m \u001b[0;34m*\u001b[0m\u001b[0;34m,\u001b[0m \u001b[0mwhere\u001b[0m\u001b[0;34m=\u001b[0m\u001b[0;32mTrue\u001b[0m\u001b[0;34m)\u001b[0m\u001b[0;34m:\u001b[0m\u001b[0;34m\u001b[0m\u001b[0;34m\u001b[0m\u001b[0m\n\u001b[0m\u001b[1;32m     55\u001b[0m     \u001b[0;31m# Parsing keyword arguments is currently fairly slow, so avoid it for now\u001b[0m\u001b[0;34m\u001b[0m\u001b[0;34m\u001b[0m\u001b[0m\n\u001b[1;32m     56\u001b[0m     \u001b[0;32mif\u001b[0m \u001b[0mwhere\u001b[0m \u001b[0;32mis\u001b[0m \u001b[0;32mTrue\u001b[0m\u001b[0;34m:\u001b[0m\u001b[0;34m\u001b[0m\u001b[0;34m\u001b[0m\u001b[0m\n",
      "\u001b[0;31mKeyboardInterrupt\u001b[0m: "
     ]
    }
   ],
   "source": [
    "for en in enn[u:v]:\n",
    "    print(en)\n",
    "    for i in ['U10', 'PSL', 'TREFHT', 'T850']:\n",
    "        d_path = '/glade/campaign/cgd/projects/ppe/cam_ppe/rerun_PPE_250/PD/PD_timeseries/PPE_250_ensemble_PD.'+f'{en:03d}'+'/atm/hist/cc_PPE_250_ensemble_PD.'+f'{en:03d}'+'.h1.'+str(i)+'.nc'\n",
    "        data =xr.open_dataset(d_path)\n",
    "        \n",
    "        lon  = data.variables['lon'][:]  #(lon: 288) [0.0, 1.25, 2.5, ... 356.25, 357.5, 358.75]\n",
    "        lat  = data.variables['lat'][:]  #(lat: 192) [-90.0 , -89.057592, -88.115183, ... 88.115183,  89.057592, 90.0]\n",
    "        time = data.variables['time'][:] #(time: 36)\n",
    "#             \n",
    "        locals()[str(en)+'_'+i] = data.variables[i][:]\n",
    "    \n",
    "        x_lat = np.array(lat)\n",
    "        lat_ind1 = np.where(x_lat == x_lat.flat[np.abs(x_lat - (latr1)).argmin()])[0]\n",
    "        lat_ind2 = np.where(x_lat == x_lat.flat[np.abs(x_lat - (latr2)).argmin()])[0]\n",
    "        lats = lat[lat_ind1[0]:lat_ind2[0]]\n",
    "\n",
    "        x_lon = lon\n",
    "        lon = np.array(lon)\n",
    "        lon[lon > 180] = lon[lon > 180]-360\n",
    "\n",
    "        maskm = np.ones((len(time),len(lats),len(lon)))\n",
    "\n",
    "        for a in range(len(lats)):\n",
    "            for b in range(len(lon)):\n",
    "                if globe.is_land(lats[a], lon[b])==True:\n",
    "                    maskm[:,a,b] = math.nan\n",
    "        \n",
    "        tmp  = locals()[str(en)+'_'+i]\n",
    "        tmp2 = tmp[:,lat_ind1[0]:lat_ind2[0],:]\n",
    "        MID  = np.multiply(maskm,tmp2)\n",
    "        lats = np.array(lats)\n",
    "        lon  = np.array(lon)\n",
    "        locals()['MID'+i+'_'+str(en)]  = np.array(MID)\n",
    "        \n",
    "    theta_850_en = np.multiply(locals()['MIDT850_'+str(en)],(100000/85000)**con)\n",
    "    theta_T2M_en = np.multiply(locals()['MIDTREFHT_'+str(en)],(100000/locals()['MIDPSL_'+str(en)])**con)\n",
    "    \n",
    "    M_en   = np.array(np.subtract(theta_T2M_en,theta_850_en)).reshape(-1)\n",
    "    U10_en = np.array(locals()['MIDU10_'+str(en)]).reshape(-1)\n",
    "    \n",
    "    indx = np.isnan(M_en*U10_en)==False\n",
    "\n",
    "    bin_means, bin_edges, binnumber       = stats.binned_statistic(M_en[indx], U10_en[indx], 'mean', bins=n_bins,range=M_range)\n",
    "\n",
    "    W_plot.append(np.ma.masked_invalid(bin_means))"
   ]
  },
  {
   "cell_type": "code",
   "execution_count": 80,
   "id": "814b7851-282f-4290-919e-6b5599150e8e",
   "metadata": {},
   "outputs": [],
   "source": [
    "try_w_plot = np.array(W_plot)"
   ]
  },
  {
   "cell_type": "code",
   "execution_count": 92,
   "id": "7d14c3da-0b73-4b31-8840-9e237348948c",
   "metadata": {},
   "outputs": [],
   "source": [
    "Wind = try_w_plot[:,0]"
   ]
  },
  {
   "cell_type": "code",
   "execution_count": 115,
   "id": "d15a36d1-85a8-4be7-908e-59c7f1f16cdd",
   "metadata": {},
   "outputs": [],
   "source": [
    "correlation = []\n",
    "param = []"
   ]
  },
  {
   "cell_type": "code",
   "execution_count": 116,
   "id": "43688b0f-0c97-49ec-916b-278b12687f6a",
   "metadata": {},
   "outputs": [],
   "source": [
    "for i in range(len(param_name)):\n",
    "    if param_name[i]!='Sample_nmb':\n",
    "        y = f.variables[param_name[i]][0:len(W_plot)]\n",
    "        cor = st.spearmanr(Wind,y)\n",
    "        cor = np.array(cor)\n",
    "        correlation.append(cor[0])\n",
    "        param.append(param_name[i])\n",
    "    \n"
   ]
  },
  {
   "cell_type": "code",
   "execution_count": 117,
   "id": "c7cb4ed5-b5e8-4e3e-a3b5-0db6351d8f91",
   "metadata": {},
   "outputs": [
    {
     "data": {
      "text/plain": [
       "(array([0, 1, 2, 3, 4, 5, 6, 7]),\n",
       " [Text(0, 0, 'micro_mg_dcs'),\n",
       "  Text(1, 0, 'micro_mg_autocon_nd_exp'),\n",
       "  Text(2, 0, 'cldfrc_dp1'),\n",
       "  Text(3, 0, 'cldfrc_dp2'),\n",
       "  Text(4, 0, 'clubb_C2rt'),\n",
       "  Text(5, 0, 'clubb_C6rt'),\n",
       "  Text(6, 0, 'clubb_C6rtb'),\n",
       "  Text(7, 0, 'clubb_C6thl')])"
      ]
     },
     "execution_count": 117,
     "metadata": {},
     "output_type": "execute_result"
    },
    {
     "data": {
      "image/png": "[encoded data removed]",
      "text/plain": [
       "<Figure size 432x288 with 1 Axes>"
      ]
     },
     "metadata": {
      "needs_background": "light"
     },
     "output_type": "display_data"
    }
   ],
   "source": [
    "plt.bar(arange(len(correlation)),correlation,tick_label=param)\n",
    "plt.xticks(rotation = 90)"
   ]
  },
  {
   "cell_type": "code",
   "execution_count": null,
   "id": "63547235-9b02-4405-9419-eda0ec4f8d06",
   "metadata": {},
   "outputs": [],
   "source": []
  },
  {
   "cell_type": "code",
   "execution_count": 62,
   "id": "17a866a0-6214-4021-b24d-034cb67d0caf",
   "metadata": {},
   "outputs": [],
   "source": [
    "ind = np.argsort(W_plot)\n",
    "x = np.sort(W_plot)"
   ]
  },
  {
   "cell_type": "code",
   "execution_count": 68,
   "id": "ac77681e-42d8-4794-af26-c912f72b64ef",
   "metadata": {},
   "outputs": [
    {
     "data": {
      "image/png": "[encoded data removed]",
      "text/plain": [
       "<Figure size 432x288 with 1 Axes>"
      ]
     },
     "metadata": {
      "needs_background": "light"
     },
     "output_type": "display_data"
    },
    {
     "data": {
      "image/png": "[encoded data removed]",
      "text/plain": [
       "<Figure size 432x288 with 1 Axes>"
      ]
     },
     "metadata": {
      "needs_background": "light"
     },
     "output_type": "display_data"
    },
    {
     "data": {
      "image/png": "[encoded data removed]",
      "text/plain": [
       "<Figure size 432x288 with 1 Axes>"
      ]
     },
     "metadata": {
      "needs_background": "light"
     },
     "output_type": "display_data"
    },
    {
     "data": {
      "image/png": "[encoded data removed]",
      "text/plain": [
       "<Figure size 432x288 with 1 Axes>"
      ]
     },
     "metadata": {
      "needs_background": "light"
     },
     "output_type": "display_data"
    },
    {
     "data": {
      "image/png": "[encoded data removed]",
      "text/plain": [
       "<Figure size 432x288 with 1 Axes>"
      ]
     },
     "metadata": {
      "needs_background": "light"
     },
     "output_type": "display_data"
    },
    {
     "data": {
      "image/png": "[encoded data removed]",
      "text/plain": [
       "<Figure size 432x288 with 1 Axes>"
      ]
     },
     "metadata": {
      "needs_background": "light"
     },
     "output_type": "display_data"
    },
    {
     "data": {
      "image/png": "[encoded data removed]",
      "text/plain": [
       "<Figure size 432x288 with 1 Axes>"
      ]
     },
     "metadata": {
      "needs_background": "light"
     },
     "output_type": "display_data"
    },
    {
     "data": {
      "image/png": "[encoded data removed]",
      "text/plain": [
       "<Figure size 432x288 with 1 Axes>"
      ]
     },
     "metadata": {
      "needs_background": "light"
     },
     "output_type": "display_data"
    },
    {
     "data": {
      "image/png": "[encoded data removed]",
      "text/plain": [
       "<Figure size 432x288 with 1 Axes>"
      ]
     },
     "metadata": {
      "needs_background": "light"
     },
     "output_type": "display_data"
    },
    {
     "data": {
      "image/png": "[encoded data removed]",
      "text/plain": [
       "<Figure size 432x288 with 1 Axes>"
      ]
     },
     "metadata": {
      "needs_background": "light"
     },
     "output_type": "display_data"
    }
   ],
   "source": [
    "for i in range(10): #len(param_name)\n",
    "    fig = plt.figure()\n",
    "    y = f.variables[param_name[i]][0:len(W_plot)]\n",
    "    plt.scatter(W_plot,y)\n",
    "    plt.title(param_name[i])"
   ]
  }
 ],
 "metadata": {
  "kernelspec": {
   "display_name": "wgh",
   "language": "python",
   "name": "wgh"
  },
  "language_info": {
   "codemirror_mode": {
    "name": "ipython",
    "version": 3
   },
   "file_extension": ".py",
   "mimetype": "text/x-python",
   "name": "python",
   "nbconvert_exporter": "python",
   "pygments_lexer": "ipython3",
   "version": "3.9.7"
  }
 },
 "nbformat": 4,
 "nbformat_minor": 5
}
