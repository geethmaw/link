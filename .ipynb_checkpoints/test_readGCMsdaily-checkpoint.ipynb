{
 "cells": [
  {
   "cell_type": "code",
   "execution_count": 59,
   "id": "2c86f4b4-d1e4-44a2-a011-8b6770c92e31",
   "metadata": {},
   "outputs": [],
   "source": [
    "from __future__ import absolute_import\n",
    "from __future__ import print_function\n",
    "from numpy import *\n",
    "from six.moves import range\n",
    "import numpy.ma as ma\n",
    "pp_path_cisl='/glade/collections/cmip/'\n",
    "\n",
    "\n",
    "# ON JASMIN /badc/cmip6/data/CMIP6/CMIP/CNRM-CERFACS/CNRM-CM6-1/historical/r1i1p1f2/Amon/clw/gr/latest\n",
    "# ON CISL /glade/collections/cmip/CMIP6/CMIP/CNRM-CERFACS/CNRM-CM6-1/historical/r1i1p1f2/Amon/clw/gr/v20180917/clw\n",
    "def read_var_mod(modn, consort, varnm, cmip, exper, ensmem, typevar, gg, read_p, time1, time2):\n",
    "    ### ------------------\n",
    "    # Reads in data from named GCM for specified time range\n",
    "    # For 3D data read_p=True.\n",
    "    # Will need mods for different sub experiments. \n",
    "    ### ------------------\n",
    "\n",
    "    if cmip == 'cmip6':\n",
    "        MIP = 'CMIP'\n",
    "        if 'ssp' in exper:\n",
    "            MIP = 'ScenarioMIP'\n",
    "        if exper=='amip-p4K':\n",
    "            MIP = 'CFMIP'\n",
    "        pth = pp_path_cisl+'/CMIP6/'+MIP+'/'+consort+'/'+modn + \\\n",
    "            '/'+exper+'/'+ensmem+'/'+typevar+'/'+varnm+'/'+gg+'/'\n",
    "    if cmip == 'cmip5':\n",
    "        pth = pp_path_cisl+cmip+'/data/cmip5/'+output+'/'+consort+'/'+modn + \\\n",
    "            '/'+exper+'/mon/atmos/'+typevar+'/'+ensmem+'/latest/'+varnm+'/'\n",
    "        if typevar == 'OImon':\n",
    "            pth = pp_path_cisl+cmip+'/data/cmip5/'+output+'/'+consort+'/'+modn + \\\n",
    "                '/'+exper+'/mon/seaIce/'+typevar+'/'+ensmem+'/latest/'+varnm+'/'\n",
    "    print(pth)\n",
    "    data, P, lat, lon, time = read_hs(pth, varnm, read_p, modn, exper, ensmem, typevar, time1, time2)\n",
    "#    except UnboundLocalError:\n",
    "#        print('TRYING LOCAL FILES')\n",
    "#        data, P, lat, lon, time = read_hs('/gws/nopw/j04/asci/dtmccoy/CMIP/'+cmip+'/', varnm,\n",
    "#                                          read_p=read_p, modnm=modn, exper=exper, ensmem=ensmem, typevar=typevar, time1=time1, time2=time2)\n",
    "\n",
    "    if read_p:\n",
    "        if len(P[0].shape) > 2:\n",
    "            P = concatenate(P, axis=0)\n",
    "\n",
    "    dataOUT = concatenate(data, axis=0)\n",
    "    lon2 = lon[:]*1.\n",
    "    lon2[lon2 > 180] = lon2[lon2 > 180]-360\n",
    "    ind = argsort(lon2)\n",
    "    if read_p == False:\n",
    "        dataOUT = dataOUT[:, :, ind]\n",
    "    else:\n",
    "        dataOUT = dataOUT[:, :, :, ind]\n",
    "    lon2 = lon2[ind]\n",
    "    timeo = concatenate(time, axis=0)\n",
    "    dataOUT, time = get_unique_time(dataOUT, timeo)\n",
    "#     print(dataOUT.shape)\n",
    "    return dataOUT.filled(fill_value=NaN), P, lat[:].filled(fill_value=NaN), lon2.filled(fill_value=NaN), time\n",
    "    "
   ]
  },
  {
   "cell_type": "code",
   "execution_count": 60,
   "id": "797e5b41-bb84-4e24-8730-00cc8eb1aa3e",
   "metadata": {},
   "outputs": [],
   "source": [
    "def get_unique_time(data, time):\n",
    "    tf = time[:, 0]+time[:, 1]/100\n",
    "    TF, ind = unique(tf, return_index=True)\n",
    "    return data[ind], time[ind]"
   ]
  },
  {
   "cell_type": "code",
   "execution_count": 61,
   "id": "fca1f2f5-84ca-471d-bf68-ac8ef611be2d",
   "metadata": {},
   "outputs": [],
   "source": [
    "def read_hs(wd, varnm, read_p, modnm, exper, ensmem, typevar, time1, time2):\n",
    "#     print('here')\n",
    "    import glob\n",
    "    folder=glob.glob(wd+'*/*/')\n",
    "#     print (folder) \n",
    "    fn = glob.glob(folder[0]+'/*'+varnm+'_*'+typevar+'*' +\n",
    "                   modnm+'_'+exper+'*'+ensmem+'*nc*')\n",
    "#     print(folder[0]+'/*'+varnm+'*'+typevar+'*'+modnm+'_'+exper+'*'+ensmem+'*nc*')\n",
    "    data = []\n",
    "    P = []\n",
    "    timeo = []\n",
    "    for i in range(len(fn)):\n",
    "        # print(fn[i])\n",
    "        tt = read_hs_file(fn[i], varnm,\n",
    "                          time1, time2, read_p)\n",
    "        if len(tt['data']) > 0:\n",
    "            data.append(tt['data'])\n",
    "            lat = tt['lat']\n",
    "            lon = tt['lon']\n",
    "            timeo.append(tt['time'])\n",
    "            if read_p == True:\n",
    "                P.append(tt['P'])\n",
    "    return data, P, lat, lon, timeo\n"
   ]
  },
  {
   "cell_type": "code",
   "execution_count": 72,
   "id": "a6d72099-1a8c-4100-a941-3b29583fdc8c",
   "metadata": {},
   "outputs": [],
   "source": [
    "def read_hs_file(fn, varnm, time1, time2, read_p):\n",
    "    # fn='clw_Amon_CNRM-CM6-1_historical_r1i1p1f2_gr_195001-201412.nc'\n",
    "    # varnm='clw'\n",
    "    import netCDF4 as nc\n",
    "    from datetime import datetime\n",
    "    f = nc.Dataset(fn, 'r')\n",
    "    tvar = 'time'\n",
    "    tt = f.variables[tvar]\n",
    "    timeout = zeros((len(tt[:]), 3))\n",
    "    for i in range(timeout.shape[0]):\n",
    "        tt1 = nc.num2date(tt[i], f.variables[tvar].units,\n",
    "                          calendar=f.variables[tvar].calendar)\n",
    "        timeout[i, :] = [tt1.year, tt1.month, tt1.day]\n",
    "        # print(timeout[i, :])\n",
    "        \n",
    "    latvar = 'lat'\n",
    "    lonvar = 'lon'\n",
    "    lat = f.variables[latvar]\n",
    "    lon = f.variables[lonvar]\n",
    "    ind1 = nc.date2index(\n",
    "        datetime(time1[0], time1[1], time1[2]), tt, select='nearest')\n",
    "    ind2 = nc.date2index(\n",
    "        datetime(time2[0], time2[1], time2[2]), tt, select='nearest')\n",
    "    ind = arange(ind1, ind2+1)\n",
    "    # print(ind)\n",
    "    data = []\n",
    "    P = []\n",
    "    if ind1 != ind2:\n",
    "        data = f.variables[varnm][ind]\n",
    "        P = None\n",
    "        if read_p:\n",
    "            if 'plev' in list(f.variables.keys()):\n",
    "                P = f.variables['plev'][:]\n",
    "            else:\n",
    "                P = get_pressure_nc(f, ind)\n",
    "\n",
    "    return {'data': data, 'P': P, 'lat': lat, 'lon': lon, 'time': timeout[ind, :]}\n"
   ]
  },
  {
   "cell_type": "code",
   "execution_count": 73,
   "id": "b833ab9f-402d-4b68-a10a-a8648ce73b24",
   "metadata": {},
   "outputs": [],
   "source": [
    "def get_pressure_nc(f, ind):\n",
    "    vv = list(f.variables.keys())\n",
    "#     print(vv)\n",
    "    for i in range(len(vv)):\n",
    "        if 'formula' in f.variables[vv[i]].ncattrs():\n",
    "            formul_p = f.variables[vv[i]].formula\n",
    "#             print(formul_p)\n",
    "            break\n",
    "    # formul_p=f.variables['lev'].formula\n",
    "    if (formul_p == 'p = ap + b*ps') | (formul_p == 'p(n,k,j,i) = ap(k) + b(k)*ps(n,j,i)'):\n",
    "        ap = f.variables['ap']\n",
    "        b = f.variables['b']\n",
    "        ps = f.variables['ps'][ind]\n",
    "        lev = f.variables['lev']\n",
    "        P = zeros((len(ind), len(lev), ps.shape[1], ps.shape[2]))*NaN\n",
    "        for i in range(len(lev)):\n",
    "            P[:, i, :, :] = ap[i]+b[i]*ps\n",
    "    if (formul_p == 'p = a*p0 + b*ps') | (formul_p == 'p(n,k,j,i) = a(k)*p0 + b(k)*ps(n,j,i)'):\n",
    "        a = f.variables['a']\n",
    "        b = f.variables['b']\n",
    "        p0 = f.variables['p0']\n",
    "        ps = f.variables['ps'][ind]\n",
    "        lev = f.variables['lev']\n",
    "        P = zeros((len(ind), len(lev), ps.shape[1], ps.shape[2]))*NaN\n",
    "        for i in range(len(lev)):\n",
    "            P[:, i, :, :] = p0*a[i]+b[i]*ps\n",
    "    if formul_p == 'p = ptop + sigma*(ps - ptop)':\n",
    "        ptop = f.variables['ptop']\n",
    "        ps = f.variables['ps'][ind]\n",
    "        lev = f.variables['lev'][:]\n",
    "        P = zeros((len(ind), len(lev), ps.shape[1], ps.shape[2]))\n",
    "        for i in range(len(lev)):\n",
    "            P[:, i, :, :] = ptop+lev[i]*(ps-ptop)\n",
    "\n",
    "    return P"
   ]
  },
  {
   "cell_type": "code",
   "execution_count": null,
   "id": "e9d72ddd-a0f4-4335-b413-f320841d686f",
   "metadata": {},
   "outputs": [],
   "source": []
  },
  {
   "cell_type": "code",
   "execution_count": null,
   "id": "2d85a84e-efe3-48a8-acf5-15d6545a60aa",
   "metadata": {},
   "outputs": [],
   "source": []
  },
  {
   "cell_type": "code",
   "execution_count": 74,
   "id": "eada9c3f-c64c-4413-b5c4-ff4adb05b401",
   "metadata": {},
   "outputs": [],
   "source": [
    "modname = ['CESM2','CNRM-CM6-1','CESM2-WACCM','HadGEM3-GC31-LL','NorESM2-LM']\n",
    "varname = ['sfcWind', 'tas','psl'] #'sfcWind', 'hfss', 'hfls', 'tas', 'ps', 'psl',,'pr'\n",
    "pvarname= ['ta']\n",
    "conname = ['NCAR', 'CNRM-CERFACS','NCAR', 'MOHC', 'NCC'] \n",
    "ensname = ['r11i1p1f1', 'r1i1p1f2', 'r1i1p1f1', \n",
    "           'r1i1p1f3', 'r1i1p1f1']\n",
    "ggname  = ['gn', 'gr','gn', 'gn', 'gn']\n"
   ]
  },
  {
   "cell_type": "code",
   "execution_count": 75,
   "id": "8f89ce03-0edc-45f5-8d3b-33e9f2e12e4e",
   "metadata": {},
   "outputs": [
    {
     "name": "stdout",
     "output_type": "stream",
     "text": [
      "/glade/collections/cmip//CMIP6/CMIP/NCAR/CESM2/historical/r11i1p1f1/day/sfcWind/gn/\n"
     ]
    },
    {
     "name": "stderr",
     "output_type": "stream",
     "text": [
      "/glade/scratch/geethma/ipykernel_91554/1556087721.py:29: UserWarning: WARNING: missing_value not used since it\n",
      "cannot be safely cast to variable data type\n",
      "  data = f.variables[varnm][ind]\n"
     ]
    }
   ],
   "source": [
    "for j in range(0,1):\n",
    "    sfcWind__1 = read_var_mod(modn=modname[j], consort=conname[j], varnm='sfcWind', cmip='cmip6', exper='historical', ensmem=ensname[j], typevar='day', gg=ggname[j], read_p=False, time1=[2009, 12, 1], time2=[2012, 12, 30])\n"
   ]
  },
  {
   "cell_type": "code",
   "execution_count": 169,
   "id": "364b6319-fc71-4172-9307-354d2bf7a143",
   "metadata": {},
   "outputs": [],
   "source": [
    "for i in range(0,1):\n",
    "    lat  = sfcWind__1[2]\n",
    "    lon  = sfcWind__1[3]\n",
    "    time = sfcWind__1[4]\n",
    "    \n",
    "    sfcWind1 = sfcWind__1[0]\n",
    "    # tas1 = tas__1[0]\n",
    "    # psl1 = psl__1[0]\n",
    "    # ta1  = ta__1[0]\n",
    "    # lev1 = ta__1[1]"
   ]
  },
  {
   "cell_type": "code",
   "execution_count": 171,
   "id": "2882c76b-f05c-4373-8b0f-399d8fba6f0c",
   "metadata": {},
   "outputs": [
    {
     "data": {
      "text/plain": [
       "(38, 192, 288)"
      ]
     },
     "execution_count": 171,
     "metadata": {},
     "output_type": "execute_result"
    }
   ],
   "source": [
    "import numpy as np\n",
    "np.shape(sfcWind1)"
   ]
  },
  {
   "cell_type": "code",
   "execution_count": 47,
   "id": "40101d2d-7e9a-4e99-8fbc-213bb7242f20",
   "metadata": {},
   "outputs": [
    {
     "data": {
      "text/plain": [
       "array([[2.011e+03, 4.000e+00, 2.000e+00],\n",
       "       [2.011e+03, 5.000e+00, 1.000e+00],\n",
       "       [2.011e+03, 6.000e+00, 1.000e+00],\n",
       "       [2.011e+03, 7.000e+00, 1.000e+00],\n",
       "       [2.011e+03, 8.000e+00, 1.000e+00],\n",
       "       [2.011e+03, 9.000e+00, 1.000e+00],\n",
       "       [2.011e+03, 1.000e+01, 1.000e+00],\n",
       "       [2.011e+03, 1.100e+01, 1.000e+00],\n",
       "       [2.011e+03, 1.200e+01, 1.000e+00],\n",
       "       [2.012e+03, 1.000e+00, 1.000e+00],\n",
       "       [2.012e+03, 2.000e+00, 1.000e+00],\n",
       "       [2.012e+03, 3.000e+00, 1.000e+00],\n",
       "       [2.012e+03, 4.000e+00, 1.000e+00],\n",
       "       [2.012e+03, 5.000e+00, 1.000e+00],\n",
       "       [2.012e+03, 6.000e+00, 1.000e+00],\n",
       "       [2.012e+03, 7.000e+00, 1.000e+00],\n",
       "       [2.012e+03, 8.000e+00, 1.000e+00],\n",
       "       [2.012e+03, 9.000e+00, 1.000e+00],\n",
       "       [2.012e+03, 1.000e+01, 1.000e+00],\n",
       "       [2.012e+03, 1.100e+01, 1.000e+00],\n",
       "       [2.012e+03, 1.200e+01, 1.000e+00],\n",
       "       [2.013e+03, 1.000e+00, 1.000e+00],\n",
       "       [2.013e+03, 2.000e+00, 1.000e+00],\n",
       "       [2.013e+03, 3.000e+00, 1.000e+00],\n",
       "       [2.013e+03, 4.000e+00, 1.000e+00],\n",
       "       [2.013e+03, 5.000e+00, 1.000e+00],\n",
       "       [2.013e+03, 6.000e+00, 1.000e+00],\n",
       "       [2.013e+03, 7.000e+00, 1.000e+00],\n",
       "       [2.013e+03, 8.000e+00, 1.000e+00],\n",
       "       [2.013e+03, 9.000e+00, 1.000e+00],\n",
       "       [2.013e+03, 1.000e+01, 1.000e+00],\n",
       "       [2.013e+03, 1.100e+01, 1.000e+00],\n",
       "       [2.013e+03, 1.200e+01, 1.000e+00],\n",
       "       [2.014e+03, 1.000e+00, 1.000e+00],\n",
       "       [2.014e+03, 2.000e+00, 1.000e+00],\n",
       "       [2.014e+03, 3.000e+00, 1.000e+00],\n",
       "       [2.014e+03, 4.000e+00, 1.000e+00],\n",
       "       [2.014e+03, 5.000e+00, 1.000e+00]])"
      ]
     },
     "execution_count": 47,
     "metadata": {},
     "output_type": "execute_result"
    }
   ],
   "source": [
    "time"
   ]
  },
  {
   "cell_type": "code",
   "execution_count": null,
   "id": "0efa3c86-5cf5-4333-a551-14ab8f65a241",
   "metadata": {},
   "outputs": [],
   "source": []
  },
  {
   "cell_type": "code",
   "execution_count": null,
   "id": "49f94328-b7c0-4151-b251-a0f6c4c4bd6a",
   "metadata": {},
   "outputs": [],
   "source": []
  },
  {
   "cell_type": "code",
   "execution_count": null,
   "id": "9b84af22-ac90-4835-a02b-71b5af271e03",
   "metadata": {},
   "outputs": [],
   "source": [
    "CMIP6.CMIP.CCCma.CanESM5.historical.r10i1p1f1.day.psl.gn.\n",
    "v20190429.psl_day_CanESM5_historical_r10i1p1f1_gn_18500101-20141231"
   ]
  },
  {
   "cell_type": "markdown",
   "id": "1902d498-db3f-4711-88c8-e08f3e3c1a7c",
   "metadata": {},
   "source": [
    "## My own code: link from my scratch"
   ]
  },
  {
   "cell_type": "code",
   "execution_count": 2,
   "id": "2e67ecc2-93a7-4078-8589-929199b688d0",
   "metadata": {},
   "outputs": [],
   "source": [
    "import netCDF4 as nc\n",
    "import glob\n",
    "import numpy as np\n",
    "import xarray as xr\n",
    "import cftime\n",
    "\n",
    "pp_path_scratch='/glade/scratch/geethma/cmip6'\n",
    "\n",
    "def read_var_mod(level, modn, exper, varnm, time1, time2):\n",
    "    path   = pp_path_scratch+'/'+level+'/'\n",
    "    \n",
    "    ncname = 'CMIP6.CMIP.*'+modn+'.'+exper+'.*'+varnm\n",
    "    \n",
    "    fn     = np.sort(glob.glob(path+ncname+'*nc*'))\n",
    "\n",
    "    for i in range(len(fn)):\n",
    "        print(fn[i])\n",
    "        f      = nc.Dataset(fn[i])\n",
    "        time   = f.variables['time']\n",
    "\n",
    "        timeout = []\n",
    "\n",
    "        for j in range(len(time[:])):\n",
    "            tt1 = nc.num2date(time[j], f.variables['time'].units,\n",
    "                              calendar=f.variables['time'].calendar)\n",
    "            timeout.append([int(tt1.year), int(tt1.month), int(tt1.day)])\n",
    "       \n",
    "        ind1  = -1\n",
    "        ind2  = -1\n",
    "        lats  = []\n",
    "        lons  = []\n",
    "        times = []\n",
    "        data  = []\n",
    "        \n",
    "        for k in range(len(timeout)):\n",
    "            if timeout[k]==time1:\n",
    "                ind1 = k\n",
    "\n",
    "        for k in range(len(timeout)):\n",
    "            if timeout[k]==time2:\n",
    "                ind2 = k\n",
    "\n",
    "        print('ind1 ',ind1, 'ind2 ',ind2)\n",
    "        \n",
    "        if ind1>=0 and ind2>=0:\n",
    "            lats    = f.variables['lat']\n",
    "            lons    = f.variables['lon']\n",
    "            times.extend(timeout[ind1:ind2+1])\n",
    "            data.extend(np.array(f.variables[varnm][ind1:ind2+1,:,:]))\n",
    "            data = np.array(data)\n",
    "            break\n",
    "            \n",
    "        elif ind1>=0 and ind2<0:\n",
    "            lats    = f.variables['lat']\n",
    "            lons    = f.variables['lon']\n",
    "            times.extend(timeout[ind1::])\n",
    "            data.extend(np.array(f.variables[varnm][ind1::,:,:]))\n",
    "            data = np.array(data)\n",
    "            \n",
    "        elif ind1<0 and ind2<0:\n",
    "            if data.size > 0:\n",
    "                lats    = f.variables['lat']\n",
    "                lons    = f.variables['lon']\n",
    "                times.extend(timeout[:])\n",
    "                data.extend(np.array(f.variables[varnm][:,:,:]))\n",
    "                data = np.array(data)\n",
    "            \n",
    "        elif ind2>=0 and ind1<0:\n",
    "            lats    = f.variables['lat']\n",
    "            lons    = f.variables['lon']\n",
    "            times.extend(timeout[::ind2+1])\n",
    "            data.extend(np.array(f.variables[varnm][::ind2+1,:,:]))\n",
    "            data = np.array(data)\n",
    "            break\n",
    "            \n",
    "        \n",
    "            \n",
    "        if times[0]<time1:\n",
    "            print('invalid start date')\n",
    "        \n",
    "        if times[-1]>time2:\n",
    "            print('invalid end date')\n",
    "\n",
    "    return(lats,lons,times,np.array(data))\n",
    "    \n"
   ]
  },
  {
   "cell_type": "code",
   "execution_count": 3,
   "id": "98340ec8-0304-4f20-a4cd-c8820378b5bc",
   "metadata": {},
   "outputs": [],
   "source": [
    "time1 = [2000,12,30]\n",
    "time2 = [2001,1,2]"
   ]
  },
  {
   "cell_type": "code",
   "execution_count": 4,
   "id": "62486095-c9f7-4a3a-bcd6-ecbb95c2b75a",
   "metadata": {},
   "outputs": [
    {
     "name": "stdout",
     "output_type": "stream",
     "text": [
      "/glade/scratch/geethma/cmip6/surface/CMIP6.CMIP.NCAR.CESM2.historical.r11i1p1f1.Eday.ts.gn.v20190514.ts_Eday_CESM2_historical_r11i1p1f1_gn_18500101-18591231.nc\n",
      "ind1  -1 ind2  -1\n"
     ]
    },
    {
     "ename": "AttributeError",
     "evalue": "'list' object has no attribute 'size'",
     "output_type": "error",
     "traceback": [
      "\u001b[0;31m---------------------------------------------------------------------------\u001b[0m",
      "\u001b[0;31mAttributeError\u001b[0m                            Traceback (most recent call last)",
      "\u001b[0;32m/glade/scratch/geethma/ipykernel_126951/1257640093.py\u001b[0m in \u001b[0;36m<module>\u001b[0;34m\u001b[0m\n\u001b[0;32m----> 1\u001b[0;31m \u001b[0mtest\u001b[0m \u001b[0;34m=\u001b[0m \u001b[0mread_var_mod\u001b[0m\u001b[0;34m(\u001b[0m\u001b[0;34m'surface'\u001b[0m\u001b[0;34m,\u001b[0m \u001b[0;34m'CESM2'\u001b[0m\u001b[0;34m,\u001b[0m \u001b[0;34m'historical'\u001b[0m\u001b[0;34m,\u001b[0m\u001b[0;34m'ts'\u001b[0m\u001b[0;34m,\u001b[0m \u001b[0mtime1\u001b[0m\u001b[0;34m,\u001b[0m \u001b[0mtime2\u001b[0m\u001b[0;34m)\u001b[0m\u001b[0;34m\u001b[0m\u001b[0;34m\u001b[0m\u001b[0m\n\u001b[0m",
      "\u001b[0;32m/glade/scratch/geethma/ipykernel_126951/1596941610.py\u001b[0m in \u001b[0;36mread_var_mod\u001b[0;34m(level, modn, exper, varnm, time1, time2)\u001b[0m\n\u001b[1;32m     57\u001b[0m \u001b[0;34m\u001b[0m\u001b[0m\n\u001b[1;32m     58\u001b[0m         \u001b[0;32melif\u001b[0m \u001b[0mind1\u001b[0m\u001b[0;34m<\u001b[0m\u001b[0;36m0\u001b[0m \u001b[0;32mand\u001b[0m \u001b[0mind2\u001b[0m\u001b[0;34m<\u001b[0m\u001b[0;36m0\u001b[0m\u001b[0;34m:\u001b[0m\u001b[0;34m\u001b[0m\u001b[0;34m\u001b[0m\u001b[0m\n\u001b[0;32m---> 59\u001b[0;31m             \u001b[0;32mif\u001b[0m \u001b[0mdata\u001b[0m\u001b[0;34m.\u001b[0m\u001b[0msize\u001b[0m \u001b[0;34m>\u001b[0m \u001b[0;36m0\u001b[0m\u001b[0;34m:\u001b[0m\u001b[0;34m\u001b[0m\u001b[0;34m\u001b[0m\u001b[0m\n\u001b[0m\u001b[1;32m     60\u001b[0m                 \u001b[0mlats\u001b[0m    \u001b[0;34m=\u001b[0m \u001b[0mf\u001b[0m\u001b[0;34m.\u001b[0m\u001b[0mvariables\u001b[0m\u001b[0;34m[\u001b[0m\u001b[0;34m'lat'\u001b[0m\u001b[0;34m]\u001b[0m\u001b[0;34m\u001b[0m\u001b[0;34m\u001b[0m\u001b[0m\n\u001b[1;32m     61\u001b[0m                 \u001b[0mlons\u001b[0m    \u001b[0;34m=\u001b[0m \u001b[0mf\u001b[0m\u001b[0;34m.\u001b[0m\u001b[0mvariables\u001b[0m\u001b[0;34m[\u001b[0m\u001b[0;34m'lon'\u001b[0m\u001b[0;34m]\u001b[0m\u001b[0;34m\u001b[0m\u001b[0;34m\u001b[0m\u001b[0m\n",
      "\u001b[0;31mAttributeError\u001b[0m: 'list' object has no attribute 'size'"
     ]
    }
   ],
   "source": [
    "test = read_var_mod('surface', 'CESM2', 'historical','ts', time1, time2)\n"
   ]
  },
  {
   "cell_type": "code",
   "execution_count": 116,
   "id": "b9c7ccf9-5a1b-4705-9e2a-ce1a2c4c880c",
   "metadata": {},
   "outputs": [
    {
     "data": {
      "text/plain": [
       "(4, 192, 288)"
      ]
     },
     "execution_count": 116,
     "metadata": {},
     "output_type": "execute_result"
    }
   ],
   "source": [
    "np.shape(test[3])"
   ]
  },
  {
   "cell_type": "code",
   "execution_count": 18,
   "id": "b14c7ef7-4047-4ef3-9118-436d395e69ed",
   "metadata": {},
   "outputs": [
    {
     "data": {
      "text/plain": [
       "524"
      ]
     },
     "execution_count": 18,
     "metadata": {},
     "output_type": "execute_result"
    }
   ],
   "source": [
    "ind1"
   ]
  },
  {
   "cell_type": "code",
   "execution_count": null,
   "id": "fa4ec136-81fb-4688-afa7-a1386dc9a524",
   "metadata": {},
   "outputs": [],
   "source": []
  },
  {
   "cell_type": "code",
   "execution_count": 196,
   "id": "5ec404dd-e951-4d28-9e83-d900b7fe37d2",
   "metadata": {},
   "outputs": [],
   "source": [
    "fn1 = '/glade/scratch/geethma/cmip6/p_level/ta_day_HadGEM3-GC31-LL_historical_r1i1p1f3_gn_20000101-20141230.nc'\n",
    "fn2 = '/glade/scratch/geethma/cmip6/p_level/ta_Eday_HadGEM3-GC31-LL_historical_r1i1p1f3_gn_20100101-20141230.nc'"
   ]
  },
  {
   "cell_type": "code",
   "execution_count": 198,
   "id": "d510bba0-2d63-4841-ac00-8adceede5ec4",
   "metadata": {},
   "outputs": [],
   "source": [
    "f1 = nc.Dataset(fn1)\n",
    "f2 = nc.Dataset(fn2)"
   ]
  },
  {
   "cell_type": "code",
   "execution_count": 199,
   "id": "2dbe379a-3b73-4e0d-ae84-856cdce41aac",
   "metadata": {},
   "outputs": [],
   "source": [
    "data1   = f1.variables['ta']\n",
    "data2   = f2.variables['ta']"
   ]
  },
  {
   "cell_type": "code",
   "execution_count": 200,
   "id": "2c10a9b9-f7a4-448c-b88c-aa4a0b61dd8e",
   "metadata": {},
   "outputs": [
    {
     "data": {
      "text/plain": [
       "(5400, 8, 144, 192)"
      ]
     },
     "execution_count": 200,
     "metadata": {},
     "output_type": "execute_result"
    }
   ],
   "source": [
    "np.shape(data1)"
   ]
  },
  {
   "cell_type": "code",
   "execution_count": 201,
   "id": "b087b87e-cfcc-42ee-b295-4f1161616b4a",
   "metadata": {},
   "outputs": [
    {
     "data": {
      "text/plain": [
       "(1800, 19, 144, 192)"
      ]
     },
     "execution_count": 201,
     "metadata": {},
     "output_type": "execute_result"
    }
   ],
   "source": [
    "np.shape(data2)"
   ]
  },
  {
   "cell_type": "code",
   "execution_count": 8,
   "id": "4ee6e628-416f-422b-98de-0290755be352",
   "metadata": {},
   "outputs": [],
   "source": [
    "# import netCDF4 as nc\n",
    "# import glob\n",
    "# import numpy as np\n",
    "# import xarray as xr\n",
    "\n",
    "# pp_path_scratch='/glade/scratch/geethma/cmip6'\n",
    "\n",
    "# def read_var_mod(level, modn, varnm, time1, time2):\n",
    "#     path   = pp_path_scratch+'/'+level+'/'\n",
    "    \n",
    "#     ncname = modn+'.'+varnm\n",
    "    \n",
    "#     fn     = glob.glob(path+ncname+'*nc*')\n",
    "#     f      = xr.open_dataset(fn[0])\n",
    "    \n",
    "#     lat    = f.variables['lat']\n",
    "#     lon    = f.variables['lon']\n",
    "#     time   = f.variables['time']\n",
    "#     time   = np.array(time)\n",
    "#     print(time[0])\n",
    "#     data   = f.variables[varnm]\n",
    "    \n",
    "    \n",
    "    \n",
    "#     print(fn)\n",
    "    \n",
    "    \n",
    "#     return(lat,lon,time,data)\n",
    "    \n",
    "    \n",
    "    \n",
    "    \n",
    "    \n",
    "    "
   ]
  },
  {
   "cell_type": "code",
   "execution_count": 7,
   "id": "74aabd98-c5ff-4b8e-8eb5-2d17522a8e48",
   "metadata": {},
   "outputs": [],
   "source": [
    "# lats,lons,timess,datas = read_var_mod('surface', 'HadGEM3-GC31-LL', 'sfcWind', 0, 0)"
   ]
  },
  {
   "cell_type": "code",
   "execution_count": null,
   "id": "1c648122-f42b-4163-a61c-1568561dd642",
   "metadata": {},
   "outputs": [],
   "source": []
  }
 ],
 "metadata": {
  "kernelspec": {
   "display_name": "wgh",
   "language": "python",
   "name": "wgh"
  },
  "language_info": {
   "codemirror_mode": {
    "name": "ipython",
    "version": 3
   },
   "file_extension": ".py",
   "mimetype": "text/x-python",
   "name": "python",
   "nbconvert_exporter": "python",
   "pygments_lexer": "ipython3",
   "version": "3.9.7"
  }
 },
 "nbformat": 4,
 "nbformat_minor": 5
}
