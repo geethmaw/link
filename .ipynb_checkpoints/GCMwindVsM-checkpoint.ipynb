{
 "cells": [
  {
   "cell_type": "markdown",
   "id": "58d7ce20-1938-408e-9127-5fb05c1492c9",
   "metadata": {},
   "source": [
    "##### Created on 03/31/2022\n",
    "\n",
    "##### This notebook is to get the GCM wind vs M relationship for the oceans over 30N to 70N. Will be compared with MERRA2+MAC and PPE outputs"
   ]
  },
  {
   "cell_type": "code",
   "execution_count": 3,
   "id": "52d222b1-29ed-4aa8-96eb-a715561eff4e",
   "metadata": {},
   "outputs": [],
   "source": [
    "import xarray as xr\n",
    "import matplotlib.pyplot as plt\n",
    "import numpy as np\n",
    "from matplotlib.cm import get_cmap\n",
    "from readGCMs import read_var_mod\n",
    "import calendar\n",
    "from global_land_mask import globe\n",
    "import glob"
   ]
  },
  {
   "cell_type": "code",
   "execution_count": 2,
   "id": "8c0d5bf5-f715-4cda-aeb8-277d71d499ff",
   "metadata": {},
   "outputs": [],
   "source": [
    "modname = ['CESM2','CNRM-CM6-1', 'CanESM5','CESM2-WACCM','E3SM-1-0',\n",
    "           'HadGEM3-GC31-LL','IPSL-CM6A-LR','NorESM2-LM', 'SAM0-UNICON',\n",
    "           'ACCESS-CM2','ACCESS-ESM1-5','CNRM-ESM2-1','EC-Earth3',\n",
    "           'EC-Earth3-Veg','FGOALS-f3-L','GISS-E2-1-G-CC','HadGEM3-GC31-MM',\n",
    "           'INM-CM4-8','INM-CM5-0','MPI-ESM1-2-HR','MRI-ESM2-0','NorCPM1',\n",
    "           'UKESM1-0-LL']\n",
    "varname = ['sfcWind', 'tas','ps'] #'sfcWind', 'hfss', 'hfls', 'tas', 'ps', 'psl',\n",
    "pvarname= ['ta']\n",
    "conname = ['NCAR', 'CNRM-CERFACS','CCCma', 'NCAR', 'E3SM-Project', 'MOHC', \n",
    "           'IPSL', 'NCC', 'SNU','CSIRO-ARCCSS','CSIRO','CNRM-CERFACS',\n",
    "           'EC-Earth-Consortium','EC-Earth-Consortium','CAS','NASA-GISS','MOHC'\n",
    "           ,'INM','INM','MPI-M','MRI','NCC','MOHC'] \n",
    "ensname = ['r11i1p1f1', 'r1i1p1f2', 'r10i1p1f1', 'r1i1p1f1', 'r1i1p1f1', \n",
    "           'r1i1p1f3', 'r10i1p1f1', 'r1i1p1f1', 'r1i1p1f1','r1i1p1f1',\n",
    "           'r10i1p1f1','r1i1p1f2','r101i1p1f1','r10i1p1f1','r1i1p1f1',\n",
    "           'r1i1p1f1','r1i1p1f3','r1i1p1f1','r10i1p1f1','r10i1p1f1','r10i1p1f1',\n",
    "           'r10i1p1f1','r10i1p1f2']\n",
    "ggname  = ['gn', 'gr','gn', 'gn', 'gr', 'gn', 'gr', 'gn', 'gn','gn', 'gn', 'gr',\n",
    "           'gr', 'gr', 'gr', 'gn', 'gn', 'gr1', 'gr1', 'gn', 'gr', 'gn', 'gn']\n"
   ]
  },
  {
   "cell_type": "code",
   "execution_count": 5,
   "id": "7c48fe09-cf86-46c3-b7b8-10e7b6d7dfb2",
   "metadata": {},
   "outputs": [],
   "source": [
    "l = 0"
   ]
  },
  {
   "cell_type": "code",
   "execution_count": 9,
   "id": "f38289d7-7c07-469d-ad6b-6cfb9a2edf1e",
   "metadata": {},
   "outputs": [
    {
     "ename": "UnboundLocalError",
     "evalue": "local variable 'lat' referenced before assignment",
     "output_type": "error",
     "traceback": [
      "\u001b[0;31m---------------------------------------------------------------------------\u001b[0m",
      "\u001b[0;31mUnboundLocalError\u001b[0m                         Traceback (most recent call last)",
      "\u001b[0;32m<ipython-input-9-5bdb2bd20457>\u001b[0m in \u001b[0;36m<module>\u001b[0;34m\u001b[0m\n\u001b[1;32m      3\u001b[0m \u001b[0;34m\u001b[0m\u001b[0m\n\u001b[1;32m      4\u001b[0m         \u001b[0;32mfor\u001b[0m \u001b[0mi\u001b[0m \u001b[0;32min\u001b[0m \u001b[0mvarname\u001b[0m\u001b[0;34m:\u001b[0m\u001b[0;34m\u001b[0m\u001b[0;34m\u001b[0m\u001b[0m\n\u001b[0;32m----> 5\u001b[0;31m             \u001b[0mlocals\u001b[0m\u001b[0;34m(\u001b[0m\u001b[0;34m)\u001b[0m\u001b[0;34m[\u001b[0m\u001b[0mi\u001b[0m\u001b[0;34m+\u001b[0m\u001b[0;34m'_'\u001b[0m\u001b[0;34m+\u001b[0m\u001b[0mstr\u001b[0m\u001b[0;34m(\u001b[0m\u001b[0mj\u001b[0m\u001b[0;34m+\u001b[0m\u001b[0;36m1\u001b[0m\u001b[0;34m)\u001b[0m\u001b[0;34m]\u001b[0m \u001b[0;34m=\u001b[0m \u001b[0mread_var_mod\u001b[0m\u001b[0;34m(\u001b[0m\u001b[0mmodn\u001b[0m\u001b[0;34m=\u001b[0m\u001b[0mmodname\u001b[0m\u001b[0;34m[\u001b[0m\u001b[0mj\u001b[0m\u001b[0;34m]\u001b[0m\u001b[0;34m,\u001b[0m \u001b[0mconsort\u001b[0m\u001b[0;34m=\u001b[0m\u001b[0mconname\u001b[0m\u001b[0;34m[\u001b[0m\u001b[0mj\u001b[0m\u001b[0;34m]\u001b[0m\u001b[0;34m,\u001b[0m \u001b[0mvarnm\u001b[0m\u001b[0;34m=\u001b[0m\u001b[0mi\u001b[0m\u001b[0;34m,\u001b[0m \u001b[0mcmip\u001b[0m\u001b[0;34m=\u001b[0m\u001b[0;34m'cmip6'\u001b[0m\u001b[0;34m,\u001b[0m \u001b[0mexper\u001b[0m\u001b[0;34m=\u001b[0m\u001b[0;34m'historical'\u001b[0m\u001b[0;34m,\u001b[0m \u001b[0mensmem\u001b[0m\u001b[0;34m=\u001b[0m\u001b[0mensname\u001b[0m\u001b[0;34m[\u001b[0m\u001b[0mj\u001b[0m\u001b[0;34m]\u001b[0m\u001b[0;34m,\u001b[0m \u001b[0mtypevar\u001b[0m\u001b[0;34m=\u001b[0m\u001b[0;34m'Amon'\u001b[0m\u001b[0;34m,\u001b[0m \u001b[0mgg\u001b[0m\u001b[0;34m=\u001b[0m\u001b[0mggname\u001b[0m\u001b[0;34m[\u001b[0m\u001b[0mj\u001b[0m\u001b[0;34m]\u001b[0m\u001b[0;34m,\u001b[0m \u001b[0mread_p\u001b[0m\u001b[0;34m=\u001b[0m\u001b[0;32mFalse\u001b[0m\u001b[0;34m,\u001b[0m \u001b[0mtime1\u001b[0m\u001b[0;34m=\u001b[0m\u001b[0;34m[\u001b[0m\u001b[0;36m2010\u001b[0m\u001b[0;34m,\u001b[0m \u001b[0;36m1\u001b[0m\u001b[0;34m,\u001b[0m \u001b[0;36m20\u001b[0m\u001b[0;34m]\u001b[0m\u001b[0;34m,\u001b[0m \u001b[0mtime2\u001b[0m\u001b[0;34m=\u001b[0m\u001b[0;34m[\u001b[0m\u001b[0;36m2012\u001b[0m\u001b[0;34m,\u001b[0m \u001b[0;36m12\u001b[0m\u001b[0;34m,\u001b[0m \u001b[0;36m21\u001b[0m\u001b[0;34m]\u001b[0m\u001b[0;34m)\u001b[0m\u001b[0;34m\u001b[0m\u001b[0;34m\u001b[0m\u001b[0m\n\u001b[0m\u001b[1;32m      6\u001b[0m \u001b[0;34m\u001b[0m\u001b[0m\n\u001b[1;32m      7\u001b[0m         \u001b[0;32mfor\u001b[0m \u001b[0mk\u001b[0m \u001b[0;32min\u001b[0m \u001b[0mpvarname\u001b[0m\u001b[0;34m:\u001b[0m\u001b[0;34m\u001b[0m\u001b[0;34m\u001b[0m\u001b[0m\n",
      "\u001b[0;32m/glade/work/geethma/research/codes/readGCMs.py\u001b[0m in \u001b[0;36mread_var_mod\u001b[0;34m(modn, consort, varnm, cmip, exper, ensmem, typevar, gg, read_p, time1, time2)\u001b[0m\n\u001b[1;32m     32\u001b[0m \u001b[0;34m\u001b[0m\u001b[0m\n\u001b[1;32m     33\u001b[0m \u001b[0;31m#    try:\u001b[0m\u001b[0;34m\u001b[0m\u001b[0;34m\u001b[0m\u001b[0;34m\u001b[0m\u001b[0m\n\u001b[0;32m---> 34\u001b[0;31m     data, P, lat, lon, time = read_hs(\n\u001b[0m\u001b[1;32m     35\u001b[0m         pth, varnm, read_p=read_p, time1=time1, time2=time2)\n\u001b[1;32m     36\u001b[0m \u001b[0;31m#    except UnboundLocalError:\u001b[0m\u001b[0;34m\u001b[0m\u001b[0;34m\u001b[0m\u001b[0;34m\u001b[0m\u001b[0m\n",
      "\u001b[0;32m/glade/work/geethma/research/codes/readGCMs.py\u001b[0m in \u001b[0;36mread_hs\u001b[0;34m(wd, varnm, read_p, modnm, exper, ensmem, typevar, time1, time2)\u001b[0m\n\u001b[1;32m     88\u001b[0m             \u001b[0;32mif\u001b[0m \u001b[0mread_p\u001b[0m \u001b[0;34m==\u001b[0m \u001b[0;32mTrue\u001b[0m\u001b[0;34m:\u001b[0m\u001b[0;34m\u001b[0m\u001b[0;34m\u001b[0m\u001b[0m\n\u001b[1;32m     89\u001b[0m                 \u001b[0mP\u001b[0m\u001b[0;34m.\u001b[0m\u001b[0mappend\u001b[0m\u001b[0;34m(\u001b[0m\u001b[0mtt\u001b[0m\u001b[0;34m[\u001b[0m\u001b[0;34m'P'\u001b[0m\u001b[0;34m]\u001b[0m\u001b[0;34m)\u001b[0m\u001b[0;34m\u001b[0m\u001b[0;34m\u001b[0m\u001b[0m\n\u001b[0;32m---> 90\u001b[0;31m     \u001b[0;32mreturn\u001b[0m \u001b[0mdata\u001b[0m\u001b[0;34m,\u001b[0m \u001b[0mP\u001b[0m\u001b[0;34m,\u001b[0m \u001b[0mlat\u001b[0m\u001b[0;34m,\u001b[0m \u001b[0mlon\u001b[0m\u001b[0;34m,\u001b[0m \u001b[0mtimeo\u001b[0m\u001b[0;34m\u001b[0m\u001b[0;34m\u001b[0m\u001b[0m\n\u001b[0m\u001b[1;32m     91\u001b[0m \u001b[0;34m\u001b[0m\u001b[0m\n\u001b[1;32m     92\u001b[0m \u001b[0;34m\u001b[0m\u001b[0m\n",
      "\u001b[0;31mUnboundLocalError\u001b[0m: local variable 'lat' referenced before assignment"
     ]
    }
   ],
   "source": [
    "try:\n",
    "    for j in range(l,len(modname)):\n",
    "        \n",
    "        for i in varname: \n",
    "            locals()[i+'_'+str(j+1)] = read_var_mod(modn=modname[j], consort=conname[j], varnm=i, cmip='cmip6', exper='historical', ensmem=ensname[j], typevar='Amon', gg=ggname[j], read_p=False, time1=[2010, 1, 20], time2=[2012, 12, 21])\n",
    "\n",
    "        for k in pvarname: \n",
    "            locals()[k+'_'+str(j+1)] = read_var_mod(modn=modname[j], consort=conname[j], varnm=k, cmip='cmip6', exper='historical', ensmem=ensname[j], typevar='Amon', gg=ggname[j], read_p=True, time1=[2010, 1, 20], time2=[2012, 12, 21])\n",
    "        print(modname[l])\n",
    "        \n",
    "except IndexError:\n",
    "    print(str(j+1)+' not available')"
   ]
  },
  {
   "cell_type": "code",
   "execution_count": null,
   "id": "e9b005b5-d143-4c70-8bc6-ee971ca49c52",
   "metadata": {},
   "outputs": [],
   "source": []
  }
 ],
 "metadata": {
  "kernelspec": {
   "display_name": "geethma-npl-kernel",
   "language": "python",
   "name": "geethma-npl-kernel"
  },
  "language_info": {
   "codemirror_mode": {
    "name": "ipython",
    "version": 3
   },
   "file_extension": ".py",
   "mimetype": "text/x-python",
   "name": "python",
   "nbconvert_exporter": "python",
   "pygments_lexer": "ipython3",
   "version": "3.9.4"
  }
 },
 "nbformat": 4,
 "nbformat_minor": 5
}
