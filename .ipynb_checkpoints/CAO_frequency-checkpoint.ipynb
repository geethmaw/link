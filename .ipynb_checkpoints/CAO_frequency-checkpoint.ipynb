{
 "cells": [
  {
   "cell_type": "code",
   "execution_count": 1,
   "id": "08752406-84ff-4119-8fd2-27ea4cb1606f",
   "metadata": {},
   "outputs": [
    {
     "data": {
      "text/plain": [
       "<Figure size 600x400 with 0 Axes>"
      ]
     },
     "metadata": {},
     "output_type": "display_data"
    }
   ],
   "source": [
    "import xarray as xr\n",
    "import matplotlib.pyplot as plt\n",
    "import numpy as np\n",
    "from matplotlib.cm import get_cmap\n",
    "import calendar\n",
    "from global_land_mask import globe\n",
    "import glob\n",
    "import math\n",
    "from scipy import stats\n",
    "import os\n",
    "import netCDF4 as nc\n",
    "\n",
    "from highres_read import read_var_hires\n",
    "from myReadGCMsDaily import read_var_mod\n",
    "from regrid_wght_3d import regrid_wght_wnans\n",
    "\n",
    "import matplotlib as mpl\n",
    "mpl.rcParams['figure.dpi'] = 100\n",
    "plt.clf()\n",
    "plt.rcParams['figure.figsize'] = (10, 10)"
   ]
  },
  {
   "cell_type": "code",
   "execution_count": 2,
   "id": "3b20d946-76e7-4a21-a17b-627a2530f28e",
   "metadata": {},
   "outputs": [],
   "source": [
    "from con_models import get_cons\n",
    "con, use_colors, varname, pvarname, modname, warming_modname, hiresmd, amip_md = get_cons()"
   ]
  },
  {
   "cell_type": "code",
   "execution_count": 3,
   "id": "efc53f5c-4e65-4626-b3c2-e5065fc92a2b",
   "metadata": {},
   "outputs": [],
   "source": [
    "#latitude range\n",
    "latr1 = 30\n",
    "latr2 = 80\n"
   ]
  },
  {
   "cell_type": "code",
   "execution_count": null,
   "id": "f963013f-72fe-4bee-bade-9db2d6ef70b1",
   "metadata": {},
   "outputs": [],
   "source": [
    "time1=[2010, 12, 1]\n",
    "time2=[2010, 2, 28]"
   ]
  },
  {
   "cell_type": "code",
   "execution_count": 5,
   "id": "ab7b6743-5e41-4b9a-9348-0a5cff47d00f",
   "metadata": {},
   "outputs": [
    {
     "name": "stdout",
     "output_type": "stream",
     "text": [
      "CanESM5   0\n",
      "done\n"
     ]
    }
   ],
   "source": [
    "test_num = 0\n",
    "for j in range(test_num,test_num+1):\n",
    "    print(modname[j],' ', str(j))\n",
    "    for i in varname:\n",
    "        locals()[i+'__'+str(j+1)] = read_var_mod('surface', modname[j], 'historical', i, time1, time2)\n",
    "\n",
    "    for k in pvarname:\n",
    "        locals()[k+'__'+str(j+1)] = read_var_mod('p_level', modname[j], 'historical', k, time1, time2)\n",
    "\n",
    "print('done')"
   ]
  },
  {
   "cell_type": "code",
   "execution_count": 6,
   "id": "1d0e857b-446b-4d7c-9247-ec9f0a65eafc",
   "metadata": {},
   "outputs": [],
   "source": [
    "# mm = len(modname)\n",
    "# for j in range(0,len(hiresmd)):\n",
    "#     print(hiresmd[j],' ', str(j))\n",
    "#     for i in varname:\n",
    "#         locals()[i+'__'+str(j+1+mm)] = read_var_hires('surface', hiresmd[j], 'highresSST-present', i, time1, time2)\n",
    "\n",
    "#     for k in pvarname:\n",
    "#         locals()[k+'__'+str(j+1+mm)] = read_var_hires('p_level', hiresmd[j], 'highresSST-present', k, time1, time2)\n",
    "\n",
    "# print('done')"
   ]
  },
  {
   "cell_type": "code",
   "execution_count": 8,
   "id": "b4889a2d-9d6b-4458-8fa3-b4e972eb8c64",
   "metadata": {},
   "outputs": [
    {
     "name": "stdout",
     "output_type": "stream",
     "text": [
      "CanESM5 0\n"
     ]
    },
    {
     "name": "stderr",
     "output_type": "stream",
     "text": [
      "/glade/work/geethma/research/codes/regrid_wght_3d.py:46: RuntimeWarning: invalid value encountered in true_divide\n",
      "  zout[i]=zz[0]/ww[0]\n"
     ]
    }
   ],
   "source": [
    "M_plot = []\n",
    "   "
   ]
  },
  {
   "cell_type": "code",
   "execution_count": null,
   "id": "32271844-0f82-479c-8458-e616954c98e5",
   "metadata": {},
   "outputs": [],
   "source": [
    "for i in range(test_num,test_num+1): #l,mm+len(hiresmd)\n",
    "    if i<len(modname):\n",
    "        print(modname[i],str(i))\n",
    "    else:\n",
    "        print(hiresmd[i-mm],str(i))\n",
    "\n",
    "    for j in varname:\n",
    "        lat  = locals()[j+'__'+str(i+1)][0]\n",
    "        lon  = locals()[j+'__'+str(i+1)][1]\n",
    "        time = locals()[j+'__'+str(i+1)][2]\n",
    "\n",
    "        x_lat = np.array(lat)\n",
    "        lat_ind1 = np.where(x_lat == x_lat.flat[np.abs(x_lat - (latr1)).argmin()])[0]\n",
    "        lat_ind2 = np.where(x_lat == x_lat.flat[np.abs(x_lat - (latr2)).argmin()])[0]\n",
    "        lats = lat[lat_ind1[0]:lat_ind2[0]]\n",
    "\n",
    "        x_lon = lon\n",
    "        lon = np.array(lon)\n",
    "        lon[lon > 180] = lon[lon > 180]-360\n",
    "\n",
    "        maskm = np.ones((len(time),len(lats),len(lon)))\n",
    "\n",
    "        for a in range(len(lats)):\n",
    "            for b in range(len(lon)):\n",
    "                if globe.is_land(lats[a], lon[b])==True:\n",
    "                    maskm[:,a,b] = math.nan\n",
    "        #print(j)\n",
    "        locals()[j+str(i+1)] = locals()[j+'__'+str(i+1)][4]\n",
    "        locals()[j+str(i+1)] = np.ma.filled(locals()[j+str(i+1)], fill_value=np.nan)\n",
    "        locals()['plot_'+j+str(i+1)] = np.array(np.multiply(maskm,locals()[j+str(i+1)][:,lat_ind1[0]:lat_ind2[0],:]))\n",
    "        locals()['grid_'+j+str(i+1)] = locals()['plot_'+j+str(i+1)]\n",
    "        #regrid_wght_wnans(lats,lon,locals()['plot_'+j+str(i+1)],lats_edges,lons_edges)[0]\n",
    "\n",
    "    for k in pvarname:\n",
    "        #print(k)\n",
    "        lat  = locals()[k+'__'+str(i+1)][0]\n",
    "        lon  = locals()[k+'__'+str(i+1)][1]\n",
    "        time = locals()[k+'__'+str(i+1)][2]\n",
    "\n",
    "        x_lat = np.array(lat)\n",
    "        lat_ind1 = np.where(x_lat == x_lat.flat[np.abs(x_lat - (latr1)).argmin()])[0]\n",
    "        lat_ind2 = np.where(x_lat == x_lat.flat[np.abs(x_lat - (latr2)).argmin()])[0]\n",
    "        lats = lat[lat_ind1[0]:lat_ind2[0]]\n",
    "\n",
    "        x_lon = lon\n",
    "        lon = np.array(lon)\n",
    "        lon[lon > 180] = lon[lon > 180]-360\n",
    "\n",
    "        maskm = np.ones((len(time),len(lats),len(lon)))\n",
    "\n",
    "        for a in range(len(lats)):\n",
    "            for b in range(len(lon)):\n",
    "                if globe.is_land(lats[a], lon[b])==True:\n",
    "                    maskm[:,a,b] = math.nan\n",
    "        locals()['plot_levels'+str(i+1)] = locals()['ta__'+str(i+1)][3]\n",
    "        locals()['grid_'+k+str(i+1)] = []\n",
    "\n",
    "        levels = locals()['plot_levels'+str(i+1)]\n",
    "\n",
    "        for p in range(len(levels)):\n",
    "            if levels[p] == 70000:\n",
    "                #print(levels[p])\n",
    "                locals()[k+str(i+1)] = locals()[k+'__'+str(i+1)][4]\n",
    "                locals()[k+str(i+1)] = np.ma.filled(locals()[k+str(i+1)], fill_value=np.nan)\n",
    "                temp_700   = np.array(np.multiply(maskm,locals()[k+str(i+1)][:,p,lat_ind1[0]:lat_ind2[0],:]))\n",
    "                # regrid     = regrid_wght_wnans(lats,lon,temp_700,lats_edges,lons_edges)\n",
    "                # grid_t_700 = regrid[0]\n",
    "                # lat_n      = regrid[2][:,0]\n",
    "                break;\n",
    "\n",
    "    theta_700 = temp_700*(100000/70000)**con\n",
    "    # theta_700 = grid_t_700*(100000/70000)**con\n",
    "    theta_t2m = locals()['grid_tas'+str(i+1)]*(100000/locals()['grid_psl'+str(i+1)])**con\n",
    "\n",
    "    t = min(len(theta_t2m),len(theta_700))\n",
    "    M_700  = theta_t2m[0:t,:,:] - theta_700[0:t,:,:]\n",
    "    M_plot.extend(M_700)\n",
    "\n",
    "   "
   ]
  },
  {
   "cell_type": "code",
   "execution_count": null,
   "id": "91e74b82-b41f-4ba2-ad3d-b178e2685b45",
   "metadata": {},
   "outputs": [],
   "source": [
    "np.shape(M_plot)"
   ]
  },
  {
   "cell_type": "code",
   "execution_count": null,
   "id": "80238b6a-e21b-4abd-8b2f-716d129016e3",
   "metadata": {},
   "outputs": [],
   "source": [
    "num_UM = []\n",
    "num_M  = []"
   ]
  },
  {
   "cell_type": "code",
   "execution_count": null,
   "id": "e6c8f81b-c372-466e-886c-d55313a02fc3",
   "metadata": {},
   "outputs": [],
   "source": [
    "M_plot = np.array(M_plot)\n",
    "\n",
    "for j in range(np.shape(M_plot)[1]):\n",
    "    count_UM = 0\n",
    "    \n",
    "    for i in range(np.shape(M_plot)[0]):\n",
    "        for k in range(np.shape(M_plot)[2]):\n",
    "            if M_plot[i,j,k]>=-9:\n",
    "                count_UM = count_UM+1\n",
    "    num_UM.append(count_UM)"
   ]
  },
  {
   "cell_type": "code",
   "execution_count": null,
   "id": "f3b1a182-072a-4739-b1cd-0de01bc81f05",
   "metadata": {},
   "outputs": [],
   "source": [
    "for j in range(np.shape(M_plot)[1]):\n",
    "    count_M = 0\n",
    "    \n",
    "    for i in range(np.shape(M_plot)[0]):\n",
    "        for k in range(np.shape(M_plot)[2]):\n",
    "            if M_plot[i,j,k]!=np.nan:\n",
    "                count_M = count_M+1\n",
    "    num_M.append(count_M)\n"
   ]
  },
  {
   "cell_type": "code",
   "execution_count": null,
   "id": "34fe2a9b-b2fa-4bac-921c-7ac481221dcd",
   "metadata": {},
   "outputs": [],
   "source": [
    "num_M = np.array(num_M)\n",
    "num_UM = np.array(num_UM)"
   ]
  },
  {
   "cell_type": "code",
   "execution_count": null,
   "id": "aa61efe8-3ee4-45ad-9f50-8941a604415a",
   "metadata": {},
   "outputs": [],
   "source": [
    "f = np.divide(num_UM,num_M)"
   ]
  },
  {
   "cell_type": "code",
   "execution_count": null,
   "id": "3bbac885-053d-4e58-8eb6-abda8c419427",
   "metadata": {},
   "outputs": [],
   "source": [
    "# plt.plot(lats,f,color=use_colors[test_num],label=modname[test_num],linestyle='solid')"
   ]
  },
  {
   "cell_type": "code",
   "execution_count": null,
   "id": "514ba9f4-3ceb-4731-92ca-ee14a53db5c3",
   "metadata": {},
   "outputs": [],
   "source": [
    "plt.plot(lats,f,color=use_colors[test_num+3],label='autumn',linestyle='dashed')"
   ]
  },
  {
   "cell_type": "code",
   "execution_count": null,
   "id": "652c1b22-f68c-48bc-a2e6-6d7550bfd717",
   "metadata": {},
   "outputs": [],
   "source": [
    "plt.legend()\n",
    "plt.xlabel('latitude')\n",
    "plt.title('seasonal CAO zonal mean ditribution\\n for cesm2')\n",
    "plt.savefig('../figures/final/cesm2_M_lats.png')"
   ]
  }
 ],
 "metadata": {
  "kernelspec": {
   "display_name": "wgh",
   "language": "python",
   "name": "wgh"
  },
  "language_info": {
   "codemirror_mode": {
    "name": "ipython",
    "version": 3
   },
   "file_extension": ".py",
   "mimetype": "text/x-python",
   "name": "python",
   "nbconvert_exporter": "python",
   "pygments_lexer": "ipython3",
   "version": "3.9.7"
  }
 },
 "nbformat": 4,
 "nbformat_minor": 5
}
