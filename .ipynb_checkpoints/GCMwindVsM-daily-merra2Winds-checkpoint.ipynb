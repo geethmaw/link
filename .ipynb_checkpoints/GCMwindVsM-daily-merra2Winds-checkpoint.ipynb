{
 "cells": [
  {
   "cell_type": "markdown",
   "id": "58d7ce20-1938-408e-9127-5fb05c1492c9",
   "metadata": {},
   "source": [
    "##### Created on 04/28/2022\n",
    "\n",
    "##### This notebook is to get the GCM wind vs M relationship for the oceans over 30N to 70N. Will be compared with MERRA2+MAC and PPE outputs.\n",
    "\n",
    "##### Updating to retrieve PPE daily data and CESM2 daily data and MERRA2 winds\n"
   ]
  },
  {
   "cell_type": "code",
   "execution_count": 1,
   "id": "52d222b1-29ed-4aa8-96eb-a715561eff4e",
   "metadata": {},
   "outputs": [
    {
     "data": {
      "text/plain": [
       "<Figure size 600x400 with 0 Axes>"
      ]
     },
     "metadata": {},
     "output_type": "display_data"
    }
   ],
   "source": [
    "import xarray as xr\n",
    "import matplotlib.pyplot as plt\n",
    "import numpy as np\n",
    "from matplotlib.cm import get_cmap\n",
    "import calendar\n",
    "from global_land_mask import globe\n",
    "import glob\n",
    "import math\n",
    "from scipy import stats\n",
    "import os\n",
    "import netCDF4 as nc\n",
    "\n",
    "from highres_read import read_var_hires\n",
    "from myReadGCMsDaily import read_var_mod\n",
    "from regrid_wght_3d import regrid_wght_wnans\n",
    "\n",
    "import matplotlib as mpl\n",
    "mpl.rcParams['figure.dpi'] = 100\n",
    "plt.clf()\n",
    "plt.rcParams['figure.figsize'] = (10, 10)"
   ]
  },
  {
   "cell_type": "code",
   "execution_count": 3,
   "id": "33c44bda-6eb9-4905-bda8-df226f73160b",
   "metadata": {},
   "outputs": [],
   "source": [
    "from con_models import get_cons\n",
    "con, use_colors, varname, pvarname, modname, warming_modname, hiresmd, amip_md = get_cons()"
   ]
  },
  {
   "cell_type": "code",
   "execution_count": 4,
   "id": "187c95db-21b6-4010-a182-f8c40acb48a8",
   "metadata": {},
   "outputs": [],
   "source": [
    "#latitude range\n",
    "latr1 = 30\n",
    "latr2 = 80\n"
   ]
  },
  {
   "cell_type": "code",
   "execution_count": 5,
   "id": "e05062b1-e175-413c-85e7-aa741d1e1aac",
   "metadata": {},
   "outputs": [],
   "source": [
    "time1=[2010, 1, 1]\n",
    "time2=[2012, 12, 30]\n",
    "\n",
    "lats_edges = np.arange(latr1,latr2+1,5)\n",
    "lons_edges = np.arange(-180,181,5)\n",
    "\n",
    "#binning\n",
    "n_bins  = 20\n",
    "M_range = (-20,0)\n",
    "max_c   = 500"
   ]
  },
  {
   "cell_type": "markdown",
   "id": "b8864158-5d79-48c0-a2d8-e0006f205073",
   "metadata": {},
   "source": [
    "# GCM"
   ]
  },
  {
   "cell_type": "code",
   "execution_count": 8,
   "id": "f38289d7-7c07-469d-ad6b-6cfb9a2edf1e",
   "metadata": {},
   "outputs": [],
   "source": [
    "for j in range(0,len(modname)):\n",
    "    print(modname[j])\n",
    "    for i in varname:\n",
    "        locals()[i+'__'+str(j+1)] = read_var_mod('surface', modname[j], 'historical', i, time1, time2)\n",
    "\n",
    "    for k in pvarname:\n",
    "        locals()[k+'__'+str(j+1)] = read_var_mod('p_level', modname[j], 'historical', k, time1, time2)\n",
    "\n",
    "print('done')"
   ]
  },
  {
   "cell_type": "code",
   "execution_count": null,
   "id": "0a10b37d-3515-4640-87e1-8799f600ae0c",
   "metadata": {},
   "outputs": [],
   "source": [
    "mm = len(modname)\n",
    "for j in range(0,len(hiresmd)):\n",
    "    print(hiresmd[j],' ', str(j))\n",
    "    for i in varname:\n",
    "        locals()[i+'__'+str(j+1+mm)] = read_var_hires('surface', hiresmd[j], 'highresSST-present', i, time1, time2)\n",
    "\n",
    "    for k in pvarname:\n",
    "        locals()[k+'__'+str(j+1+mm)] = read_var_hires('p_level', hiresmd[j], 'highresSST-present', k, time1, time2)\n"
   ]
  },
  {
   "cell_type": "code",
   "execution_count": 8,
   "id": "b5be2390-769f-4d34-bc1f-d6a4845984ed",
   "metadata": {},
   "outputs": [],
   "source": [
    "# M_plot = []\n",
    "# W_plot = []\n",
    "# W_erro = []\n",
    "# mm     = len(modname)\n",
    "# bin_count = 1000"
   ]
  },
  {
   "cell_type": "code",
   "execution_count": 9,
   "id": "fde5d9ad-a5d0-45f3-a874-585221f1a2e1",
   "metadata": {},
   "outputs": [],
   "source": [
    "\n",
    "# test_num = 0\n",
    "# for i in range(test_num,mm+len(hiresmd)): #l,mm+len(hiresmd)\n",
    "#     if i<len(modname):\n",
    "#         print(modname[i],str(i))\n",
    "#     else:\n",
    "#         print(hiresmd[i-mm],str(i))\n",
    "\n",
    "#     for j in varname:\n",
    "#         lat  = locals()[j+'__'+str(i+1)][0]\n",
    "#         lon  = locals()[j+'__'+str(i+1)][1]\n",
    "#         time = locals()[j+'__'+str(i+1)][2]\n",
    "\n",
    "#         x_lat = np.array(lat)\n",
    "#         lat_ind1 = np.where(x_lat == x_lat.flat[np.abs(x_lat - (latr1)).argmin()])[0]\n",
    "#         lat_ind2 = np.where(x_lat == x_lat.flat[np.abs(x_lat - (latr2)).argmin()])[0]\n",
    "#         lats = lat[lat_ind1[0]:lat_ind2[0]]\n",
    "\n",
    "#         x_lon = lon\n",
    "#         lon = np.array(lon)\n",
    "#         lon[lon > 180] = lon[lon > 180]-360\n",
    "\n",
    "#         maskm = np.ones((len(time),len(lats),len(lon)))\n",
    "\n",
    "#         for a in range(len(lats)):\n",
    "#             for b in range(len(lon)):\n",
    "#                 if globe.is_land(lats[a], lon[b])==True:\n",
    "#                     maskm[:,a,b] = math.nan\n",
    "#         #print(j)\n",
    "#         locals()[j+str(i+1)] = locals()[j+'__'+str(i+1)][4]\n",
    "#         locals()[j+str(i+1)] = np.ma.filled(locals()[j+str(i+1)], fill_value=np.nan)\n",
    "#         locals()['plot_'+j+str(i+1)] = np.array(np.multiply(maskm,locals()[j+str(i+1)][:,lat_ind1[0]:lat_ind2[0],:]))\n",
    "#         locals()['grid_'+j+str(i+1)] = regrid_wght_wnans(lats,lon,locals()['plot_'+j+str(i+1)],lats_edges,lons_edges)[0]\n",
    "\n",
    "\n",
    "\n",
    "#     for k in pvarname:\n",
    "#         #print(k)\n",
    "#         lat  = locals()[k+'__'+str(i+1)][0]\n",
    "#         lon  = locals()[k+'__'+str(i+1)][1]\n",
    "#         time = locals()[k+'__'+str(i+1)][2]\n",
    "\n",
    "#         x_lat = np.array(lat)\n",
    "#         lat_ind1 = np.where(x_lat == x_lat.flat[np.abs(x_lat - (latr1)).argmin()])[0]\n",
    "#         lat_ind2 = np.where(x_lat == x_lat.flat[np.abs(x_lat - (latr2)).argmin()])[0]\n",
    "#         lats = lat[lat_ind1[0]:lat_ind2[0]]\n",
    "\n",
    "#         x_lon = lon\n",
    "#         lon = np.array(lon)\n",
    "#         lon[lon > 180] = lon[lon > 180]-360\n",
    "\n",
    "#         maskm = np.ones((len(time),len(lats),len(lon)))\n",
    "\n",
    "#         for a in range(len(lats)):\n",
    "#             for b in range(len(lon)):\n",
    "#                 if globe.is_land(lats[a], lon[b])==True:\n",
    "#                     maskm[:,a,b] = math.nan\n",
    "#         locals()['plot_levels'+str(i+1)] = locals()['ta__'+str(i+1)][3]\n",
    "#         locals()['grid_'+k+str(i+1)] = []\n",
    "\n",
    "#         levels = locals()['plot_levels'+str(i+1)]\n",
    "\n",
    "#         for p in range(len(levels)):\n",
    "#             if levels[p] == 70000:\n",
    "#                 #print(levels[p])\n",
    "#                 locals()[k+str(i+1)] = locals()[k+'__'+str(i+1)][4]\n",
    "#                 locals()[k+str(i+1)] = np.ma.filled(locals()[k+str(i+1)], fill_value=np.nan)\n",
    "#                 temp_700   = np.array(np.multiply(maskm,locals()[k+str(i+1)][:,p,lat_ind1[0]:lat_ind2[0],:]))\n",
    "#                 grid_t_700 = regrid_wght_wnans(lats,lon,temp_700,lats_edges,lons_edges)[0]\n",
    "#                 break;\n",
    "\n",
    "#     theta_700 = grid_t_700*(100000/70000)**con\n",
    "#     theta_t2m = locals()['grid_tas'+str(i+1)]*(100000/locals()['grid_psl'+str(i+1)])**con\n",
    "\n",
    "#     t = min(len(theta_t2m),len(theta_700))\n",
    "#     M_700  = theta_t2m[0:t,:,:] - theta_700[0:t,:,:]\n",
    "#     plot_M = M_700.flatten()\n",
    "#     try_W  = locals()['grid_sfcWind'+str(i+1)][0:t,:,:]\n",
    "#     plot_W = try_W.flatten()\n",
    "\n",
    "#     ind = np.argsort(plot_M)\n",
    "\n",
    "#     final_M = np.sort(plot_M)\n",
    "#     final_W = plot_W[ind]\n",
    "\n",
    "#     indx = np.isnan(final_M*final_W)==False\n",
    "\n",
    "#     bin_means, bin_edges, binnumber       = stats.binned_statistic(final_M[indx], final_W[indx], 'mean', bins=n_bins,range=M_range)\n",
    "#     bin_means_c, bin_edges_c, binnumber_c = stats.binned_statistic(final_M[indx], final_W[indx], 'count', bins=n_bins,range=M_range)\n",
    "#     bin_means_s, bin_edges_s, binnumber_s = stats.binned_statistic(final_M[indx], final_W[indx], 'std', bins=n_bins,range=M_range)\n",
    "#     bin_means_x, bin_edges_x, binnumber_x = stats.binned_statistic(final_M[indx], final_M[indx], 'mean', bins=n_bins,range=M_range)\n",
    "\n",
    "#     ind_c = np.where(bin_means_c > max_c)\n",
    "\n",
    "#     std_err = bin_means_s/np.sqrt(bin_means_c)\n",
    "#     M_plot.append(np.ma.masked_invalid(bin_means_x[ind_c])) #[ind_c]\n",
    "#     W_plot.append(np.ma.masked_invalid(bin_means[ind_c]))\n",
    "#     W_erro.append(np.ma.masked_invalid(std_err[ind_c]))\n",
    "#     bin_count = min(bin_count,len(bin_means_c[ind_c]))\n",
    "\n",
    "        "
   ]
  },
  {
   "cell_type": "code",
   "execution_count": 10,
   "id": "e9b005b5-d143-4c70-8bc6-ee971ca49c52",
   "metadata": {},
   "outputs": [],
   "source": [
    "# from obs_data_function import obs\n",
    "# merwind, macwind, temp, sfctemp, sfcpres, p_lev_obs, p_mer_lat, merlon, merlev = obs('T2M', 700, latr1, latr2)"
   ]
  },
  {
   "cell_type": "code",
   "execution_count": 11,
   "id": "8c736f78-abd7-4a75-946d-7f20c0b644e5",
   "metadata": {},
   "outputs": [],
   "source": [
    "# grid_obs_wind     = regrid_wght_wnans(p_mer_lat,merlon,macwind,lats_edges,lons_edges)[0]\n",
    "# grid_obs_temp_700 = regrid_wght_wnans(p_mer_lat,merlon,temp,lats_edges,lons_edges)[0]\n",
    "# grid_obs_temp_sfc = regrid_wght_wnans(p_mer_lat,merlon,sfctemp,lats_edges,lons_edges)[0]\n",
    "# grid_obs_pres_sfc = regrid_wght_wnans(p_mer_lat,merlon,sfcpres,lats_edges,lons_edges)[0]\n",
    "\n",
    "# lat_n = regrid_wght_wnans(p_mer_lat,merlon,sfcpres,lats_edges,lons_edges)[2][:,0]\n",
    "# lon_n = regrid_wght_wnans(p_mer_lat,merlon,sfcpres,lats_edges,lons_edges)[1][0,:]\n",
    "\n",
    "# theta_700 = np.array(np.multiply(grid_obs_temp_700, (100000/(merlev[p_lev_obs]*100))**(con)))\n",
    "# theta_sfc = np.array(np.multiply(grid_obs_temp_sfc, (100000/grid_obs_pres_sfc)**(con)))\n",
    "# print('theta_800', np.shape(theta_700))\n",
    "# print('theta_sfc', np.shape(theta_sfc))\n",
    "\n",
    "\n",
    "# p_CAOI = np.array(np.subtract(theta_sfc,theta_700))\n",
    "\n"
   ]
  },
  {
   "cell_type": "code",
   "execution_count": 8,
   "id": "47bc64d2-ab5b-4c34-9f75-399670a3854e",
   "metadata": {},
   "outputs": [],
   "source": [
    "#Mask for the ocean\n",
    "maskm = np.ones((len(temp),len(lat_n),len(lon_n)))\n",
    "\n",
    "for a in range(len(lat_n)):\n",
    "    for b in range(len(lon_n)):\n",
    "        if globe.is_land(lat_n[a], lon_n[b])==True:\n",
    "            maskm[:,a,b] = math.nan\n",
    "##############################"
   ]
  },
  {
   "cell_type": "code",
   "execution_count": 9,
   "id": "5e7929b5-1033-4056-bd05-a0f4b6469a97",
   "metadata": {},
   "outputs": [],
   "source": [
    "#ocean only mask\n",
    "plot_CAOI = np.array(np.multiply(maskm,p_CAOI))\n",
    "plot_wind = np.array(np.multiply(maskm,grid_obs_wind))\n",
    "\n",
    "plot_indx = np.isnan(plot_CAOI*plot_wind)==False\n",
    "plot_mer_theta = plot_CAOI[plot_indx]\n",
    "plot_mac_wind  = plot_wind[plot_indx]\n",
    "\n",
    "w_sfc = plot_mac_wind[plot_mac_wind>0]\n",
    "m_700 = plot_mer_theta[plot_mac_wind>0]\n",
    "###################################"
   ]
  },
  {
   "cell_type": "code",
   "execution_count": 12,
   "id": "f847e6d4-a698-4ca7-a091-562e9ab81b3b",
   "metadata": {},
   "outputs": [],
   "source": [
    "# from scipy import stats\n",
    "# bin_means, bin_edges, binnumber       = stats.binned_statistic(m_700, w_sfc, 'mean', bins=n_bins, range=M_range)\n",
    "# bin_means_c, bin_edges_c, binnumber_c = stats.binned_statistic(m_700, w_sfc, 'count', bins=n_bins, range=M_range)\n",
    "# bin_means_s, bin_edges_s, binnumber_s = stats.binned_statistic(m_700, w_sfc, 'std', bins=n_bins, range=M_range)\n",
    "# bin_means_x, bin_edges_x, binnumber_x = stats.binned_statistic(m_700, m_700, 'mean', bins=n_bins, range=M_range)\n",
    "\n",
    "# W_SFC = np.ma.masked_invalid(bin_means[bin_means_c>max_c])\n",
    "# M_700 = np.ma.masked_invalid(bin_means_x[bin_means_c>max_c])\n",
    "# s_err = bin_means_s[bin_means_c>max_c]/np.sqrt(bin_means_c[bin_means_c>max_c])\n",
    "# W_err = np.ma.masked_invalid(s_err)"
   ]
  },
  {
   "cell_type": "code",
   "execution_count": 10,
   "id": "b6023a26-0555-4d3c-b94f-f81db757ef8b",
   "metadata": {},
   "outputs": [],
   "source": [
    "bin_count = min(bin_count, len(W_SFC))"
   ]
  },
  {
   "cell_type": "code",
   "execution_count": 13,
   "id": "e11d0f75-dba7-43da-ada7-485eeacf2ffc",
   "metadata": {},
   "outputs": [],
   "source": [
    "# plt.clf()\n",
    "# for i in range(len(modname)):\n",
    "#     plt.plot(M_plot[i][0:bin_count], W_plot[i][0:bin_count], label=modname[i], color=use_colors[i])\n",
    "#     plt.fill_between(M_plot[i][0:bin_count], W_plot[i][0:bin_count]-W_erro[i][0:bin_count], W_plot[i][0:bin_count]+W_erro[i][0:bin_count], color=use_colors[i], alpha=0.2)\n",
    "#     plt.annotate(xy=(M_plot[i][bin_count-1],W_plot[i][bin_count-1]), text=modname[i],color=use_colors[i],fontsize=5)\n",
    "#     # print(i)\n",
    "    "
   ]
  },
  {
   "cell_type": "code",
   "execution_count": 14,
   "id": "a48f1958-af38-47af-8442-96cf0fa0dcd9",
   "metadata": {},
   "outputs": [],
   "source": [
    "# for i in range(mm,mm+len(hiresmd)):\n",
    "#     plt.plot(M_plot[i][0:bin_count], W_plot[i][0:bin_count], label=hiresmd[i-mm], color=use_colors[i])\n",
    "#     plt.fill_between(M_plot[i][0:bin_count], W_plot[i][0:bin_count]-W_erro[i][0:bin_count], W_plot[i][0:bin_count]+W_erro[i][0:bin_count], color=use_colors[i], alpha=0.2)\n",
    "#     plt.annotate(xy=(M_plot[i][bin_count-1],W_plot[i][bin_count-1]), text=hiresmd[i-mm],color=use_colors[i],fontsize=5)\n",
    "#     # print(i)\n",
    "    "
   ]
  },
  {
   "cell_type": "code",
   "execution_count": 15,
   "id": "9043f78c-62a6-4367-9ed3-26730a77a0f7",
   "metadata": {},
   "outputs": [],
   "source": [
    "# plt.plot(M_700[0:bin_count], W_SFC[0:bin_count], color='red' ,linestyle='dashed',\n",
    "#      markersize=5,linewidth=2, label='MAC+MERRA2')\n",
    "# plt.fill_between(M_700[0:bin_count], W_SFC[0:bin_count]-W_err[0:bin_count], W_SFC[0:bin_count]+W_err[0:bin_count], color='red' ,alpha=0.2)\n",
    "# plt.annotate(xy=(M_700[bin_count-1],W_SFC[bin_count-1]), text='MAC+MERRA2', color='red',fontsize=7)\n",
    "\n",
    "\n",
    "# plt.fill_between([-10,-6],[5,5],[13,13],color='grey',alpha=0.2)\n",
    "# plt.annotate(xy=(-9.8,12.5), text='Unstable CAOI',color='grey',fontsize=9)\n"
   ]
  },
  {
   "cell_type": "code",
   "execution_count": 14,
   "id": "7d7af805-98da-4493-a768-01aa7990a299",
   "metadata": {},
   "outputs": [],
   "source": [
    "plt.ylabel('U10 [m/s]')\n",
    "# plt.xlim(-20,0)\n",
    "yti = '700'\n",
    "plt.xlabel(r\"M ($\\Theta_{t2m}$ - $\\Theta_{\"+yti+\"})$ [K]\")\n",
    "plt.title('U10 vs M for oceans between '+str(latr1)+'N to '+str(latr2)+'N')\n",
    "plt.savefig('../figures/merra2_final_U10vsM_'+str(latr1)+'N to '+str(latr2)+'N.png')"
   ]
  },
  {
   "cell_type": "markdown",
   "id": "d5cdad2e-2d11-4f17-8961-6f9c5c1d5b3d",
   "metadata": {},
   "source": [
    "# PPE"
   ]
  },
  {
   "cell_type": "code",
   "execution_count": 39,
   "id": "138efda6-c266-4904-8278-7b0a470f932d",
   "metadata": {},
   "outputs": [],
   "source": [
    "enn = np.arange(200,251)"
   ]
  },
  {
   "cell_type": "code",
   "execution_count": 40,
   "id": "14ab3c1b-d506-4993-90ae-b93a428a572d",
   "metadata": {},
   "outputs": [],
   "source": [
    "ppe_var = ['U10', 'PSL', 'T850','TREFHT']"
   ]
  },
  {
   "cell_type": "code",
   "execution_count": 41,
   "id": "8d642198-30e4-4ccd-aee9-1c18b3090711",
   "metadata": {},
   "outputs": [],
   "source": [
    "for en in enn:\n",
    "    for i in ppe_var: #TREFHT was used since no TS. Should double check this.\n",
    "        d_path = '/glade/campaign/cgd/projects/ppe/cam_ppe/rerun_PPE_250/PD/PD_timeseries/PPE_250_ensemble_PD.'+f'{en:03d}'+'/atm/hist/cc_PPE_250_ensemble_PD.'+f'{en:03d}'+'.h1.'+str(i)+'.nc'\n",
    "        data =xr.open_dataset(d_path)\n",
    "        \n",
    "        if en == enn[0]:\n",
    "            lon  = data.variables['lon'][:]  #(lon: 288) [0.0, 1.25, 2.5, ... 356.25, 357.5, 358.75]\n",
    "            lat  = data.variables['lat'][:]  #(lat: 192) [-90.0 , -89.057592, -88.115183, ... 88.115183,  89.057592, 90.0]\n",
    "            time = data.variables['time'][:] #(time: 36)\n",
    "            \n",
    "        locals()[str(en)+'_'+i] = data.variables[i][:]"
   ]
  },
  {
   "cell_type": "code",
   "execution_count": 42,
   "id": "8970d775-070f-40e8-9f79-bb50a7ebae3c",
   "metadata": {},
   "outputs": [],
   "source": [
    "x_lat = np.array(lat)\n",
    "lat_ind1 = np.where(x_lat == x_lat.flat[np.abs(x_lat - (30)).argmin()])[0]\n",
    "lat_ind2 = np.where(x_lat == x_lat.flat[np.abs(x_lat - (70)).argmin()])[0]\n",
    "lat_new  = lat[lat_ind1[0]:lat_ind2[0]]\n",
    "\n",
    "mask = np.ones((len(time),len(lat_new),len(lon)))\n",
    "\n",
    "for a in range(len(lat_new)):\n",
    "    for b in range(len(lon)):\n",
    "        if globe.is_land(lat_new[a], lon[b]-180.)==True:\n",
    "            mask[0:len(time),a,b] = 0\n",
    "\n",
    "for en in enn:\n",
    "    for i in ppe_var: #\n",
    "        tmp  = locals()[str(en)+'_'+i]\n",
    "        tmp2 = tmp[:,lat_ind1[0]:lat_ind2[0],:]\n",
    "        locals()['MID'+i+'_'+str(en)] = np.multiply(mask,tmp2)"
   ]
  },
  {
   "cell_type": "code",
   "execution_count": 43,
   "id": "a8de2913-6990-4ba8-897a-a5a40e2f0484",
   "metadata": {},
   "outputs": [],
   "source": [
    "for en in enn:\n",
    "    locals()['theta_850_'+str(en)] = np.multiply(locals()['MIDT850_'+str(en)],(np.divide(locals()['MIDPSL_'+str(en)],85000))**(Rd/Cp))"
   ]
  },
  {
   "cell_type": "code",
   "execution_count": null,
   "id": "725dc666-4465-4023-a221-e11cd734bda5",
   "metadata": {},
   "outputs": [],
   "source": [
    "np.shape(theta_850_247)"
   ]
  },
  {
   "cell_type": "code",
   "execution_count": 44,
   "id": "f615f4d4-fee1-40d9-b2d4-139f270600fa",
   "metadata": {},
   "outputs": [],
   "source": [
    "for en in enn:\n",
    "    locals()['M_'+str(en)]   = np.array(np.subtract(locals()['MIDTREFHT_'+str(en)],locals()['theta_850_'+str(en)])).reshape(-1)\n",
    "    locals()['U10_'+str(en)] = np.array(locals()['MIDU10_'+str(en)]).reshape(-1)"
   ]
  },
  {
   "cell_type": "code",
   "execution_count": null,
   "id": "9d2b0d60-f663-4e6a-b9de-e44d2eede687",
   "metadata": {},
   "outputs": [],
   "source": [
    "np.max(U10_246)"
   ]
  },
  {
   "cell_type": "code",
   "execution_count": null,
   "id": "0fd122d3-36d0-4d77-8a32-71838140147a",
   "metadata": {},
   "outputs": [],
   "source": [
    "from scipy import stats\n",
    "from skmisc.loess import loess"
   ]
  },
  {
   "cell_type": "code",
   "execution_count": 47,
   "id": "6aa8ab17-c550-4e1c-8581-0650e71f0d99",
   "metadata": {},
   "outputs": [
    {
     "data": {
      "text/plain": [
       "Text(0.5, 0, 'CAOI [K]')"
      ]
     },
     "execution_count": 47,
     "metadata": {},
     "output_type": "execute_result"
    },
    {
     "data": {
      "image/png": "[encoded data removed]",
      "text/plain": [
       "<Figure size 432x504 with 1 Axes>"
      ]
     },
     "metadata": {
      "needs_background": "light"
     },
     "output_type": "display_data"
    }
   ],
   "source": [
    "fig= plt.figure(figsize=(6, 7))\n",
    "plt.plot(bin_means_x_gcm, bin_means_gcm,color='magenta' ,marker='*', linestyle='dashed',\n",
    "     markersize=5,linewidth=1, label='CESM2') #marker='*', markersize=12,\n",
    "# plt.plot(bin_means_x_obs, bin_means_obs,color='blue' ,marker='*', linestyle='dashed',\n",
    "#      markersize=5,linewidth=1, label='Observations')\n",
    "for en in enn:\n",
    "    x = locals()['M_'+str(en)]\n",
    "    y = locals()['U10_'+str(en)]\n",
    "    ind = np.argsort(x)\n",
    "    xx = np.sort(x)\n",
    "    yy = y[ind]\n",
    "    \n",
    "    indx = np.isnan(xx*yy)==False\n",
    "    \n",
    "    bin_means, bin_edges, binnumber = stats.binned_statistic(xx[indx], yy[indx], 'mean', bins=1000)\n",
    "    bin_means_x, bin_edges_x, binnumber_x = stats.binned_statistic(xx[indx], xx[indx], 'mean', bins=1000)\n",
    "    \n",
    "    index = np.isnan(bin_means_x*bin_means)==False\n",
    "    \n",
    "    # plt.plot(bin_means_x, bin_means)\n",
    "    l = loess(bin_means_x[index], bin_means[index])\n",
    "    l.fit()\n",
    "    pred = l.predict(bin_means_x[index], stderror=True)\n",
    "    conf = pred.confidence()\n",
    "\n",
    "    lowess = pred.values\n",
    "    \n",
    "    \n",
    "    if en==250:\n",
    "        plt.plot(bin_means_x[index], lowess, alpha=0.2,label='PPE')\n",
    "        \n",
    "    else:\n",
    "        plt.plot(bin_means_x[index], lowess, alpha=0.2)\n",
    "    \n",
    "\n",
    "# plt.plot(bin_means_x_obs, bin_means_obs, label='MACLWP+MERRA2')\n",
    "# plt.plot(bin_means_x_gcm, bin_means_gcm, label='CESM2')\n",
    "# plt.xticks(np.arange(-20,6,5),fontsize='12')\n",
    "# plt.yticks(np.arange(4,13),fontsize='12')\n",
    "plt.xlim([-20,5])\n",
    "\n",
    "plt.legend()\n",
    "plt.ylabel('U10 [m/s]',fontsize='15')\n",
    "plt.xlabel('CAOI [K]',fontsize='15')\n",
    "# plt.title('CAM6 PPE')\n",
    "# plt.savefig('ppe.png')"
   ]
  },
  {
   "cell_type": "code",
   "execution_count": null,
   "id": "58a8af3b-87d2-4746-82a7-e64cdc912e88",
   "metadata": {},
   "outputs": [],
   "source": []
  }
 ],
 "metadata": {
  "kernelspec": {
   "display_name": "geethma-npl-kernel",
   "language": "python",
   "name": "geethma-npl-kernel"
  },
  "language_info": {
   "codemirror_mode": {
    "name": "ipython",
    "version": 3
   },
   "file_extension": ".py",
   "mimetype": "text/x-python",
   "name": "python",
   "nbconvert_exporter": "python",
   "pygments_lexer": "ipython3",
   "version": "3.9.4"
  }
 },
 "nbformat": 4,
 "nbformat_minor": 5
}
