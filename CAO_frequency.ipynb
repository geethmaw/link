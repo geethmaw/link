{
 "cells": [
  {
   "cell_type": "code",
   "execution_count": 14,
   "id": "08752406-84ff-4119-8fd2-27ea4cb1606f",
   "metadata": {},
   "outputs": [
    {
     "data": {
      "text/plain": [
       "<Figure size 1000x1000 with 0 Axes>"
      ]
     },
     "metadata": {},
     "output_type": "display_data"
    }
   ],
   "source": [
    "import xarray as xr\n",
    "import matplotlib.pyplot as plt\n",
    "import numpy as np\n",
    "from matplotlib.cm import get_cmap\n",
    "import calendar\n",
    "from global_land_mask import globe\n",
    "import glob\n",
    "import math\n",
    "from scipy import stats\n",
    "import os\n",
    "import netCDF4 as nc\n",
    "\n",
    "from highres_read import read_var_hires\n",
    "from myReadGCMsDaily import read_var_mod\n",
    "from regrid_wght_3d import regrid_wght_wnans\n",
    "\n",
    "import matplotlib as mpl\n",
    "mpl.rcParams['figure.dpi'] = 100\n",
    "plt.clf()\n",
    "plt.rcParams['figure.figsize'] = (10, 10)"
   ]
  },
  {
   "cell_type": "code",
   "execution_count": 2,
   "id": "3b20d946-76e7-4a21-a17b-627a2530f28e",
   "metadata": {},
   "outputs": [],
   "source": [
    "from con_models import get_cons\n",
    "con, use_colors, varname, pvarname, modname, warming_modname, hiresmd, amip_md = get_cons()"
   ]
  },
  {
   "cell_type": "code",
   "execution_count": 3,
   "id": "efc53f5c-4e65-4626-b3c2-e5065fc92a2b",
   "metadata": {},
   "outputs": [],
   "source": [
    "#latitude range\n",
    "latr1 = 30\n",
    "latr2 = 80\n"
   ]
  },
  {
   "cell_type": "code",
   "execution_count": null,
   "id": "35ffc2e0-3e21-473f-8588-a2ce398b54f9",
   "metadata": {},
   "outputs": [],
   "source": [
    "from obs_data_function import obs\n",
    "merwind, macwind, temp, sfctemp, sfcpres, p_lev_obs, p_mer_lat, merlon, merlev = obs('surface_winter','T2M', 700, latr1, latr2)\n",
    "theta_700 = np.array(np.multiply(temp, (100000/(merlev[p_lev_obs]*100))**(con)))\n",
    "theta_sfc = np.array(np.multiply(sfctemp, (100000/sfcpres)**(con)))\n",
    "p_CAOI    = np.array(np.subtract(theta_sfc,theta_700))\n",
    "\n",
    "#Mask for the ocean\n",
    "maskm = np.ones((len(p_mer_lat),len(merlon)))\n",
    "\n",
    "for a in range(len(p_mer_lat)):\n",
    "    for b in range(len(merlon)):\n",
    "        if globe.is_land(p_mer_lat[a], merlon[b])==True:\n",
    "            maskm[a,b] = math.nan\n",
    "    ##############################\n",
    "    \n",
    "plot_CAOI = np.array(np.multiply(maskm,p_CAOI))\n",
    "\n",
    "num_UM = []\n",
    "num_M  = []\n",
    "\n",
    "M_plot = np.array(plot_CAOI)\n",
    "\n",
    "for j in range(np.shape(M_plot)[1]):\n",
    "    count_UM = 0\n",
    "\n",
    "    for i in range(np.shape(M_plot)[0]):\n",
    "        for k in range(np.shape(M_plot)[2]):\n",
    "            if M_plot[i,j,k]>=-9:\n",
    "                count_UM = count_UM+1\n",
    "    num_UM.append(count_UM)\n",
    "\n",
    "for j in range(np.shape(M_plot)[1]):\n",
    "    count_M = 0\n",
    "\n",
    "    for i in range(np.shape(M_plot)[0]):\n",
    "        for k in range(np.shape(M_plot)[2]):\n",
    "            if M_plot[i,j,k]!=np.nan:\n",
    "                count_M = count_M+1\n",
    "    num_M.append(count_M)\n",
    "\n",
    "num_M = np.array(num_M)\n",
    "num_UM = np.array(num_UM)\n",
    "\n",
    "f = np.divide(num_UM,num_M)\n"
   ]
  },
  {
   "cell_type": "code",
   "execution_count": null,
   "id": "560e9d54-e8cc-4ef2-91d5-ac370fd9759d",
   "metadata": {},
   "outputs": [],
   "source": [
    "plt.clf()\n",
    "mpl.rcParams['figure.dpi'] = 100\n",
    "plt.gcf().set_size_inches(6.4, 4.8)\n",
    "plt.plot(p_mer_lat,f,color='blue',linestyle='dashed')\n",
    "plt.scatter(p_mer_lat,f,color='blue',label='Observations:MERRA2',marker='x')\n",
    "plt.xlabel('latitude')\n",
    "plt.title('CAO zonal mean ditribution: Winter')\n",
    "plt.legend()\n",
    "plt.savefig('../figures/final/winter_M_lats.png')"
   ]
  },
  {
   "cell_type": "code",
   "execution_count": null,
   "id": "9d67cd30-09ac-490b-b447-5bca659774b4",
   "metadata": {},
   "outputs": [],
   "source": [
    "plt.legend()\n",
    "plt.xlabel('latitude')\n",
    "plt.title('seasonal CAO zonal mean ditribution/for observations: MERRA2')\n",
    "plt.savefig('../figures/final/new_all_M_lats.png')"
   ]
  },
  {
   "cell_type": "code",
   "execution_count": null,
   "id": "5da34794-7871-4b0e-9ec3-9e3c3a6178f9",
   "metadata": {},
   "outputs": [],
   "source": [
    "plt.clf()\n",
    "mpl.rcParams['figure.dpi'] = 100\n",
    "plt.gcf().set_size_inches(6.4, 4.8)\n",
    "plt.title('seasonal CAO zonal mean ditribution\\nfor observations: MERRA2')\n",
    "plt.savefig('../figures/final/test.png')"
   ]
  },
  {
   "cell_type": "code",
   "execution_count": null,
   "id": "c28b7532-c13b-4be3-a1ad-e0164a58e0ea",
   "metadata": {},
   "outputs": [],
   "source": []
  },
  {
   "cell_type": "code",
   "execution_count": null,
   "id": "74414a49-abf4-4d6a-986a-c4605da7295e",
   "metadata": {},
   "outputs": [],
   "source": []
  },
  {
   "cell_type": "markdown",
   "id": "ccc3ff22-9e02-4a0a-bf8f-b5bb37efc233",
   "metadata": {},
   "source": [
    "### GCMs"
   ]
  },
  {
   "cell_type": "code",
   "execution_count": 12,
   "id": "f963013f-72fe-4bee-bade-9db2d6ef70b1",
   "metadata": {},
   "outputs": [],
   "source": [
    "time1=[2010, 1, 1]\n",
    "time2=[2010, 2, 28]"
   ]
  },
  {
   "cell_type": "code",
   "execution_count": 5,
   "id": "ab7b6743-5e41-4b9a-9348-0a5cff47d00f",
   "metadata": {},
   "outputs": [
    {
     "name": "stdout",
     "output_type": "stream",
     "text": [
      "CESM2   0\n"
     ]
    },
    {
     "name": "stderr",
     "output_type": "stream",
     "text": [
      "/glade/work/geethma/research/codes/myReadGCMsDaily.py:73: UserWarning: WARNING: missing_value not used since it\n",
      "cannot be safely cast to variable data type\n",
      "  data.extend(np.array(datai[ind1:ind2+1,:,:]))\n"
     ]
    },
    {
     "name": "stdout",
     "output_type": "stream",
     "text": [
      "done\n"
     ]
    }
   ],
   "source": [
    "test_num = 0\n",
    "for j in range(test_num,test_num+1):\n",
    "    print(modname[j],' ', str(j))\n",
    "    for i in varname:\n",
    "        locals()[i+'__'+str(j+1)] = read_var_mod('surface', modname[j], 'historical', i, time1, time2)\n",
    "\n",
    "    for k in pvarname:\n",
    "        locals()[k+'__'+str(j+1)] = read_var_mod('p_level', modname[j], 'historical', k, time1, time2)\n",
    "\n",
    "print('done')"
   ]
  },
  {
   "cell_type": "code",
   "execution_count": 6,
   "id": "1d0e857b-446b-4d7c-9247-ec9f0a65eafc",
   "metadata": {},
   "outputs": [],
   "source": [
    "# mm = len(modname)\n",
    "# for j in range(0,len(hiresmd)):\n",
    "#     print(hiresmd[j],' ', str(j))\n",
    "#     for i in varname:\n",
    "#         locals()[i+'__'+str(j+1+mm)] = read_var_hires('surface', hiresmd[j], 'highresSST-present', i, time1, time2)\n",
    "\n",
    "#     for k in pvarname:\n",
    "#         locals()[k+'__'+str(j+1+mm)] = read_var_hires('p_level', hiresmd[j], 'highresSST-present', k, time1, time2)\n",
    "\n",
    "# print('done')"
   ]
  },
  {
   "cell_type": "code",
   "execution_count": 6,
   "id": "b4889a2d-9d6b-4458-8fa3-b4e972eb8c64",
   "metadata": {},
   "outputs": [],
   "source": [
    "M_plot = []\n",
    "   "
   ]
  },
  {
   "cell_type": "code",
   "execution_count": 7,
   "id": "32271844-0f82-479c-8458-e616954c98e5",
   "metadata": {},
   "outputs": [
    {
     "name": "stdout",
     "output_type": "stream",
     "text": [
      "CESM2 0\n"
     ]
    },
    {
     "ename": "IndexError",
     "evalue": "too many indices for array: array is 1-dimensional, but 3 were indexed",
     "output_type": "error",
     "traceback": [
      "\u001b[0;31m---------------------------------------------------------------------------\u001b[0m",
      "\u001b[0;31mIndexError\u001b[0m                                Traceback (most recent call last)",
      "\u001b[0;32m/glade/scratch/geethma/ipykernel_55862/577021146.py\u001b[0m in \u001b[0;36m<module>\u001b[0;34m\u001b[0m\n\u001b[1;32m     28\u001b[0m         \u001b[0mlocals\u001b[0m\u001b[0;34m(\u001b[0m\u001b[0;34m)\u001b[0m\u001b[0;34m[\u001b[0m\u001b[0mj\u001b[0m\u001b[0;34m+\u001b[0m\u001b[0mstr\u001b[0m\u001b[0;34m(\u001b[0m\u001b[0mi\u001b[0m\u001b[0;34m+\u001b[0m\u001b[0;36m1\u001b[0m\u001b[0;34m)\u001b[0m\u001b[0;34m]\u001b[0m \u001b[0;34m=\u001b[0m \u001b[0mlocals\u001b[0m\u001b[0;34m(\u001b[0m\u001b[0;34m)\u001b[0m\u001b[0;34m[\u001b[0m\u001b[0mj\u001b[0m\u001b[0;34m+\u001b[0m\u001b[0;34m'__'\u001b[0m\u001b[0;34m+\u001b[0m\u001b[0mstr\u001b[0m\u001b[0;34m(\u001b[0m\u001b[0mi\u001b[0m\u001b[0;34m+\u001b[0m\u001b[0;36m1\u001b[0m\u001b[0;34m)\u001b[0m\u001b[0;34m]\u001b[0m\u001b[0;34m[\u001b[0m\u001b[0;36m4\u001b[0m\u001b[0;34m]\u001b[0m\u001b[0;34m\u001b[0m\u001b[0;34m\u001b[0m\u001b[0m\n\u001b[1;32m     29\u001b[0m         \u001b[0mlocals\u001b[0m\u001b[0;34m(\u001b[0m\u001b[0;34m)\u001b[0m\u001b[0;34m[\u001b[0m\u001b[0mj\u001b[0m\u001b[0;34m+\u001b[0m\u001b[0mstr\u001b[0m\u001b[0;34m(\u001b[0m\u001b[0mi\u001b[0m\u001b[0;34m+\u001b[0m\u001b[0;36m1\u001b[0m\u001b[0;34m)\u001b[0m\u001b[0;34m]\u001b[0m \u001b[0;34m=\u001b[0m \u001b[0mnp\u001b[0m\u001b[0;34m.\u001b[0m\u001b[0mma\u001b[0m\u001b[0;34m.\u001b[0m\u001b[0mfilled\u001b[0m\u001b[0;34m(\u001b[0m\u001b[0mlocals\u001b[0m\u001b[0;34m(\u001b[0m\u001b[0;34m)\u001b[0m\u001b[0;34m[\u001b[0m\u001b[0mj\u001b[0m\u001b[0;34m+\u001b[0m\u001b[0mstr\u001b[0m\u001b[0;34m(\u001b[0m\u001b[0mi\u001b[0m\u001b[0;34m+\u001b[0m\u001b[0;36m1\u001b[0m\u001b[0;34m)\u001b[0m\u001b[0;34m]\u001b[0m\u001b[0;34m,\u001b[0m \u001b[0mfill_value\u001b[0m\u001b[0;34m=\u001b[0m\u001b[0mnp\u001b[0m\u001b[0;34m.\u001b[0m\u001b[0mnan\u001b[0m\u001b[0;34m)\u001b[0m\u001b[0;34m\u001b[0m\u001b[0;34m\u001b[0m\u001b[0m\n\u001b[0;32m---> 30\u001b[0;31m         \u001b[0mlocals\u001b[0m\u001b[0;34m(\u001b[0m\u001b[0;34m)\u001b[0m\u001b[0;34m[\u001b[0m\u001b[0;34m'plot_'\u001b[0m\u001b[0;34m+\u001b[0m\u001b[0mj\u001b[0m\u001b[0;34m+\u001b[0m\u001b[0mstr\u001b[0m\u001b[0;34m(\u001b[0m\u001b[0mi\u001b[0m\u001b[0;34m+\u001b[0m\u001b[0;36m1\u001b[0m\u001b[0;34m)\u001b[0m\u001b[0;34m]\u001b[0m \u001b[0;34m=\u001b[0m \u001b[0mnp\u001b[0m\u001b[0;34m.\u001b[0m\u001b[0marray\u001b[0m\u001b[0;34m(\u001b[0m\u001b[0mnp\u001b[0m\u001b[0;34m.\u001b[0m\u001b[0mmultiply\u001b[0m\u001b[0;34m(\u001b[0m\u001b[0mmaskm\u001b[0m\u001b[0;34m,\u001b[0m\u001b[0mlocals\u001b[0m\u001b[0;34m(\u001b[0m\u001b[0;34m)\u001b[0m\u001b[0;34m[\u001b[0m\u001b[0mj\u001b[0m\u001b[0;34m+\u001b[0m\u001b[0mstr\u001b[0m\u001b[0;34m(\u001b[0m\u001b[0mi\u001b[0m\u001b[0;34m+\u001b[0m\u001b[0;36m1\u001b[0m\u001b[0;34m)\u001b[0m\u001b[0;34m]\u001b[0m\u001b[0;34m[\u001b[0m\u001b[0;34m:\u001b[0m\u001b[0;34m,\u001b[0m\u001b[0mlat_ind1\u001b[0m\u001b[0;34m[\u001b[0m\u001b[0;36m0\u001b[0m\u001b[0;34m]\u001b[0m\u001b[0;34m:\u001b[0m\u001b[0mlat_ind2\u001b[0m\u001b[0;34m[\u001b[0m\u001b[0;36m0\u001b[0m\u001b[0;34m]\u001b[0m\u001b[0;34m,\u001b[0m\u001b[0;34m:\u001b[0m\u001b[0;34m]\u001b[0m\u001b[0;34m)\u001b[0m\u001b[0;34m)\u001b[0m\u001b[0;34m\u001b[0m\u001b[0;34m\u001b[0m\u001b[0m\n\u001b[0m\u001b[1;32m     31\u001b[0m         \u001b[0mlocals\u001b[0m\u001b[0;34m(\u001b[0m\u001b[0;34m)\u001b[0m\u001b[0;34m[\u001b[0m\u001b[0;34m'grid_'\u001b[0m\u001b[0;34m+\u001b[0m\u001b[0mj\u001b[0m\u001b[0;34m+\u001b[0m\u001b[0mstr\u001b[0m\u001b[0;34m(\u001b[0m\u001b[0mi\u001b[0m\u001b[0;34m+\u001b[0m\u001b[0;36m1\u001b[0m\u001b[0;34m)\u001b[0m\u001b[0;34m]\u001b[0m \u001b[0;34m=\u001b[0m \u001b[0mlocals\u001b[0m\u001b[0;34m(\u001b[0m\u001b[0;34m)\u001b[0m\u001b[0;34m[\u001b[0m\u001b[0;34m'plot_'\u001b[0m\u001b[0;34m+\u001b[0m\u001b[0mj\u001b[0m\u001b[0;34m+\u001b[0m\u001b[0mstr\u001b[0m\u001b[0;34m(\u001b[0m\u001b[0mi\u001b[0m\u001b[0;34m+\u001b[0m\u001b[0;36m1\u001b[0m\u001b[0;34m)\u001b[0m\u001b[0;34m]\u001b[0m\u001b[0;34m\u001b[0m\u001b[0;34m\u001b[0m\u001b[0m\n\u001b[1;32m     32\u001b[0m         \u001b[0;31m#regrid_wght_wnans(lats,lon,locals()['plot_'+j+str(i+1)],lats_edges,lons_edges)[0]\u001b[0m\u001b[0;34m\u001b[0m\u001b[0;34m\u001b[0m\u001b[0m\n",
      "\u001b[0;31mIndexError\u001b[0m: too many indices for array: array is 1-dimensional, but 3 were indexed"
     ]
    }
   ],
   "source": [
    "for i in range(test_num,test_num+1): #l,mm+len(hiresmd)\n",
    "    if i<len(modname):\n",
    "        print(modname[i],str(i))\n",
    "    else:\n",
    "        print(hiresmd[i-mm],str(i))\n",
    "\n",
    "    for j in varname:\n",
    "        lat  = locals()[j+'__'+str(i+1)][0]\n",
    "        lon  = locals()[j+'__'+str(i+1)][1]\n",
    "        time = locals()[j+'__'+str(i+1)][2]\n",
    "\n",
    "        x_lat = np.array(lat)\n",
    "        lat_ind1 = np.where(x_lat == x_lat.flat[np.abs(x_lat - (latr1)).argmin()])[0]\n",
    "        lat_ind2 = np.where(x_lat == x_lat.flat[np.abs(x_lat - (latr2)).argmin()])[0]\n",
    "        lats = lat[lat_ind1[0]:lat_ind2[0]]\n",
    "\n",
    "        x_lon = lon\n",
    "        lon = np.array(lon)\n",
    "        lon[lon > 180] = lon[lon > 180]-360\n",
    "\n",
    "        maskm = np.ones((len(time),len(lats),len(lon)))\n",
    "\n",
    "        for a in range(len(lats)):\n",
    "            for b in range(len(lon)):\n",
    "                if globe.is_land(lats[a], lon[b])==True:\n",
    "                    maskm[:,a,b] = math.nan\n",
    "        #print(j)\n",
    "        locals()[j+str(i+1)] = locals()[j+'__'+str(i+1)][4]\n",
    "        locals()[j+str(i+1)] = np.ma.filled(locals()[j+str(i+1)], fill_value=np.nan)\n",
    "        locals()['plot_'+j+str(i+1)] = np.array(np.multiply(maskm,locals()[j+str(i+1)][:,lat_ind1[0]:lat_ind2[0],:]))\n",
    "        locals()['grid_'+j+str(i+1)] = locals()['plot_'+j+str(i+1)]\n",
    "        #regrid_wght_wnans(lats,lon,locals()['plot_'+j+str(i+1)],lats_edges,lons_edges)[0]\n",
    "\n",
    "    for k in pvarname:\n",
    "        #print(k)\n",
    "        lat  = locals()[k+'__'+str(i+1)][0]\n",
    "        lon  = locals()[k+'__'+str(i+1)][1]\n",
    "        time = locals()[k+'__'+str(i+1)][2]\n",
    "\n",
    "        x_lat = np.array(lat)\n",
    "        lat_ind1 = np.where(x_lat == x_lat.flat[np.abs(x_lat - (latr1)).argmin()])[0]\n",
    "        lat_ind2 = np.where(x_lat == x_lat.flat[np.abs(x_lat - (latr2)).argmin()])[0]\n",
    "        lats = lat[lat_ind1[0]:lat_ind2[0]]\n",
    "\n",
    "        x_lon = lon\n",
    "        lon = np.array(lon)\n",
    "        lon[lon > 180] = lon[lon > 180]-360\n",
    "\n",
    "        maskm = np.ones((len(time),len(lats),len(lon)))\n",
    "\n",
    "        for a in range(len(lats)):\n",
    "            for b in range(len(lon)):\n",
    "                if globe.is_land(lats[a], lon[b])==True:\n",
    "                    maskm[:,a,b] = math.nan\n",
    "        locals()['plot_levels'+str(i+1)] = locals()['ta__'+str(i+1)][3]\n",
    "        locals()['grid_'+k+str(i+1)] = []\n",
    "\n",
    "        levels = locals()['plot_levels'+str(i+1)]\n",
    "\n",
    "        for p in range(len(levels)):\n",
    "            if levels[p] == 70000:\n",
    "                #print(levels[p])\n",
    "                locals()[k+str(i+1)] = locals()[k+'__'+str(i+1)][4]\n",
    "                locals()[k+str(i+1)] = np.ma.filled(locals()[k+str(i+1)], fill_value=np.nan)\n",
    "                temp_700   = np.array(np.multiply(maskm,locals()[k+str(i+1)][:,p,lat_ind1[0]:lat_ind2[0],:]))\n",
    "                # regrid     = regrid_wght_wnans(lats,lon,temp_700,lats_edges,lons_edges)\n",
    "                # grid_t_700 = regrid[0]\n",
    "                # lat_n      = regrid[2][:,0]\n",
    "                break;\n",
    "\n",
    "    theta_700 = temp_700*(100000/70000)**con\n",
    "    # theta_700 = grid_t_700*(100000/70000)**con\n",
    "    theta_t2m = locals()['grid_tas'+str(i+1)]*(100000/locals()['grid_psl'+str(i+1)])**con\n",
    "\n",
    "    t = min(len(theta_t2m),len(theta_700))\n",
    "    M_700  = theta_t2m[0:t,:,:] - theta_700[0:t,:,:]\n",
    "    M_plot.extend(M_700)\n",
    "\n",
    "   "
   ]
  },
  {
   "cell_type": "code",
   "execution_count": null,
   "id": "80238b6a-e21b-4abd-8b2f-716d129016e3",
   "metadata": {},
   "outputs": [],
   "source": [
    "num_UM = []\n",
    "num_M  = []"
   ]
  },
  {
   "cell_type": "code",
   "execution_count": null,
   "id": "e6c8f81b-c372-466e-886c-d55313a02fc3",
   "metadata": {},
   "outputs": [],
   "source": [
    "M_plot = np.array(M_plot)\n",
    "\n",
    "for j in range(np.shape(M_plot)[1]):\n",
    "    count_UM = 0\n",
    "    \n",
    "    for i in range(np.shape(M_plot)[0]):\n",
    "        for k in range(np.shape(M_plot)[2]):\n",
    "            if M_plot[i,j,k]>=-9:\n",
    "                count_UM = count_UM+1\n",
    "    num_UM.append(count_UM)"
   ]
  },
  {
   "cell_type": "code",
   "execution_count": null,
   "id": "f3b1a182-072a-4739-b1cd-0de01bc81f05",
   "metadata": {},
   "outputs": [],
   "source": [
    "for j in range(np.shape(M_plot)[1]):\n",
    "    count_M = 0\n",
    "    \n",
    "    for i in range(np.shape(M_plot)[0]):\n",
    "        for k in range(np.shape(M_plot)[2]):\n",
    "            if M_plot[i,j,k]!=np.nan:\n",
    "                count_M = count_M+1\n",
    "    num_M.append(count_M)\n"
   ]
  },
  {
   "cell_type": "code",
   "execution_count": null,
   "id": "34fe2a9b-b2fa-4bac-921c-7ac481221dcd",
   "metadata": {},
   "outputs": [],
   "source": [
    "num_M = np.array(num_M)\n",
    "num_UM = np.array(num_UM)"
   ]
  },
  {
   "cell_type": "code",
   "execution_count": null,
   "id": "aa61efe8-3ee4-45ad-9f50-8941a604415a",
   "metadata": {},
   "outputs": [],
   "source": [
    "f = np.divide(num_UM,num_M)"
   ]
  },
  {
   "cell_type": "code",
   "execution_count": null,
   "id": "3bbac885-053d-4e58-8eb6-abda8c419427",
   "metadata": {},
   "outputs": [],
   "source": [
    "plt.plot(lats,f,color=use_colors[test_num],label=modname[test_num],linestyle='solid')"
   ]
  },
  {
   "cell_type": "code",
   "execution_count": null,
   "id": "514ba9f4-3ceb-4731-92ca-ee14a53db5c3",
   "metadata": {},
   "outputs": [],
   "source": [
    "# plt.plot(lats,f,color=use_colors[test_num+3],label='autumn',linestyle='dashed')"
   ]
  },
  {
   "cell_type": "code",
   "execution_count": null,
   "id": "652c1b22-f68c-48bc-a2e6-6d7550bfd717",
   "metadata": {},
   "outputs": [],
   "source": [
    "plt.legend()\n",
    "plt.xlabel('latitude')\n",
    "plt.title('seasonal CAO zonal mean ditribution\\n for cesm2')\n",
    "# plt.savefig('../figures/final/cesm2_M_lats.png')"
   ]
  },
  {
   "cell_type": "code",
   "execution_count": null,
   "id": "beeab88a-3c12-4c3e-a705-b5a963501f06",
   "metadata": {},
   "outputs": [],
   "source": [
    "DJF = []\n",
    "DJF_lats = []"
   ]
  },
  {
   "cell_type": "code",
   "execution_count": 1,
   "id": "92f61ccb-90c6-4225-b91c-7f688ca9909e",
   "metadata": {},
   "outputs": [],
   "source": [
    "#Append all models DJF data to DJF"
   ]
  },
  {
   "cell_type": "code",
   "execution_count": null,
   "id": "15e0cdf9-f81d-47d7-a5d8-3de43af84412",
   "metadata": {},
   "outputs": [],
   "source": [
    "count = 1000\n",
    "for i in range(len(DJF_lats_warm)):\n",
    "    temp  = len(DJF_lats_warm[i])\n",
    "    count = min(count,temp)\n",
    "        "
   ]
  },
  {
   "cell_type": "code",
   "execution_count": null,
   "id": "e58c9529-95d6-4df3-a7cb-c2d336ffbee0",
   "metadata": {},
   "outputs": [],
   "source": [
    "warm_mean = np.nanmean(DJF_warm,axis=0)"
   ]
  },
  {
   "cell_type": "code",
   "execution_count": null,
   "id": "523931f3-ef47-402f-ae35-ccefa8c063dc",
   "metadata": {},
   "outputs": [],
   "source": [
    "np.shape(DJF_warm[0])"
   ]
  },
  {
   "cell_type": "code",
   "execution_count": null,
   "id": "4246fd3e-eb17-4c94-a952-9fe38fd9688c",
   "metadata": {},
   "outputs": [],
   "source": [
    "count = 30"
   ]
  },
  {
   "cell_type": "code",
   "execution_count": null,
   "id": "320390f6-e5df-4247-ab27-feafd010079d",
   "metadata": {},
   "outputs": [],
   "source": [
    "from scipy import stats\n",
    "warm_new = []\n",
    "warm_lats_new = []\n",
    "\n",
    "for i in range(len(DJF_lats_warm)):\n",
    "    bin_means, bin_edges, binnumber       = stats.binned_statistic(DJF_lats_warm[i], DJF_warm[i],      'mean', bins=count, range=(29.,80.5))\n",
    "    bin_means_c, bin_edges_c, binnumber_c = stats.binned_statistic(DJF_lats_warm[i], DJF_lats_warm[i], 'mean', bins=count, range=(29.,80.5))\n",
    "    warm_new.append(bin_means)\n",
    "    warm_lats_new.append(bin_means_c)\n",
    "    "
   ]
  },
  {
   "cell_type": "code",
   "execution_count": null,
   "id": "f1534241-ceff-49c7-941b-6d7b9d197ce1",
   "metadata": {},
   "outputs": [],
   "source": [
    "from scipy import stats\n",
    "hist_new = []\n",
    "hist_lats_new = []\n",
    "\n",
    "for i in range(len(DJF_lats)):\n",
    "    bin_means, bin_edges, binnumber       = stats.binned_statistic(DJF_lats[i], DJF[i],      'mean', bins=count, range=(29.,80.5))\n",
    "    bin_means_c, bin_edges_c, binnumber_c = stats.binned_statistic(DJF_lats[i], DJF_lats[i], 'mean', bins=count, range=(29.,80.5))\n",
    "    hist_new.append(bin_means)\n",
    "    hist_lats_new.append(bin_means_c)\n",
    "    "
   ]
  },
  {
   "cell_type": "code",
   "execution_count": null,
   "id": "53337a4f-3e40-42ef-aa9a-fe0567aa3ce8",
   "metadata": {},
   "outputs": [],
   "source": [
    "hist_mean = np.nanmean(hist_new,axis=0)\n",
    "hist_lats_mean = np.nanmean(hist_lats_new,axis=0)"
   ]
  },
  {
   "cell_type": "code",
   "execution_count": null,
   "id": "276d94eb-472c-4c7c-9aa3-cf37a51304c2",
   "metadata": {},
   "outputs": [],
   "source": [
    "warm_mean = np.nanmean(warm_new,axis=0)\n",
    "warm_lats_mean = np.nanmean(warm_lats_new,axis=0)"
   ]
  },
  {
   "cell_type": "code",
   "execution_count": null,
   "id": "96cdbf8c-5a90-4f1c-8efe-970fc31ccf05",
   "metadata": {},
   "outputs": [],
   "source": [
    "plt.plot(warm_lats_mean, warm_mean, linestyle='dashed', color='red', label='warm-mean line',linewidth=2)\n",
    "plt.plot(hist_lats_mean, hist_mean, linestyle='dashed', color='darkblue', label='historical-mean line',linewidth=2)\n",
    "plt.legend()\n",
    "plt.xlabel('latitude')\n",
    "plt.title('seasonal CAO zonal mean ditribution\\nhistorical and warming')\n",
    "plt.savefig('../figures/final/warming_M_lats.png')"
   ]
  },
  {
   "cell_type": "code",
   "execution_count": null,
   "id": "121664ef-8903-427e-81e4-8bbdc285980b",
   "metadata": {},
   "outputs": [],
   "source": []
  },
  {
   "cell_type": "code",
   "execution_count": null,
   "id": "432deff5-1586-4232-8d67-6d51b4c093e2",
   "metadata": {},
   "outputs": [],
   "source": [
    "red_colors = [ 'rosybrown', 'lightcoral', 'indianred', 'brown', 'firebrick', 'maroon', 'darkred', 'red', 'mistyrose', 'salmon', 'tomato', 'darksalmon', \n",
    "              'coral', 'orangered', 'lightsalmon', 'sienna', 'seashell', 'chocolate', 'saddlebrown', 'sandybrown', 'peachpuff', 'peru', 'linen', 'bisque', \n",
    "              'darkorange', 'burlywood', 'antiquewhite', 'tan', 'navajowhite', 'blanchedalmond']"
   ]
  },
  {
   "cell_type": "code",
   "execution_count": null,
   "id": "8e0ae650-700b-4bea-8e71-032394956049",
   "metadata": {},
   "outputs": [],
   "source": [
    "blue_colors = [ 'lavender', 'midnightblue', 'navy', 'darkblue', 'mediumblue', 'blue', 'slateblue', \n",
    "               'darkslateblue', 'mediumslateblue', 'mediumpurple', 'rebeccapurple', 'blueviolet', 'indigo', \n",
    "               'darkorchid', 'darkviolet', 'mediumorchid', 'thistle', 'plum', 'violet', 'purple']"
   ]
  },
  {
   "cell_type": "code",
   "execution_count": null,
   "id": "eacf7520-ca1a-4719-8795-7cc080bc7576",
   "metadata": {},
   "outputs": [],
   "source": [
    "for i in range(len(DJF_lats)):\n",
    "    plt.plot(warm_lats_new[i], warm_new[i], color=red_colors[i], alpha=0.2)\n",
    "    plt.plot(hist_lats_new[i], hist_new[i], color=blue_colors[i], alpha=0.2)\n",
    "plt.plot(warm_lats_mean, warm_mean, linestyle='dashed', color='red', label='warm-mean line',linewidth=2)\n",
    "plt.plot(hist_lats_mean, hist_mean, linestyle='dashed', color='darkblue', label='historical-mean line',linewidth=2)\n",
    "plt.legend()\n",
    "plt.xlabel('latitude')\n",
    "plt.title('seasonal CAO zonal mean ditribution\\nhistorical and warming')\n",
    "plt.savefig('../figures/final/warming_M_lats.png')   "
   ]
  },
  {
   "cell_type": "code",
   "execution_count": null,
   "id": "fc38d1b4-0e11-40ec-8514-5d73fd898f89",
   "metadata": {},
   "outputs": [],
   "source": []
  },
  {
   "cell_type": "code",
   "execution_count": null,
   "id": "d25b27dc-1b5e-4a65-938c-f0c0d6f3bf7a",
   "metadata": {},
   "outputs": [],
   "source": [
    "np.savez('/glade/work/geethma/research/npzfilesn/CAO_frequency.npz', DJF=DJF, DJF_lats=DJF_lats, DJF_lats_mean=DJF_lats_mean, \n",
    "                    DJF_mean=DJF_mean)\n",
    "\n",
    "#u10_monthdateyear.npz"
   ]
  },
  {
   "cell_type": "code",
   "execution_count": null,
   "id": "02a45f8c-6bca-4b85-a3c7-1e4a032bb160",
   "metadata": {},
   "outputs": [],
   "source": [
    "fn = glob.glob('/glade/work/geethma/research/npzfilesn/CAO_frequency.npz')"
   ]
  },
  {
   "cell_type": "code",
   "execution_count": null,
   "id": "da2cbbe1-2f7c-421f-8873-bdd279350f1e",
   "metadata": {},
   "outputs": [],
   "source": [
    "d = np.load(fn[0])\n",
    "DJF = np.array(d['DJF'],allow_pickle=True)\n"
   ]
  },
  {
   "cell_type": "code",
   "execution_count": null,
   "id": "e304d558-35a1-4f49-a61d-a16beda713ae",
   "metadata": {},
   "outputs": [],
   "source": [
    "import csv\n",
    "\n",
    "# open the file in the write mode\n",
    "f = open('/glade/work/geethma/research/codes/csv_file', 'w')\n",
    "\n",
    "# create the csv writer\n",
    "writer = csv.writer(f)\n",
    "\n",
    "# write a row to the csv file\n",
    "writer.writerow(DJF_lats_mean)\n",
    "\n",
    "# close the file\n",
    "f.close()"
   ]
  },
  {
   "cell_type": "code",
   "execution_count": null,
   "id": "8189ce32-4ed4-4403-9d68-a07eff6a01ab",
   "metadata": {},
   "outputs": [],
   "source": [
    "import csv\n",
    "\n",
    "header = ['DJF','DJF_lats']\n",
    "\n",
    "with open('csv/hist_DJF.csv', 'w', encoding='UTF8') as f:\n",
    "    # create the csv writer\n",
    "    writer = csv.writer(f)\n",
    "    writer.writerow(header)\n",
    "\n",
    "    # write a row to the csv file\n",
    "    writer.writerow(DJF)\n",
    "    writer.writerow(DJF_lats)"
   ]
  },
  {
   "cell_type": "code",
   "execution_count": null,
   "id": "b598bfb8-13a6-436a-b422-53c1fe30bee7",
   "metadata": {},
   "outputs": [],
   "source": [
    "import pandas as pd\n",
    "url = '/glade/work/geethma/research/codes/csv_file'\n",
    "data = pd.read_csv(url)"
   ]
  },
  {
   "cell_type": "code",
   "execution_count": null,
   "id": "51af55e8-fb2d-4d82-8938-8781e7ff8f7f",
   "metadata": {},
   "outputs": [],
   "source": []
  },
  {
   "cell_type": "code",
   "execution_count": null,
   "id": "af9b8089-3feb-4798-b9ca-7a295b48ea2e",
   "metadata": {},
   "outputs": [],
   "source": []
  },
  {
   "cell_type": "code",
   "execution_count": null,
   "id": "a7e80063-5ea2-4480-85a7-473ccf96d2ff",
   "metadata": {},
   "outputs": [],
   "source": []
  },
  {
   "cell_type": "code",
   "execution_count": null,
   "id": "e1dbf34b-790d-448e-a076-de9ea6bc63e3",
   "metadata": {},
   "outputs": [],
   "source": []
  },
  {
   "cell_type": "code",
   "execution_count": 23,
   "id": "f9053aa4-ffb1-4ba9-80ff-1bdea2c844f4",
   "metadata": {},
   "outputs": [],
   "source": [
    "fn = '/glade/scratch/geethma/cmip6/surface/CMIP6.CMIP.NCAR.CESM2-WACCM-FV2.abrupt-4xCO2.r1i1p1f1.day.tas.gn.v20200403.tas_day_CESM2-WACCM-FV2_abrupt-4xCO2_r1i1p1f1_gn_01210101-01310110.nc'"
   ]
  },
  {
   "cell_type": "code",
   "execution_count": 24,
   "id": "45f6b5bc-0523-4204-9ab2-4b8f6803db22",
   "metadata": {},
   "outputs": [
    {
     "name": "stderr",
     "output_type": "stream",
     "text": [
      "/glade/u/home/geethma/.local/lib/python3.9/site-packages/xarray/conventions.py:512: SerializationWarning: variable 'tas' has multiple fill values {1e+20, 1e+20}, decoding all values to NaN.\n",
      "  new_vars[k] = decode_cf_variable(\n"
     ]
    }
   ],
   "source": [
    "data = xr.open_dataset(fn)"
   ]
  },
  {
   "cell_type": "code",
   "execution_count": 19,
   "id": "e8765826-5ab8-4600-9ca9-aa19c9a510da",
   "metadata": {},
   "outputs": [],
   "source": [
    "time = data.time"
   ]
  },
  {
   "cell_type": "code",
   "execution_count": 20,
   "id": "c4af86e1-ea05-44dc-a31a-904b9f2ef1d3",
   "metadata": {},
   "outputs": [
    {
     "data": {
      "text/html": [
       "<div><svg style=\"position: absolute; width: 0; height: 0; overflow: hidden\">\n",
       "<defs>\n",
       "<symbol id=\"icon-database\" viewBox=\"0 0 32 32\">\n",
       "<path d=\"M16 0c-8.837 0-16 2.239-16 5v4c0 2.761 7.163 5 16 5s16-2.239 16-5v-4c0-2.761-7.163-5-16-5z\"></path>\n",
       "<path d=\"M16 17c-8.837 0-16-2.239-16-5v6c0 2.761 7.163 5 16 5s16-2.239 16-5v-6c0 2.761-7.163 5-16 5z\"></path>\n",
       "<path d=\"M16 26c-8.837 0-16-2.239-16-5v6c0 2.761 7.163 5 16 5s16-2.239 16-5v-6c0 2.761-7.163 5-16 5z\"></path>\n",
       "</symbol>\n",
       "<symbol id=\"icon-file-text2\" viewBox=\"0 0 32 32\">\n",
       "<path d=\"M28.681 7.159c-0.694-0.947-1.662-2.053-2.724-3.116s-2.169-2.030-3.116-2.724c-1.612-1.182-2.393-1.319-2.841-1.319h-15.5c-1.378 0-2.5 1.121-2.5 2.5v27c0 1.378 1.122 2.5 2.5 2.5h23c1.378 0 2.5-1.122 2.5-2.5v-19.5c0-0.448-0.137-1.23-1.319-2.841zM24.543 5.457c0.959 0.959 1.712 1.825 2.268 2.543h-4.811v-4.811c0.718 0.556 1.584 1.309 2.543 2.268zM28 29.5c0 0.271-0.229 0.5-0.5 0.5h-23c-0.271 0-0.5-0.229-0.5-0.5v-27c0-0.271 0.229-0.5 0.5-0.5 0 0 15.499-0 15.5 0v7c0 0.552 0.448 1 1 1h7v19.5z\"></path>\n",
       "<path d=\"M23 26h-14c-0.552 0-1-0.448-1-1s0.448-1 1-1h14c0.552 0 1 0.448 1 1s-0.448 1-1 1z\"></path>\n",
       "<path d=\"M23 22h-14c-0.552 0-1-0.448-1-1s0.448-1 1-1h14c0.552 0 1 0.448 1 1s-0.448 1-1 1z\"></path>\n",
       "<path d=\"M23 18h-14c-0.552 0-1-0.448-1-1s0.448-1 1-1h14c0.552 0 1 0.448 1 1s-0.448 1-1 1z\"></path>\n",
       "</symbol>\n",
       "</defs>\n",
       "</svg>\n",
       "<style>/* CSS stylesheet for displaying xarray objects in jupyterlab.\n",
       " *\n",
       " */\n",
       "\n",
       ":root {\n",
       "  --xr-font-color0: var(--jp-content-font-color0, rgba(0, 0, 0, 1));\n",
       "  --xr-font-color2: var(--jp-content-font-color2, rgba(0, 0, 0, 0.54));\n",
       "  --xr-font-color3: var(--jp-content-font-color3, rgba(0, 0, 0, 0.38));\n",
       "  --xr-border-color: var(--jp-border-color2, #e0e0e0);\n",
       "  --xr-disabled-color: var(--jp-layout-color3, #bdbdbd);\n",
       "  --xr-background-color: var(--jp-layout-color0, white);\n",
       "  --xr-background-color-row-even: var(--jp-layout-color1, white);\n",
       "  --xr-background-color-row-odd: var(--jp-layout-color2, #eeeeee);\n",
       "}\n",
       "\n",
       "html[theme=dark],\n",
       "body.vscode-dark {\n",
       "  --xr-font-color0: rgba(255, 255, 255, 1);\n",
       "  --xr-font-color2: rgba(255, 255, 255, 0.54);\n",
       "  --xr-font-color3: rgba(255, 255, 255, 0.38);\n",
       "  --xr-border-color: #1F1F1F;\n",
       "  --xr-disabled-color: #515151;\n",
       "  --xr-background-color: #111111;\n",
       "  --xr-background-color-row-even: #111111;\n",
       "  --xr-background-color-row-odd: #313131;\n",
       "}\n",
       "\n",
       ".xr-wrap {\n",
       "  display: block !important;\n",
       "  min-width: 300px;\n",
       "  max-width: 700px;\n",
       "}\n",
       "\n",
       ".xr-text-repr-fallback {\n",
       "  /* fallback to plain text repr when CSS is not injected (untrusted notebook) */\n",
       "  display: none;\n",
       "}\n",
       "\n",
       ".xr-header {\n",
       "  padding-top: 6px;\n",
       "  padding-bottom: 6px;\n",
       "  margin-bottom: 4px;\n",
       "  border-bottom: solid 1px var(--xr-border-color);\n",
       "}\n",
       "\n",
       ".xr-header > div,\n",
       ".xr-header > ul {\n",
       "  display: inline;\n",
       "  margin-top: 0;\n",
       "  margin-bottom: 0;\n",
       "}\n",
       "\n",
       ".xr-obj-type,\n",
       ".xr-array-name {\n",
       "  margin-left: 2px;\n",
       "  margin-right: 10px;\n",
       "}\n",
       "\n",
       ".xr-obj-type {\n",
       "  color: var(--xr-font-color2);\n",
       "}\n",
       "\n",
       ".xr-sections {\n",
       "  padding-left: 0 !important;\n",
       "  display: grid;\n",
       "  grid-template-columns: 150px auto auto 1fr 20px 20px;\n",
       "}\n",
       "\n",
       ".xr-section-item {\n",
       "  display: contents;\n",
       "}\n",
       "\n",
       ".xr-section-item input {\n",
       "  display: none;\n",
       "}\n",
       "\n",
       ".xr-section-item input + label {\n",
       "  color: var(--xr-disabled-color);\n",
       "}\n",
       "\n",
       ".xr-section-item input:enabled + label {\n",
       "  cursor: pointer;\n",
       "  color: var(--xr-font-color2);\n",
       "}\n",
       "\n",
       ".xr-section-item input:enabled + label:hover {\n",
       "  color: var(--xr-font-color0);\n",
       "}\n",
       "\n",
       ".xr-section-summary {\n",
       "  grid-column: 1;\n",
       "  color: var(--xr-font-color2);\n",
       "  font-weight: 500;\n",
       "}\n",
       "\n",
       ".xr-section-summary > span {\n",
       "  display: inline-block;\n",
       "  padding-left: 0.5em;\n",
       "}\n",
       "\n",
       ".xr-section-summary-in:disabled + label {\n",
       "  color: var(--xr-font-color2);\n",
       "}\n",
       "\n",
       ".xr-section-summary-in + label:before {\n",
       "  display: inline-block;\n",
       "  content: '►';\n",
       "  font-size: 11px;\n",
       "  width: 15px;\n",
       "  text-align: center;\n",
       "}\n",
       "\n",
       ".xr-section-summary-in:disabled + label:before {\n",
       "  color: var(--xr-disabled-color);\n",
       "}\n",
       "\n",
       ".xr-section-summary-in:checked + label:before {\n",
       "  content: '▼';\n",
       "}\n",
       "\n",
       ".xr-section-summary-in:checked + label > span {\n",
       "  display: none;\n",
       "}\n",
       "\n",
       ".xr-section-summary,\n",
       ".xr-section-inline-details {\n",
       "  padding-top: 4px;\n",
       "  padding-bottom: 4px;\n",
       "}\n",
       "\n",
       ".xr-section-inline-details {\n",
       "  grid-column: 2 / -1;\n",
       "}\n",
       "\n",
       ".xr-section-details {\n",
       "  display: none;\n",
       "  grid-column: 1 / -1;\n",
       "  margin-bottom: 5px;\n",
       "}\n",
       "\n",
       ".xr-section-summary-in:checked ~ .xr-section-details {\n",
       "  display: contents;\n",
       "}\n",
       "\n",
       ".xr-array-wrap {\n",
       "  grid-column: 1 / -1;\n",
       "  display: grid;\n",
       "  grid-template-columns: 20px auto;\n",
       "}\n",
       "\n",
       ".xr-array-wrap > label {\n",
       "  grid-column: 1;\n",
       "  vertical-align: top;\n",
       "}\n",
       "\n",
       ".xr-preview {\n",
       "  color: var(--xr-font-color3);\n",
       "}\n",
       "\n",
       ".xr-array-preview,\n",
       ".xr-array-data {\n",
       "  padding: 0 5px !important;\n",
       "  grid-column: 2;\n",
       "}\n",
       "\n",
       ".xr-array-data,\n",
       ".xr-array-in:checked ~ .xr-array-preview {\n",
       "  display: none;\n",
       "}\n",
       "\n",
       ".xr-array-in:checked ~ .xr-array-data,\n",
       ".xr-array-preview {\n",
       "  display: inline-block;\n",
       "}\n",
       "\n",
       ".xr-dim-list {\n",
       "  display: inline-block !important;\n",
       "  list-style: none;\n",
       "  padding: 0 !important;\n",
       "  margin: 0;\n",
       "}\n",
       "\n",
       ".xr-dim-list li {\n",
       "  display: inline-block;\n",
       "  padding: 0;\n",
       "  margin: 0;\n",
       "}\n",
       "\n",
       ".xr-dim-list:before {\n",
       "  content: '(';\n",
       "}\n",
       "\n",
       ".xr-dim-list:after {\n",
       "  content: ')';\n",
       "}\n",
       "\n",
       ".xr-dim-list li:not(:last-child):after {\n",
       "  content: ',';\n",
       "  padding-right: 5px;\n",
       "}\n",
       "\n",
       ".xr-has-index {\n",
       "  font-weight: bold;\n",
       "}\n",
       "\n",
       ".xr-var-list,\n",
       ".xr-var-item {\n",
       "  display: contents;\n",
       "}\n",
       "\n",
       ".xr-var-item > div,\n",
       ".xr-var-item label,\n",
       ".xr-var-item > .xr-var-name span {\n",
       "  background-color: var(--xr-background-color-row-even);\n",
       "  margin-bottom: 0;\n",
       "}\n",
       "\n",
       ".xr-var-item > .xr-var-name:hover span {\n",
       "  padding-right: 5px;\n",
       "}\n",
       "\n",
       ".xr-var-list > li:nth-child(odd) > div,\n",
       ".xr-var-list > li:nth-child(odd) > label,\n",
       ".xr-var-list > li:nth-child(odd) > .xr-var-name span {\n",
       "  background-color: var(--xr-background-color-row-odd);\n",
       "}\n",
       "\n",
       ".xr-var-name {\n",
       "  grid-column: 1;\n",
       "}\n",
       "\n",
       ".xr-var-dims {\n",
       "  grid-column: 2;\n",
       "}\n",
       "\n",
       ".xr-var-dtype {\n",
       "  grid-column: 3;\n",
       "  text-align: right;\n",
       "  color: var(--xr-font-color2);\n",
       "}\n",
       "\n",
       ".xr-var-preview {\n",
       "  grid-column: 4;\n",
       "}\n",
       "\n",
       ".xr-var-name,\n",
       ".xr-var-dims,\n",
       ".xr-var-dtype,\n",
       ".xr-preview,\n",
       ".xr-attrs dt {\n",
       "  white-space: nowrap;\n",
       "  overflow: hidden;\n",
       "  text-overflow: ellipsis;\n",
       "  padding-right: 10px;\n",
       "}\n",
       "\n",
       ".xr-var-name:hover,\n",
       ".xr-var-dims:hover,\n",
       ".xr-var-dtype:hover,\n",
       ".xr-attrs dt:hover {\n",
       "  overflow: visible;\n",
       "  width: auto;\n",
       "  z-index: 1;\n",
       "}\n",
       "\n",
       ".xr-var-attrs,\n",
       ".xr-var-data {\n",
       "  display: none;\n",
       "  background-color: var(--xr-background-color) !important;\n",
       "  padding-bottom: 5px !important;\n",
       "}\n",
       "\n",
       ".xr-var-attrs-in:checked ~ .xr-var-attrs,\n",
       ".xr-var-data-in:checked ~ .xr-var-data {\n",
       "  display: block;\n",
       "}\n",
       "\n",
       ".xr-var-data > table {\n",
       "  float: right;\n",
       "}\n",
       "\n",
       ".xr-var-name span,\n",
       ".xr-var-data,\n",
       ".xr-attrs {\n",
       "  padding-left: 25px !important;\n",
       "}\n",
       "\n",
       ".xr-attrs,\n",
       ".xr-var-attrs,\n",
       ".xr-var-data {\n",
       "  grid-column: 1 / -1;\n",
       "}\n",
       "\n",
       "dl.xr-attrs {\n",
       "  padding: 0;\n",
       "  margin: 0;\n",
       "  display: grid;\n",
       "  grid-template-columns: 125px auto;\n",
       "}\n",
       "\n",
       ".xr-attrs dt,\n",
       ".xr-attrs dd {\n",
       "  padding: 0;\n",
       "  margin: 0;\n",
       "  float: left;\n",
       "  padding-right: 10px;\n",
       "  width: auto;\n",
       "}\n",
       "\n",
       ".xr-attrs dt {\n",
       "  font-weight: normal;\n",
       "  grid-column: 1;\n",
       "}\n",
       "\n",
       ".xr-attrs dt:hover span {\n",
       "  display: inline-block;\n",
       "  background: var(--xr-background-color);\n",
       "  padding-right: 10px;\n",
       "}\n",
       "\n",
       ".xr-attrs dd {\n",
       "  grid-column: 2;\n",
       "  white-space: pre-wrap;\n",
       "  word-break: break-all;\n",
       "}\n",
       "\n",
       ".xr-icon-database,\n",
       ".xr-icon-file-text2 {\n",
       "  display: inline-block;\n",
       "  vertical-align: middle;\n",
       "  width: 1em;\n",
       "  height: 1.5em !important;\n",
       "  stroke-width: 0;\n",
       "  stroke: currentColor;\n",
       "  fill: currentColor;\n",
       "}\n",
       "</style><pre class='xr-text-repr-fallback'>&lt;xarray.DataArray &#x27;time&#x27; (time: 3661)&gt;\n",
       "array([cftime.DatetimeNoLeap(140, 12, 22, 0, 0, 0, 0, has_year_zero=True),\n",
       "       cftime.DatetimeNoLeap(140, 12, 23, 0, 0, 0, 0, has_year_zero=True),\n",
       "       cftime.DatetimeNoLeap(140, 12, 24, 0, 0, 0, 0, has_year_zero=True), ...,\n",
       "       cftime.DatetimeNoLeap(150, 12, 30, 0, 0, 0, 0, has_year_zero=True),\n",
       "       cftime.DatetimeNoLeap(150, 12, 31, 0, 0, 0, 0, has_year_zero=True),\n",
       "       cftime.DatetimeNoLeap(151, 1, 1, 0, 0, 0, 0, has_year_zero=True)],\n",
       "      dtype=object)\n",
       "Coordinates:\n",
       "  * time     (time) object 0140-12-22 00:00:00 ... 0151-01-01 00:00:00\n",
       "Attributes:\n",
       "    axis:           T\n",
       "    bounds:         time_bnds\n",
       "    standard_name:  time\n",
       "    title:          time\n",
       "    type:           double</pre><div class='xr-wrap' style='display:none'><div class='xr-header'><div class='xr-obj-type'>xarray.DataArray</div><div class='xr-array-name'>'time'</div><ul class='xr-dim-list'><li><span class='xr-has-index'>time</span>: 3661</li></ul></div><ul class='xr-sections'><li class='xr-section-item'><div class='xr-array-wrap'><input id='section-f5840c30-d9a9-4bc3-8a5d-7d41ef41acd6' class='xr-array-in' type='checkbox' checked><label for='section-f5840c30-d9a9-4bc3-8a5d-7d41ef41acd6' title='Show/hide data repr'><svg class='icon xr-icon-database'><use xlink:href='#icon-database'></use></svg></label><div class='xr-array-preview xr-preview'><span>0140-12-22 00:00:00 0140-12-23 00:00:00 ... 0151-01-01 00:00:00</span></div><div class='xr-array-data'><pre>array([cftime.DatetimeNoLeap(140, 12, 22, 0, 0, 0, 0, has_year_zero=True),\n",
       "       cftime.DatetimeNoLeap(140, 12, 23, 0, 0, 0, 0, has_year_zero=True),\n",
       "       cftime.DatetimeNoLeap(140, 12, 24, 0, 0, 0, 0, has_year_zero=True), ...,\n",
       "       cftime.DatetimeNoLeap(150, 12, 30, 0, 0, 0, 0, has_year_zero=True),\n",
       "       cftime.DatetimeNoLeap(150, 12, 31, 0, 0, 0, 0, has_year_zero=True),\n",
       "       cftime.DatetimeNoLeap(151, 1, 1, 0, 0, 0, 0, has_year_zero=True)],\n",
       "      dtype=object)</pre></div></div></li><li class='xr-section-item'><input id='section-f515f8fc-7687-4187-8bd2-43c40c9b3488' class='xr-section-summary-in' type='checkbox'  checked><label for='section-f515f8fc-7687-4187-8bd2-43c40c9b3488' class='xr-section-summary' >Coordinates: <span>(1)</span></label><div class='xr-section-inline-details'></div><div class='xr-section-details'><ul class='xr-var-list'><li class='xr-var-item'><div class='xr-var-name'><span class='xr-has-index'>time</span></div><div class='xr-var-dims'>(time)</div><div class='xr-var-dtype'>object</div><div class='xr-var-preview xr-preview'>0140-12-22 00:00:00 ... 0151-01-...</div><input id='attrs-bd6c777b-c6b1-4d4c-b369-8dbb6b5df57e' class='xr-var-attrs-in' type='checkbox' ><label for='attrs-bd6c777b-c6b1-4d4c-b369-8dbb6b5df57e' title='Show/Hide attributes'><svg class='icon xr-icon-file-text2'><use xlink:href='#icon-file-text2'></use></svg></label><input id='data-eecc4ccd-1dba-4007-9d49-4cbb4e062119' class='xr-var-data-in' type='checkbox'><label for='data-eecc4ccd-1dba-4007-9d49-4cbb4e062119' title='Show/Hide data repr'><svg class='icon xr-icon-database'><use xlink:href='#icon-database'></use></svg></label><div class='xr-var-attrs'><dl class='xr-attrs'><dt><span>axis :</span></dt><dd>T</dd><dt><span>bounds :</span></dt><dd>time_bnds</dd><dt><span>standard_name :</span></dt><dd>time</dd><dt><span>title :</span></dt><dd>time</dd><dt><span>type :</span></dt><dd>double</dd></dl></div><div class='xr-var-data'><pre>array([cftime.DatetimeNoLeap(140, 12, 22, 0, 0, 0, 0, has_year_zero=True),\n",
       "       cftime.DatetimeNoLeap(140, 12, 23, 0, 0, 0, 0, has_year_zero=True),\n",
       "       cftime.DatetimeNoLeap(140, 12, 24, 0, 0, 0, 0, has_year_zero=True), ...,\n",
       "       cftime.DatetimeNoLeap(150, 12, 30, 0, 0, 0, 0, has_year_zero=True),\n",
       "       cftime.DatetimeNoLeap(150, 12, 31, 0, 0, 0, 0, has_year_zero=True),\n",
       "       cftime.DatetimeNoLeap(151, 1, 1, 0, 0, 0, 0, has_year_zero=True)],\n",
       "      dtype=object)</pre></div></li></ul></div></li><li class='xr-section-item'><input id='section-c93c4164-611a-4ce3-918c-981593e3dd84' class='xr-section-summary-in' type='checkbox'  checked><label for='section-c93c4164-611a-4ce3-918c-981593e3dd84' class='xr-section-summary' >Attributes: <span>(5)</span></label><div class='xr-section-inline-details'></div><div class='xr-section-details'><dl class='xr-attrs'><dt><span>axis :</span></dt><dd>T</dd><dt><span>bounds :</span></dt><dd>time_bnds</dd><dt><span>standard_name :</span></dt><dd>time</dd><dt><span>title :</span></dt><dd>time</dd><dt><span>type :</span></dt><dd>double</dd></dl></div></li></ul></div></div>"
      ],
      "text/plain": [
       "<xarray.DataArray 'time' (time: 3661)>\n",
       "array([cftime.DatetimeNoLeap(140, 12, 22, 0, 0, 0, 0, has_year_zero=True),\n",
       "       cftime.DatetimeNoLeap(140, 12, 23, 0, 0, 0, 0, has_year_zero=True),\n",
       "       cftime.DatetimeNoLeap(140, 12, 24, 0, 0, 0, 0, has_year_zero=True), ...,\n",
       "       cftime.DatetimeNoLeap(150, 12, 30, 0, 0, 0, 0, has_year_zero=True),\n",
       "       cftime.DatetimeNoLeap(150, 12, 31, 0, 0, 0, 0, has_year_zero=True),\n",
       "       cftime.DatetimeNoLeap(151, 1, 1, 0, 0, 0, 0, has_year_zero=True)],\n",
       "      dtype=object)\n",
       "Coordinates:\n",
       "  * time     (time) object 0140-12-22 00:00:00 ... 0151-01-01 00:00:00\n",
       "Attributes:\n",
       "    axis:           T\n",
       "    bounds:         time_bnds\n",
       "    standard_name:  time\n",
       "    title:          time\n",
       "    type:           double"
      ]
     },
     "execution_count": 20,
     "metadata": {},
     "output_type": "execute_result"
    }
   ],
   "source": [
    "time"
   ]
  },
  {
   "cell_type": "code",
   "execution_count": null,
   "id": "7d2cc0bd-c655-459b-889d-847df7ed56e7",
   "metadata": {},
   "outputs": [],
   "source": []
  }
 ],
 "metadata": {
  "kernelspec": {
   "display_name": "wgh",
   "language": "python",
   "name": "wgh"
  },
  "language_info": {
   "codemirror_mode": {
    "name": "ipython",
    "version": 3
   },
   "file_extension": ".py",
   "mimetype": "text/x-python",
   "name": "python",
   "nbconvert_exporter": "python",
   "pygments_lexer": "ipython3",
   "version": "3.9.7"
  }
 },
 "nbformat": 4,
 "nbformat_minor": 5
}
