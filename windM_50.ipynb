{
 "cells": [
  {
   "cell_type": "code",
   "execution_count": 2,
   "id": "d1431427-bc69-4def-9c1b-bc624d80a7b1",
   "metadata": {},
   "outputs": [
    {
     "name": "stdout",
     "output_type": "stream",
     "text": [
      "(336, 101, 360) (336, 101, 360)\n",
      "(6509664,) (6509664,)\n"
     ]
    },
    {
     "data": {
      "image/png": "[encoded data removed]",
      "text/plain": [
       "<Figure size 432x288 with 1 Axes>"
      ]
     },
     "metadata": {
      "needs_background": "light"
     },
     "output_type": "display_data"
    }
   ],
   "source": [
    "import xarray as xr\n",
    "import matplotlib.pyplot as plt\n",
    "import numpy as np\n",
    "from matplotlib.cm import get_cmap\n",
    "import cartopy.crs as ccrs\n",
    "import calendar\n",
    "import glob\n",
    "from scipy import stats\n",
    "\n",
    "def plot(y):\n",
    "\n",
    "    cao = []\n",
    "    sw  = []\n",
    "\n",
    "    fi = glob.glob('/glade/work/geethma/research/npzfilesn/cao/'+str(y)+'/M.npz')\n",
    "    fi = np.array(fi)\n",
    "    di = np.load(fi[0])\n",
    "    cao.extend(di['cao'])\n",
    "\n",
    "    fnn = glob.glob('/glade/work/geethma/research/npzfilesn/macsfcwind/'+str(y)+'/m*npz')\n",
    "    fnn = np.array(fnn)\n",
    "\n",
    "    for i in range(0,len(fnn)):\n",
    "        dd = np.load(fnn[i])\n",
    "        sw.extend(dd['sfcW'])\n",
    "\n",
    "    globals()['cao'] = cao\n",
    "    globals()['sw'] = sw\n",
    "\n",
    "\n",
    "\n",
    "plot(2016)\n",
    "\n",
    "print(np.shape(cao),np.shape(sw))\n",
    "\n",
    "caof = []\n",
    "swf = []\n",
    "\n",
    "for x in range(101):\n",
    "    for y in range(360):\n",
    "        for i in range(336):\n",
    "            if np.isnan(cao[i][x][y]*sw[i][x][y]) == False:\n",
    "                caof.append(cao[i][x][y])\n",
    "                swf.append(sw[i][x][y])\n",
    "\n",
    "\n",
    "print(np.shape(caof),np.shape(swf))\n",
    "\n",
    "\n",
    "bin_means, bin_edges, binnumber = stats.binned_statistic(caof, swf, 'mean', bins=500)\n",
    "bin_width = (bin_edges[1] - bin_edges[0])\n",
    "bin_centers = bin_edges[1:] - bin_width/2\n",
    "plt.figure()\n",
    "# plt.hist(samples, bins=500, density=True, histtype='stepfilled',\n",
    "         # alpha=0.2, label='histogram of data')\n",
    "plt.plot(bin_centers[350:400], bin_means[350:400], 'r.', label='MAC-LWP+MERRA2')\n",
    "plt.title('Surface wind Vs Cold Air Outbreak Index')\n",
    "plt.xlabel('CAO (K)')\n",
    "plt.ylabel('u10 (m/s)')\n",
    "plt.legend(fontsize=10)\n",
    "# plt.savefig('/glade/work/geethma/research/output/windVsMmean.png')\n",
    "plt.show()\n"
   ]
  },
  {
   "cell_type": "code",
   "execution_count": 1,
   "id": "258e8fa9-1f9c-4a54-93c4-fd2fbd86effa",
   "metadata": {},
   "outputs": [],
   "source": [
    "import xarray as xr\n",
    "import matplotlib.pyplot as plt\n",
    "import numpy as np\n",
    "from matplotlib.cm import get_cmap\n",
    "import cartopy.crs as ccrs\n",
    "import calendar\n",
    "import glob\n",
    "from scipy import stats"
   ]
  },
  {
   "cell_type": "code",
   "execution_count": 3,
   "id": "39b91762-83f7-42d8-b4e7-d209a0de25f9",
   "metadata": {},
   "outputs": [],
   "source": [
    "fi = glob.glob('/glade/work/geethma/research/npzfilesn/cao/2016/M.npz')"
   ]
  },
  {
   "cell_type": "code",
   "execution_count": 4,
   "id": "945795de-dcbe-4538-97f5-e6399c23651e",
   "metadata": {},
   "outputs": [],
   "source": [
    "fi = np.array(fi)\n",
    "di = np.load(fi[0])"
   ]
  },
  {
   "cell_type": "code",
   "execution_count": 5,
   "id": "924b55e2-1995-4c51-9f35-e91f39931e0c",
   "metadata": {},
   "outputs": [],
   "source": [
    "c = di['cao']"
   ]
  },
  {
   "cell_type": "code",
   "execution_count": 14,
   "id": "77fb67da-d057-4bc3-a259-82f132ac7e70",
   "metadata": {},
   "outputs": [
    {
     "data": {
      "text/plain": [
       "-50.94930927742922"
      ]
     },
     "execution_count": 14,
     "metadata": {},
     "output_type": "execute_result"
    }
   ],
   "source": [
    "min(caof)"
   ]
  },
  {
   "cell_type": "code",
   "execution_count": 11,
   "id": "d39cffaf-156f-4a24-8ceb-de3ffa7b53a6",
   "metadata": {},
   "outputs": [],
   "source": [
    "caof = []\n",
    "\n",
    "for x in range(101):\n",
    "    for y in range(360):\n",
    "        for i in range(336):\n",
    "            if np.isnan(c[i][x][y]) == False:\n",
    "                caof.append(c[i][x][y])"
   ]
  },
  {
   "cell_type": "code",
   "execution_count": 22,
   "id": "b2890aea-d946-4093-b68a-5d8bd07cc990",
   "metadata": {},
   "outputs": [
    {
     "name": "stdout",
     "output_type": "stream",
     "text": [
      "(336, 25, 60) (336, 25, 60)\n",
      "(446711,) (446711,)\n"
     ]
    },
    {
     "data": {
      "image/png": "[encoded data removed]",
      "text/plain": [
       "<Figure size 432x288 with 1 Axes>"
      ]
     },
     "metadata": {
      "needs_background": "light"
     },
     "output_type": "display_data"
    }
   ],
   "source": [
    "import xarray as xr\n",
    "import matplotlib.pyplot as plt\n",
    "import numpy as np\n",
    "from matplotlib.cm import get_cmap\n",
    "import cartopy.crs as ccrs\n",
    "import calendar\n",
    "import glob\n",
    "from scipy import stats\n",
    "\n",
    "def plot(y):\n",
    "\n",
    "    cao = []\n",
    "    sw  = []\n",
    "\n",
    "    fi = glob.glob('/glade/work/geethma/research/npzfilesn/cao/'+str(y)+'/NewM.npz')\n",
    "    fi = np.array(fi)\n",
    "    di = np.load(fi[0])\n",
    "    cao.extend(di['cao'])\n",
    "\n",
    "    fnn = glob.glob('/glade/work/geethma/research/npzfilesn/macsfcwind/'+str(y)+'/Newm*npz')\n",
    "    fnn = np.array(fnn)\n",
    "\n",
    "    for i in range(0,len(fnn)):\n",
    "        dd = np.load(fnn[i])\n",
    "        sw.extend(dd['sfcW'])\n",
    "\n",
    "    globals()['cao'] = cao\n",
    "    globals()['sw'] = sw\n",
    "\n",
    "\n",
    "\n",
    "plot(2016)\n",
    "\n",
    "print(np.shape(cao),np.shape(sw))\n",
    "\n",
    "caof = []\n",
    "swf = []\n",
    "\n",
    "for x in range(25):\n",
    "    for y in range(60):\n",
    "        for i in range(336):\n",
    "            if np.isnan(cao[i][x][y]*sw[i][x][y]) == False:\n",
    "                caof.append(cao[i][x][y])\n",
    "                swf.append(sw[i][x][y])\n",
    "\n",
    "\n",
    "print(np.shape(caof),np.shape(swf))\n",
    "\n",
    "\n",
    "bin_means, bin_edges, binnumber = stats.binned_statistic(caof, swf, 'mean', bins=500)\n",
    "bin_width = (bin_edges[1] - bin_edges[0])\n",
    "bin_centers = bin_edges[1:] - bin_width/2\n",
    "plt.figure()\n",
    "# plt.hist(samples, bins=500, density=True, histtype='stepfilled',\n",
    "         # alpha=0.2, label='histogram of data')\n",
    "plt.plot(bin_centers[350:400], bin_means[350:400], 'r.', label='MAC-LWP+MERRA2')\n",
    "plt.title('Surface wind Vs Cold Air Outbreak Index')\n",
    "plt.xlabel('CAO (K)')\n",
    "plt.ylabel('u10 (m/s)')\n",
    "plt.legend(fontsize=10)\n",
    "# plt.savefig('/glade/work/geethma/research/output/windVsMmean.png')\n",
    "plt.show()\n"
   ]
  },
  {
   "cell_type": "code",
   "execution_count": 2,
   "id": "8777b1ef-e51e-4266-ae77-d43c7c1180c9",
   "metadata": {},
   "outputs": [
    {
     "name": "stdout",
     "output_type": "stream",
     "text": [
      "(336, 25, 45) (336, 25, 45)\n",
      "(284060,) (284060,)\n"
     ]
    },
    {
     "data": {
      "image/png": "[encoded data removed]",
      "text/plain": [
       "<Figure size 432x288 with 1 Axes>"
      ]
     },
     "metadata": {
      "needs_background": "light"
     },
     "output_type": "display_data"
    }
   ],
   "source": [
    "import xarray as xr\n",
    "import matplotlib.pyplot as plt\n",
    "import numpy as np\n",
    "from matplotlib.cm import get_cmap\n",
    "import cartopy.crs as ccrs\n",
    "import calendar\n",
    "import glob\n",
    "from scipy import stats\n",
    "\n",
    "def plot(y):\n",
    "\n",
    "    cao = []\n",
    "    sw  = []\n",
    "\n",
    "    fi = glob.glob('/glade/work/geethma/research/npzfilesn/cao/'+str(y)+'/GSM.npz')\n",
    "    fi = np.array(fi)\n",
    "    di = np.load(fi[0])\n",
    "    cao.extend(di['cao'])\n",
    "\n",
    "    fnn = glob.glob('/glade/work/geethma/research/npzfilesn/macsfcwind/'+str(y)+'/GSm*npz')\n",
    "    fnn = np.array(fnn)\n",
    "\n",
    "    for i in range(0,len(fnn)):\n",
    "        dd = np.load(fnn[i])\n",
    "        sw.extend(dd['sfcW'])\n",
    "\n",
    "    globals()['cao'] = cao\n",
    "    globals()['sw'] = sw\n",
    "\n",
    "\n",
    "\n",
    "plot(2016)\n",
    "\n",
    "print(np.shape(cao),np.shape(sw))\n",
    "\n",
    "caof = []\n",
    "swf = []\n",
    "\n",
    "for x in range(25):\n",
    "    for y in range(45):\n",
    "        for i in np.arange(336):\n",
    "            if np.isnan(cao[i][x][y]*sw[i][x][y]) == False:\n",
    "                caof.append(cao[i][x][y])\n",
    "                swf.append(sw[i][x][y])\n",
    "\n",
    "\n",
    "print(np.shape(caof),np.shape(swf))\n",
    "\n",
    "\n",
    "bin_means, bin_edges, binnumber = stats.binned_statistic(caof, swf, 'mean', bins=500)\n",
    "bin_width = (bin_edges[1] - bin_edges[0])\n",
    "bin_centers = bin_edges[1:] - bin_width/2\n",
    "plt.figure()\n",
    "# plt.hist(samples, bins=500, density=True, histtype='stepfilled',\n",
    "         # alpha=0.2, label='histogram of data')\n",
    "plt.plot(bin_centers[150:450], bin_means[150:450], 'r.', label='MAC-LWP+MERRA2')\n",
    "plt.title('Surface wind Vs Cold Air Outbreak Index in GS')\n",
    "plt.xlabel('CAO (K)')\n",
    "plt.ylabel('u10 (m/s)')\n",
    "plt.legend(fontsize=10)\n",
    "# plt.savefig('/glade/work/geethma/research/output/windVsMmean.png')\n",
    "plt.show()\n"
   ]
  },
  {
   "cell_type": "code",
   "execution_count": 2,
   "id": "01b55341-1bed-4c2a-b279-fc416d029f44",
   "metadata": {},
   "outputs": [],
   "source": [
    "fn_lon = glob.glob('/glade/u/home/geethma/atsc5040/climate/final/month/monthly_all_lon*npz')\n",
    "fn_lon = sorted(np.array(fn_lon))"
   ]
  },
  {
   "cell_type": "code",
   "execution_count": 3,
   "id": "10c1c7aa-fb4b-4aa6-9e08-905bbb73bff6",
   "metadata": {},
   "outputs": [],
   "source": [
    "fn_lat = glob.glob('/glade/u/home/geethma/atsc5040/climate/final/month/monthly_all_lat*npz')\n",
    "fn_lat = sorted(np.array(fn_lat))"
   ]
  },
  {
   "cell_type": "code",
   "execution_count": 4,
   "id": "f9ae1691-3dd1-4a64-876a-5430e79a7c14",
   "metadata": {},
   "outputs": [],
   "source": [
    "fn_tas = glob.glob('/glade/u/home/geethma/atsc5040/climate/final/month/monthly_all_tas*npz')\n",
    "fn_tas = sorted(np.array(fn_tas))"
   ]
  },
  {
   "cell_type": "code",
   "execution_count": 5,
   "id": "5e6f3014-10c3-40eb-bfe8-15e2e2e3673c",
   "metadata": {},
   "outputs": [],
   "source": [
    "fn_ta = glob.glob('/glade/u/home/geethma/atsc5040/climate/final/month/monthly_all_ta*npz')\n",
    "fn_ta = sorted(np.array(fn_ta))"
   ]
  },
  {
   "cell_type": "code",
   "execution_count": 6,
   "id": "789c13a0-7ebf-453e-89f1-b730a88fa5f7",
   "metadata": {},
   "outputs": [],
   "source": [
    "fn_sfcWind = glob.glob('/glade/u/home/geethma/atsc5040/climate/final/month/monthly_all_sfcWind*npz')\n",
    "fn_sfcWind = sorted(np.array(fn_sfcWind))"
   ]
  },
  {
   "cell_type": "code",
   "execution_count": 7,
   "id": "c8df0930-1a80-4c2d-9ffd-f81215edb245",
   "metadata": {},
   "outputs": [],
   "source": [
    "#####Constants\n",
    "Cp = 1004           #J/kg/K\n",
    "Rd = 287            #J/kg/K"
   ]
  },
  {
   "cell_type": "code",
   "execution_count": 16,
   "id": "dbfeaa1e-2d8e-4853-94d5-4e723c2a98b4",
   "metadata": {},
   "outputs": [
    {
     "data": {
      "text/plain": [
       "8"
      ]
     },
     "execution_count": 16,
     "metadata": {},
     "output_type": "execute_result"
    }
   ],
   "source": [
    "len(fn_tas)"
   ]
  },
  {
   "cell_type": "code",
   "execution_count": 41,
   "id": "4fdffa90-12dd-4da2-8681-8e6f461e7fcb",
   "metadata": {},
   "outputs": [
    {
     "name": "stdout",
     "output_type": "stream",
     "text": [
      "(1980, 26, 36)\n"
     ]
    },
    {
     "data": {
      "text/plain": [
       "<matplotlib.legend.Legend at 0x2b17b04ce910>"
      ]
     },
     "execution_count": 41,
     "metadata": {},
     "output_type": "execute_result"
    },
    {
     "data": {
      "image/png": "[encoded data removed]",
      "text/plain": [
       "<Figure size 432x288 with 1 Axes>"
      ]
     },
     "metadata": {
      "needs_background": "light"
     },
     "output_type": "display_data"
    }
   ],
   "source": [
    "caof = []\n",
    "swf = []\n",
    "\n",
    "for i in range(1): #len(fn_tas)\n",
    "    d_lat = np.load(fn_lat[i])\n",
    "    x_lat = np.array(d_lat['arr_0'])\n",
    "    lat_ind1 = np.where(x_lat == x_lat.flat[np.abs(x_lat - (20)).argmin()])[0]\n",
    "    lat_ind2 = np.where(x_lat == x_lat.flat[np.abs(x_lat - (45)).argmin()])[0]    \n",
    "\n",
    "    d_lon = np.load(fn_lon[i])\n",
    "    x_lon = np.array(d_lon['arr_0'])\n",
    "    lon_ind1 = np.where(x_lon == x_lon.flat[np.abs(x_lon - (-85)).argmin()])[0]\n",
    "    lon_ind2 = np.where(x_lon == x_lon.flat[np.abs(x_lon - (-40)).argmin()])[0]\n",
    "\n",
    "    d_sfcWind = np.load(fn_sfcWind[i])\n",
    "    x_sfcWind = np.array(d_sfcWind['arr_0'])\n",
    "    m_sfcWind = (x_sfcWind[:,lat_ind1[0]:lat_ind2[0],lon_ind1[0]:lon_ind2[0]])\n",
    "    \n",
    "    d_tas = np.load(fn_tas[i])\n",
    "    x_tas = np.array(d_tas['arr_0'])\n",
    "    m_tas = (x_tas[:,lat_ind1[0]:lat_ind2[0],lon_ind1[0]:lon_ind2[0]])\n",
    "    \n",
    "    d_ta = np.load(fn_ta[i])\n",
    "    x_ta = np.array(d_ta['arr_0'])\n",
    "    m_ta = (x_ta[:,3,lat_ind1[0]:lat_ind2[0],lon_ind1[0]:lon_ind2[0]])\n",
    "    \n",
    "    print(np.shape(m_tas))\n",
    "#     y_ax = np.add(m_sh, m_lh)\n",
    "#     y.append(m_sfcWind)\n",
    "    \n",
    "    x_ax = np.subtract(m_tas, m_ta*((10/7)**(Rd/Cp)))\n",
    "#     x.append(x_ax)\n",
    "    for x in range(len(m_tas[1,:,1])):\n",
    "        for y in range(len(m_tas[1,1,:])):\n",
    "            for i in range(len(m_tas[:,1,1])):\n",
    "                if np.isnan(x_ax[i][x][y]*m_sfcWind[i][x][y]) == False:\n",
    "                    caof.append(x_ax[i][x][y])\n",
    "                    swf.append(m_sfcWind[i][x][y])\n",
    "                \n",
    "    bin_means, bin_edges, binnumber = stats.binned_statistic(caof, swf, 'mean', bins=500)\n",
    "    bin_width = (bin_edges[1] - bin_edges[0])\n",
    "    bin_centers = bin_edges[1:] - bin_width/2\n",
    "    plt.plot(bin_centers[:], bin_means[:], '.', label='CESM2')\n",
    "\n",
    "plt.title('Surface wind Vs Cold Air Outbreak Index in GS')\n",
    "plt.xlabel('CAO (K)')\n",
    "plt.ylabel('u10 (m/s)')\n",
    "plt.legend(loc='center left', bbox_to_anchor=(1.3, 0.5),fontsize=10)\n"
   ]
  },
  {
   "cell_type": "code",
   "execution_count": 9,
   "id": "009ccab3-c8a2-4640-aa6e-75d47254b774",
   "metadata": {},
   "outputs": [],
   "source": [
    "modname = ['CESM2', 'SAM0-UNICON','CNRM-CM6-1', 'GISS-E2-1-G', 'CanESM5','CESM2-WACCM','E3SM-1-0','IPSL-CM6A-LR','NorESM2-LM']\n"
   ]
  },
  {
   "cell_type": "code",
   "execution_count": 43,
   "id": "486dfeb9-e96d-45e6-9df6-e48d72e9b72f",
   "metadata": {},
   "outputs": [
    {
     "name": "stdout",
     "output_type": "stream",
     "text": [
      "(1980, 26, 36)\n",
      "(1188, 26, 36)\n"
     ]
    },
    {
     "data": {
      "text/plain": [
       "<matplotlib.legend.Legend at 0x2b17ad5b0810>"
      ]
     },
     "execution_count": 43,
     "metadata": {},
     "output_type": "execute_result"
    },
    {
     "data": {
      "image/png": "[encoded data removed]",
      "text/plain": [
       "<Figure size 432x288 with 1 Axes>"
      ]
     },
     "metadata": {
      "needs_background": "light"
     },
     "output_type": "display_data"
    }
   ],
   "source": [
    "caof = []\n",
    "swf = []\n",
    "\n",
    "for i in range(0,2): #len(fn_tas)\n",
    "    d_lat = np.load(fn_lat[i])\n",
    "    x_lat = np.array(d_lat['arr_0'])\n",
    "    lat_ind1 = np.where(x_lat == x_lat.flat[np.abs(x_lat - (20)).argmin()])[0]\n",
    "    lat_ind2 = np.where(x_lat == x_lat.flat[np.abs(x_lat - (45)).argmin()])[0]    \n",
    "\n",
    "    d_lon = np.load(fn_lon[i])\n",
    "    x_lon = np.array(d_lon['arr_0'])\n",
    "    lon_ind1 = np.where(x_lon == x_lon.flat[np.abs(x_lon - (-85)).argmin()])[0]\n",
    "    lon_ind2 = np.where(x_lon == x_lon.flat[np.abs(x_lon - (-40)).argmin()])[0]\n",
    "\n",
    "    d_sfcWind = np.load(fn_sfcWind[i])\n",
    "    x_sfcWind = np.array(d_sfcWind['arr_0'])\n",
    "    m_sfcWind = (x_sfcWind[:,lat_ind1[0]:lat_ind2[0],lon_ind1[0]:lon_ind2[0]])\n",
    "    \n",
    "    d_tas = np.load(fn_tas[i])\n",
    "    x_tas = np.array(d_tas['arr_0'])\n",
    "    m_tas = (x_tas[:,lat_ind1[0]:lat_ind2[0],lon_ind1[0]:lon_ind2[0]])\n",
    "    \n",
    "    d_ta = np.load(fn_ta[i])\n",
    "    x_ta = np.array(d_ta['arr_0'])\n",
    "    m_ta = (x_ta[:,3,lat_ind1[0]:lat_ind2[0],lon_ind1[0]:lon_ind2[0]])\n",
    "    \n",
    "    print(np.shape(m_tas))\n",
    "#     y_ax = np.add(m_sh, m_lh)\n",
    "#     y.append(m_sfcWind)\n",
    "    \n",
    "    x_ax = np.subtract(m_tas, m_ta*((10/7)**(Rd/Cp)))\n",
    "#     x.append(x_ax)\n",
    "    for x in range(len(m_tas[1,:,1])):\n",
    "        for y in range(len(m_tas[1,1,:])):\n",
    "            for i in range(len(m_tas[:,1,1])):\n",
    "                if np.isnan(x_ax[i][x][y]*m_sfcWind[i][x][y]) == False:\n",
    "                    caof.append(x_ax[i][x][y])\n",
    "                    swf.append(m_sfcWind[i][x][y])\n",
    "                \n",
    "    bin_means, bin_edges, binnumber = stats.binned_statistic(caof, swf, 'mean', bins=500)\n",
    "    bin_width = (bin_edges[1] - bin_edges[0])\n",
    "    bin_centers = bin_edges[1:] - bin_width/2\n",
    "    plt.plot(bin_centers[:], bin_means[:], '.', label='SAM0-UNICON')\n",
    "\n",
    "plt.title('Surface wind Vs Cold Air Outbreak Index in GS')\n",
    "plt.xlabel('CAO (K)')\n",
    "plt.ylabel('u10 (m/s)')\n",
    "plt.legend(loc='center left', bbox_to_anchor=(1.0, 0.5),fontsize=10)\n"
   ]
  },
  {
   "cell_type": "code",
   "execution_count": 46,
   "id": "d007ae14-b00c-4303-b9ae-d8d6e2938f57",
   "metadata": {},
   "outputs": [
    {
     "name": "stdout",
     "output_type": "stream",
     "text": [
      "(1980, 18, 32)\n",
      "(1980, 13, 18)\n"
     ]
    },
    {
     "data": {
      "text/plain": [
       "<matplotlib.legend.Legend at 0x2b17b0577310>"
      ]
     },
     "execution_count": 46,
     "metadata": {},
     "output_type": "execute_result"
    },
    {
     "data": {
      "image/png": "[encoded data removed]",
      "text/plain": [
       "<Figure size 432x288 with 1 Axes>"
      ]
     },
     "metadata": {
      "needs_background": "light"
     },
     "output_type": "display_data"
    }
   ],
   "source": [
    "caof = []\n",
    "swf = []\n",
    "\n",
    "for i in range(2,4): #len(fn_tas)\n",
    "    d_lat = np.load(fn_lat[i])\n",
    "    x_lat = np.array(d_lat['arr_0'])\n",
    "    lat_ind1 = np.where(x_lat == x_lat.flat[np.abs(x_lat - (20)).argmin()])[0]\n",
    "    lat_ind2 = np.where(x_lat == x_lat.flat[np.abs(x_lat - (45)).argmin()])[0]    \n",
    "\n",
    "    d_lon = np.load(fn_lon[i])\n",
    "    x_lon = np.array(d_lon['arr_0'])\n",
    "    lon_ind1 = np.where(x_lon == x_lon.flat[np.abs(x_lon - (-85)).argmin()])[0]\n",
    "    lon_ind2 = np.where(x_lon == x_lon.flat[np.abs(x_lon - (-40)).argmin()])[0]\n",
    "\n",
    "    d_sfcWind = np.load(fn_sfcWind[i])\n",
    "    x_sfcWind = np.array(d_sfcWind['arr_0'])\n",
    "    m_sfcWind = (x_sfcWind[:,lat_ind1[0]:lat_ind2[0],lon_ind1[0]:lon_ind2[0]])\n",
    "    \n",
    "    d_tas = np.load(fn_tas[i])\n",
    "    x_tas = np.array(d_tas['arr_0'])\n",
    "    m_tas = (x_tas[:,lat_ind1[0]:lat_ind2[0],lon_ind1[0]:lon_ind2[0]])\n",
    "    \n",
    "    d_ta = np.load(fn_ta[i])\n",
    "    x_ta = np.array(d_ta['arr_0'])\n",
    "    m_ta = (x_ta[:,3,lat_ind1[0]:lat_ind2[0],lon_ind1[0]:lon_ind2[0]])\n",
    "    \n",
    "    print(np.shape(m_tas))\n",
    "#     y_ax = np.add(m_sh, m_lh)\n",
    "#     y.append(m_sfcWind)\n",
    "    \n",
    "    x_ax = np.subtract(m_tas, m_ta*((10/7)**(Rd/Cp)))\n",
    "#     x.append(x_ax)\n",
    "    for x in range(len(m_tas[1,:,1])):\n",
    "        for y in range(len(m_tas[1,1,:])):\n",
    "            for i in range(len(m_tas[:,1,1])):\n",
    "                if np.isnan(x_ax[i][x][y]*m_sfcWind[i][x][y]) == False:\n",
    "                    caof.append(x_ax[i][x][y])\n",
    "                    swf.append(m_sfcWind[i][x][y])\n",
    "                \n",
    "    bin_means, bin_edges, binnumber = stats.binned_statistic(caof, swf, 'mean', bins=500)\n",
    "    bin_width = (bin_edges[1] - bin_edges[0])\n",
    "    bin_centers = bin_edges[1:] - bin_width/2\n",
    "    plt.plot(bin_centers[:], bin_means[:], '.', label='CNRM-CM6-1')\n",
    "\n",
    "plt.title('Surface wind Vs Cold Air Outbreak Index in GS')\n",
    "plt.xlabel('CAO (K)')\n",
    "plt.ylabel('u10 (m/s)')\n",
    "plt.legend(loc='center left', bbox_to_anchor=(1.0, 0.5),fontsize=10)\n"
   ]
  },
  {
   "cell_type": "code",
   "execution_count": 54,
   "id": "7e455aed-72f6-4437-8181-a27c00f8660b",
   "metadata": {},
   "outputs": [
    {
     "data": {
      "text/plain": [
       "6"
      ]
     },
     "execution_count": 54,
     "metadata": {},
     "output_type": "execute_result"
    }
   ],
   "source": [
    "len(fn_tas)-2"
   ]
  },
  {
   "cell_type": "code",
   "execution_count": 13,
   "id": "d564cb0c-289e-4989-a50d-cace7a0d2f55",
   "metadata": {},
   "outputs": [
    {
     "data": {
      "image/png": "[encoded data removed]",
      "text/plain": [
       "<Figure size 432x288 with 1 Axes>"
      ]
     },
     "metadata": {
      "needs_background": "light"
     },
     "output_type": "display_data"
    }
   ],
   "source": [
    "caof = []\n",
    "swf = []\n",
    "\n",
    "for i in range(len(fn_tas)-2): #len(fn_tas)\n",
    "    d_lat = np.load(fn_lat[i])\n",
    "    x_lat = np.array(d_lat['arr_0'])\n",
    "    lat_ind1 = np.where(x_lat == x_lat.flat[np.abs(x_lat - (20)).argmin()])[0]\n",
    "    lat_ind2 = np.where(x_lat == x_lat.flat[np.abs(x_lat - (45)).argmin()])[0]    \n",
    "\n",
    "    d_lon = np.load(fn_lon[i])\n",
    "    x_lon = np.array(d_lon['arr_0'])\n",
    "    lon_ind1 = np.where(x_lon == x_lon.flat[np.abs(x_lon - (-85)).argmin()])[0]\n",
    "    lon_ind2 = np.where(x_lon == x_lon.flat[np.abs(x_lon - (-40)).argmin()])[0]\n",
    "\n",
    "    d_sfcWind = np.load(fn_sfcWind[i])\n",
    "    x_sfcWind = np.array(d_sfcWind['arr_0'])\n",
    "    m_sfcWind = (x_sfcWind[:,lat_ind1[0]:lat_ind2[0],lon_ind1[0]:lon_ind2[0]])\n",
    "    \n",
    "    d_tas = np.load(fn_tas[i])\n",
    "    x_tas = np.array(d_tas['arr_0'])\n",
    "    m_tas = (x_tas[:,lat_ind1[0]:lat_ind2[0],lon_ind1[0]:lon_ind2[0]])\n",
    "    \n",
    "    d_ta = np.load(fn_ta[i])\n",
    "    x_ta = np.array(d_ta['arr_0'])\n",
    "    m_ta = (x_ta[:,3,lat_ind1[0]:lat_ind2[0],lon_ind1[0]:lon_ind2[0]])\n",
    "    \n",
    "#     print(np.shape(m_tas))\n",
    "#     print(np.shape(m_sfcWind))\n",
    "#     y_ax = np.add(m_sh, m_lh)\n",
    "#     y.append(m_sfcWind)\n",
    "    \n",
    "    x_ax = np.subtract(m_tas, m_ta*((10/7)**(Rd/Cp)))\n",
    "#     x.append(x_ax)\n",
    "    for x in range(len(m_tas[1,:,1])):\n",
    "        for y in range(len(m_tas[1,1,:])):\n",
    "            for j in range(len(m_tas[:,1,1])):\n",
    "                if np.isnan(x_ax[j][x][y]*m_sfcWind[j][x][y]) == False:\n",
    "                    caof.append(x_ax[j][x][y])\n",
    "                    swf.append(m_sfcWind[j][x][y])\n",
    "                \n",
    "#     bin_means, bin_edges, binnumber = stats.binned_statistic(caof, swf, 'mean', bins=500)\n",
    "#     bin_width = (bin_edges[1] - bin_edges[0])\n",
    "#     bin_centers = bin_edges[1:] - bin_width/2\n",
    "#     plt.plot(bin_centers[:], bin_means[:], '.', label=modname[i])\n",
    "#     n, bins, patches = plt.hist(caof, bins='auto', color='#0504aa',alpha=0.7, rwidth=0.85)\n",
    "    x_pdf=stats.maxwell.pdf(caof)\n",
    "    plt.plot(x_pdf)\n",
    "    \n",
    "\n",
    "# plt.title('Surface wind Vs Cold Air Outbreak Index in GS')\n",
    "# plt.xlabel('CAO (K)')\n",
    "# plt.ylabel('u10 (m/s)')\n",
    "# plt.legend(loc='center left', bbox_to_anchor=(1.0, 0.5),fontsize=10)\n"
   ]
  },
  {
   "cell_type": "code",
   "execution_count": null,
   "id": "de170983-c2ce-4f89-925c-ce8d35a4180f",
   "metadata": {},
   "outputs": [],
   "source": []
  }
 ],
 "metadata": {
  "kernelspec": {
   "display_name": "NPL-3.7.9",
   "language": "python",
   "name": "npl-3.7.9"
  },
  "language_info": {
   "codemirror_mode": {
    "name": "ipython",
    "version": 3
   },
   "file_extension": ".py",
   "mimetype": "text/x-python",
   "name": "python",
   "nbconvert_exporter": "python",
   "pygments_lexer": "ipython3",
   "version": "3.7.9"
  }
 },
 "nbformat": 4,
 "nbformat_minor": 5
}
