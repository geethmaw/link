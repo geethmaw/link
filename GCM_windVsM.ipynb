{
 "cells": [
  {
   "cell_type": "code",
   "execution_count": 1,
   "id": "aeada1e3-1ae2-4485-a0e6-317183ea70ba",
   "metadata": {},
   "outputs": [],
   "source": [
    "import xarray as xr\n",
    "import matplotlib.pyplot as plt\n",
    "import numpy as np\n",
    "from matplotlib.cm import get_cmap\n",
    "from readGCMs import read_var_mod\n",
    "import calendar\n",
    "from global_land_mask import globe\n",
    "import glob"
   ]
  },
  {
   "cell_type": "code",
   "execution_count": 2,
   "id": "f4a6d5e5-79aa-483c-9174-e67daf95bbca",
   "metadata": {},
   "outputs": [],
   "source": [
    "modname = ['CESM2','CNRM-CM6-1', 'CanESM5','CESM2-WACCM','E3SM-1-0',\n",
    "           'HadGEM3-GC31-LL','IPSL-CM6A-LR','NorESM2-LM', 'SAM0-UNICON',\n",
    "           'ACCESS-CM2','ACCESS-ESM1-5','CNRM-ESM2-1','EC-Earth3',\n",
    "           'EC-Earth3-Veg','FGOALS-f3-L','GISS-E2-1-G-CC','HadGEM3-GC31-MM',\n",
    "           'INM-CM4-8','INM-CM5-0','MPI-ESM1-2-HR','MRI-ESM2-0','NorCPM1',\n",
    "           'UKESM1-0-LL']\n",
    "varname = ['sfcWind', 'tas', 'ps'] #'sfcWind', 'hfss', 'hfls', 'tas', 'ps', 'psl',\n",
    "pvarname= ['ta']\n",
    "conname = ['NCAR', 'CNRM-CERFACS','CCCma', 'NCAR', 'E3SM-Project', 'MOHC', \n",
    "           'IPSL', 'NCC', 'SNU','CSIRO-ARCCSS','CSIRO','CNRM-CERFACS',\n",
    "           'EC-Earth-Consortium','EC-Earth-Consortium','CAS','NASA-GISS','MOHC'\n",
    "           ,'INM','INM','MPI-M','MRI','NCC','MOHC'] \n",
    "ensname = ['r11i1p1f1', 'r1i1p1f2', 'r10i1p1f1', 'r1i1p1f1', 'r1i1p1f1', \n",
    "           'r1i1p1f3', 'r10i1p1f1', 'r1i1p1f1', 'r1i1p1f1','r1i1p1f1',\n",
    "           'r10i1p1f1','r1i1p1f2','r101i1p1f1','r10i1p1f1','r1i1p1f1',\n",
    "           'r1i1p1f1','r1i1p1f3','r1i1p1f1','r10i1p1f1','r10i1p1f1','r10i1p1f1',\n",
    "           'r10i1p1f1','r10i1p1f2']\n",
    "ggname  = ['gn', 'gr','gn', 'gn', 'gr', 'gn', 'gr', 'gn', 'gn','gn', 'gn', 'gr',\n",
    "           'gr', 'gr', 'gr', 'gn', 'gn', 'gr1', 'gr1', 'gn', 'gr', 'gn', 'gn']\n"
   ]
  },
  {
   "cell_type": "code",
   "execution_count": 3,
   "id": "8fa16a56-95f6-4deb-96ce-cdfb7e3c5eb3",
   "metadata": {},
   "outputs": [],
   "source": [
    "l = 0"
   ]
  },
  {
   "cell_type": "code",
   "execution_count": 191,
   "id": "f6173f7c-e67a-4aaf-a43a-f4b6ddd94f15",
   "metadata": {},
   "outputs": [
    {
     "ename": "IndexError",
     "evalue": "list index out of range",
     "output_type": "error",
     "traceback": [
      "\u001b[0;31m---------------------------------------------------------------------------\u001b[0m",
      "\u001b[0;31mIndexError\u001b[0m                                Traceback (most recent call last)",
      "\u001b[0;32m<ipython-input-191-d0989a88aa9e>\u001b[0m in \u001b[0;36m<module>\u001b[0;34m\u001b[0m\n\u001b[1;32m      2\u001b[0m \u001b[0;32mfor\u001b[0m \u001b[0mj\u001b[0m \u001b[0;32min\u001b[0m \u001b[0mrange\u001b[0m\u001b[0;34m(\u001b[0m\u001b[0ml\u001b[0m\u001b[0;34m,\u001b[0m\u001b[0ml\u001b[0m\u001b[0;34m+\u001b[0m\u001b[0;36m1\u001b[0m\u001b[0;34m)\u001b[0m\u001b[0;34m:\u001b[0m\u001b[0;34m\u001b[0m\u001b[0;34m\u001b[0m\u001b[0m\n\u001b[1;32m      3\u001b[0m     \u001b[0;32mfor\u001b[0m \u001b[0mi\u001b[0m \u001b[0;32min\u001b[0m \u001b[0mvarname\u001b[0m\u001b[0;34m:\u001b[0m\u001b[0;34m\u001b[0m\u001b[0;34m\u001b[0m\u001b[0m\n\u001b[0;32m----> 4\u001b[0;31m         \u001b[0mlocals\u001b[0m\u001b[0;34m(\u001b[0m\u001b[0;34m)\u001b[0m\u001b[0;34m[\u001b[0m\u001b[0mi\u001b[0m\u001b[0;34m+\u001b[0m\u001b[0;34m'_'\u001b[0m\u001b[0;34m+\u001b[0m\u001b[0mstr\u001b[0m\u001b[0;34m(\u001b[0m\u001b[0mj\u001b[0m\u001b[0;34m+\u001b[0m\u001b[0;36m1\u001b[0m\u001b[0;34m)\u001b[0m\u001b[0;34m]\u001b[0m \u001b[0;34m=\u001b[0m \u001b[0mread_var_mod\u001b[0m\u001b[0;34m(\u001b[0m\u001b[0mmodn\u001b[0m\u001b[0;34m=\u001b[0m\u001b[0mmodname\u001b[0m\u001b[0;34m[\u001b[0m\u001b[0mj\u001b[0m\u001b[0;34m]\u001b[0m\u001b[0;34m,\u001b[0m \u001b[0mconsort\u001b[0m\u001b[0;34m=\u001b[0m\u001b[0mconname\u001b[0m\u001b[0;34m[\u001b[0m\u001b[0mj\u001b[0m\u001b[0;34m]\u001b[0m\u001b[0;34m,\u001b[0m \u001b[0mvarnm\u001b[0m\u001b[0;34m=\u001b[0m\u001b[0mi\u001b[0m\u001b[0;34m,\u001b[0m \u001b[0mcmip\u001b[0m\u001b[0;34m=\u001b[0m\u001b[0;34m'cmip6'\u001b[0m\u001b[0;34m,\u001b[0m \u001b[0mexper\u001b[0m\u001b[0;34m=\u001b[0m\u001b[0;34m'historical'\u001b[0m\u001b[0;34m,\u001b[0m \u001b[0mensmem\u001b[0m\u001b[0;34m=\u001b[0m\u001b[0mensname\u001b[0m\u001b[0;34m[\u001b[0m\u001b[0mj\u001b[0m\u001b[0;34m]\u001b[0m\u001b[0;34m,\u001b[0m \u001b[0mtypevar\u001b[0m\u001b[0;34m=\u001b[0m\u001b[0;34m'day'\u001b[0m\u001b[0;34m,\u001b[0m \u001b[0mgg\u001b[0m\u001b[0;34m=\u001b[0m\u001b[0mggname\u001b[0m\u001b[0;34m[\u001b[0m\u001b[0mj\u001b[0m\u001b[0;34m]\u001b[0m\u001b[0;34m,\u001b[0m \u001b[0mread_p\u001b[0m\u001b[0;34m=\u001b[0m\u001b[0;32mFalse\u001b[0m\u001b[0;34m,\u001b[0m \u001b[0mtime1\u001b[0m\u001b[0;34m=\u001b[0m\u001b[0;34m[\u001b[0m\u001b[0;36m2012\u001b[0m\u001b[0;34m,\u001b[0m \u001b[0;36m12\u001b[0m\u001b[0;34m,\u001b[0m \u001b[0;36m10\u001b[0m\u001b[0;34m]\u001b[0m\u001b[0;34m,\u001b[0m \u001b[0mtime2\u001b[0m\u001b[0;34m=\u001b[0m\u001b[0;34m[\u001b[0m\u001b[0;36m2012\u001b[0m\u001b[0;34m,\u001b[0m \u001b[0;36m12\u001b[0m\u001b[0;34m,\u001b[0m \u001b[0;36m21\u001b[0m\u001b[0;34m]\u001b[0m\u001b[0;34m)\u001b[0m\u001b[0;34m\u001b[0m\u001b[0;34m\u001b[0m\u001b[0m\n\u001b[0m\u001b[1;32m      5\u001b[0m \u001b[0;34m\u001b[0m\u001b[0m\n\u001b[1;32m      6\u001b[0m     \u001b[0;32mfor\u001b[0m \u001b[0mk\u001b[0m \u001b[0;32min\u001b[0m \u001b[0mpvarname\u001b[0m\u001b[0;34m:\u001b[0m\u001b[0;34m\u001b[0m\u001b[0;34m\u001b[0m\u001b[0m\n",
      "\u001b[0;32m/glade/work/geethma/research/codes/readGCMs.py\u001b[0m in \u001b[0;36mread_var_mod\u001b[0;34m(modn, consort, varnm, cmip, exper, ensmem, typevar, gg, read_p, time1, time2)\u001b[0m\n\u001b[1;32m     32\u001b[0m \u001b[0;34m\u001b[0m\u001b[0m\n\u001b[1;32m     33\u001b[0m \u001b[0;31m#    try:\u001b[0m\u001b[0;34m\u001b[0m\u001b[0;34m\u001b[0m\u001b[0;34m\u001b[0m\u001b[0m\n\u001b[0;32m---> 34\u001b[0;31m     data, P, lat, lon, time = read_hs(\n\u001b[0m\u001b[1;32m     35\u001b[0m         pth, varnm, read_p=read_p, time1=time1, time2=time2)\n\u001b[1;32m     36\u001b[0m \u001b[0;31m#    except UnboundLocalError:\u001b[0m\u001b[0;34m\u001b[0m\u001b[0;34m\u001b[0m\u001b[0;34m\u001b[0m\u001b[0m\n",
      "\u001b[0;32m/glade/work/geethma/research/codes/readGCMs.py\u001b[0m in \u001b[0;36mread_hs\u001b[0;34m(wd, varnm, read_p, modnm, exper, ensmem, typevar, time1, time2)\u001b[0m\n\u001b[1;32m     71\u001b[0m     \u001b[0mfolder\u001b[0m\u001b[0;34m=\u001b[0m\u001b[0mglob\u001b[0m\u001b[0;34m.\u001b[0m\u001b[0mglob\u001b[0m\u001b[0;34m(\u001b[0m\u001b[0mwd\u001b[0m\u001b[0;34m+\u001b[0m\u001b[0;34m'*/*/'\u001b[0m\u001b[0;34m)\u001b[0m\u001b[0;34m\u001b[0m\u001b[0;34m\u001b[0m\u001b[0m\n\u001b[1;32m     72\u001b[0m \u001b[0;31m#     print (folder)\u001b[0m\u001b[0;34m\u001b[0m\u001b[0;34m\u001b[0m\u001b[0;34m\u001b[0m\u001b[0m\n\u001b[0;32m---> 73\u001b[0;31m     fn = glob.glob(folder[0]+'/*'+varnm+'_*'+typevar+'*' +\n\u001b[0m\u001b[1;32m     74\u001b[0m                    modnm+'_'+exper+'*'+ensmem+'*nc*')\n\u001b[1;32m     75\u001b[0m \u001b[0;31m#     print(folder[0]+'/*'+varnm+'*'+typevar+'*'+modnm+'_'+exper+'*'+ensmem+'*nc*')\u001b[0m\u001b[0;34m\u001b[0m\u001b[0;34m\u001b[0m\u001b[0;34m\u001b[0m\u001b[0m\n",
      "\u001b[0;31mIndexError\u001b[0m: list index out of range"
     ]
    }
   ],
   "source": [
    "# try:\n",
    "for j in range(l,l+1):\n",
    "    for i in varname: \n",
    "        locals()[i+'_'+str(j+1)] = read_var_mod(modn=modname[j], consort=conname[j], varnm=i, cmip='cmip6', exper='historical', ensmem=ensname[j], typevar='day', gg=ggname[j], read_p=False, time1=[2012, 12, 10], time2=[2012, 12, 21])\n",
    "\n",
    "    for k in pvarname: \n",
    "        locals()[k+'_'+str(j+1)] = read_var_mod(modn=modname[j], consort=conname[j], varnm=k, cmip='cmip6', exper='historical', ensmem=ensname[j], typevar='day', gg=ggname[j], read_p=True, time1=[2012, 12, 10], time2=[2012, 12, 21])\n",
    "\n",
    "# except IndexError:\n",
    "#     print(str(j+1)+' not available')\n",
    "            \n",
    "            "
   ]
  },
  {
   "cell_type": "code",
   "execution_count": 5,
   "id": "ad404249-b880-43ee-bf98-2a8bca400cc2",
   "metadata": {},
   "outputs": [],
   "source": [
    "try:\n",
    "    for i in range(l,l+1):\n",
    "        locals()['lat'+str(i+1)] = locals()['sfcWind_'+str(i+1)][2]\n",
    "        locals()['lon'+str(i+1)] = locals()['sfcWind_'+str(i+1)][3]\n",
    "        locals()['time'+str(i+1)] = locals()['sfcWind_'+str(i+1)][4]\n",
    "\n",
    "        for j in varname:\n",
    "            locals()[j+str(i+1)] = locals()[j+'_'+str(i+1)][0]\n",
    "\n",
    "        for k in pvarname:\n",
    "            locals()[k+str(i+1)] = locals()[k+'_'+str(i+1)][0]\n",
    "            locals()['lev'+str(i+1)] = locals()['ta_'+str(i+1)][1]\n",
    "\n",
    "except KeyError:\n",
    "    print(str(i+1)+' not available')"
   ]
  },
  {
   "cell_type": "code",
   "execution_count": 6,
   "id": "595f1b3e-519f-42e8-acee-b79eb9c8c95c",
   "metadata": {},
   "outputs": [],
   "source": [
    "#####Constants\n",
    "Cp = 1004           #J/kg/K\n",
    "Rd = 287            #J/kg/K\n",
    "con= Rd/Cp"
   ]
  },
  {
   "cell_type": "code",
   "execution_count": 33,
   "id": "6c4567bd-17a2-4433-93f5-293ad49c828f",
   "metadata": {},
   "outputs": [],
   "source": [
    "theta_850 = ta1[:,1,:,:]*(ps1/85000)**con"
   ]
  },
  {
   "cell_type": "code",
   "execution_count": 34,
   "id": "ee621f8f-33b8-418c-89b1-4fe921fd7aa9",
   "metadata": {},
   "outputs": [],
   "source": [
    "M = tas1 - theta_850"
   ]
  },
  {
   "cell_type": "code",
   "execution_count": 41,
   "id": "530e9f95-11a3-4352-81b8-0afb71fc3be6",
   "metadata": {},
   "outputs": [
    {
     "data": {
      "text/plain": [
       "-1.0266560242378786e+20"
      ]
     },
     "execution_count": 41,
     "metadata": {},
     "output_type": "execute_result"
    }
   ],
   "source": [
    "np.min(M)"
   ]
  },
  {
   "cell_type": "code",
   "execution_count": 172,
   "id": "b2d29fe1-b844-4a65-9fd6-124cfd2cbf44",
   "metadata": {},
   "outputs": [],
   "source": [
    "test = 9"
   ]
  },
  {
   "cell_type": "code",
   "execution_count": 185,
   "id": "d9d92966-edea-4214-a8e5-454a6d44fdd4",
   "metadata": {},
   "outputs": [
    {
     "data": {
      "text/plain": [
       "13"
      ]
     },
     "execution_count": 185,
     "metadata": {},
     "output_type": "execute_result"
    }
   ],
   "source": [
    "test = test+1\n",
    "test"
   ]
  },
  {
   "cell_type": "code",
   "execution_count": 186,
   "id": "8186f75f-18d2-4b6a-938a-15ab22fd1fe4",
   "metadata": {},
   "outputs": [],
   "source": [
    "x_lat = lat1\n",
    "lat_ind1 = np.where(x_lat == x_lat.flat[np.abs(x_lat - (30)).argmin()])[0]\n",
    "lat_ind2 = np.where(x_lat == x_lat.flat[np.abs(x_lat - (70)).argmin()])[0]    \n",
    "\n",
    "x_lon = lon1\n",
    "lon_ind1 = np.where(x_lon == x_lon.flat[np.abs(x_lon - (-16)).argmin()])[0]\n",
    "lon_ind2 = np.where(x_lon == x_lon.flat[np.abs(x_lon - (-1)).argmin()])[0]\n",
    "\n",
    "x_sfcWind = sfcWind1\n",
    "m_sfcWind = x_sfcWind[test,lat_ind1[0]:lat_ind2[0],lon_ind1[0]:lon_ind2[0]]\n",
    "\n",
    "x_M = M\n",
    "m_M = x_M[test,lat_ind1[0]:lat_ind2[0],lon_ind1[0]:lon_ind2[0]]"
   ]
  },
  {
   "cell_type": "code",
   "execution_count": 187,
   "id": "e19cd079-a528-46dd-9883-2d702e1fc390",
   "metadata": {},
   "outputs": [],
   "source": [
    "cao = np.array(m_M)\n",
    "sw  = np.array(m_sfcWind)"
   ]
  },
  {
   "cell_type": "code",
   "execution_count": 188,
   "id": "97db96f4-6086-4e6d-a0c7-5c6e3cac8108",
   "metadata": {},
   "outputs": [
    {
     "name": "stderr",
     "output_type": "stream",
     "text": [
      "<ipython-input-188-68ba4d7fb507>:3: UserWarning: No contour levels were found within the data range.\n",
      "  f = plt.contour(x_lon[lon_ind1[0]:lon_ind2[0]], x_lat[lat_ind1[0]:lat_ind2[0]], cao,\n"
     ]
    },
    {
     "data": {
      "image/png": "[encoded data removed]",
      "text/plain": [
       "<Figure size 720x720 with 2 Axes>"
      ]
     },
     "metadata": {
      "needs_background": "light"
     },
     "output_type": "display_data"
    }
   ],
   "source": [
    "fig = plt.figure(figsize=(10,10))\n",
    "scatter = plt.pcolormesh(x_lon[lon_ind1[0]:lon_ind2[0]], x_lat[lat_ind1[0]:lat_ind2[0]],sw)\n",
    "f = plt.contour(x_lon[lon_ind1[0]:lon_ind2[0]], x_lat[lat_ind1[0]:lat_ind2[0]], cao,\n",
    "                5,colors='white',levels=[2,4,6,8,10], linestyles='-')\n",
    "g = plt.contour(x_lon[lon_ind1[0]:lon_ind2[0]], x_lat[lat_ind1[0]:lat_ind2[0]], cao,\n",
    "                5,colors='white',levels=[-12,-10,-8,-6,-4,-2],linestyles='--')\n",
    "cbar = plt.colorbar(scatter)\n",
    "cbar.ax.set_ylabel('Surface wind speed (m/s)')\n",
    "plt.clabel(f, inline=True, fontsize=10)\n",
    "plt.clabel(g, inline=True, fontsize=10)\n",
    "plt.title('U10[m/s] 20100120-20100131\\nfor '+modname[l])\n",
    "# plt.xticks(np.arange(-16, 0, step=2))\n",
    "# plt.yticks(np.arange(55, 63, step=1))\n",
    "plt.savefig('/glade/u/home/geethma/link/GCMres/pU10'+modname[l]+'.png')"
   ]
  },
  {
   "cell_type": "markdown",
   "id": "d11dc221-20f4-43fe-8166-d41c75acceb6",
   "metadata": {},
   "source": [
    "## wind vs M"
   ]
  },
  {
   "cell_type": "code",
   "execution_count": null,
   "id": "b39ace85-12a3-494d-a397-f9addb38288b",
   "metadata": {},
   "outputs": [],
   "source": [
    "gcm_cao = cao.reshape(-1)\n",
    "gcm_sw  = sw.reshape(-1)"
   ]
  },
  {
   "cell_type": "code",
   "execution_count": null,
   "id": "b7d462f9-ca4f-4bc1-9745-6affb8b09ddf",
   "metadata": {},
   "outputs": [],
   "source": [
    "\n",
    "gcm_sw = gcm_sw[gcm_cao>(-30)]\n",
    "gcm_cao = gcm_cao[gcm_cao>(-30)]"
   ]
  },
  {
   "cell_type": "code",
   "execution_count": null,
   "id": "ae710199-746b-4c5b-a0b4-1bf6587b80dc",
   "metadata": {},
   "outputs": [],
   "source": [
    "from scipy import stats\n",
    "from skmisc.loess import loess\n",
    "\n",
    "bin_means, bin_edges, binnumber = stats.binned_statistic(gcm_cao, gcm_sw, 'mean', bins=200)\n",
    "bin_width = (bin_edges[1] - bin_edges[0])\n",
    "bin_centers = bin_edges[1:] - bin_width/2\n",
    "\n",
    "gcm_bin_means = bin_means[~np.isnan(bin_means)]\n",
    "gcm_bin_centers = bin_centers[~np.isnan(bin_means)]\n",
    "\n",
    "x = np.array(gcm_bin_centers)\n",
    "y = np.array(gcm_bin_means)\n",
    "ind = np.argsort(x)\n",
    "xx = np.sort(x)\n",
    "yy = y[ind]\n",
    "\n",
    "gcml = loess(xx,yy)\n",
    "gcml.fit()\n",
    "gcmpred = gcml.predict(xx, stderror=True)\n",
    "gcmconf = gcmpred.confidence()\n",
    "\n",
    "gcmloess = gcmpred.values\n",
    "gcmll = gcmconf.lower\n",
    "gcmul = gcmconf.upper\n",
    "gcmxx = xx"
   ]
  },
  {
   "cell_type": "code",
   "execution_count": null,
   "id": "64af3fe8-9f9c-4a3f-8c6c-2bb0bd967714",
   "metadata": {},
   "outputs": [],
   "source": [
    "plt.plot(gcmxx,gcmloess,label=modname[l])\n",
    "plt.scatter(macxx, macloess, label = 'MACLWP+MERRA2')\n",
    "plt.title('surface wind vs CAOI')\n",
    "plt.xlabel('CAOI [K]')\n",
    "plt.ylabel('sfc wind [m/s]')\n",
    "plt.legend()"
   ]
  },
  {
   "cell_type": "code",
   "execution_count": null,
   "id": "f5a3250b-3ed4-43f5-bfad-017ef8e4fea5",
   "metadata": {},
   "outputs": [],
   "source": [
    "import glob\n",
    "merralist = np.sort(glob.glob('../data_merra/lat_30_70/un/MERRA2_300.inst3_3d_asm_Np.20100130.SUB.nc'))\n",
    "# maclist = np.sort(glob.glob('../MACLWP_dailymean/take/wind1deg*.nc4'))"
   ]
  },
  {
   "cell_type": "code",
   "execution_count": null,
   "id": "d69565a9-8d8c-4b1a-a39f-4c0be03d7a8d",
   "metadata": {},
   "outputs": [],
   "source": [
    "mac_wind  = []\n",
    "mac_theta = []\n",
    "\n",
    "\n",
    "for i in range(len(merralist)): #len(maclist)\n",
    "    d_path = merralist[i]\n",
    "    data   = xr.open_dataset(d_path)\n",
    "    mlat = data.variables['lat'][:]\n",
    "    mlon = data.variables['lon'][:]\n",
    "    mlev = data.variables['lev'][:]\n",
    "    mU   = data.variables['U'][:]\n",
    "    mV   = data.variables['V'][:]\n",
    "    mT   = data.variables['T'][:]\n",
    "    \n",
    "    # ddpath = maclist[i]\n",
    "    # ddata   = xr.open_dataset(ddpath)\n",
    "    # sfcwind= ddata.variables['sfcwind'][:]\n",
    "    # slat = ddata.variables['lat'][:]\n",
    "    # slon = ddata.variables['lon'][:]\n",
    "    \n",
    "    \n",
    "    \n",
    "    if i==0:\n",
    "        maskm = np.ones((len(mlat),len(mlon)))\n",
    "\n",
    "        for a in range(len(mlat)):\n",
    "            for b in range(len(mlon)):\n",
    "                if globe.is_land(mlat[a], mlon[b])==True:\n",
    "                    maskm[a,b] = 0\n",
    "    \n",
    "    mw     = np.sqrt(np.add(mU[0,0,:,:]**2, mV[0,0,:,:]**2))\n",
    "    mtheta = np.subtract(mT[0,0,:,:], np.multiply(mT[0,1,:,:], (100/85)**(Rd/Cp)))\n",
    "    \n",
    "    mmw    = np.array(np.multiply(maskm,mw)).reshape(-1)\n",
    "    mmtheta= np.array(np.multiply(maskm,mtheta)).reshape(-1)\n",
    "    \n",
    "    mac_wind.extend(mmw)\n",
    "    mac_theta.extend(mmtheta)\n",
    "    "
   ]
  },
  {
   "cell_type": "code",
   "execution_count": null,
   "id": "5fc68471-f423-4f4d-92f5-ac0b6b898fdf",
   "metadata": {},
   "outputs": [],
   "source": [
    "mac_wind  = np.array(mac_wind)\n",
    "mac_theta = np.array(mac_theta)"
   ]
  },
  {
   "cell_type": "code",
   "execution_count": null,
   "id": "457a5a36-e9f3-48ee-b4c6-ce07d9526372",
   "metadata": {},
   "outputs": [],
   "source": [
    "mac_theta_nan = mac_theta[~np.isnan(mac_theta)]\n",
    "mac_wind_nan = mac_wind[~np.isnan(mac_theta)]"
   ]
  },
  {
   "cell_type": "code",
   "execution_count": null,
   "id": "e44dbc8a-386b-4710-9807-e0ec3b17a51d",
   "metadata": {},
   "outputs": [],
   "source": [
    "from scipy import stats\n",
    "from skmisc.loess import loess\n",
    "\n",
    "bin_means, bin_edges, binnumber = stats.binned_statistic(mac_theta_nan, mac_wind_nan, 'mean', bins=200)\n",
    "bin_width = (bin_edges[1] - bin_edges[0])\n",
    "bin_centers = bin_edges[1:] - bin_width/2\n",
    "\n",
    "mac_bin_means = bin_means[~np.isnan(bin_means)]\n",
    "mac_bin_centers = bin_centers[~np.isnan(bin_means)]\n",
    "\n",
    "x = np.array(mac_bin_centers)\n",
    "y = np.array(mac_bin_means)\n",
    "ind = np.argsort(x)\n",
    "xx = np.sort(x)\n",
    "yy = y[ind]\n",
    "\n",
    "macl = loess(xx,yy)\n",
    "macl.fit()\n",
    "macpred = macl.predict(xx, stderror=True)\n",
    "macconf = macpred.confidence()\n",
    "\n",
    "macloess = macpred.values\n",
    "macll = macconf.lower\n",
    "macul = macconf.upper\n",
    "macxx = xx\n",
    "\n",
    "    "
   ]
  },
  {
   "cell_type": "markdown",
   "id": "87398f8d-6b62-4f4e-8219-8b4a1f0d7eb8",
   "metadata": {},
   "source": [
    "### west of scotland contour"
   ]
  },
  {
   "cell_type": "markdown",
   "id": "af57d001-2805-4735-916f-8ddfcfc9daf0",
   "metadata": {},
   "source": [
    "# DYAMOND"
   ]
  },
  {
   "cell_type": "code",
   "execution_count": null,
   "id": "62fa9686-7e6c-45ba-a996-6c1521d85c7f",
   "metadata": {},
   "outputs": [],
   "source": [
    "d_path = '/glade/u/home/geethma/link/ifs_oper_T1279_2020012000.nc'\n",
    "data =xr.open_dataset(d_path)\n",
    "lon  = data.variables['lon'][:]  #(lon: 2560)\n",
    "lat  = data.variables['lat'][:]  #(lat: 1280)\n",
    "time = data.variables['time'][:] #1\n",
    "lev  = data.variables['lev'][:]\n",
    "t    = data.variables['t'][:]\n",
    "u    = data.variables['u'][:]\n",
    "v    = data.variables['v'][:]\n",
    "sst  = data.variables['sst'][:]\n",
    "hyam = data.variables['hyam'][:]"
   ]
  },
  {
   "cell_type": "code",
   "execution_count": null,
   "id": "53faa62e-b28a-410d-a896-dc8cdf2ff069",
   "metadata": {},
   "outputs": [],
   "source": [
    "thetaD = np.multiply(t[:,110,:,:],((100/85)**con))\n",
    "MD = np.subtract(sst,thetaD)"
   ]
  },
  {
   "cell_type": "code",
   "execution_count": null,
   "id": "8529a0bd-2b27-48cd-9df8-2cdcb77cce48",
   "metadata": {},
   "outputs": [],
   "source": [
    "x_latD = np.array(lat)\n",
    "lat_ind1 = np.where(x_latD == x_latD.flat[np.abs(x_latD - (63)).argmin()])[0]\n",
    "lat_ind2 = np.where(x_latD == x_latD.flat[np.abs(x_latD - (55)).argmin()])[0]    \n",
    "\n",
    "x_lonD = np.array(lon-180)\n",
    "lon_ind1 = np.where(x_lonD == x_lonD.flat[np.abs(x_lonD - (-16)).argmin()])[0]\n",
    "lon_ind2 = np.where(x_lonD == x_lonD.flat[np.abs(x_lonD - (-1)).argmin()])[0]\n",
    "\n",
    "x_sfcWindD = np.sqrt(u[:,110,:,:]**2 + v[:,110,:,:]**2)\n",
    "m_sfcWindD = x_sfcWindD[:,lat_ind1[0]:lat_ind2[0],lon_ind1[0]:lon_ind2[0]]\n",
    "\n",
    "m_MD = MD[:,lat_ind1[0]:lat_ind2[0],lon_ind1[0]:lon_ind2[0]]"
   ]
  },
  {
   "cell_type": "code",
   "execution_count": null,
   "id": "3689e8b6-b307-4178-9cd6-d8a2add84a24",
   "metadata": {},
   "outputs": [],
   "source": [
    "lon[1]-lon[0]"
   ]
  },
  {
   "cell_type": "code",
   "execution_count": null,
   "id": "4fb265a3-7ca3-4f83-ae50-f7bc8c579851",
   "metadata": {},
   "outputs": [],
   "source": [
    "lon"
   ]
  },
  {
   "cell_type": "code",
   "execution_count": null,
   "id": "a677d7ea-9fc5-428d-b136-eef3ace1ab9d",
   "metadata": {},
   "outputs": [],
   "source": [
    "caoD = np.mean(m_MD,axis=0)\n",
    "swD  = np.mean(m_sfcWindD,axis=0)"
   ]
  },
  {
   "cell_type": "code",
   "execution_count": null,
   "id": "ae48da72-47e7-4bce-adab-719482448818",
   "metadata": {},
   "outputs": [],
   "source": [
    "from matplotlib import cm\n",
    "fig = plt.figure(figsize=(10,10))\n",
    "scatter = plt.pcolormesh(x_lonD[lon_ind1[0]:lon_ind2[0]], x_latD[lat_ind1[0]:lat_ind2[0]],swD)\n",
    "f = plt.contour(x_lonD[lon_ind1[0]:lon_ind2[0]], x_latD[lat_ind1[0]:lat_ind2[0]], caoD,\n",
    "                5,colors='white',levels=[0,2,4,6,8,10,12],linestyles='-')\n",
    "g = plt.contour(x_lonD[lon_ind1[0]:lon_ind2[0]], x_latD[lat_ind1[0]:lat_ind2[0]], caoD,\n",
    "                5,colors='white',levels=[-12,-8,-4],linestyles='--')\n",
    "cbar = plt.colorbar(scatter)\n",
    "cbar.ax.set_ylabel('Surface wind speed (m/s)')\n",
    "plt.clabel(f, inline=True, fontsize=10)\n",
    "plt.clabel(g, inline=True, fontsize=10)\n",
    "plt.title('U10[m/s] 2020012000\\nfor ECMWF (T1279 IFS model)')\n",
    "# plt.xticks(np.arange(-16, 0, step=2))\n",
    "# plt.yticks(np.arange(55, 63, step=1))\n",
    "plt.savefig('/glade/u/home/geethma/link/GCMres/U10_DYAMOND.png')"
   ]
  },
  {
   "cell_type": "markdown",
   "id": "259ff5d8-4f10-4b35-997c-7a1c65139dea",
   "metadata": {},
   "source": [
    "## whole globe CESM2"
   ]
  },
  {
   "cell_type": "code",
   "execution_count": null,
   "id": "8de0c687-7cac-4097-9847-2e44a31401b3",
   "metadata": {},
   "outputs": [],
   "source": [
    "thetaD = np.multiply(t,((100/85)**con))\n",
    "MD = np.subtract(sst,thetaD)"
   ]
  },
  {
   "cell_type": "code",
   "execution_count": null,
   "id": "5fecfcb2-5871-4377-999b-60e3dec81e24",
   "metadata": {},
   "outputs": [],
   "source": [
    "x_sfcWindD = np.sqrt(u**2 + v**2)"
   ]
  },
  {
   "cell_type": "code",
   "execution_count": null,
   "id": "50a02dc3-1f97-4991-9c49-b9a7b2ffa6b7",
   "metadata": {},
   "outputs": [],
   "source": [
    "MDD = np.mean(np.mean(MD,axis=0),axis=2)"
   ]
  },
  {
   "cell_type": "code",
   "execution_count": null,
   "id": "7d98a027-3411-4bad-951a-51a82c930cc8",
   "metadata": {},
   "outputs": [],
   "source": [
    "m_sfcWindD = np.mean(np.mean(x_sfcWindD,axis=0),axis=0)\n",
    "np.shape(m_sfcWindD)"
   ]
  },
  {
   "cell_type": "code",
   "execution_count": null,
   "id": "c51643f7-a344-4188-a584-b718ebe1ed98",
   "metadata": {},
   "outputs": [],
   "source": [
    "fig = plt.figure(figsize=(10,10))\n",
    "scatter = plt.contourf(lon, lat,m_sfcWindD)\n",
    "f = plt.contour(lon, lat, MDD,\n",
    "                5,colors='white')\n",
    "# g = plt.contour(lon, lat, MDD,\n",
    "#                 5,colors='white',levels=[-12,-8,-4],linestyles='--')\n",
    "cbar = plt.colorbar(scatter)\n",
    "cbar.ax.set_ylabel('Surface wind speed (m/s)')\n",
    "plt.clabel(f, inline=True, fontsize=10)\n",
    "plt.clabel(g, inline=True, fontsize=10)\n",
    "plt.title('U10[m/s] 2020012000\\nfor DYAMOND')"
   ]
  },
  {
   "cell_type": "code",
   "execution_count": null,
   "id": "04556bc5-81fe-48fa-a066-8e169bf40c6b",
   "metadata": {},
   "outputs": [],
   "source": [
    "fig = plt.figure(figsize=(12,8))\n",
    "scatter = plt.contourf(lon1, lat1,sfcWind1)\n",
    "# f = plt.contour(lon1, lat1,M,5,colors='white',levels=[0,4,8,12],linestyles='-')\n",
    "# g = plt.contour(lon1, lat1,M,5,colors='white',levels=[-12,-8,-4],linestyles='--')\n",
    "cbar = plt.colorbar(scatter)\n",
    "cbar.ax.set_ylabel('Surface wind speed (m/s)')\n",
    "plt.clabel(f, inline=True, fontsize=10)\n",
    "plt.clabel(g, inline=True, fontsize=10)"
   ]
  },
  {
   "cell_type": "markdown",
   "id": "cba4e9aa-162d-4e1a-8f5d-c26ff2544481",
   "metadata": {},
   "source": [
    "# MACLWP"
   ]
  },
  {
   "cell_type": "code",
   "execution_count": null,
   "id": "fd7fdaf3-43ba-40c3-a209-9d278cf7a271",
   "metadata": {},
   "outputs": [],
   "source": [
    "d_path = '../MERRA2_300.inst3_3d_asm_Np.20100130.SUB.nc'\n",
    "data   = xr.open_dataset(d_path)\n",
    "\n",
    "mlat = data.variables['lat'][:]\n",
    "mlon = data.variables['lon'][:]\n",
    "mlev = data.variables['lev'][:]\n",
    "mU   = data.variables['U'][:]\n",
    "mV   = data.variables['V'][:]\n",
    "mT   = data.variables['T'][:]\n",
    "\n",
    "mw     = np.sqrt(np.add(mU[0,0,:,:]**2, mV[0,0,:,:]**2))\n",
    "mtheta = np.subtract(mT[0,0,:,:], np.multiply(mT[0,8,:,:], (10/8)**(Rd/Cp)))"
   ]
  },
  {
   "cell_type": "code",
   "execution_count": null,
   "id": "7bb0e04f-c2b0-4c32-b59a-4d690c5215a7",
   "metadata": {},
   "outputs": [],
   "source": [
    "mw_nan     = np.array(mw[:, ~np.isnan(mw).any(axis=0)]).reshape(-1)\n",
    "mtheta_nan = np.array(mtheta[:, ~np.isnan(mw).any(axis=0)]).reshape(-1)"
   ]
  },
  {
   "cell_type": "code",
   "execution_count": null,
   "id": "daeeb308-fba9-42e0-b23f-ec14ac87ceac",
   "metadata": {},
   "outputs": [],
   "source": [
    "from matplotlib import cm\n",
    "fig = plt.figure(figsize=(10,10))\n",
    "scatter = plt.pcolormesh(mlon, mlat,mw)\n",
    "f = plt.contour(mlon, mlat, mtheta,\n",
    "                5,colors='white',levels=[0,2,4,6,8,10,12],linestyles='-')\n",
    "g = plt.contour(mlon, mlat, mtheta,\n",
    "                5,colors='white',levels=[-12,-8,-4],linestyles='--')\n",
    "cbar = plt.colorbar(scatter)\n",
    "cbar.ax.set_ylabel('Surface wind speed (m/s)')\n",
    "plt.clabel(f, inline=True, fontsize=10)\n",
    "plt.clabel(g, inline=True, fontsize=10)\n",
    "plt.title('U10[m/s] 2010013012Z\\nfor MACLWP')"
   ]
  }
 ],
 "metadata": {
  "kernelspec": {
   "display_name": "geethma-npl-kernel",
   "language": "python",
   "name": "geethma-npl-kernel"
  },
  "language_info": {
   "codemirror_mode": {
    "name": "ipython",
    "version": 3
   },
   "file_extension": ".py",
   "mimetype": "text/x-python",
   "name": "python",
   "nbconvert_exporter": "python",
   "pygments_lexer": "ipython3",
   "version": "3.9.4"
  }
 },
 "nbformat": 4,
 "nbformat_minor": 5
}
