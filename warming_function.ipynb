{
 "cells": [
  {
   "cell_type": "code",
   "execution_count": 1,
   "id": "8b14d6fb-1568-4c67-99bc-2b96a9c2c78e",
   "metadata": {},
   "outputs": [],
   "source": [
    "import netCDF4 as nc\n",
    "import glob\n",
    "import numpy as np\n",
    "import xarray as xr\n",
    "import cftime\n",
    "\n",
    "pp_path_scratch='/glade/scratch/geethma/cmip6'"
   ]
  },
  {
   "cell_type": "code",
   "execution_count": null,
   "id": "dd6cc5c4-e6db-48cc-b3f2-eb51db05ccd0",
   "metadata": {},
   "outputs": [],
   "source": [
    "#'/glade/scratch/geethma/cmip6/surface/\n",
    "#CMIP6.CMIP.NCAR.CESM2-WACCM.abrupt-4xCO2.r1i1p1f1.day.tas.gn.v20190425.tas_day_CESM2-WACCM_abrupt-4xCO2_r1i1p1f1_gn_00210101-00301231.nc'"
   ]
  },
  {
   "cell_type": "code",
   "execution_count": 46,
   "id": "a7e5840d-6b7a-4f7d-8dd2-1de2cd855888",
   "metadata": {},
   "outputs": [],
   "source": [
    "def read_warming(level, modn, exper, varnm, n_yr):\n",
    "    path    = pp_path_scratch+'/'+level+'/'\n",
    "     \n",
    "    ncname  = 'CMIP6.CMIP.*'+modn+'.'+exper+'.*'+varnm\n",
    "     \n",
    "    fn      = np.sort(glob.glob(path+ncname+'*nc*'))\n",
    "    \n",
    "    n       = -1\n",
    "\n",
    "    data     = []\n",
    "    \n",
    "    num_yr = n_yr\n",
    "    \n",
    "    for i in range(len(fn)):\n",
    "        f       = nc.Dataset(fn[n])\n",
    "        time    = f.variables['time']\n",
    "        if level=='p_level':\n",
    "            lev = f.variables['plev']\n",
    "        else:\n",
    "            lev = []\n",
    "    \n",
    "        if n == -1:\n",
    "            if len(time) > n_yr:\n",
    "                print(fn[n])\n",
    "                f       = nc.Dataset(fn[n])\n",
    "                lats    = f.variables['lat']\n",
    "                lons    = f.variables['lon']\n",
    "                datai   = f.variables[varnm]\n",
    "                data.extend(np.array(datai[-n_yr::,:,:]))\n",
    "                break\n",
    "        \n",
    "        if len(time) <= num_yr:\n",
    "            print(fn[n])\n",
    "            f       = nc.Dataset(fn[n])\n",
    "            lats    = f.variables['lat']\n",
    "            lons    = f.variables['lon']\n",
    "            datai   = f.variables[varnm]\n",
    "            data.extend(np.array(datai))\n",
    "            n       = n-1\n",
    "            num_yr  = num_yr - len(time)\n",
    "            \n",
    "        if len(time) > num_yr:\n",
    "            print(fn[n])\n",
    "            f       = nc.Dataset(fn[n])\n",
    "            lats    = f.variables['lat']\n",
    "            lons    = f.variables['lon']\n",
    "            datai   = f.variables[varnm]\n",
    "            data.extend(np.array(datai[-num_yr::,:,:]))\n",
    "            break\n",
    "\n",
    "\n",
    "    return(lats,lons,lev,np.array(data))"
   ]
  },
  {
   "cell_type": "code",
   "execution_count": 52,
   "id": "423cbd6f-b7dc-4b2e-ae7a-82c1aeff015e",
   "metadata": {},
   "outputs": [
    {
     "name": "stdout",
     "output_type": "stream",
     "text": [
      "/glade/scratch/geethma/cmip6/p_level/CMIP6.CMIP.NCAR.CESM2-WACCM.abrupt-4xCO2.r1i1p1f1.day.ta.gn.v20190425.ta_day_CESM2-WACCM_abrupt-4xCO2_r1i1p1f1_gn_01500101-01510101.nc\n"
     ]
    },
    {
     "name": "stderr",
     "output_type": "stream",
     "text": [
      "/glade/scratch/geethma/ipykernel_90969/3690007392.py:38: UserWarning: WARNING: missing_value not used since it\n",
      "cannot be safely cast to variable data type\n",
      "  data.extend(np.array(datai))\n"
     ]
    },
    {
     "name": "stdout",
     "output_type": "stream",
     "text": [
      "/glade/scratch/geethma/cmip6/p_level/CMIP6.CMIP.NCAR.CESM2-WACCM.abrupt-4xCO2.r1i1p1f1.day.ta.gn.v20190425.ta_day_CESM2-WACCM_abrupt-4xCO2_r1i1p1f1_gn_01400101-01491231.nc\n"
     ]
    },
    {
     "name": "stderr",
     "output_type": "stream",
     "text": [
      "/glade/scratch/geethma/ipykernel_90969/3690007392.py:48: UserWarning: WARNING: missing_value not used since it\n",
      "cannot be safely cast to variable data type\n",
      "  data.extend(np.array(datai[-num_yr::,:,:]))\n"
     ]
    }
   ],
   "source": [
    "test = read_warming('p_level','CESM2-WACCM','abrupt-4xCO2','ta',1040)"
   ]
  },
  {
   "cell_type": "code",
   "execution_count": 55,
   "id": "a79a6f53-f329-41e1-aca4-9bcb101406be",
   "metadata": {},
   "outputs": [
    {
     "data": {
      "text/plain": [
       "(1040, 8, 192, 288)"
      ]
     },
     "execution_count": 55,
     "metadata": {},
     "output_type": "execute_result"
    }
   ],
   "source": [
    "np.shape(test[3])\n"
   ]
  },
  {
   "cell_type": "code",
   "execution_count": null,
   "id": "a9ff5f71-bb21-42d2-b9b3-9a5207697f41",
   "metadata": {},
   "outputs": [],
   "source": []
  }
 ],
 "metadata": {
  "kernelspec": {
   "display_name": "wgh",
   "language": "python",
   "name": "wgh"
  },
  "language_info": {
   "codemirror_mode": {
    "name": "ipython",
    "version": 3
   },
   "file_extension": ".py",
   "mimetype": "text/x-python",
   "name": "python",
   "nbconvert_exporter": "python",
   "pygments_lexer": "ipython3",
   "version": "3.9.7"
  }
 },
 "nbformat": 4,
 "nbformat_minor": 5
}
