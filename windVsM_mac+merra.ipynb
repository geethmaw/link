{
 "cells": [
  {
   "cell_type": "code",
   "execution_count": 1,
   "id": "06266b01-7e4a-43de-9476-2c3716964dd0",
   "metadata": {},
   "outputs": [],
   "source": [
    "import numpy as np\n",
    "import matplotlib.pyplot as plt\n",
    "import netCDF4 as nc\n",
    "import xarray as xr\n",
    "from global_land_mask import globe"
   ]
  },
  {
   "cell_type": "code",
   "execution_count": 2,
   "id": "8254c7de-fcf3-4588-87c6-9cb97df16362",
   "metadata": {},
   "outputs": [],
   "source": [
    "#####Constants\n",
    "Cp = 1004           #J/kg/K\n",
    "Rd = 287            #J/kg/K"
   ]
  },
  {
   "cell_type": "code",
   "execution_count": 3,
   "id": "6488c218-56a0-4eb7-bf6d-9fd703f57351",
   "metadata": {},
   "outputs": [],
   "source": [
    "import glob\n",
    "merlist = np.sort(glob.glob('../data_merra/lat_30_70/new/MERRA2_*.nc'))\n",
    "maclist = np.sort(glob.glob('../MACLWP_dailymean/take/wind1deg*.nc4'))"
   ]
  },
  {
   "cell_type": "code",
   "execution_count": 65,
   "id": "f8dfb2e1-590a-4ded-8f21-c15b5d76cb8c",
   "metadata": {},
   "outputs": [],
   "source": [
    "for i in range(len(merlist)): #len(maclist)\n",
    "    d_path = merlist[i]\n",
    "    data   = nc.Dataset(d_path)\n",
    "    merlat = data.variables['lat'][:]\n",
    "    merlon = data.variables['lon'][:]\n",
    "    merlev = data.variables['lev'][:]\n",
    "    merT   = data.variables['T'][:] #(time, lev, lat, lon)\n",
    "\n",
    "for i in range(len(maclist)): \n",
    "    ddpath = maclist[i]\n",
    "    ddata  = nc.Dataset(ddpath)\n",
    "    macw   = ddata.variables['sfcwind'][:]\n",
    "    maclat = ddata.variables['lat'][:]\n",
    "    maclon = ddata.variables['lon'][:]\n",
    "    \n",
    "\n",
    "    "
   ]
  },
  {
   "cell_type": "code",
   "execution_count": 66,
   "id": "ed761f8b-4bd1-4fbf-ac66-94a394e33eb9",
   "metadata": {},
   "outputs": [],
   "source": [
    "mac_lon = maclon-180.\n",
    "mac_lon[mac_lon > 180] = mac_lon[mac_lon > 180]-360\n",
    "mac_lon = np.array(mac_lon)\n",
    "mer_lon = np.array(merlon)"
   ]
  },
  {
   "cell_type": "code",
   "execution_count": 67,
   "id": "729f1de5-f707-4f22-9086-dbd16683a6ad",
   "metadata": {},
   "outputs": [],
   "source": [
    "mac_lat = np.array(maclat)\n",
    "mer_lat = np.flip(merlat)\n",
    "mer_lat = np.array(mer_lat)"
   ]
  },
  {
   "cell_type": "code",
   "execution_count": 70,
   "id": "5a258a59-7d77-423d-a31e-d165700da322",
   "metadata": {},
   "outputs": [],
   "source": [
    "mer_T = np.array(merT[:,:,::-1,:])"
   ]
  },
  {
   "cell_type": "code",
   "execution_count": null,
   "id": "b5758cfb-8685-4092-8ca6-cc76c427156a",
   "metadata": {},
   "outputs": [],
   "source": []
  }
 ],
 "metadata": {
  "kernelspec": {
   "display_name": "geethma-npl-kernel",
   "language": "python",
   "name": "geethma-npl-kernel"
  },
  "language_info": {
   "codemirror_mode": {
    "name": "ipython",
    "version": 3
   },
   "file_extension": ".py",
   "mimetype": "text/x-python",
   "name": "python",
   "nbconvert_exporter": "python",
   "pygments_lexer": "ipython3",
   "version": "3.9.4"
  }
 },
 "nbformat": 4,
 "nbformat_minor": 5
}
