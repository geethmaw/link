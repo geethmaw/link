{
 "cells": [
  {
   "cell_type": "markdown",
   "id": "58d7ce20-1938-408e-9127-5fb05c1492c9",
   "metadata": {},
   "source": [
    "##### Created on 05/17/2022\n",
    "\n",
    "##### This notebook is to get the GCM wind vs M relationship for the oceans over 30N to 70N. Will be compared with MERRA2+MAC and PPE outputs. Improved from 'GCMwindVsM-daily'\n",
    "\n",
    "##### Updating to retrieve PPE daily data and gcm daily data. Used PSL/SST\n",
    "\n",
    "##### 5/18/2022 Updating to check 50S to 50N gcms and PPE\n",
    "\n",
    "##### 5/19/2022 Updating to check 50S to 50N observations in theta at 800hPa\n"
   ]
  },
  {
   "cell_type": "markdown",
   "id": "a22bf429-f794-4b8c-b26c-5a6406086316",
   "metadata": {},
   "source": [
    "### Conclusions:"
   ]
  },
  {
   "cell_type": "code",
   "execution_count": 35,
   "id": "52d222b1-29ed-4aa8-96eb-a715561eff4e",
   "metadata": {},
   "outputs": [],
   "source": [
    "import xarray as xr\n",
    "import matplotlib.pyplot as plt\n",
    "import numpy as np\n",
    "from matplotlib.cm import get_cmap\n",
    "from readGCMs import read_var_mod\n",
    "import calendar\n",
    "from global_land_mask import globe\n",
    "import glob"
   ]
  },
  {
   "cell_type": "code",
   "execution_count": 2,
   "id": "33c44bda-6eb9-4905-bda8-df226f73160b",
   "metadata": {},
   "outputs": [],
   "source": [
    "#####Constants\n",
    "Cp = 1004           #J/kg/K\n",
    "Rd = 287            #J/kg/K\n",
    "con= Rd/Cp"
   ]
  },
  {
   "cell_type": "code",
   "execution_count": 3,
   "id": "b33a8c3c-26e5-45e4-9bb1-16e0ef05a125",
   "metadata": {},
   "outputs": [
    {
     "data": {
      "text/plain": [
       "0.2858565737051793"
      ]
     },
     "execution_count": 3,
     "metadata": {},
     "output_type": "execute_result"
    }
   ],
   "source": [
    "con"
   ]
  },
  {
   "cell_type": "markdown",
   "id": "b8864158-5d79-48c0-a2d8-e0006f205073",
   "metadata": {},
   "source": [
    "# GCM"
   ]
  },
  {
   "cell_type": "code",
   "execution_count": 75,
   "id": "f38289d7-7c07-469d-ad6b-6cfb9a2edf1e",
   "metadata": {},
   "outputs": [],
   "source": [
    "modname = ['CESM2','CNRM-CM6-1','CESM2-WACCM',\n",
    "           'HadGEM3-GC31-LL','NorESM2-LM']\n",
    "varname = ['sfcWind', 'tas','psl'] #'sfcWind', 'hfss', 'hfls', 'tas', 'ps', 'psl',,'pr'\n",
    "pvarname= ['ta']\n",
    "conname = ['NCAR', 'CNRM-CERFACS','NCAR', 'MOHC', 'NCC'] \n",
    "ensname = ['r11i1p1f1', 'r1i1p1f2', 'r1i1p1f1', \n",
    "           'r1i1p1f3', 'r1i1p1f1']\n",
    "ggname  = ['gn', 'gr','gn', 'gn', 'gn']"
   ]
  },
  {
   "cell_type": "code",
   "execution_count": 76,
   "id": "4d13b611-d401-42ea-857d-b4dd7604558d",
   "metadata": {},
   "outputs": [],
   "source": [
    "l=0"
   ]
  },
  {
   "cell_type": "code",
   "execution_count": 77,
   "id": "5b7e40d4-ea28-4286-a15b-d704978e9675",
   "metadata": {},
   "outputs": [
    {
     "name": "stderr",
     "output_type": "stream",
     "text": [
      "/glade/work/geethma/research/codes/readGCMs.py:118: UserWarning: WARNING: missing_value not used since it\n",
      "cannot be safely cast to variable data type\n",
      "  data = f.variables[varnm][ind]\n"
     ]
    },
    {
     "name": "stdout",
     "output_type": "stream",
     "text": [
      "sfcWind\n",
      "tas\n",
      "psl\n",
      "ta\n",
      "CESM2\n",
      "sfcWind\n",
      "tas\n",
      "psl\n",
      "ta\n",
      "CNRM-CM6-1\n",
      "sfcWind\n",
      "tas\n",
      "psl\n",
      "ta\n",
      "CESM2-WACCM\n",
      "sfcWind\n",
      "tas\n",
      "psl\n",
      "ta\n",
      "HadGEM3-GC31-LL\n",
      "sfcWind\n",
      "tas\n",
      "psl\n",
      "ta\n",
      "NorESM2-LM\n"
     ]
    }
   ],
   "source": [
    "# try:\n",
    "for j in range(l,len(modname)): #\n",
    "\n",
    "    for i in varname: \n",
    "        locals()[i+'__'+str(j+1)] = read_var_mod(modn=modname[j], consort=conname[j], varnm=i, cmip='cmip6', exper='historical', ensmem=ensname[j], typevar='day', gg=ggname[j], read_p=False, time1=[2009, 12, 1], time2=[2012, 12, 31])\n",
    "        print(i)\n",
    "    for k in pvarname: \n",
    "        locals()[k+'__'+str(j+1)] = read_var_mod(modn=modname[j], consort=conname[j], varnm=k, cmip='cmip6', exper='historical', ensmem=ensname[j], typevar='day', gg=ggname[j], read_p=True, time1=[2009, 12, 1], time2=[2012, 12, 31])\n",
    "        print(k)\n",
    "    print(modname[j])\n",
    "        \n",
    "# except IndexError:\n",
    "#     print(str(j+1)+' not available')\n",
    "    "
   ]
  },
  {
   "cell_type": "code",
   "execution_count": 78,
   "id": "67fb0905-82a4-4147-afd2-94ac629bcc5a",
   "metadata": {},
   "outputs": [],
   "source": [
    "# i = l\n",
    "for i in range(l,1):\n",
    "    lat  = locals()['sfcWind__'+str(i+1)][2]\n",
    "    lon  = locals()['sfcWind__'+str(i+1)][3]\n",
    "    time = locals()['sfcWind__'+str(i+1)][4]\n",
    "\n",
    "    for j in varname:\n",
    "        locals()[j+str(i+1)] = locals()[j+'__'+str(i+1)][0]\n",
    "# \n",
    "    for k in pvarname:\n",
    "        locals()[k+str(i+1)] = locals()[k+'__'+str(i+1)][0]\n",
    "        locals()['lev'+str(i+1)] = locals()['ta__'+str(i+1)][1]"
   ]
  },
  {
   "cell_type": "code",
   "execution_count": 79,
   "id": "da8af6d5-823e-46a0-8ff0-1029c436c4e0",
   "metadata": {},
   "outputs": [
    {
     "data": {
      "text/plain": [
       "[masked_array(data=[100000.,  85000.,  70000.,  50000.,  25000.,  10000.,\n",
       "                      5000.,   1000.],\n",
       "              mask=False,\n",
       "        fill_value=1e+20)]"
      ]
     },
     "execution_count": 79,
     "metadata": {},
     "output_type": "execute_result"
    }
   ],
   "source": [
    "lev1"
   ]
  },
  {
   "cell_type": "code",
   "execution_count": 30,
   "id": "649261d6-7450-425b-9605-67aa3770ae81",
   "metadata": {},
   "outputs": [
    {
     "name": "stdout",
     "output_type": "stream",
     "text": [
      "38\n",
      "[[2.011e+03 4.000e+00 2.000e+00]\n",
      " [2.011e+03 5.000e+00 1.000e+00]\n",
      " [2.011e+03 6.000e+00 1.000e+00]\n",
      " [2.011e+03 7.000e+00 1.000e+00]\n",
      " [2.011e+03 8.000e+00 1.000e+00]\n",
      " [2.011e+03 9.000e+00 1.000e+00]\n",
      " [2.011e+03 1.000e+01 1.000e+00]\n",
      " [2.011e+03 1.100e+01 1.000e+00]\n",
      " [2.011e+03 1.200e+01 1.000e+00]\n",
      " [2.012e+03 1.000e+00 1.000e+00]\n",
      " [2.012e+03 2.000e+00 1.000e+00]\n",
      " [2.012e+03 3.000e+00 1.000e+00]\n",
      " [2.012e+03 4.000e+00 1.000e+00]\n",
      " [2.012e+03 5.000e+00 1.000e+00]\n",
      " [2.012e+03 6.000e+00 1.000e+00]\n",
      " [2.012e+03 7.000e+00 1.000e+00]\n",
      " [2.012e+03 8.000e+00 1.000e+00]\n",
      " [2.012e+03 9.000e+00 1.000e+00]\n",
      " [2.012e+03 1.000e+01 1.000e+00]\n",
      " [2.012e+03 1.100e+01 1.000e+00]\n",
      " [2.012e+03 1.200e+01 1.000e+00]\n",
      " [2.013e+03 1.000e+00 1.000e+00]\n",
      " [2.013e+03 2.000e+00 1.000e+00]\n",
      " [2.013e+03 3.000e+00 1.000e+00]\n",
      " [2.013e+03 4.000e+00 1.000e+00]\n",
      " [2.013e+03 5.000e+00 1.000e+00]\n",
      " [2.013e+03 6.000e+00 1.000e+00]\n",
      " [2.013e+03 7.000e+00 1.000e+00]\n",
      " [2.013e+03 8.000e+00 1.000e+00]\n",
      " [2.013e+03 9.000e+00 1.000e+00]\n",
      " [2.013e+03 1.000e+01 1.000e+00]\n",
      " [2.013e+03 1.100e+01 1.000e+00]\n",
      " [2.013e+03 1.200e+01 1.000e+00]\n",
      " [2.014e+03 1.000e+00 1.000e+00]\n",
      " [2.014e+03 2.000e+00 1.000e+00]\n",
      " [2.014e+03 3.000e+00 1.000e+00]\n",
      " [2.014e+03 4.000e+00 1.000e+00]\n",
      " [2.014e+03 5.000e+00 1.000e+00]]\n"
     ]
    }
   ],
   "source": [
    "print(len(time))\n",
    "print(time)"
   ]
  },
  {
   "cell_type": "code",
   "execution_count": 9,
   "id": "fd02b586-9248-4a56-8f67-1f5a2fe508ba",
   "metadata": {},
   "outputs": [
    {
     "data": {
      "image/png": "[encoded data removed]",
      "text/plain": [
       "<Figure size 432x288 with 1 Axes>"
      ]
     },
     "metadata": {
      "needs_background": "light"
     },
     "output_type": "display_data"
    }
   ],
   "source": [
    "l=0\n",
    "for i in range(l,len(modname)):\n",
    "    lat  = locals()['sfcWind__'+str(i+1)][2]\n",
    "    lon  = locals()['sfcWind__'+str(i+1)][3]\n",
    "    time = locals()['sfcWind__'+str(i+1)][4]\n",
    "\n",
    "    for j in varname:\n",
    "        locals()[j+str(i+1)] = locals()[j+'__'+str(i+1)][0]\n",
    "\n",
    "    for k in pvarname:\n",
    "        locals()[k+str(i+1)] = locals()[k+'__'+str(i+1)][0]\n",
    "        locals()['lev'+str(i+1)] = locals()['ta__'+str(i+1)][1]\n",
    "    \n",
    "    x_lat = np.array(lat)\n",
    "    lat_ind1 = np.where(x_lat == x_lat.flat[np.abs(x_lat - (-50)).argmin()])[0]\n",
    "    lat_ind2 = np.where(x_lat == x_lat.flat[np.abs(x_lat - (50)).argmin()])[0]    \n",
    "    lats = lat[lat_ind1[0]:lat_ind2[0]]\n",
    "\n",
    "    x_lon = lon\n",
    "    \n",
    "    maskm = np.ones((len(time),len(lats),len(lon)))\n",
    "\n",
    "    for a in range(len(lats)):\n",
    "        for b in range(len(lon)):\n",
    "            if globe.is_land(lats[a], lon[b])==True:\n",
    "                maskm[:,a,b] = 0\n",
    "    \n",
    "    theta_850 = locals()['ta'+str(i+1)][:,1,:,:]*(locals()['psl'+str(i+1)]/85000)**con\n",
    "    M = locals()['tas'+str(i+1)] - theta_850\n",
    "    \n",
    "    x_sfcWind = locals()['sfcWind'+str(i+1)]\n",
    "    m_sfcWind = x_sfcWind[:,lat_ind1[0]:lat_ind2[0],:]\n",
    "    lats = lat[lat_ind1[0]:lat_ind2[0]]\n",
    "\n",
    "    x_M = M\n",
    "    m_M = x_M[:,lat_ind1[0]:lat_ind2[0],:]\n",
    "    \n",
    "    cao = np.array(m_M)\n",
    "    sw  = np.array(m_sfcWind)\n",
    "    \n",
    "    plot_CAOI = np.array(np.multiply(maskm,cao))\n",
    "    wind      = np.array(np.multiply(maskm,sw))\n",
    "    \n",
    "    pl_theta  = plot_CAOI.reshape(-1)\n",
    "    pl_wind   = wind.reshape(-1)\n",
    "    \n",
    "    plot_theta = pl_theta[pl_theta>-40]\n",
    "    plot_wind  = pl_wind[pl_theta>-40]\n",
    "    \n",
    "    ind = np.argsort(plot_theta)\n",
    "    xx = np.sort(plot_theta)\n",
    "    yy = plot_wind[ind]\n",
    "    \n",
    "    indx = np.isnan(xx*yy)==False\n",
    "    \n",
    "    from scipy import stats\n",
    "    bin_means, bin_edges, binnumber = stats.binned_statistic(xx[indx], yy[indx], 'mean', bins=1000)\n",
    "    bin_means_x, bin_edges_x, binnumber_x = stats.binned_statistic(xx[indx], xx[indx], 'mean', bins=1000)\n",
    "\n",
    "    index = np.isnan(bin_means_x*bin_means)==False\n",
    "    \n",
    "    plt.plot(bin_means_x[index], bin_means[index], label=modname[i], alpha=0.6)\n",
    "\n",
    "plt.legend()\n",
    "plt.ylabel('U10 [m/s]',fontsize='15')\n",
    "plt.xlabel('CAOI [K]',fontsize='15')\n",
    "plt.title('U10 vs M for oceans between 50S to 50N')\n",
    "plt.savefig('../figures/U10vsM_50S_50N.png')"
   ]
  },
  {
   "cell_type": "code",
   "execution_count": 10,
   "id": "40a593ed-2df7-4b1e-80a4-a85e6127adff",
   "metadata": {},
   "outputs": [],
   "source": [
    "# from skmisc.loess import loess\n",
    "# index = np.isnan(bin_means_x*bin_means)==False\n",
    "\n",
    "# # plt.plot(bin_means_x, bin_means)\n",
    "# l = loess(bin_means_x[index], bin_means[index])\n",
    "# l.fit()\n",
    "# pred = l.predict(bin_means_x[index], stderror=True)\n",
    "# conf = pred.confidence()\n",
    "\n",
    "# lowess = pred.values\n",
    "# plt.plot(bin_means_x[index], lowess)\n",
    "# plt.ylabel('U10 [m/s]',fontsize='15')\n",
    "# plt.xlabel('CAOI [K]',fontsize='15')\n",
    "# plt.title('GCM-CESM2')"
   ]
  },
  {
   "cell_type": "code",
   "execution_count": null,
   "id": "8ddcb4e2-4031-4258-b509-2afe99c5f187",
   "metadata": {},
   "outputs": [],
   "source": [
    "# bin_means_x_gcm = bin_means_x[index]\n",
    "# bin_means_gcm   = lowess"
   ]
  },
  {
   "cell_type": "code",
   "execution_count": null,
   "id": "996bb510-b60e-4e2f-a664-27a7faf9b363",
   "metadata": {},
   "outputs": [],
   "source": [
    "# x_gcm = []\n",
    "# y_gcm = []\n"
   ]
  },
  {
   "cell_type": "code",
   "execution_count": null,
   "id": "539b1f03-f23e-4866-b9a6-b2c579a96fbe",
   "metadata": {},
   "outputs": [],
   "source": [
    "# x_gcm.append(bin_means_x_gcm)\n",
    "# y_gcm.append(bin_means_gcm)"
   ]
  },
  {
   "cell_type": "markdown",
   "id": "84e1f395-db43-44c3-b7b1-b46d8c300b68",
   "metadata": {},
   "source": [
    "# Observations"
   ]
  },
  {
   "cell_type": "code",
   "execution_count": 38,
   "id": "e0addbd6-d6a9-4592-b685-684f1a933814",
   "metadata": {},
   "outputs": [],
   "source": [
    "import glob\n",
    "merlist = np.sort(glob.glob('../data_merra/all_lat_lon/levels/MERRA2_*.nc'))\n",
    "sfclist = np.sort(glob.glob('../data_merra/all_lat_lon/surface/MERRA2_*.nc'))\n",
    "maclist = np.sort(glob.glob('../MACLWP_dailymean/take/wind1deg*.nc4'))"
   ]
  },
  {
   "cell_type": "code",
   "execution_count": 55,
   "id": "2077884f-6396-4b5b-8c4b-a39fa775b80e",
   "metadata": {},
   "outputs": [],
   "source": [
    "import netCDF4 as nc\n",
    "import xarray as xr\n",
    "p_mer_T   = []\n",
    "p_mac_w   = []\n",
    "sfc_mer_T = []\n",
    "sfc_mer_P = []\n",
    "\n",
    "for i in range(len(merlist)): #len(merlist)\n",
    "    d_path = merlist[i]\n",
    "    data   = nc.Dataset(d_path)\n",
    "    # print(d_path)\n",
    "    \n",
    "    if i==0:\n",
    "        merlat = data.variables['lat'][:]\n",
    "        merlon = data.variables['lon'][:]\n",
    "        merlev = data.variables['lev'][:]\n",
    "        #shape latitude\n",
    "        mer_lat = np.flip(merlat)\n",
    "        mer_lat = np.array(mer_lat)\n",
    "        mlat_ind1 = np.where(mer_lat == mer_lat.flat[np.abs(mer_lat - (-50)).argmin()])[0]\n",
    "        mlat_ind2 = np.where(mer_lat == mer_lat.flat[np.abs(mer_lat - (50)).argmin()])[0]\n",
    "        p_mer_lat  = np.array(mer_lat[mlat_ind1[0]:mlat_ind2[0]])\n",
    "        #shape longitude\n",
    "        merlon[merlon > 180] = merlon[merlon > 180]-360\n",
    "        mer_lon = np.array(merlon)\n",
    "        \n",
    "    merT   = data.variables['T'][:] #(time, lev, lat, lon)\n",
    "    mer_T = np.array(merT[:,:,::-1,:])\n",
    "    p_mer_T.extend(mer_T[:,:,mlat_ind1[0]:mlat_ind2[0],:])\n",
    "    \n",
    "temp = np.array(p_mer_T)\n",
    "\n",
    "for i in range(len(sfclist)): #len(merlist)\n",
    "    s_path = sfclist[i]\n",
    "    sdata  = nc.Dataset(s_path)\n",
    "    # print(d_path)\n",
    "    \n",
    "    if i==0:\n",
    "        sfclat = sdata.variables['lat'][:]\n",
    "        sfclon = data.variables['lon'][:]\n",
    "        #shape latitude\n",
    "        sfc_lat = np.flip(sfclat)\n",
    "        sfc_lat = np.array(sfc_lat)\n",
    "        flat_ind1 = np.where(sfc_lat == sfc_lat.flat[np.abs(sfc_lat - (-50)).argmin()])[0]\n",
    "        flat_ind2 = np.where(sfc_lat == sfc_lat.flat[np.abs(sfc_lat - (50)).argmin()])[0]\n",
    "        p_sfc_lat  = np.array(sfc_lat[flat_ind1[0]:flat_ind2[0]])\n",
    "        #shape longitude\n",
    "        sfclon[sfclon > 180] = sfclon[sfclon > 180]-360\n",
    "        sfc_lon = np.array(sfclon)\n",
    "        \n",
    "    sfcT   = sdata.variables['TS'][:] \n",
    "    sfc_T = np.array(sfcT[:,::-1,:])\n",
    "    sfc_mer_T.extend(sfc_T[:,flat_ind1[0]:flat_ind2[0],:])\n",
    "    \n",
    "    sfcP   = sdata.variables['SLP'][:] \n",
    "    sfc_P = np.array(sfcP[:,::-1,:])\n",
    "    sfc_mer_P.extend(sfc_P[:,flat_ind1[0]:flat_ind2[0],:])\n",
    "    \n",
    "sfctemp = np.array(sfc_mer_T)\n",
    "sfcpres = np.array(sfc_mer_P)\n",
    "\n",
    "for i in range(len(maclist)): #len(maclist)\n",
    "    ddpath = maclist[i]\n",
    "    ddata  = nc.Dataset(ddpath)\n",
    "    macw   = ddata.variables['sfcwind'][:] #(time,lat,lon)\n",
    "    # print(ddpath)\n",
    "    \n",
    "    if i==0:\n",
    "        maclat = ddata.variables['lat'][:]\n",
    "        maclon = ddata.variables['lon'][:]\n",
    "        #shape latitude\n",
    "        mac_lat = np.array(maclat)\n",
    "        slat_ind1 = np.where(mac_lat == mac_lat.flat[np.abs(mac_lat - (-50)).argmin()])[0]\n",
    "        slat_ind2 = np.where(mac_lat == mac_lat.flat[np.abs(mac_lat - (50)).argmin()])[0]\n",
    "        p_mac_lat  = np.array(mac_lat[slat_ind1[0]:slat_ind2[0]])\n",
    "        #shape longitude\n",
    "        maclon[maclon > 180] = maclon[maclon > 180]-360\n",
    "        mac_lon = np.array(maclon)\n",
    "\n",
    "    n_w = macw[:,slat_ind1[0]:slat_ind2[0],:]\n",
    "    p_mac_w.extend(n_w)\n",
    "\n",
    "wind = np.array(p_mac_w)\n"
   ]
  },
  {
   "cell_type": "code",
   "execution_count": 56,
   "id": "99d1cf1c-d521-42b7-b81f-71ca0bb59ece",
   "metadata": {},
   "outputs": [
    {
     "name": "stdout",
     "output_type": "stream",
     "text": [
      "-50.5 48.5\n",
      "-50.5 48.5\n",
      "-50.5 48.5\n",
      "0.5 -0.5\n",
      "0.5 -0.5\n",
      "0.5 -0.5\n"
     ]
    }
   ],
   "source": [
    "print(p_sfc_lat[0],p_sfc_lat[-1])\n",
    "print(p_mer_lat[0],p_mer_lat[-1])\n",
    "print(p_mac_lat[0],p_mac_lat[-1])\n",
    "print(sfc_lon[0],sfc_lon[-1])\n",
    "print(mer_lon[0],mer_lon[-1])\n",
    "print(mac_lon[0],mac_lon[-1])"
   ]
  },
  {
   "cell_type": "code",
   "execution_count": 57,
   "id": "c312b7ca-e563-417e-bb20-a0214ec57e93",
   "metadata": {},
   "outputs": [
    {
     "name": "stdout",
     "output_type": "stream",
     "text": [
      "(1096, 3, 100, 360) (1096, 100, 360) (1096, 100, 360) (1096, 100, 360)\n"
     ]
    }
   ],
   "source": [
    "print(np.shape(temp), np.shape(sfctemp), np.shape(sfcpres), np.shape(wind))"
   ]
  },
  {
   "cell_type": "code",
   "execution_count": 81,
   "id": "2e227fab-0485-48db-a724-3c74eccd664d",
   "metadata": {},
   "outputs": [],
   "source": [
    "p_level = 1"
   ]
  },
  {
   "cell_type": "code",
   "execution_count": 102,
   "id": "7a67cea3-09b8-4451-b36d-f7c3c7999aae",
   "metadata": {},
   "outputs": [
    {
     "data": {
      "text/plain": [
       "masked_array(data=[850., 800., 750.],\n",
       "             mask=False,\n",
       "       fill_value=1e+20)"
      ]
     },
     "execution_count": 102,
     "metadata": {},
     "output_type": "execute_result"
    }
   ],
   "source": [
    "merlev"
   ]
  },
  {
   "cell_type": "code",
   "execution_count": 85,
   "id": "22f0361c-d0d8-4b0d-9183-c1978e51181b",
   "metadata": {},
   "outputs": [],
   "source": [
    "theta = np.array(np.multiply(temp[:,p_level,:,:], (sfcpres/(merlev[p_level]*100))**(Rd/Cp)))\n"
   ]
  },
  {
   "cell_type": "code",
   "execution_count": 86,
   "id": "e0972fe5-faa3-46f8-b8db-e201164b3c95",
   "metadata": {},
   "outputs": [],
   "source": [
    "p_CAOI = np.array(np.subtract(sfctemp,theta))\n"
   ]
  },
  {
   "cell_type": "code",
   "execution_count": 61,
   "id": "676b7f56-852b-4605-9385-7a88f3e2cecd",
   "metadata": {},
   "outputs": [
    {
     "data": {
      "text/plain": [
       "1096"
      ]
     },
     "execution_count": 61,
     "metadata": {},
     "output_type": "execute_result"
    }
   ],
   "source": [
    "len(temp)"
   ]
  },
  {
   "cell_type": "code",
   "execution_count": 64,
   "id": "fe95e75c-234b-4cdc-a1a6-6609ed36c7aa",
   "metadata": {},
   "outputs": [],
   "source": [
    "maskm = np.ones((len(temp),len(p_mer_lat),len(mer_lon)))\n",
    "\n",
    "for a in range(len(p_mer_lat)):\n",
    "    for b in range(len(mer_lon)):\n",
    "        if globe.is_land(p_mer_lat[a], mer_lon[b])==True:\n",
    "            maskm[:,a,b] = 0"
   ]
  },
  {
   "cell_type": "code",
   "execution_count": 65,
   "id": "ff2f7b4b-b6c6-4f47-ab35-34909a03ee95",
   "metadata": {},
   "outputs": [],
   "source": [
    "plot_CAOI = np.array(np.multiply(maskm,p_CAOI))\n",
    "plot_wind = np.array(np.multiply(maskm,wind))\n"
   ]
  },
  {
   "cell_type": "code",
   "execution_count": 66,
   "id": "bdabd6fa-fa69-4b86-ac27-c550b1dad4cc",
   "metadata": {},
   "outputs": [],
   "source": [
    "plot_mer_theta = plot_CAOI.ravel()\n",
    "plot_mac_wind  = plot_wind.ravel()"
   ]
  },
  {
   "cell_type": "code",
   "execution_count": 67,
   "id": "d4e3340c-5d2d-42b9-80a7-3d7fdfdb6b60",
   "metadata": {},
   "outputs": [
    {
     "name": "stdout",
     "output_type": "stream",
     "text": [
      "-31.93046018821991 -99.98999786376953\n"
     ]
    }
   ],
   "source": [
    "print(np.min(plot_mer_theta), np.min(plot_mac_wind))"
   ]
  },
  {
   "cell_type": "code",
   "execution_count": 68,
   "id": "ade0400d-188e-4c9e-a349-f2193c3dc4ab",
   "metadata": {},
   "outputs": [],
   "source": [
    "ind = np.argsort(plot_mer_theta)\n",
    "xx = np.sort(plot_mer_theta)\n",
    "yy = plot_mac_wind[ind]"
   ]
  },
  {
   "cell_type": "code",
   "execution_count": 69,
   "id": "8ed04f7f-31a5-41cf-9939-c4af0aa1d014",
   "metadata": {},
   "outputs": [],
   "source": [
    "x_new = xx[xx<np.max(xx)]\n",
    "y_new = yy[xx<np.max(xx)]\n",
    "\n",
    "xx_new = x_new[y_new>0]\n",
    "yy_new = y_new[y_new>0]"
   ]
  },
  {
   "cell_type": "code",
   "execution_count": 70,
   "id": "3c8f196d-5bd6-405c-adab-6939c97ddd5f",
   "metadata": {},
   "outputs": [
    {
     "data": {
      "text/plain": [
       "[<matplotlib.lines.Line2D at 0x2af986da4d90>]"
      ]
     },
     "execution_count": 70,
     "metadata": {},
     "output_type": "execute_result"
    },
    {
     "data": {
      "image/png": "[encoded data removed]",
      "text/plain": [
       "<Figure size 432x288 with 1 Axes>"
      ]
     },
     "metadata": {
      "needs_background": "light"
     },
     "output_type": "display_data"
    }
   ],
   "source": [
    "plt.plot(xx_new,yy_new)"
   ]
  },
  {
   "cell_type": "code",
   "execution_count": 71,
   "id": "a3a1b491-aec7-4259-8eed-d28f29da40f1",
   "metadata": {},
   "outputs": [],
   "source": [
    "indx = np.isnan(xx_new*yy_new)==False"
   ]
  },
  {
   "cell_type": "code",
   "execution_count": 72,
   "id": "98718a8b-05b0-4c6f-820b-87e271106f6e",
   "metadata": {},
   "outputs": [],
   "source": [
    "bin_means, bin_edges, binnumber = stats.binned_statistic(xx_new, yy_new, 'mean', bins=500)\n",
    "bin_means_x, bin_edges_x, binnumber_x = stats.binned_statistic(xx_new, xx_new, 'mean', bins=500)\n"
   ]
  },
  {
   "cell_type": "code",
   "execution_count": 73,
   "id": "ca4d2b1e-35fa-451e-8ec5-5303d630cda6",
   "metadata": {},
   "outputs": [],
   "source": [
    "index = np.isnan(bin_means_x*bin_means)==False"
   ]
  },
  {
   "cell_type": "code",
   "execution_count": 95,
   "id": "4c2f699d-346e-4ff6-8f4e-9a0ebab418a3",
   "metadata": {},
   "outputs": [],
   "source": [
    "yti = str(int(merlev[p_level]))"
   ]
  },
  {
   "cell_type": "code",
   "execution_count": 96,
   "id": "537c21f7-5f37-438a-96f0-67b3aab14e19",
   "metadata": {},
   "outputs": [
    {
     "data": {
      "text/plain": [
       "'800'"
      ]
     },
     "execution_count": 96,
     "metadata": {},
     "output_type": "execute_result"
    }
   ],
   "source": [
    "yti"
   ]
  },
  {
   "cell_type": "markdown",
   "id": "dcfcd20c-3314-44a1-94f1-8500b7304cdc",
   "metadata": {},
   "source": [
    "## 50S 50N oceans theta 800hPa"
   ]
  },
  {
   "cell_type": "code",
   "execution_count": 101,
   "id": "7a42cd00-894e-42cf-9b92-b2cf19dd3c66",
   "metadata": {},
   "outputs": [
    {
     "data": {
      "text/plain": [
       "Text(0.5, 1.0, '50S 50N oceans theta 800')"
      ]
     },
     "execution_count": 101,
     "metadata": {},
     "output_type": "execute_result"
    },
    {
     "data": {
      "image/png": "[encoded data removed]",
      "text/plain": [
       "<Figure size 432x288 with 1 Axes>"
      ]
     },
     "metadata": {
      "needs_background": "light"
     },
     "output_type": "display_data"
    }
   ],
   "source": [
    "plt.plot(bin_means_x[index], bin_means[index], color='black' ,marker='*', linestyle='dashed',\n",
    "     markersize=5,linewidth=1, label='Observations')\n",
    "plt.legend()\n",
    "yti = str(int(merlev[p_level]))\n",
    "plt.xlabel(r\"M ($\\Theta_{SST}$ - $\\Theta_{\"+yti+\"})$ [K]\")\n",
    "plt.title('50S 50N oceans theta 800')"
   ]
  },
  {
   "cell_type": "markdown",
   "id": "eef33882-98e9-4ba7-b922-0491ddaef607",
   "metadata": {},
   "source": [
    "## 30N 70N oceans theta 850hPa"
   ]
  },
  {
   "cell_type": "code",
   "execution_count": 34,
   "id": "6eea1d24-2867-4de1-8d38-bc72f67dc135",
   "metadata": {},
   "outputs": [
    {
     "data": {
      "text/plain": [
       "<matplotlib.legend.Legend at 0x2b0754f229d0>"
      ]
     },
     "execution_count": 34,
     "metadata": {},
     "output_type": "execute_result"
    },
    {
     "data": {
      "image/png": "[encoded data removed]",
      "text/plain": [
       "<Figure size 432x288 with 1 Axes>"
      ]
     },
     "metadata": {
      "needs_background": "light"
     },
     "output_type": "display_data"
    }
   ],
   "source": [
    "plt.plot(bin_means_x[index], bin_means[index], color='black' ,marker='*', linestyle='dashed',\n",
    "     markersize=5,linewidth=1, label='Observations')\n",
    "plt.legend()"
   ]
  },
  {
   "cell_type": "code",
   "execution_count": null,
   "id": "f0450cd8-27a0-41d1-9d48-2d541653c17c",
   "metadata": {},
   "outputs": [],
   "source": [
    "bin_means_x_obs = bin_means_x[index]\n",
    "bin_means_obs   = lowess"
   ]
  },
  {
   "cell_type": "code",
   "execution_count": null,
   "id": "06dedc0e-759a-49e6-8ac4-ed66efdc7414",
   "metadata": {},
   "outputs": [],
   "source": [
    "fig= plt.figure(figsize=(5, 6))\n",
    "plt.plot(bin_means_x_obs, bin_means_obs, label='MACLWP+MERRA2')\n",
    "plt.plot(bin_means_x_gcm, bin_means_gcm, label='CESM2')\n",
    "plt.xticks(np.arange(-20,6,5),fontsize='12')\n",
    "plt.yticks(np.arange(4,13),fontsize='12')\n",
    "plt.xlim([-20,5])\n",
    "plt.ylim([3,13])\n",
    "plt.legend()\n",
    "plt.ylabel('U10 [m/s]',fontsize='15')\n",
    "plt.xlabel('CAOI [K]',fontsize='15')\n",
    "# plt.title('MACLWP wind vs MERRA2 M\\nfor 30N to 70N ocean only\\n850hPa')"
   ]
  },
  {
   "cell_type": "markdown",
   "id": "d5cdad2e-2d11-4f17-8961-6f9c5c1d5b3d",
   "metadata": {},
   "source": [
    "# PPE"
   ]
  },
  {
   "cell_type": "code",
   "execution_count": 35,
   "id": "138efda6-c266-4904-8278-7b0a470f932d",
   "metadata": {},
   "outputs": [],
   "source": [
    "enn = np.arange(201,251)"
   ]
  },
  {
   "cell_type": "code",
   "execution_count": 36,
   "id": "14ab3c1b-d506-4993-90ae-b93a428a572d",
   "metadata": {},
   "outputs": [],
   "source": [
    "ppe_var = ['U10', 'PSL', 'T850','TREFHT']"
   ]
  },
  {
   "cell_type": "code",
   "execution_count": 37,
   "id": "8d642198-30e4-4ccd-aee9-1c18b3090711",
   "metadata": {},
   "outputs": [],
   "source": [
    "for en in enn:\n",
    "    if en != 175:\n",
    "        for i in ppe_var: #TREFHT was used since no TS. Should double check this.\n",
    "            d_path = '/glade/campaign/cgd/projects/ppe/cam_ppe/rerun_PPE_250/PD/PD_timeseries/PPE_250_ensemble_PD.'+f'{en:03d}'+'/atm/hist/cc_PPE_250_ensemble_PD.'+f'{en:03d}'+'.h1.'+str(i)+'.nc'\n",
    "            data =xr.open_dataset(d_path)\n",
    "\n",
    "            if en == enn[0]:\n",
    "                lon  = data.variables['lon'][:]  #(lon: 288) [0.0, 1.25, 2.5, ... 356.25, 357.5, 358.75]\n",
    "                lat  = data.variables['lat'][:]  #(lat: 192) [-90.0 , -89.057592, -88.115183, ... 88.115183,  89.057592, 90.0]\n",
    "                time = data.variables['time'][:] #(time: 36)\n",
    "\n",
    "            locals()[str(en)+'_'+i] = data.variables[i][:]"
   ]
  },
  {
   "cell_type": "code",
   "execution_count": 38,
   "id": "8970d775-070f-40e8-9f79-bb50a7ebae3c",
   "metadata": {},
   "outputs": [],
   "source": [
    "x_lat = np.array(lat)\n",
    "lat_ind1 = np.where(x_lat == x_lat.flat[np.abs(x_lat - (30)).argmin()])[0]\n",
    "lat_ind2 = np.where(x_lat == x_lat.flat[np.abs(x_lat - (70)).argmin()])[0]\n",
    "lat_new  = lat[lat_ind1[0]:lat_ind2[0]]\n",
    "\n",
    "mask = np.ones((1096,len(lat_new),len(lon)))\n",
    "\n",
    "for a in range(len(lat_new)):\n",
    "    for b in range(len(lon)):\n",
    "        if globe.is_land(lat_new[a], lon[b]-180.)==True:\n",
    "            mask[:,a,b] = 0\n",
    "\n",
    "for en in enn:\n",
    "    if en != 175:\n",
    "        # print(en)\n",
    "        for i in ppe_var: #\n",
    "            tmp  = locals()[str(en)+'_'+i]\n",
    "            tmp2 = tmp[0:1096,lat_ind1[0]:lat_ind2[0],:]\n",
    "            locals()['MID'+i+'_'+str(en)] = np.multiply(mask,tmp2)"
   ]
  },
  {
   "cell_type": "code",
   "execution_count": 39,
   "id": "a8de2913-6990-4ba8-897a-a5a40e2f0484",
   "metadata": {},
   "outputs": [],
   "source": [
    "for en in enn:\n",
    "    if en != 175:\n",
    "        locals()['theta_850_'+str(en)] = np.multiply(locals()['MIDT850_'+str(en)],(np.divide(locals()['MIDPSL_'+str(en)],85000))**(Rd/Cp))"
   ]
  },
  {
   "cell_type": "code",
   "execution_count": null,
   "id": "725dc666-4465-4023-a221-e11cd734bda5",
   "metadata": {},
   "outputs": [],
   "source": [
    "np.shape(theta_850_247)"
   ]
  },
  {
   "cell_type": "code",
   "execution_count": 40,
   "id": "f615f4d4-fee1-40d9-b2d4-139f270600fa",
   "metadata": {},
   "outputs": [],
   "source": [
    "for en in enn:\n",
    "    if en != 175:\n",
    "        locals()['M_'+str(en)]   = np.array(np.subtract(locals()['MIDTREFHT_'+str(en)],locals()['theta_850_'+str(en)])).reshape(-1)\n",
    "        locals()['U10_'+str(en)] = np.array(locals()['MIDU10_'+str(en)]).reshape(-1)"
   ]
  },
  {
   "cell_type": "code",
   "execution_count": null,
   "id": "9d2b0d60-f663-4e6a-b9de-e44d2eede687",
   "metadata": {},
   "outputs": [],
   "source": [
    "np.max(U10_246)"
   ]
  },
  {
   "cell_type": "code",
   "execution_count": null,
   "id": "0fd122d3-36d0-4d77-8a32-71838140147a",
   "metadata": {},
   "outputs": [],
   "source": [
    "from scipy import stats\n",
    "from skmisc.loess import loess"
   ]
  },
  {
   "cell_type": "code",
   "execution_count": 42,
   "id": "6aa8ab17-c550-4e1c-8581-0650e71f0d99",
   "metadata": {},
   "outputs": [
    {
     "data": {
      "text/plain": [
       "Text(0.5, 0, 'CAOI [K]')"
      ]
     },
     "execution_count": 42,
     "metadata": {},
     "output_type": "execute_result"
    },
    {
     "data": {
      "image/png": "[encoded data removed]",
      "text/plain": [
       "<Figure size 432x504 with 1 Axes>"
      ]
     },
     "metadata": {
      "needs_background": "light"
     },
     "output_type": "display_data"
    }
   ],
   "source": [
    "fig= plt.figure(figsize=(6, 7))\n",
    "# plt.plot(bin_means_x_gcm, bin_means_gcm,color='magenta' ,marker='*', linestyle='dashed',\n",
    "#      markersize=5,linewidth=1, label='CESM2') #marker='*', markersize=12,\n",
    "# plt.plot(bin_means_x_obs, bin_means_obs,color='blue' ,marker='*', linestyle='dashed',\n",
    "#      markersize=5,linewidth=1, label='Observations')\n",
    "for en in enn:\n",
    "    if en != 175:\n",
    "        x = locals()['M_'+str(en)]\n",
    "        y = locals()['U10_'+str(en)]\n",
    "        ind = np.argsort(x)\n",
    "        xx = np.sort(x)\n",
    "        yy = y[ind]\n",
    "\n",
    "        indx = np.isnan(xx*yy)==False\n",
    "\n",
    "        bin_means, bin_edges, binnumber = stats.binned_statistic(xx[indx], yy[indx], 'mean', bins=1000)\n",
    "        bin_means_x, bin_edges_x, binnumber_x = stats.binned_statistic(xx[indx], xx[indx], 'mean', bins=1000)\n",
    "\n",
    "        index = np.isnan(bin_means_x*bin_means)==False\n",
    "\n",
    "        # plt.plot(bin_means_x, bin_means)\n",
    "#         l = loess(bin_means_x[index], bin_means[index])\n",
    "#         l.fit()\n",
    "#         pred = l.predict(bin_means_x[index], stderror=True)\n",
    "#         conf = pred.confidence()\n",
    "\n",
    "#         lowess = pred.values\n",
    "\n",
    "\n",
    "        if en==250:\n",
    "            plt.plot(bin_means_x[index], bin_means[index], alpha=0.2,label='PPE')\n",
    "\n",
    "        else:\n",
    "            plt.plot(bin_means_x[index], bin_means[index], alpha=0.2)\n",
    "    \n",
    "\n",
    "# plt.plot(bin_means_x_obs, bin_means_obs, label='MACLWP+MERRA2')\n",
    "# plt.plot(bin_means_x_gcm, bin_means_gcm, label='CESM2')\n",
    "# plt.xticks(np.arange(-20,6,5),fontsize='12')\n",
    "# plt.yticks(np.arange(4,13),fontsize='12')\n",
    "# plt.plot(bin_means_x_gcm, bin_means_gcm,color='magenta' ,marker='*', linestyle='dashed',\n",
    "#      markersize=5,linewidth=1, label='CESM2')\n",
    "# plt.plot(bin_means_x_obs, bin_means_obs,color='blue' ,marker='*', linestyle='dashed',\n",
    "#      markersize=5,linewidth=1, label='Observations')\n",
    "plt.xlim([-20,5])\n",
    "\n",
    "plt.legend()\n",
    "plt.ylabel('U10 [m/s]',fontsize='15')\n",
    "plt.xlabel('CAOI [K]',fontsize='15')\n",
    "# plt.title('CAM6 PPE')\n",
    "# plt.savefig('ppe.png')"
   ]
  },
  {
   "cell_type": "code",
   "execution_count": null,
   "id": "58a8af3b-87d2-4746-82a7-e64cdc912e88",
   "metadata": {},
   "outputs": [],
   "source": []
  }
 ],
 "metadata": {
  "kernelspec": {
   "display_name": "geethma-npl-kernel",
   "language": "python",
   "name": "geethma-npl-kernel"
  },
  "language_info": {
   "codemirror_mode": {
    "name": "ipython",
    "version": 3
   },
   "file_extension": ".py",
   "mimetype": "text/x-python",
   "name": "python",
   "nbconvert_exporter": "python",
   "pygments_lexer": "ipython3",
   "version": "3.9.4"
  }
 },
 "nbformat": 4,
 "nbformat_minor": 5
}
