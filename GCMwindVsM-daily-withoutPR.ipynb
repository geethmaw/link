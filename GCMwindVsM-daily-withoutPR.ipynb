{
 "cells": [
  {
   "cell_type": "markdown",
   "id": "58d7ce20-1938-408e-9127-5fb05c1492c9",
   "metadata": {},
   "source": [
    "##### Created on 05/04/2022\n",
    "\n",
    "##### This notebook is to get the GCM wind vs M relationship for the oceans over 30N to 70N. Will be compared with MERRA2+MAC and PPE outputs. \n",
    "\n",
    "##### Updating to retrieve PPE daily data and CESM2 daily data. Used PSL/SST\n",
    "\n",
    "##### Updating to remove the gcm data at precipitation to check if there is an improvement high M\n"
   ]
  },
  {
   "cell_type": "code",
   "execution_count": 1,
   "id": "52d222b1-29ed-4aa8-96eb-a715561eff4e",
   "metadata": {},
   "outputs": [],
   "source": [
    "import xarray as xr\n",
    "import matplotlib.pyplot as plt\n",
    "import numpy as np\n",
    "from matplotlib.cm import get_cmap\n",
    "from readGCMs import read_var_mod\n",
    "import calendar\n",
    "from global_land_mask import globe\n",
    "import glob"
   ]
  },
  {
   "cell_type": "code",
   "execution_count": 2,
   "id": "33c44bda-6eb9-4905-bda8-df226f73160b",
   "metadata": {},
   "outputs": [],
   "source": [
    "#####Constants\n",
    "Cp = 1004           #J/kg/K\n",
    "Rd = 287            #J/kg/K\n",
    "con= Rd/Cp"
   ]
  },
  {
   "cell_type": "code",
   "execution_count": 3,
   "id": "b33a8c3c-26e5-45e4-9bb1-16e0ef05a125",
   "metadata": {},
   "outputs": [
    {
     "data": {
      "text/plain": [
       "0.2858565737051793"
      ]
     },
     "execution_count": 3,
     "metadata": {},
     "output_type": "execute_result"
    }
   ],
   "source": [
    "con"
   ]
  },
  {
   "cell_type": "markdown",
   "id": "b8864158-5d79-48c0-a2d8-e0006f205073",
   "metadata": {},
   "source": [
    "# GCM"
   ]
  },
  {
   "cell_type": "code",
   "execution_count": 4,
   "id": "f38289d7-7c07-469d-ad6b-6cfb9a2edf1e",
   "metadata": {},
   "outputs": [],
   "source": [
    "modname = ['CESM2','CNRM-CM6-1', 'CanESM5','CESM2-WACCM','E3SM-1-0',\n",
    "           'HadGEM3-GC31-LL','IPSL-CM6A-LR','NorESM2-LM', 'SAM0-UNICON',\n",
    "           'ACCESS-CM2','ACCESS-ESM1-5','CNRM-ESM2-1','EC-Earth3',\n",
    "           'EC-Earth3-Veg','FGOALS-f3-L','GISS-E2-1-G-CC','HadGEM3-GC31-MM',\n",
    "           'INM-CM4-8','INM-CM5-0','MPI-ESM1-2-HR','MRI-ESM2-0','NorCPM1',\n",
    "           'UKESM1-0-LL']\n",
    "varname = ['sfcWind', 'tas','psl','pr'] #'sfcWind', 'hfss', 'hfls', 'tas', 'ps', 'psl',\n",
    "pvarname= ['ta']\n",
    "conname = ['NCAR', 'CNRM-CERFACS','CCCma', 'NCAR', 'E3SM-Project', 'MOHC', \n",
    "           'IPSL', 'NCC', 'SNU','CSIRO-ARCCSS','CSIRO','CNRM-CERFACS',\n",
    "           'EC-Earth-Consortium','EC-Earth-Consortium','CAS','NASA-GISS','MOHC'\n",
    "           ,'INM','INM','MPI-M','MRI','NCC','MOHC'] \n",
    "ensname = ['r11i1p1f1', 'r1i1p1f2', 'r10i1p1f1', 'r1i1p1f1', 'r1i1p1f1', \n",
    "           'r1i1p1f3', 'r10i1p1f1', 'r1i1p1f1', 'r1i1p1f1','r1i1p1f1',\n",
    "           'r10i1p1f1','r1i1p1f2','r101i1p1f1','r10i1p1f1','r1i1p1f1',\n",
    "           'r1i1p1f1','r1i1p1f3','r1i1p1f1','r10i1p1f1','r10i1p1f1','r10i1p1f1',\n",
    "           'r10i1p1f1','r10i1p1f2']\n",
    "ggname  = ['gn', 'gr','gn', 'gn', 'gr', 'gn', 'gr', 'gn', 'gn','gn', 'gn', 'gr',\n",
    "           'gr', 'gr', 'gr', 'gn', 'gn', 'gr1', 'gr1', 'gn', 'gr', 'gn', 'gn']"
   ]
  },
  {
   "cell_type": "code",
   "execution_count": 5,
   "id": "0edfe8d6-efd1-439e-94cd-2de24ca01a11",
   "metadata": {},
   "outputs": [],
   "source": [
    "l = 3"
   ]
  },
  {
   "cell_type": "code",
   "execution_count": 6,
   "id": "b5be2390-769f-4d34-bc1f-d6a4845984ed",
   "metadata": {},
   "outputs": [
    {
     "name": "stderr",
     "output_type": "stream",
     "text": [
      "/glade/work/geethma/research/codes/readGCMs.py:118: UserWarning: WARNING: missing_value not used since it\n",
      "cannot be safely cast to variable data type\n",
      "  data = f.variables[varnm][ind]\n"
     ]
    },
    {
     "name": "stdout",
     "output_type": "stream",
     "text": [
      "sfcWind\n",
      "tas\n",
      "psl\n",
      "pr\n",
      "ta\n",
      "CESM2-WACCM\n"
     ]
    }
   ],
   "source": [
    "try:\n",
    "    for j in range(l,l+1):\n",
    "        \n",
    "        for i in varname: \n",
    "            locals()[i+'__'+str(j+1)] = read_var_mod(modn=modname[j], consort=conname[j], varnm=i, cmip='cmip6', exper='historical', ensmem=ensname[j], typevar='day', gg=ggname[j], read_p=False, time1=[2010, 1, 1], time2=[2012, 12, 31])\n",
    "            print(i)\n",
    "        for k in pvarname: \n",
    "            locals()[k+'__'+str(j+1)] = read_var_mod(modn=modname[j], consort=conname[j], varnm=k, cmip='cmip6', exper='historical', ensmem=ensname[j], typevar='day', gg=ggname[j], read_p=True, time1=[2010, 1, 1], time2=[2012, 12, 31])\n",
    "            print(k)\n",
    "        print(modname[l])\n",
    "        \n",
    "except IndexError:\n",
    "    print(str(j+1)+' not available')\n",
    "    "
   ]
  },
  {
   "cell_type": "code",
   "execution_count": 7,
   "id": "fde5d9ad-a5d0-45f3-a874-585221f1a2e1",
   "metadata": {},
   "outputs": [],
   "source": [
    "i = l\n",
    "\n",
    "lat  = locals()['sfcWind__'+str(i+1)][2]\n",
    "lon  = locals()['sfcWind__'+str(i+1)][3]\n",
    "time = locals()['sfcWind__'+str(i+1)][4]\n",
    "\n",
    "for j in varname:\n",
    "    locals()[j+str(i+1)] = locals()[j+'__'+str(i+1)][0]\n",
    "\n",
    "for k in pvarname:\n",
    "    locals()[k+str(i+1)] = locals()[k+'__'+str(i+1)][0]\n",
    "    locals()['lev'+str(i+1)] = locals()['ta__'+str(i+1)][1]"
   ]
  },
  {
   "cell_type": "code",
   "execution_count": 8,
   "id": "8e9dcbb0-9515-46ed-ad02-479aeb3b43ae",
   "metadata": {},
   "outputs": [
    {
     "data": {
      "text/plain": [
       "[masked_array(data=[100000.,  85000.,  70000.,  50000.,  25000.,  10000.,\n",
       "                      5000.,   1000.],\n",
       "              mask=False,\n",
       "        fill_value=1e+20)]"
      ]
     },
     "execution_count": 8,
     "metadata": {},
     "output_type": "execute_result"
    }
   ],
   "source": [
    "lev4"
   ]
  },
  {
   "cell_type": "code",
   "execution_count": 8,
   "id": "e9b005b5-d143-4c70-8bc6-ee971ca49c52",
   "metadata": {},
   "outputs": [],
   "source": [
    "theta_850 = locals()['ta'+str(i+1)][:,1,:,:]*(locals()['psl'+str(i+1)]/85000)**con\n"
   ]
  },
  {
   "cell_type": "code",
   "execution_count": 9,
   "id": "5e7929b5-1033-4056-bd05-a0f4b6469a97",
   "metadata": {},
   "outputs": [],
   "source": [
    "M = tas4 - theta_850"
   ]
  },
  {
   "cell_type": "code",
   "execution_count": 10,
   "id": "c8f4fc5c-fcf1-4bee-8c11-84c61dc5cb54",
   "metadata": {},
   "outputs": [],
   "source": [
    "M = M[pr4>0]\n",
    "sfcWind4 = sfcWind4[pr4>0]"
   ]
  },
  {
   "cell_type": "code",
   "execution_count": 11,
   "id": "a4b4ce23-36ed-4901-a962-1751630450a7",
   "metadata": {},
   "outputs": [
    {
     "name": "stdout",
     "output_type": "stream",
     "text": [
      "27.274075 0.057153072\n"
     ]
    }
   ],
   "source": [
    "tada = sfcWind4\n",
    "print(np.max(tada), np.min(tada))"
   ]
  },
  {
   "cell_type": "code",
   "execution_count": 12,
   "id": "62b928ab-a907-4da3-a28e-899983fcc8e1",
   "metadata": {},
   "outputs": [
    {
     "data": {
      "text/plain": [
       "(2028503,)"
      ]
     },
     "execution_count": 12,
     "metadata": {},
     "output_type": "execute_result"
    }
   ],
   "source": [
    "np.shape(sfcWind4)"
   ]
  },
  {
   "cell_type": "code",
   "execution_count": 13,
   "id": "b6023a26-0555-4d3c-b94f-f81db757ef8b",
   "metadata": {},
   "outputs": [
    {
     "ename": "IndexError",
     "evalue": "too many indices for array: array is 1-dimensional, but 3 were indexed",
     "output_type": "error",
     "traceback": [
      "\u001b[0;31m---------------------------------------------------------------------------\u001b[0m",
      "\u001b[0;31mIndexError\u001b[0m                                Traceback (most recent call last)",
      "\u001b[0;32m<ipython-input-13-aefcc8f4e95b>\u001b[0m in \u001b[0;36m<module>\u001b[0;34m\u001b[0m\n\u001b[1;32m      8\u001b[0m \u001b[0;34m\u001b[0m\u001b[0m\n\u001b[1;32m      9\u001b[0m \u001b[0mx_sfcWind\u001b[0m \u001b[0;34m=\u001b[0m \u001b[0msfcWind4\u001b[0m\u001b[0;34m\u001b[0m\u001b[0;34m\u001b[0m\u001b[0m\n\u001b[0;32m---> 10\u001b[0;31m \u001b[0mm_sfcWind\u001b[0m \u001b[0;34m=\u001b[0m \u001b[0mx_sfcWind\u001b[0m\u001b[0;34m[\u001b[0m\u001b[0;34m:\u001b[0m\u001b[0;34m,\u001b[0m\u001b[0mlat_ind1\u001b[0m\u001b[0;34m[\u001b[0m\u001b[0;36m0\u001b[0m\u001b[0;34m]\u001b[0m\u001b[0;34m:\u001b[0m\u001b[0mlat_ind2\u001b[0m\u001b[0;34m[\u001b[0m\u001b[0;36m0\u001b[0m\u001b[0;34m]\u001b[0m\u001b[0;34m,\u001b[0m\u001b[0;34m:\u001b[0m\u001b[0;34m]\u001b[0m\u001b[0;34m\u001b[0m\u001b[0;34m\u001b[0m\u001b[0m\n\u001b[0m\u001b[1;32m     11\u001b[0m \u001b[0mlats\u001b[0m \u001b[0;34m=\u001b[0m \u001b[0mlat\u001b[0m\u001b[0;34m[\u001b[0m\u001b[0mlat_ind1\u001b[0m\u001b[0;34m[\u001b[0m\u001b[0;36m0\u001b[0m\u001b[0;34m]\u001b[0m\u001b[0;34m:\u001b[0m\u001b[0mlat_ind2\u001b[0m\u001b[0;34m[\u001b[0m\u001b[0;36m0\u001b[0m\u001b[0;34m]\u001b[0m\u001b[0;34m]\u001b[0m\u001b[0;34m\u001b[0m\u001b[0;34m\u001b[0m\u001b[0m\n\u001b[1;32m     12\u001b[0m \u001b[0;34m\u001b[0m\u001b[0m\n",
      "\u001b[0;31mIndexError\u001b[0m: too many indices for array: array is 1-dimensional, but 3 were indexed"
     ]
    }
   ],
   "source": [
    "x_lat = np.array(lat)\n",
    "lat_ind1 = np.where(x_lat == x_lat.flat[np.abs(x_lat - (30)).argmin()])[0]\n",
    "lat_ind2 = np.where(x_lat == x_lat.flat[np.abs(x_lat - (70)).argmin()])[0]    \n",
    "\n",
    "x_lon = lon\n",
    "# lon_ind1 = np.where(x_lon == x_lon.flat[np.abs(x_lon - (-180)).argmin()])[0]\n",
    "# lon_ind2 = np.where(x_lon == x_lon.flat[np.abs(x_lon - (180)).argmin()])[0]\n",
    "\n",
    "x_sfcWind = sfcWind4\n",
    "m_sfcWind = x_sfcWind[:,lat_ind1[0]:lat_ind2[0],:]\n",
    "lats = lat[lat_ind1[0]:lat_ind2[0]]\n",
    "\n",
    "x_M = M\n",
    "m_M = x_M[:,lat_ind1[0]:lat_ind2[0],:]\n",
    "\n",
    "precip = pr4[:,lat_ind1[0]:lat_ind2[0],:]\n"
   ]
  },
  {
   "cell_type": "code",
   "execution_count": null,
   "id": "9043f78c-62a6-4367-9ed3-26730a77a0f7",
   "metadata": {},
   "outputs": [],
   "source": [
    "cao = np.array(m_M)\n",
    "sw  = np.array(m_sfcWind)"
   ]
  },
  {
   "cell_type": "code",
   "execution_count": null,
   "id": "e11d0f75-dba7-43da-ada7-485eeacf2ffc",
   "metadata": {},
   "outputs": [],
   "source": [
    "maskm = np.ones((len(time),len(lats),len(lon)))\n",
    "print(np.shape(maskm))\n",
    "for a in range(len(lats)):\n",
    "    for b in range(len(lon)):\n",
    "        if globe.is_land(lats[a], lon[b])==True:\n",
    "            maskm[:,a,b] = 0"
   ]
  },
  {
   "cell_type": "code",
   "execution_count": null,
   "id": "a48f1958-af38-47af-8442-96cf0fa0dcd9",
   "metadata": {},
   "outputs": [],
   "source": [
    "plot_CAOI = np.array(np.multiply(maskm,cao))\n",
    "wind      = np.array(np.multiply(maskm,sw))"
   ]
  },
  {
   "cell_type": "code",
   "execution_count": null,
   "id": "7d7af805-98da-4493-a768-01aa7990a299",
   "metadata": {},
   "outputs": [],
   "source": [
    "plot_thetai = plot_CAOI.ravel()\n",
    "plot_windi  = wind.ravel()"
   ]
  },
  {
   "cell_type": "code",
   "execution_count": null,
   "id": "4a5d3731-1cf6-4f93-a51d-303417569cd1",
   "metadata": {},
   "outputs": [],
   "source": [
    "plot_theta = plot_thetai[plot_thetai>-40]\n",
    "plot_wind  = plot_windi[plot_thetai>-40]"
   ]
  },
  {
   "cell_type": "code",
   "execution_count": null,
   "id": "04d2ea85-df4f-4c00-be75-7f4cbcac5179",
   "metadata": {},
   "outputs": [],
   "source": [
    "np.shape(plot_theta)"
   ]
  },
  {
   "cell_type": "code",
   "execution_count": null,
   "id": "c861dc9a-0935-4488-b87e-d8ebb9cc3250",
   "metadata": {},
   "outputs": [],
   "source": [
    "np.shape(plot_wind)"
   ]
  },
  {
   "cell_type": "code",
   "execution_count": null,
   "id": "d07e9bbb-11df-4de5-a752-b9cbaeffed84",
   "metadata": {},
   "outputs": [],
   "source": [
    "ind = np.argsort(plot_theta)\n",
    "xx = np.sort(plot_theta)\n",
    "yy = plot_wind[ind]"
   ]
  },
  {
   "cell_type": "code",
   "execution_count": null,
   "id": "bda9a9d6-737c-43dd-833d-7ce6091efc40",
   "metadata": {},
   "outputs": [],
   "source": [
    "# hb = plt.hexbin(xx, yy, gridsize=40, cmap='Blues')\n",
    "# plt.ylabel('U10 [m/s]',fontsize='15')\n",
    "# plt.xlabel('CAOI [K]',fontsize='15')\n",
    "# plt.title('GCM wind vs M\\nfor 30N to 70N ocean only')"
   ]
  },
  {
   "cell_type": "code",
   "execution_count": null,
   "id": "bc1372a6-b53d-4d8b-b6d5-3515e910f5f8",
   "metadata": {},
   "outputs": [],
   "source": [
    "indx = np.isnan(xx*yy)==False"
   ]
  },
  {
   "cell_type": "code",
   "execution_count": null,
   "id": "dd87fb60-c638-4a90-8dec-feb20951a61d",
   "metadata": {},
   "outputs": [],
   "source": [
    "from scipy import stats\n",
    "bin_means, bin_edges, binnumber = stats.binned_statistic(xx[indx], yy[indx], 'mean', bins=100)\n",
    "bin_means_x, bin_edges_x, binnumber_x = stats.binned_statistic(xx[indx], xx[indx], 'mean', bins=100)\n"
   ]
  },
  {
   "cell_type": "code",
   "execution_count": null,
   "id": "40a593ed-2df7-4b1e-80a4-a85e6127adff",
   "metadata": {},
   "outputs": [],
   "source": [
    "from skmisc.loess import loess\n",
    "index = np.isnan(bin_means_x*bin_means)==False\n",
    "\n",
    "plt.plot(bin_means_x[index], bin_means[index])\n",
    "plt.ylabel('U10 [m/s]',fontsize='15')\n",
    "plt.xlabel('CAOI [K]',fontsize='15')\n",
    "# plt.title(modname[l])"
   ]
  },
  {
   "cell_type": "code",
   "execution_count": null,
   "id": "8ddcb4e2-4031-4258-b509-2afe99c5f187",
   "metadata": {},
   "outputs": [],
   "source": [
    "bin_means_x_gcm = bin_means_x[index]\n",
    "bin_means_gcm   = bin_means[index]"
   ]
  },
  {
   "cell_type": "code",
   "execution_count": null,
   "id": "996bb510-b60e-4e2f-a664-27a7faf9b363",
   "metadata": {},
   "outputs": [],
   "source": [
    "x_gcm = []\n",
    "y_gcm = []\n"
   ]
  },
  {
   "cell_type": "code",
   "execution_count": null,
   "id": "539b1f03-f23e-4866-b9a6-b2c579a96fbe",
   "metadata": {},
   "outputs": [],
   "source": [
    "x_gcm.append(bin_means_x_gcm)\n",
    "y_gcm.append(bin_means_gcm)"
   ]
  },
  {
   "cell_type": "markdown",
   "id": "84e1f395-db43-44c3-b7b1-b46d8c300b68",
   "metadata": {},
   "source": [
    "# Observations"
   ]
  },
  {
   "cell_type": "code",
   "execution_count": null,
   "id": "e0addbd6-d6a9-4592-b685-684f1a933814",
   "metadata": {},
   "outputs": [],
   "source": [
    "import glob\n",
    "merlist = np.sort(glob.glob('../data_merra/lat_30_70/new/MERRA2_*.nc'))\n",
    "sfclist = np.sort(glob.glob('../data_merra/lat_30_70/surface/new/MERRA2_*.nc'))\n",
    "maclist = np.sort(glob.glob('../MACLWP_dailymean/take/wind1deg*.nc4'))"
   ]
  },
  {
   "cell_type": "code",
   "execution_count": null,
   "id": "2077884f-6396-4b5b-8c4b-a39fa775b80e",
   "metadata": {},
   "outputs": [],
   "source": [
    "import netCDF4 as nc\n",
    "import xarray as xr\n",
    "p_mer_T   = []\n",
    "p_mac_w   = []\n",
    "sfc_mer_T = []\n",
    "sfc_mer_P = []\n",
    "\n",
    "for i in range(len(merlist)): #len(merlist)\n",
    "    d_path = merlist[i]\n",
    "    data   = nc.Dataset(d_path)\n",
    "    # print(d_path)\n",
    "    \n",
    "    if i==0:\n",
    "        merlat = data.variables['lat'][:]\n",
    "        merlon = data.variables['lon'][:]\n",
    "        merlev = data.variables['lev'][:]\n",
    "        #shape latitude\n",
    "        mer_lat = np.flip(merlat)\n",
    "        mer_lat = np.array(mer_lat)\n",
    "        #shape longitude\n",
    "        mer_lon = np.array(merlon)\n",
    "        \n",
    "        \n",
    "    merT   = data.variables['T'][:] #(time, lev, lat, lon)\n",
    "    mer_T = np.array(merT[:,:,::-1,:])\n",
    "    p_mer_T.extend(mer_T)\n",
    "    \n",
    "temp = np.array(p_mer_T)\n",
    "\n",
    "for i in range(len(sfclist)): #len(merlist)\n",
    "    s_path = sfclist[i]\n",
    "    sdata  = nc.Dataset(s_path)\n",
    "    # print(d_path)\n",
    "    \n",
    "    if i==0:\n",
    "        sfclat = sdata.variables['lat'][:]\n",
    "        sfclon = data.variables['lon'][:]\n",
    "        #shape latitude\n",
    "        sfc_lat = np.flip(sfclat)\n",
    "        sfc_lat = np.array(sfc_lat)\n",
    "        #shape longitude\n",
    "        sfc_lon = np.array(sfclon)\n",
    "        \n",
    "    sfcT   = sdata.variables['TS'][:] \n",
    "    sfc_T = np.array(sfcT[:,::-1,:])\n",
    "    sfc_mer_T.extend(sfc_T)\n",
    "    \n",
    "    sfcP   = sdata.variables['SLP'][:] \n",
    "    sfc_P = np.array(sfcP[:,::-1,:])\n",
    "    sfc_mer_P.extend(sfc_P)\n",
    "    \n",
    "sfctemp = np.array(sfc_mer_T)\n",
    "sfcpres = np.array(sfc_mer_P)\n",
    "\n",
    "for i in range(len(maclist)): #len(maclist)\n",
    "    ddpath = maclist[i]\n",
    "    ddata  = nc.Dataset(ddpath)\n",
    "    macw   = ddata.variables['sfcwind'][:] #(time,lat,lon)\n",
    "    # print(ddpath)\n",
    "    \n",
    "    if i==0:\n",
    "        maclat = ddata.variables['lat'][:]\n",
    "        maclon = ddata.variables['lon'][:]\n",
    "        #shape latitude\n",
    "        mac_lat = np.array(maclat)\n",
    "        slat_ind1 = np.where(mac_lat == mac_lat.flat[np.abs(mac_lat - (31)).argmin()])[0]\n",
    "        slat_ind2 = np.where(mac_lat == mac_lat.flat[np.abs(mac_lat - (71)).argmin()])[0]\n",
    "        p_mac_lat  = np.array(mac_lat[slat_ind1[0]:slat_ind2[0]])\n",
    "        #shape longitude\n",
    "        maclon[maclon > 180] = maclon[maclon > 180]-360\n",
    "        mac_lon = np.array(maclon)\n",
    "        p_mac_lon = []\n",
    "        p_mac_lon.extend(mac_lon[180::])\n",
    "        p_mac_lon.extend(mac_lon[0:180])\n",
    "        p_mac_lon = np.array(p_mac_lon)\n",
    "    n_w = macw[:,slat_ind1[0]:slat_ind2[0],180::]\n",
    "    new_w = np.append(n_w,macw[:,slat_ind1[0]:slat_ind2[0],0:180],2)\n",
    "    p_mac_w.extend(new_w)\n",
    "\n",
    "wind = np.array(p_mac_w)\n",
    "# wind = np.ma.masked_where(p_mac_w == np.min(p_mac_w), p_mac_w)\n",
    "# # wind = np.ma.compressed(wind)\n",
    "# wind = np.ma.masked_where(wind < 5, wind)\n",
    "# wind = np.ma.compressed(wind)\n",
    "    "
   ]
  },
  {
   "cell_type": "code",
   "execution_count": null,
   "id": "99d1cf1c-d521-42b7-b81f-71ca0bb59ece",
   "metadata": {},
   "outputs": [],
   "source": [
    "merlev"
   ]
  },
  {
   "cell_type": "code",
   "execution_count": null,
   "id": "eb555a3f-bd9e-4413-b285-daea90d2bbb8",
   "metadata": {},
   "outputs": [],
   "source": [
    "print(sfclat[0],sfclat[-1])\n",
    "print(sfc_lat[0],sfc_lat[-1])\n",
    "print(mer_lat[0],mer_lat[-1])\n",
    "print(p_mac_lat[0],p_mac_lat[-1])\n"
   ]
  },
  {
   "cell_type": "code",
   "execution_count": null,
   "id": "d0108ea1-1e93-43d5-bd1b-1d4d7668d645",
   "metadata": {},
   "outputs": [],
   "source": [
    "print(np.shape(temp[:,1,:,:]))\n",
    "print(np.min(sfcpres))"
   ]
  },
  {
   "cell_type": "code",
   "execution_count": null,
   "id": "bac09d1c-1dda-48ee-9a35-0ee42be6cf94",
   "metadata": {},
   "outputs": [],
   "source": [
    "len(temp)"
   ]
  },
  {
   "cell_type": "code",
   "execution_count": null,
   "id": "22f0361c-d0d8-4b0d-9183-c1978e51181b",
   "metadata": {},
   "outputs": [],
   "source": [
    "theta_850 = np.array(np.multiply(temp[:,1,:,:], (sfcpres/85000)**(Rd/Cp)))\n"
   ]
  },
  {
   "cell_type": "code",
   "execution_count": null,
   "id": "e0972fe5-faa3-46f8-b8db-e201164b3c95",
   "metadata": {},
   "outputs": [],
   "source": [
    "p_CAOI = np.array(np.subtract(sfctemp,theta_850))\n"
   ]
  },
  {
   "cell_type": "code",
   "execution_count": null,
   "id": "fe95e75c-234b-4cdc-a1a6-6609ed36c7aa",
   "metadata": {},
   "outputs": [],
   "source": [
    "maskm = np.ones((len(temp),len(mer_lat),len(mer_lon)))\n",
    "\n",
    "for a in range(len(mer_lat)):\n",
    "    for b in range(len(mer_lon)):\n",
    "        if globe.is_land(mer_lat[a], mer_lon[b])==True:\n",
    "            maskm[:,a,b] = 0"
   ]
  },
  {
   "cell_type": "code",
   "execution_count": null,
   "id": "ff2f7b4b-b6c6-4f47-ab35-34909a03ee95",
   "metadata": {},
   "outputs": [],
   "source": [
    "plot_CAOI = np.array(np.multiply(maskm,p_CAOI))\n",
    "plot_wind = np.array(np.multiply(maskm,wind))\n"
   ]
  },
  {
   "cell_type": "code",
   "execution_count": null,
   "id": "bdabd6fa-fa69-4b86-ac27-c550b1dad4cc",
   "metadata": {},
   "outputs": [],
   "source": [
    "plot_mer_theta = plot_CAOI.ravel()\n",
    "plot_mac_wind  = plot_wind.ravel()"
   ]
  },
  {
   "cell_type": "code",
   "execution_count": null,
   "id": "d4e3340c-5d2d-42b9-80a7-3d7fdfdb6b60",
   "metadata": {},
   "outputs": [],
   "source": [
    "print(np.min(plot_mer_theta), np.min(plot_mac_wind))"
   ]
  },
  {
   "cell_type": "code",
   "execution_count": null,
   "id": "ade0400d-188e-4c9e-a349-f2193c3dc4ab",
   "metadata": {},
   "outputs": [],
   "source": [
    "ind = np.argsort(plot_mer_theta)\n",
    "xx = np.sort(plot_mer_theta)\n",
    "yy = plot_mac_wind[ind]"
   ]
  },
  {
   "cell_type": "code",
   "execution_count": null,
   "id": "8ed04f7f-31a5-41cf-9939-c4af0aa1d014",
   "metadata": {},
   "outputs": [],
   "source": [
    "x_new = xx[xx<np.max(xx)]\n",
    "y_new = yy[xx<np.max(xx)]\n",
    "\n",
    "xx_new = x_new[y_new>0]\n",
    "yy_new = y_new[y_new>0]"
   ]
  },
  {
   "cell_type": "code",
   "execution_count": null,
   "id": "3c8f196d-5bd6-405c-adab-6939c97ddd5f",
   "metadata": {},
   "outputs": [],
   "source": [
    "plt.plot(xx_new,yy_new)"
   ]
  },
  {
   "cell_type": "code",
   "execution_count": null,
   "id": "a3a1b491-aec7-4259-8eed-d28f29da40f1",
   "metadata": {},
   "outputs": [],
   "source": [
    "indx = np.isnan(xx_new*yy_new)==False"
   ]
  },
  {
   "cell_type": "code",
   "execution_count": null,
   "id": "2f2db34b-f02d-46d3-9080-bfcdfe402dc4",
   "metadata": {},
   "outputs": [],
   "source": [
    "np.where(indx==False)"
   ]
  },
  {
   "cell_type": "code",
   "execution_count": null,
   "id": "98718a8b-05b0-4c6f-820b-87e271106f6e",
   "metadata": {},
   "outputs": [],
   "source": [
    "bin_means, bin_edges, binnumber = stats.binned_statistic(xx_new, yy_new, 'mean', bins=1000)\n",
    "bin_means_x, bin_edges_x, binnumber_x = stats.binned_statistic(xx_new, xx_new, 'mean', bins=1000)\n"
   ]
  },
  {
   "cell_type": "code",
   "execution_count": null,
   "id": "ca4d2b1e-35fa-451e-8ec5-5303d630cda6",
   "metadata": {},
   "outputs": [],
   "source": [
    "index = np.isnan(bin_means_x*bin_means)==False"
   ]
  },
  {
   "cell_type": "code",
   "execution_count": null,
   "id": "1c8007cf-7c40-4e9c-896c-b1ba9c197df9",
   "metadata": {},
   "outputs": [],
   "source": [
    "\n",
    "plt.plot(bin_means_x[index], bin_means[index])\n",
    "plt.ylabel('U10 [m/s]',fontsize='15')\n",
    "plt.xlabel('CAOI [K]',fontsize='15')\n",
    "plt.title('observation')"
   ]
  },
  {
   "cell_type": "code",
   "execution_count": null,
   "id": "f0450cd8-27a0-41d1-9d48-2d541653c17c",
   "metadata": {},
   "outputs": [],
   "source": [
    "bin_means_x_obs = bin_means_x[index]\n",
    "bin_means_obs   = bin_means[index]"
   ]
  },
  {
   "cell_type": "code",
   "execution_count": null,
   "id": "06dedc0e-759a-49e6-8ac4-ed66efdc7414",
   "metadata": {},
   "outputs": [],
   "source": [
    "fig= plt.figure(figsize=(5, 6))\n",
    "plt.plot(bin_means_x_obs, bin_means_obs, label='MACLWP+MERRA2')\n",
    "plt.plot(bin_means_x_gcm, bin_means_gcm, label='CESM2')\n",
    "plt.xticks(np.arange(-20,6,5),fontsize='12')\n",
    "plt.yticks(np.arange(4,13),fontsize='12')\n",
    "plt.xlim([-20,5])\n",
    "plt.ylim([3,13])\n",
    "plt.legend()\n",
    "plt.ylabel('U10 [m/s]',fontsize='15')\n",
    "plt.xlabel('CAOI [K]',fontsize='15')\n",
    "# plt.title('MACLWP wind vs MERRA2 M\\nfor 30N to 70N ocean only\\n850hPa')"
   ]
  },
  {
   "cell_type": "markdown",
   "id": "d5cdad2e-2d11-4f17-8961-6f9c5c1d5b3d",
   "metadata": {},
   "source": [
    "# PPE"
   ]
  },
  {
   "cell_type": "code",
   "execution_count": null,
   "id": "138efda6-c266-4904-8278-7b0a470f932d",
   "metadata": {},
   "outputs": [],
   "source": [
    "enn = np.arange(201,251)"
   ]
  },
  {
   "cell_type": "code",
   "execution_count": null,
   "id": "14ab3c1b-d506-4993-90ae-b93a428a572d",
   "metadata": {},
   "outputs": [],
   "source": [
    "ppe_var = ['U10', 'PSL', 'T850','TREFHT']"
   ]
  },
  {
   "cell_type": "code",
   "execution_count": null,
   "id": "8d642198-30e4-4ccd-aee9-1c18b3090711",
   "metadata": {},
   "outputs": [],
   "source": [
    "for en in enn:\n",
    "    if en != 175:\n",
    "        for i in ppe_var: #TREFHT was used since no TS. Should double check this.\n",
    "            d_path = '/glade/campaign/cgd/projects/ppe/cam_ppe/rerun_PPE_250/PD/PD_timeseries/PPE_250_ensemble_PD.'+f'{en:03d}'+'/atm/hist/cc_PPE_250_ensemble_PD.'+f'{en:03d}'+'.h1.'+str(i)+'.nc'\n",
    "            data =xr.open_dataset(d_path)\n",
    "\n",
    "            if en == enn[0]:\n",
    "                lon  = data.variables['lon'][:]  #(lon: 288) [0.0, 1.25, 2.5, ... 356.25, 357.5, 358.75]\n",
    "                lat  = data.variables['lat'][:]  #(lat: 192) [-90.0 , -89.057592, -88.115183, ... 88.115183,  89.057592, 90.0]\n",
    "                time = data.variables['time'][:] #(time: 36)\n",
    "\n",
    "            locals()[str(en)+'_'+i] = data.variables[i][:]"
   ]
  },
  {
   "cell_type": "code",
   "execution_count": null,
   "id": "8970d775-070f-40e8-9f79-bb50a7ebae3c",
   "metadata": {},
   "outputs": [],
   "source": [
    "x_lat = np.array(lat)\n",
    "lat_ind1 = np.where(x_lat == x_lat.flat[np.abs(x_lat - (30)).argmin()])[0]\n",
    "lat_ind2 = np.where(x_lat == x_lat.flat[np.abs(x_lat - (70)).argmin()])[0]\n",
    "lat_new  = lat[lat_ind1[0]:lat_ind2[0]]\n",
    "\n",
    "mask = np.ones((1096,len(lat_new),len(lon)))\n",
    "\n",
    "for a in range(len(lat_new)):\n",
    "    for b in range(len(lon)):\n",
    "        if globe.is_land(lat_new[a], lon[b]-180.)==True:\n",
    "            mask[:,a,b] = 0\n",
    "\n",
    "for en in enn:\n",
    "    if en != 175:\n",
    "        # print(en)\n",
    "        for i in ppe_var: #\n",
    "            tmp  = locals()[str(en)+'_'+i]\n",
    "            tmp2 = tmp[0:1096,lat_ind1[0]:lat_ind2[0],:]\n",
    "            locals()['MID'+i+'_'+str(en)] = np.multiply(mask,tmp2)"
   ]
  },
  {
   "cell_type": "code",
   "execution_count": null,
   "id": "a8de2913-6990-4ba8-897a-a5a40e2f0484",
   "metadata": {},
   "outputs": [],
   "source": [
    "for en in enn:\n",
    "    if en != 175:\n",
    "        locals()['theta_850_'+str(en)] = np.multiply(locals()['MIDT850_'+str(en)],(np.divide(locals()['MIDPSL_'+str(en)],85000))**(Rd/Cp))"
   ]
  },
  {
   "cell_type": "code",
   "execution_count": null,
   "id": "725dc666-4465-4023-a221-e11cd734bda5",
   "metadata": {},
   "outputs": [],
   "source": [
    "np.shape(theta_850_247)"
   ]
  },
  {
   "cell_type": "code",
   "execution_count": null,
   "id": "f615f4d4-fee1-40d9-b2d4-139f270600fa",
   "metadata": {},
   "outputs": [],
   "source": [
    "for en in enn:\n",
    "    if en != 175:\n",
    "        locals()['M_'+str(en)]   = np.array(np.subtract(locals()['MIDTREFHT_'+str(en)],locals()['theta_850_'+str(en)])).reshape(-1)\n",
    "        locals()['U10_'+str(en)] = np.array(locals()['MIDU10_'+str(en)]).reshape(-1)"
   ]
  },
  {
   "cell_type": "code",
   "execution_count": null,
   "id": "9d2b0d60-f663-4e6a-b9de-e44d2eede687",
   "metadata": {},
   "outputs": [],
   "source": [
    "np.max(U10_246)"
   ]
  },
  {
   "cell_type": "code",
   "execution_count": null,
   "id": "0fd122d3-36d0-4d77-8a32-71838140147a",
   "metadata": {},
   "outputs": [],
   "source": [
    "from scipy import stats\n",
    "from skmisc.loess import loess"
   ]
  },
  {
   "cell_type": "code",
   "execution_count": null,
   "id": "6aa8ab17-c550-4e1c-8581-0650e71f0d99",
   "metadata": {},
   "outputs": [],
   "source": [
    "fig= plt.figure(figsize=(6, 7))\n",
    "# plt.plot(bin_means_x_gcm, bin_means_gcm,color='magenta' ,marker='*', linestyle='dashed',\n",
    "#      markersize=5,linewidth=1, label='CESM2') #marker='*', markersize=12,\n",
    "# plt.plot(bin_means_x_obs, bin_means_obs,color='blue' ,marker='*', linestyle='dashed',\n",
    "#      markersize=5,linewidth=1, label='Observations')\n",
    "for en in enn:\n",
    "    if en != 175:\n",
    "        x = locals()['M_'+str(en)]\n",
    "        y = locals()['U10_'+str(en)]\n",
    "        ind = np.argsort(x)\n",
    "        xx = np.sort(x)\n",
    "        yy = y[ind]\n",
    "\n",
    "        indx = np.isnan(xx*yy)==False\n",
    "\n",
    "        bin_means, bin_edges, binnumber = stats.binned_statistic(xx[indx], yy[indx], 'mean', bins=1000)\n",
    "        bin_means_x, bin_edges_x, binnumber_x = stats.binned_statistic(xx[indx], xx[indx], 'mean', bins=1000)\n",
    "\n",
    "        index = np.isnan(bin_means_x*bin_means)==False\n",
    "\n",
    "        # plt.plot(bin_means_x, bin_means)\n",
    "        l = loess(bin_means_x[index], bin_means[index])\n",
    "        l.fit()\n",
    "        pred = l.predict(bin_means_x[index], stderror=True)\n",
    "        conf = pred.confidence()\n",
    "\n",
    "        lowess = pred.values\n",
    "\n",
    "\n",
    "        if en==250:\n",
    "            plt.plot(bin_means_x[index], lowess, alpha=0.2,label='PPE')\n",
    "\n",
    "        else:\n",
    "            plt.plot(bin_means_x[index], lowess, alpha=0.2)\n",
    "    \n",
    "\n",
    "# plt.plot(bin_means_x_obs, bin_means_obs, label='MACLWP+MERRA2')\n",
    "# plt.plot(bin_means_x_gcm, bin_means_gcm, label='CESM2')\n",
    "# plt.xticks(np.arange(-20,6,5),fontsize='12')\n",
    "# plt.yticks(np.arange(4,13),fontsize='12')\n",
    "plt.plot(bin_means_x_gcm, bin_means_gcm,color='magenta' ,marker='*', linestyle='dashed',\n",
    "     markersize=5,linewidth=1, label='CESM2')\n",
    "plt.plot(bin_means_x_obs, bin_means_obs,color='blue' ,marker='*', linestyle='dashed',\n",
    "     markersize=5,linewidth=1, label='Observations')\n",
    "plt.xlim([-20,5])\n",
    "\n",
    "plt.legend()\n",
    "plt.ylabel('U10 [m/s]',fontsize='15')\n",
    "plt.xlabel('CAOI [K]',fontsize='15')\n",
    "# plt.title('CAM6 PPE')\n",
    "# plt.savefig('ppe.png')"
   ]
  },
  {
   "cell_type": "code",
   "execution_count": null,
   "id": "58a8af3b-87d2-4746-82a7-e64cdc912e88",
   "metadata": {},
   "outputs": [],
   "source": []
  }
 ],
 "metadata": {
  "kernelspec": {
   "display_name": "geethma-npl-kernel",
   "language": "python",
   "name": "geethma-npl-kernel"
  },
  "language_info": {
   "codemirror_mode": {
    "name": "ipython",
    "version": 3
   },
   "file_extension": ".py",
   "mimetype": "text/x-python",
   "name": "python",
   "nbconvert_exporter": "python",
   "pygments_lexer": "ipython3",
   "version": "3.9.4"
  }
 },
 "nbformat": 4,
 "nbformat_minor": 5
}
