{
 "cells": [
  {
   "cell_type": "code",
   "execution_count": 1,
   "id": "dae91fef-26f2-4c37-a178-f6ad39b0f4f3",
   "metadata": {},
   "outputs": [],
   "source": [
    "import numpy as np\n",
    "import matplotlib.pyplot as plt\n",
    "import netCDF4 as nc\n",
    "import xarray as xr\n",
    "from global_land_mask import globe"
   ]
  },
  {
   "cell_type": "markdown",
   "id": "a44f28bb-f31d-44e9-9f6b-1f7bb4592d72",
   "metadata": {},
   "source": [
    "### PPE"
   ]
  },
  {
   "cell_type": "code",
   "execution_count": 48,
   "id": "30a0c6b3-1c81-4307-b61f-24355eb325fc",
   "metadata": {},
   "outputs": [],
   "source": [
    "enn = np.arange(0,174)"
   ]
  },
  {
   "cell_type": "code",
   "execution_count": 3,
   "id": "c5de7abd-cec6-4110-a843-c431434b2b86",
   "metadata": {},
   "outputs": [],
   "source": [
    "for en in enn:\n",
    "    for i in ['U10', 'PSL', 'T850','TS']:\n",
    "        d_path = '/glade/campaign/cgd/projects/ppe/cam_ppe/rerun_PPE_250/PD/PD_timeseries/PPE_250_ensemble_PD.'+f'{en:03d}'+'/atm/hist/cc_PPE_250_ensemble_PD.'+f'{en:03d}'+'.h0.'+str(i)+'.nc'\n",
    "        data =xr.open_dataset(d_path)\n",
    "        \n",
    "        if en == 0:\n",
    "            lon  = data.variables['lon'][:]  #(lon: 288) [0.0, 1.25, 2.5, ... 356.25, 357.5, 358.75]\n",
    "            lat  = data.variables['lat'][:]  #(lat: 192) [-90.0 , -89.057592, -88.115183, ... 88.115183,  89.057592, 90.0]\n",
    "            time = data.variables['time'][:] #(time: 36)\n",
    "            \n",
    "        locals()[str(en)+'_'+i] = data.variables[i][:]"
   ]
  },
  {
   "cell_type": "code",
   "execution_count": 4,
   "id": "d694ca6b-95aa-4bd8-a027-633b43ba44a9",
   "metadata": {},
   "outputs": [],
   "source": [
    "x_lat = np.array(lat)\n",
    "lat_ind1 = np.where(x_lat == x_lat.flat[np.abs(x_lat - (30)).argmin()])[0]\n",
    "lat_ind2 = np.where(x_lat == x_lat.flat[np.abs(x_lat - (70)).argmin()])[0]\n",
    "lat_new  = lat[lat_ind1[0]:lat_ind2[0]]\n",
    "\n",
    "mask = np.ones((36,len(lat_new),len(lon)))\n",
    "\n",
    "for a in range(len(lat_new)):\n",
    "    for b in range(len(lon)):\n",
    "        if globe.is_land(lat_new[a], lon[b]-180.)==True:\n",
    "            mask[0:35,a,b] = 0\n",
    "\n",
    "for en in enn:\n",
    "    for i in ['U10', 'PSL', 'T850','TS']: #\n",
    "        tmp  = locals()[str(en)+'_'+i]\n",
    "        tmp2 = tmp[:,lat_ind1[0]:lat_ind2[0],:]\n",
    "        locals()['MID'+i+'_'+str(en)] = np.multiply(mask,tmp2)"
   ]
  },
  {
   "cell_type": "code",
   "execution_count": 5,
   "id": "dfa595ac-b43c-4187-b8fc-43fc92a33005",
   "metadata": {},
   "outputs": [],
   "source": [
    "#####Constants\n",
    "Cp = 1004           #J/kg/K\n",
    "Rd = 287            #J/kg/K"
   ]
  },
  {
   "cell_type": "code",
   "execution_count": 6,
   "id": "ce924567-a93d-4250-82b1-1413e03ad1bf",
   "metadata": {},
   "outputs": [],
   "source": [
    "for en in enn:\n",
    "    locals()['theta_850_'+str(en)] = np.multiply(locals()['MIDT850_'+str(en)],(np.divide(locals()['MIDPSL_'+str(en)],85000))**(Rd/Cp))"
   ]
  },
  {
   "cell_type": "code",
   "execution_count": 7,
   "id": "bd34d85d-6808-49c9-9207-a9f1ef4dd883",
   "metadata": {},
   "outputs": [],
   "source": [
    "for en in enn:\n",
    "    locals()['M_'+str(en)]   = np.array(np.subtract(locals()['MIDTS_'+str(en)],locals()['theta_850_'+str(en)])).reshape(-1)\n",
    "    locals()['U10_'+str(en)] = np.array(locals()['MIDU10_'+str(en)]).reshape(-1)"
   ]
  },
  {
   "cell_type": "code",
   "execution_count": 8,
   "id": "e2c58573-6055-4bae-bec7-7bcb6bb794f2",
   "metadata": {},
   "outputs": [],
   "source": [
    "from scipy import stats\n",
    "from skmisc.loess import loess\n",
    "for en in enn:\n",
    "    bin_means, bin_edges, binnumber = stats.binned_statistic(locals()['M_'+str(en)], locals()['U10_'+str(en)], 'mean', bins=100)\n",
    "    bin_width = (bin_edges[1] - bin_edges[0])\n",
    "    bin_centers = bin_edges[1:] - bin_width/2\n",
    "    \n",
    "    x = np.array(bin_centers[:])\n",
    "    y = np.array(bin_means[:])\n",
    "    ind = np.argsort(x)\n",
    "    xx = np.sort(x)\n",
    "    yy = y[ind]\n",
    "\n",
    "    l = loess(xx,yy)\n",
    "    l.fit()\n",
    "    pred = l.predict(xx, stderror=True)\n",
    "    conf = pred.confidence()\n",
    "\n",
    "    locals()['lowess_'+str(en)] = pred.values\n",
    "    ll = conf.lower\n",
    "    ul = conf.upper\n",
    "    locals()['xx_'+str(en)] = xx"
   ]
  },
  {
   "cell_type": "markdown",
   "id": "9adb861c-6140-4373-bb02-02f157c95643",
   "metadata": {},
   "source": [
    "### MACLWP + MERRA2 REANALYSIS"
   ]
  },
  {
   "cell_type": "code",
   "execution_count": 49,
   "id": "b4e2774e-4335-4e18-af9c-020d7005442c",
   "metadata": {},
   "outputs": [],
   "source": [
    "import glob\n",
    "merralist = np.sort(glob.glob('../data_merra/lat_30_70/MERRA2_*.nc'))\n",
    "maclist = np.sort(glob.glob('../MACLWP_dailymean/take/wind1deg*.nc4'))"
   ]
  },
  {
   "cell_type": "code",
   "execution_count": 51,
   "id": "c5fb2934-1dba-4f39-9764-c5b3c912ea98",
   "metadata": {},
   "outputs": [],
   "source": [
    "mac_wind  = []\n",
    "mac_theta = []\n",
    "\n",
    "\n",
    "for i in range(len(merralist)): #len(maclist)\n",
    "    d_path = merralist[i]\n",
    "    data   = xr.open_dataset(d_path)\n",
    "    mlat = data.variables['lat'][:]\n",
    "    mlon = data.variables['lon'][:]\n",
    "    mlev = data.variables['lev'][:]\n",
    "    mU   = data.variables['U'][:]\n",
    "    mV   = data.variables['V'][:]\n",
    "    mT   = data.variables['T'][:]\n",
    "    \n",
    "    ddpath = maclist[i]\n",
    "    ddata   = xr.open_dataset(ddpath)\n",
    "    sfcwind= ddata.variables['sfcwind'][:]\n",
    "    slat = ddata.variables['lat'][:]\n",
    "    slon = ddata.variables['lon'][:]\n",
    "    \n",
    "    \n",
    "    \n",
    "#     if i==0:\n",
    "#         maskm = np.ones((len(mlat),len(mlon)))\n",
    "\n",
    "#         for a in range(len(mlat)):\n",
    "#             for b in range(len(mlon)):\n",
    "#                 if globe.is_land(mlat[a], mlon[b])==True:\n",
    "#                     maskm[a,b] = 0\n",
    "    \n",
    "#     mw     = np.sqrt(np.add(mU[0,0,:,:]**2, mV[0,0,:,:]**2))\n",
    "#     mtheta = np.subtract(mT[0,0,:,:], np.multiply(mT[0,1,:,:], (100/85)**(Rd/Cp)))\n",
    "    \n",
    "#     mmw    = np.array(np.multiply(maskm,mw)).reshape(-1)\n",
    "#     mmtheta= np.array(np.multiply(maskm,mtheta)).reshape(-1)\n",
    "    \n",
    "#     mac_wind.extend(mmw)\n",
    "#     mac_theta.extend(mmtheta)\n",
    "    "
   ]
  },
  {
   "cell_type": "code",
   "execution_count": 11,
   "id": "e2040d32-3efa-424a-b82a-8206662332aa",
   "metadata": {},
   "outputs": [],
   "source": [
    "mac_wind  = np.array(mac_wind)\n",
    "mac_theta = np.array(mac_theta)"
   ]
  },
  {
   "cell_type": "code",
   "execution_count": 12,
   "id": "80d5aaee-84ec-4d8a-9b5b-0ecd921a884f",
   "metadata": {},
   "outputs": [],
   "source": [
    "mac_theta_nan = mac_theta[~np.isnan(mac_theta)]\n",
    "mac_wind_nan = mac_wind[~np.isnan(mac_theta)]"
   ]
  },
  {
   "cell_type": "code",
   "execution_count": 13,
   "id": "3766cfac-f2af-43c3-962c-6568e8b77474",
   "metadata": {},
   "outputs": [],
   "source": [
    "from scipy import stats\n",
    "from skmisc.loess import loess\n",
    "\n",
    "bin_means, bin_edges, binnumber = stats.binned_statistic(mac_theta_nan, mac_wind_nan, 'mean', bins=200)\n",
    "bin_width = (bin_edges[1] - bin_edges[0])\n",
    "bin_centers = bin_edges[1:] - bin_width/2\n",
    "\n",
    "mac_bin_means = bin_means[~np.isnan(bin_means)]\n",
    "mac_bin_centers = bin_centers[~np.isnan(bin_means)]\n",
    "\n",
    "x = np.array(mac_bin_centers)\n",
    "y = np.array(mac_bin_means)\n",
    "ind = np.argsort(x)\n",
    "xx = np.sort(x)\n",
    "yy = y[ind]\n",
    "\n",
    "macl = loess(xx,yy)\n",
    "macl.fit()\n",
    "macpred = macl.predict(xx, stderror=True)\n",
    "macconf = macpred.confidence()\n",
    "\n",
    "macloess = macpred.values\n",
    "macll = conf.lower\n",
    "macul = conf.upper\n",
    "macxx = xx\n",
    "\n",
    "    "
   ]
  },
  {
   "cell_type": "markdown",
   "id": "cb8b4a7a-302f-404c-9fed-99f185558b0c",
   "metadata": {},
   "source": [
    "### PLOT"
   ]
  },
  {
   "cell_type": "code",
   "execution_count": 70,
   "id": "86d397d8-f4c4-46ae-a9f9-3b1a9c18c9cd",
   "metadata": {},
   "outputs": [
    {
     "data": {
      "text/plain": [
       "(3.0, 13.0)"
      ]
     },
     "execution_count": 70,
     "metadata": {},
     "output_type": "execute_result"
    },
    {
     "data": {
      "image/png": "[encoded data removed]",
      "text/plain": [
       "<Figure size 360x432 with 1 Axes>"
      ]
     },
     "metadata": {
      "needs_background": "light"
     },
     "output_type": "display_data"
    }
   ],
   "source": [
    "fig= plt.figure(figsize=(5, 6))\n",
    "for en in enn:\n",
    "    plt.plot(locals()['xx_'+str(en)], locals()['lowess_'+str(en)])\n",
    "    \n",
    "# plt.scatter(macxx, macloess, label = 'MERRA2')\n",
    "# plt.title('PPE U10 vs Cold air outbreak index\\n30N to 70N excluding land for \\n175 ensembles(solid) and MACLWP+MERRA2(scatter)')\n",
    "plt.ylabel('U10 [m/s]',fontsize='15')\n",
    "plt.xlabel('CAOI [K]',fontsize='15')\n",
    "plt.xticks([-20,-10,0],fontsize='12')\n",
    "plt.yticks(np.arange(4,13),fontsize='12')\n",
    "plt.xlim([-20,5])\n",
    "plt.ylim([3,13])\n",
    "# plt.savefig('/glade/u/home/geethma/link/GCMres/ppeU10vsMwithMACLWP.png')\n",
    "# plt.legend(fontsize=12.0,frameon=False)\n",
    "# plt.text(-47, 13, 'Solid lines - PPE', fontsize=12.0)"
   ]
  },
  {
   "cell_type": "code",
   "execution_count": null,
   "id": "f4ac1e6f-3c4f-410f-8932-a6b57e770cdd",
   "metadata": {},
   "outputs": [],
   "source": []
  }
 ],
 "metadata": {
  "kernelspec": {
   "display_name": "geethma-npl-kernel",
   "language": "python",
   "name": "geethma-npl-kernel"
  },
  "language_info": {
   "codemirror_mode": {
    "name": "ipython",
    "version": 3
   },
   "file_extension": ".py",
   "mimetype": "text/x-python",
   "name": "python",
   "nbconvert_exporter": "python",
   "pygments_lexer": "ipython3",
   "version": "3.9.4"
  }
 },
 "nbformat": 4,
 "nbformat_minor": 5
}
