{
 "cells": [
  {
   "cell_type": "code",
   "execution_count": null,
   "id": "bf01edf7-1bdd-438d-b26d-00e59ffdea90",
   "metadata": {},
   "outputs": [],
   "source": [
    "### This "
   ]
  }
 ],
 "metadata": {
  "kernelspec": {
   "display_name": "geethma-npl-kernel",
   "language": "python",
   "name": "geethma-npl-kernel"
  },
  "language_info": {
   "codemirror_mode": {
    "name": "ipython",
    "version": 3
   },
   "file_extension": ".py",
   "mimetype": "text/x-python",
   "name": "python",
   "nbconvert_exporter": "python",
   "pygments_lexer": "ipython3",
   "version": "3.9.4"
  }
 },
 "nbformat": 4,
 "nbformat_minor": 5
}
