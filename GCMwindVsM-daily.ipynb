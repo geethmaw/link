{
 "cells": [
  {
   "cell_type": "markdown",
   "id": "58d7ce20-1938-408e-9127-5fb05c1492c9",
   "metadata": {},
   "source": [
    "##### Created on 04/28/2022\n",
    "\n",
    "##### This notebook is to get the GCM wind vs M relationship for the oceans over 30N to 70N. Will be compared with MERRA2+MAC and PPE outputs. \n",
    "\n",
    "##### Updating to retrieve PPE daily data and CESM2 daily data using the path link. Used PSL/SST\n",
    "\n",
    "##### 5/24/2022 Update to get the theta at reference level of 1000hPa. take theta at 800hPa by weighted average of theta 700 and 850.\n",
    " \n"
   ]
  },
  {
   "cell_type": "markdown",
   "id": "a22bf429-f794-4b8c-b26c-5a6406086316",
   "metadata": {},
   "source": [
    "### Observations give higher winds in strong CAOs"
   ]
  },
  {
   "cell_type": "code",
   "execution_count": 1,
   "id": "52d222b1-29ed-4aa8-96eb-a715561eff4e",
   "metadata": {},
   "outputs": [],
   "source": [
    "import xarray as xr\n",
    "import matplotlib.pyplot as plt\n",
    "import numpy as np\n",
    "from matplotlib.cm import get_cmap\n",
    "from readGCMs import read_var_mod\n",
    "import calendar\n",
    "from global_land_mask import globe\n",
    "import glob\n",
    "import math"
   ]
  },
  {
   "cell_type": "code",
   "execution_count": 2,
   "id": "33c44bda-6eb9-4905-bda8-df226f73160b",
   "metadata": {},
   "outputs": [],
   "source": [
    "#####Constants\n",
    "Cp = 1004           #J/kg/K\n",
    "Rd = 287            #J/kg/K\n",
    "con= Rd/Cp"
   ]
  },
  {
   "cell_type": "code",
   "execution_count": 3,
   "id": "b33a8c3c-26e5-45e4-9bb1-16e0ef05a125",
   "metadata": {},
   "outputs": [
    {
     "data": {
      "text/plain": [
       "0.2858565737051793"
      ]
     },
     "execution_count": 3,
     "metadata": {},
     "output_type": "execute_result"
    }
   ],
   "source": [
    "con"
   ]
  },
  {
   "cell_type": "markdown",
   "id": "b8864158-5d79-48c0-a2d8-e0006f205073",
   "metadata": {},
   "source": [
    "# GCM"
   ]
  },
  {
   "cell_type": "code",
   "execution_count": 6,
   "id": "f38289d7-7c07-469d-ad6b-6cfb9a2edf1e",
   "metadata": {},
   "outputs": [],
   "source": [
    "varname = ['sfcWind', 'tas','psl'] #'sfcWind', 'hfss', 'hfls', 'tas', 'ps', 'psl',\n",
    "pvarname= ['ta']\n"
   ]
  },
  {
   "cell_type": "code",
   "execution_count": 7,
   "id": "b5be2390-769f-4d34-bc1f-d6a4845984ed",
   "metadata": {},
   "outputs": [
    {
     "name": "stdout",
     "output_type": "stream",
     "text": [
      "sfcWind_0 (23400, 144, 192)\n",
      "tas_0 (23400, 144, 192)\n",
      "psl_0 (23400, 144, 192)\n"
     ]
    }
   ],
   "source": [
    "#CESM2 2010 to 2015 historical\n",
    "end = 0\n",
    "for i in varname: \n",
    "    ncname = i+'_day_HadGEM3-GC31-LL_historical_r1i1p1f3_gn_19500101-20141230.nc'\n",
    "    d_path = '/glade/collections/cmip/CMIP6/CMIP/MOHC/HadGEM3-GC31-LL/historical/r1i1p1f3/day/'+i+'/gn/v20190624/'+i+'/'+ncname\n",
    "    data =xr.open_dataset(d_path)\n",
    "\n",
    "    if end == 0:\n",
    "        lon  = data.variables['lon'][:]  #(lon: 288) [0.0, 1.25, 2.5, ... 356.25, 357.5, 358.75]\n",
    "        lat  = data.variables['lat'][:]  #(lat: 192) [-90.0 , -89.057592, -88.115183, ... 88.115183,  89.057592, 90.0]\n",
    "        time = data.variables['time'][:] #(time: 36)\n",
    "\n",
    "    if i == 'ta':\n",
    "        lev  = data.variables['plev'][:]\n",
    "    \n",
    "    locals()[i+'_0'] = data.variables[i][:]\n",
    "    print(i+'_0', np.shape(locals()[i+'_0']))\n",
    "    "
   ]
  },
  {
   "cell_type": "code",
   "execution_count": 8,
   "id": "b91ff094-5d21-4cac-93e9-af989dcf8398",
   "metadata": {},
   "outputs": [
    {
     "name": "stdout",
     "output_type": "stream",
     "text": [
      "ta_0 (5400, 8, 144, 192)\n"
     ]
    }
   ],
   "source": [
    "for i in pvarname: \n",
    "    ncname = i+'_day_HadGEM3-GC31-LL_historical_r1i1p1f3_gn_20000101-20141230.nc'\n",
    "    d_path = '/glade/collections/cmip/CMIP6/CMIP/MOHC/HadGEM3-GC31-LL/historical/r1i1p1f3/day/'+i+'/gn/v20190624/'+i+'/'+ncname\n",
    "    data =xr.open_dataset(d_path)\n",
    "\n",
    "    if end == 0:\n",
    "        lon_ta  = data.variables['lon'][:]  #(lon: 288) [0.0, 1.25, 2.5, ... 356.25, 357.5, 358.75]\n",
    "        lat_ta  = data.variables['lat'][:]  #(lat: 192) [-90.0 , -89.057592, -88.115183, ... 88.115183,  89.057592, 90.0]\n",
    "        time_ta = data.variables['time'][:] #(time: 36)\n",
    "        lev     = data.variables['plev'][:]\n",
    "    \n",
    "    locals()[i+'_0'] = data.variables[i][:]\n",
    "    print(i+'_0', np.shape(locals()[i+'_0']))\n",
    "    "
   ]
  },
  {
   "cell_type": "code",
   "execution_count": 9,
   "id": "6e74da2d-978c-4d39-a7c6-066a89ca398c",
   "metadata": {},
   "outputs": [
    {
     "data": {
      "text/html": [
       "<div><svg style=\"position: absolute; width: 0; height: 0; overflow: hidden\">\n",
       "<defs>\n",
       "<symbol id=\"icon-database\" viewBox=\"0 0 32 32\">\n",
       "<path d=\"M16 0c-8.837 0-16 2.239-16 5v4c0 2.761 7.163 5 16 5s16-2.239 16-5v-4c0-2.761-7.163-5-16-5z\"></path>\n",
       "<path d=\"M16 17c-8.837 0-16-2.239-16-5v6c0 2.761 7.163 5 16 5s16-2.239 16-5v-6c0 2.761-7.163 5-16 5z\"></path>\n",
       "<path d=\"M16 26c-8.837 0-16-2.239-16-5v6c0 2.761 7.163 5 16 5s16-2.239 16-5v-6c0 2.761-7.163 5-16 5z\"></path>\n",
       "</symbol>\n",
       "<symbol id=\"icon-file-text2\" viewBox=\"0 0 32 32\">\n",
       "<path d=\"M28.681 7.159c-0.694-0.947-1.662-2.053-2.724-3.116s-2.169-2.030-3.116-2.724c-1.612-1.182-2.393-1.319-2.841-1.319h-15.5c-1.378 0-2.5 1.121-2.5 2.5v27c0 1.378 1.122 2.5 2.5 2.5h23c1.378 0 2.5-1.122 2.5-2.5v-19.5c0-0.448-0.137-1.23-1.319-2.841zM24.543 5.457c0.959 0.959 1.712 1.825 2.268 2.543h-4.811v-4.811c0.718 0.556 1.584 1.309 2.543 2.268zM28 29.5c0 0.271-0.229 0.5-0.5 0.5h-23c-0.271 0-0.5-0.229-0.5-0.5v-27c0-0.271 0.229-0.5 0.5-0.5 0 0 15.499-0 15.5 0v7c0 0.552 0.448 1 1 1h7v19.5z\"></path>\n",
       "<path d=\"M23 26h-14c-0.552 0-1-0.448-1-1s0.448-1 1-1h14c0.552 0 1 0.448 1 1s-0.448 1-1 1z\"></path>\n",
       "<path d=\"M23 22h-14c-0.552 0-1-0.448-1-1s0.448-1 1-1h14c0.552 0 1 0.448 1 1s-0.448 1-1 1z\"></path>\n",
       "<path d=\"M23 18h-14c-0.552 0-1-0.448-1-1s0.448-1 1-1h14c0.552 0 1 0.448 1 1s-0.448 1-1 1z\"></path>\n",
       "</symbol>\n",
       "</defs>\n",
       "</svg>\n",
       "<style>/* CSS stylesheet for displaying xarray objects in jupyterlab.\n",
       " *\n",
       " */\n",
       "\n",
       ":root {\n",
       "  --xr-font-color0: var(--jp-content-font-color0, rgba(0, 0, 0, 1));\n",
       "  --xr-font-color2: var(--jp-content-font-color2, rgba(0, 0, 0, 0.54));\n",
       "  --xr-font-color3: var(--jp-content-font-color3, rgba(0, 0, 0, 0.38));\n",
       "  --xr-border-color: var(--jp-border-color2, #e0e0e0);\n",
       "  --xr-disabled-color: var(--jp-layout-color3, #bdbdbd);\n",
       "  --xr-background-color: var(--jp-layout-color0, white);\n",
       "  --xr-background-color-row-even: var(--jp-layout-color1, white);\n",
       "  --xr-background-color-row-odd: var(--jp-layout-color2, #eeeeee);\n",
       "}\n",
       "\n",
       "html[theme=dark],\n",
       "body.vscode-dark {\n",
       "  --xr-font-color0: rgba(255, 255, 255, 1);\n",
       "  --xr-font-color2: rgba(255, 255, 255, 0.54);\n",
       "  --xr-font-color3: rgba(255, 255, 255, 0.38);\n",
       "  --xr-border-color: #1F1F1F;\n",
       "  --xr-disabled-color: #515151;\n",
       "  --xr-background-color: #111111;\n",
       "  --xr-background-color-row-even: #111111;\n",
       "  --xr-background-color-row-odd: #313131;\n",
       "}\n",
       "\n",
       ".xr-wrap {\n",
       "  display: block !important;\n",
       "  min-width: 300px;\n",
       "  max-width: 700px;\n",
       "}\n",
       "\n",
       ".xr-text-repr-fallback {\n",
       "  /* fallback to plain text repr when CSS is not injected (untrusted notebook) */\n",
       "  display: none;\n",
       "}\n",
       "\n",
       ".xr-header {\n",
       "  padding-top: 6px;\n",
       "  padding-bottom: 6px;\n",
       "  margin-bottom: 4px;\n",
       "  border-bottom: solid 1px var(--xr-border-color);\n",
       "}\n",
       "\n",
       ".xr-header > div,\n",
       ".xr-header > ul {\n",
       "  display: inline;\n",
       "  margin-top: 0;\n",
       "  margin-bottom: 0;\n",
       "}\n",
       "\n",
       ".xr-obj-type,\n",
       ".xr-array-name {\n",
       "  margin-left: 2px;\n",
       "  margin-right: 10px;\n",
       "}\n",
       "\n",
       ".xr-obj-type {\n",
       "  color: var(--xr-font-color2);\n",
       "}\n",
       "\n",
       ".xr-sections {\n",
       "  padding-left: 0 !important;\n",
       "  display: grid;\n",
       "  grid-template-columns: 150px auto auto 1fr 20px 20px;\n",
       "}\n",
       "\n",
       ".xr-section-item {\n",
       "  display: contents;\n",
       "}\n",
       "\n",
       ".xr-section-item input {\n",
       "  display: none;\n",
       "}\n",
       "\n",
       ".xr-section-item input + label {\n",
       "  color: var(--xr-disabled-color);\n",
       "}\n",
       "\n",
       ".xr-section-item input:enabled + label {\n",
       "  cursor: pointer;\n",
       "  color: var(--xr-font-color2);\n",
       "}\n",
       "\n",
       ".xr-section-item input:enabled + label:hover {\n",
       "  color: var(--xr-font-color0);\n",
       "}\n",
       "\n",
       ".xr-section-summary {\n",
       "  grid-column: 1;\n",
       "  color: var(--xr-font-color2);\n",
       "  font-weight: 500;\n",
       "}\n",
       "\n",
       ".xr-section-summary > span {\n",
       "  display: inline-block;\n",
       "  padding-left: 0.5em;\n",
       "}\n",
       "\n",
       ".xr-section-summary-in:disabled + label {\n",
       "  color: var(--xr-font-color2);\n",
       "}\n",
       "\n",
       ".xr-section-summary-in + label:before {\n",
       "  display: inline-block;\n",
       "  content: '►';\n",
       "  font-size: 11px;\n",
       "  width: 15px;\n",
       "  text-align: center;\n",
       "}\n",
       "\n",
       ".xr-section-summary-in:disabled + label:before {\n",
       "  color: var(--xr-disabled-color);\n",
       "}\n",
       "\n",
       ".xr-section-summary-in:checked + label:before {\n",
       "  content: '▼';\n",
       "}\n",
       "\n",
       ".xr-section-summary-in:checked + label > span {\n",
       "  display: none;\n",
       "}\n",
       "\n",
       ".xr-section-summary,\n",
       ".xr-section-inline-details {\n",
       "  padding-top: 4px;\n",
       "  padding-bottom: 4px;\n",
       "}\n",
       "\n",
       ".xr-section-inline-details {\n",
       "  grid-column: 2 / -1;\n",
       "}\n",
       "\n",
       ".xr-section-details {\n",
       "  display: none;\n",
       "  grid-column: 1 / -1;\n",
       "  margin-bottom: 5px;\n",
       "}\n",
       "\n",
       ".xr-section-summary-in:checked ~ .xr-section-details {\n",
       "  display: contents;\n",
       "}\n",
       "\n",
       ".xr-array-wrap {\n",
       "  grid-column: 1 / -1;\n",
       "  display: grid;\n",
       "  grid-template-columns: 20px auto;\n",
       "}\n",
       "\n",
       ".xr-array-wrap > label {\n",
       "  grid-column: 1;\n",
       "  vertical-align: top;\n",
       "}\n",
       "\n",
       ".xr-preview {\n",
       "  color: var(--xr-font-color3);\n",
       "}\n",
       "\n",
       ".xr-array-preview,\n",
       ".xr-array-data {\n",
       "  padding: 0 5px !important;\n",
       "  grid-column: 2;\n",
       "}\n",
       "\n",
       ".xr-array-data,\n",
       ".xr-array-in:checked ~ .xr-array-preview {\n",
       "  display: none;\n",
       "}\n",
       "\n",
       ".xr-array-in:checked ~ .xr-array-data,\n",
       ".xr-array-preview {\n",
       "  display: inline-block;\n",
       "}\n",
       "\n",
       ".xr-dim-list {\n",
       "  display: inline-block !important;\n",
       "  list-style: none;\n",
       "  padding: 0 !important;\n",
       "  margin: 0;\n",
       "}\n",
       "\n",
       ".xr-dim-list li {\n",
       "  display: inline-block;\n",
       "  padding: 0;\n",
       "  margin: 0;\n",
       "}\n",
       "\n",
       ".xr-dim-list:before {\n",
       "  content: '(';\n",
       "}\n",
       "\n",
       ".xr-dim-list:after {\n",
       "  content: ')';\n",
       "}\n",
       "\n",
       ".xr-dim-list li:not(:last-child):after {\n",
       "  content: ',';\n",
       "  padding-right: 5px;\n",
       "}\n",
       "\n",
       ".xr-has-index {\n",
       "  font-weight: bold;\n",
       "}\n",
       "\n",
       ".xr-var-list,\n",
       ".xr-var-item {\n",
       "  display: contents;\n",
       "}\n",
       "\n",
       ".xr-var-item > div,\n",
       ".xr-var-item label,\n",
       ".xr-var-item > .xr-var-name span {\n",
       "  background-color: var(--xr-background-color-row-even);\n",
       "  margin-bottom: 0;\n",
       "}\n",
       "\n",
       ".xr-var-item > .xr-var-name:hover span {\n",
       "  padding-right: 5px;\n",
       "}\n",
       "\n",
       ".xr-var-list > li:nth-child(odd) > div,\n",
       ".xr-var-list > li:nth-child(odd) > label,\n",
       ".xr-var-list > li:nth-child(odd) > .xr-var-name span {\n",
       "  background-color: var(--xr-background-color-row-odd);\n",
       "}\n",
       "\n",
       ".xr-var-name {\n",
       "  grid-column: 1;\n",
       "}\n",
       "\n",
       ".xr-var-dims {\n",
       "  grid-column: 2;\n",
       "}\n",
       "\n",
       ".xr-var-dtype {\n",
       "  grid-column: 3;\n",
       "  text-align: right;\n",
       "  color: var(--xr-font-color2);\n",
       "}\n",
       "\n",
       ".xr-var-preview {\n",
       "  grid-column: 4;\n",
       "}\n",
       "\n",
       ".xr-var-name,\n",
       ".xr-var-dims,\n",
       ".xr-var-dtype,\n",
       ".xr-preview,\n",
       ".xr-attrs dt {\n",
       "  white-space: nowrap;\n",
       "  overflow: hidden;\n",
       "  text-overflow: ellipsis;\n",
       "  padding-right: 10px;\n",
       "}\n",
       "\n",
       ".xr-var-name:hover,\n",
       ".xr-var-dims:hover,\n",
       ".xr-var-dtype:hover,\n",
       ".xr-attrs dt:hover {\n",
       "  overflow: visible;\n",
       "  width: auto;\n",
       "  z-index: 1;\n",
       "}\n",
       "\n",
       ".xr-var-attrs,\n",
       ".xr-var-data {\n",
       "  display: none;\n",
       "  background-color: var(--xr-background-color) !important;\n",
       "  padding-bottom: 5px !important;\n",
       "}\n",
       "\n",
       ".xr-var-attrs-in:checked ~ .xr-var-attrs,\n",
       ".xr-var-data-in:checked ~ .xr-var-data {\n",
       "  display: block;\n",
       "}\n",
       "\n",
       ".xr-var-data > table {\n",
       "  float: right;\n",
       "}\n",
       "\n",
       ".xr-var-name span,\n",
       ".xr-var-data,\n",
       ".xr-attrs {\n",
       "  padding-left: 25px !important;\n",
       "}\n",
       "\n",
       ".xr-attrs,\n",
       ".xr-var-attrs,\n",
       ".xr-var-data {\n",
       "  grid-column: 1 / -1;\n",
       "}\n",
       "\n",
       "dl.xr-attrs {\n",
       "  padding: 0;\n",
       "  margin: 0;\n",
       "  display: grid;\n",
       "  grid-template-columns: 125px auto;\n",
       "}\n",
       "\n",
       ".xr-attrs dt,\n",
       ".xr-attrs dd {\n",
       "  padding: 0;\n",
       "  margin: 0;\n",
       "  float: left;\n",
       "  padding-right: 10px;\n",
       "  width: auto;\n",
       "}\n",
       "\n",
       ".xr-attrs dt {\n",
       "  font-weight: normal;\n",
       "  grid-column: 1;\n",
       "}\n",
       "\n",
       ".xr-attrs dt:hover span {\n",
       "  display: inline-block;\n",
       "  background: var(--xr-background-color);\n",
       "  padding-right: 10px;\n",
       "}\n",
       "\n",
       ".xr-attrs dd {\n",
       "  grid-column: 2;\n",
       "  white-space: pre-wrap;\n",
       "  word-break: break-all;\n",
       "}\n",
       "\n",
       ".xr-icon-database,\n",
       ".xr-icon-file-text2 {\n",
       "  display: inline-block;\n",
       "  vertical-align: middle;\n",
       "  width: 1em;\n",
       "  height: 1.5em !important;\n",
       "  stroke-width: 0;\n",
       "  stroke: currentColor;\n",
       "  fill: currentColor;\n",
       "}\n",
       "</style><pre class='xr-text-repr-fallback'>&lt;xarray.Variable (time: 23400, lat: 144, lon: 192)&gt;\n",
       "[646963200 values with dtype=float32]\n",
       "Attributes:\n",
       "    standard_name:  wind_speed\n",
       "    long_name:      Daily-Mean Near-Surface Wind Speed\n",
       "    comment:        near-surface (usually, 10 meters) wind speed.\n",
       "    units:          m s-1\n",
       "    original_name:  mo: (stash: m01s03i230, lbproc: 128)\n",
       "    cell_methods:   area: time: mean\n",
       "    cell_measures:  area: areacella\n",
       "    history:        2019-06-20T06:12:23Z altered by CMOR: Treated scalar dime...</pre><div class='xr-wrap' style='display:none'><div class='xr-header'><div class='xr-obj-type'>xarray.Variable</div><div class='xr-array-name'></div><ul class='xr-dim-list'><li><span>time</span>: 23400</li><li><span>lat</span>: 144</li><li><span>lon</span>: 192</li></ul></div><ul class='xr-sections'><li class='xr-section-item'><div class='xr-array-wrap'><input id='section-d95309d1-ed67-4f62-b052-cfd8330f9416' class='xr-array-in' type='checkbox' checked><label for='section-d95309d1-ed67-4f62-b052-cfd8330f9416' title='Show/hide data repr'><svg class='icon xr-icon-database'><use xlink:href='#icon-database'></use></svg></label><div class='xr-array-preview xr-preview'><span>...</span></div><div class='xr-array-data'><pre>[646963200 values with dtype=float32]</pre></div></div></li><li class='xr-section-item'><input id='section-a43275bb-7e13-49e1-aed1-8b3485481cbc' class='xr-section-summary-in' type='checkbox'  checked><label for='section-a43275bb-7e13-49e1-aed1-8b3485481cbc' class='xr-section-summary' >Attributes: <span>(8)</span></label><div class='xr-section-inline-details'></div><div class='xr-section-details'><dl class='xr-attrs'><dt><span>standard_name :</span></dt><dd>wind_speed</dd><dt><span>long_name :</span></dt><dd>Daily-Mean Near-Surface Wind Speed</dd><dt><span>comment :</span></dt><dd>near-surface (usually, 10 meters) wind speed.</dd><dt><span>units :</span></dt><dd>m s-1</dd><dt><span>original_name :</span></dt><dd>mo: (stash: m01s03i230, lbproc: 128)</dd><dt><span>cell_methods :</span></dt><dd>area: time: mean</dd><dt><span>cell_measures :</span></dt><dd>area: areacella</dd><dt><span>history :</span></dt><dd>2019-06-20T06:12:23Z altered by CMOR: Treated scalar dimension: &#x27;height&#x27;. 2019-06-20T06:12:23Z altered by CMOR: replaced missing value flag (-1.07374e+09) with standard missing value (1e+20).</dd></dl></div></li></ul></div></div>"
      ],
      "text/plain": [
       "<xarray.Variable (time: 23400, lat: 144, lon: 192)>\n",
       "[646963200 values with dtype=float32]\n",
       "Attributes:\n",
       "    standard_name:  wind_speed\n",
       "    long_name:      Daily-Mean Near-Surface Wind Speed\n",
       "    comment:        near-surface (usually, 10 meters) wind speed.\n",
       "    units:          m s-1\n",
       "    original_name:  mo: (stash: m01s03i230, lbproc: 128)\n",
       "    cell_methods:   area: time: mean\n",
       "    cell_measures:  area: areacella\n",
       "    history:        2019-06-20T06:12:23Z altered by CMOR: Treated scalar dime..."
      ]
     },
     "execution_count": 9,
     "metadata": {},
     "output_type": "execute_result"
    }
   ],
   "source": [
    "sfcWind_0"
   ]
  },
  {
   "cell_type": "code",
   "execution_count": 7,
   "id": "3b376a27-a3b7-4053-8928-4709a5b87c99",
   "metadata": {},
   "outputs": [
    {
     "data": {
      "text/html": [
       "<div><svg style=\"position: absolute; width: 0; height: 0; overflow: hidden\">\n",
       "<defs>\n",
       "<symbol id=\"icon-database\" viewBox=\"0 0 32 32\">\n",
       "<path d=\"M16 0c-8.837 0-16 2.239-16 5v4c0 2.761 7.163 5 16 5s16-2.239 16-5v-4c0-2.761-7.163-5-16-5z\"></path>\n",
       "<path d=\"M16 17c-8.837 0-16-2.239-16-5v6c0 2.761 7.163 5 16 5s16-2.239 16-5v-6c0 2.761-7.163 5-16 5z\"></path>\n",
       "<path d=\"M16 26c-8.837 0-16-2.239-16-5v6c0 2.761 7.163 5 16 5s16-2.239 16-5v-6c0 2.761-7.163 5-16 5z\"></path>\n",
       "</symbol>\n",
       "<symbol id=\"icon-file-text2\" viewBox=\"0 0 32 32\">\n",
       "<path d=\"M28.681 7.159c-0.694-0.947-1.662-2.053-2.724-3.116s-2.169-2.030-3.116-2.724c-1.612-1.182-2.393-1.319-2.841-1.319h-15.5c-1.378 0-2.5 1.121-2.5 2.5v27c0 1.378 1.122 2.5 2.5 2.5h23c1.378 0 2.5-1.122 2.5-2.5v-19.5c0-0.448-0.137-1.23-1.319-2.841zM24.543 5.457c0.959 0.959 1.712 1.825 2.268 2.543h-4.811v-4.811c0.718 0.556 1.584 1.309 2.543 2.268zM28 29.5c0 0.271-0.229 0.5-0.5 0.5h-23c-0.271 0-0.5-0.229-0.5-0.5v-27c0-0.271 0.229-0.5 0.5-0.5 0 0 15.499-0 15.5 0v7c0 0.552 0.448 1 1 1h7v19.5z\"></path>\n",
       "<path d=\"M23 26h-14c-0.552 0-1-0.448-1-1s0.448-1 1-1h14c0.552 0 1 0.448 1 1s-0.448 1-1 1z\"></path>\n",
       "<path d=\"M23 22h-14c-0.552 0-1-0.448-1-1s0.448-1 1-1h14c0.552 0 1 0.448 1 1s-0.448 1-1 1z\"></path>\n",
       "<path d=\"M23 18h-14c-0.552 0-1-0.448-1-1s0.448-1 1-1h14c0.552 0 1 0.448 1 1s-0.448 1-1 1z\"></path>\n",
       "</symbol>\n",
       "</defs>\n",
       "</svg>\n",
       "<style>/* CSS stylesheet for displaying xarray objects in jupyterlab.\n",
       " *\n",
       " */\n",
       "\n",
       ":root {\n",
       "  --xr-font-color0: var(--jp-content-font-color0, rgba(0, 0, 0, 1));\n",
       "  --xr-font-color2: var(--jp-content-font-color2, rgba(0, 0, 0, 0.54));\n",
       "  --xr-font-color3: var(--jp-content-font-color3, rgba(0, 0, 0, 0.38));\n",
       "  --xr-border-color: var(--jp-border-color2, #e0e0e0);\n",
       "  --xr-disabled-color: var(--jp-layout-color3, #bdbdbd);\n",
       "  --xr-background-color: var(--jp-layout-color0, white);\n",
       "  --xr-background-color-row-even: var(--jp-layout-color1, white);\n",
       "  --xr-background-color-row-odd: var(--jp-layout-color2, #eeeeee);\n",
       "}\n",
       "\n",
       "html[theme=dark],\n",
       "body.vscode-dark {\n",
       "  --xr-font-color0: rgba(255, 255, 255, 1);\n",
       "  --xr-font-color2: rgba(255, 255, 255, 0.54);\n",
       "  --xr-font-color3: rgba(255, 255, 255, 0.38);\n",
       "  --xr-border-color: #1F1F1F;\n",
       "  --xr-disabled-color: #515151;\n",
       "  --xr-background-color: #111111;\n",
       "  --xr-background-color-row-even: #111111;\n",
       "  --xr-background-color-row-odd: #313131;\n",
       "}\n",
       "\n",
       ".xr-wrap {\n",
       "  display: block !important;\n",
       "  min-width: 300px;\n",
       "  max-width: 700px;\n",
       "}\n",
       "\n",
       ".xr-text-repr-fallback {\n",
       "  /* fallback to plain text repr when CSS is not injected (untrusted notebook) */\n",
       "  display: none;\n",
       "}\n",
       "\n",
       ".xr-header {\n",
       "  padding-top: 6px;\n",
       "  padding-bottom: 6px;\n",
       "  margin-bottom: 4px;\n",
       "  border-bottom: solid 1px var(--xr-border-color);\n",
       "}\n",
       "\n",
       ".xr-header > div,\n",
       ".xr-header > ul {\n",
       "  display: inline;\n",
       "  margin-top: 0;\n",
       "  margin-bottom: 0;\n",
       "}\n",
       "\n",
       ".xr-obj-type,\n",
       ".xr-array-name {\n",
       "  margin-left: 2px;\n",
       "  margin-right: 10px;\n",
       "}\n",
       "\n",
       ".xr-obj-type {\n",
       "  color: var(--xr-font-color2);\n",
       "}\n",
       "\n",
       ".xr-sections {\n",
       "  padding-left: 0 !important;\n",
       "  display: grid;\n",
       "  grid-template-columns: 150px auto auto 1fr 20px 20px;\n",
       "}\n",
       "\n",
       ".xr-section-item {\n",
       "  display: contents;\n",
       "}\n",
       "\n",
       ".xr-section-item input {\n",
       "  display: none;\n",
       "}\n",
       "\n",
       ".xr-section-item input + label {\n",
       "  color: var(--xr-disabled-color);\n",
       "}\n",
       "\n",
       ".xr-section-item input:enabled + label {\n",
       "  cursor: pointer;\n",
       "  color: var(--xr-font-color2);\n",
       "}\n",
       "\n",
       ".xr-section-item input:enabled + label:hover {\n",
       "  color: var(--xr-font-color0);\n",
       "}\n",
       "\n",
       ".xr-section-summary {\n",
       "  grid-column: 1;\n",
       "  color: var(--xr-font-color2);\n",
       "  font-weight: 500;\n",
       "}\n",
       "\n",
       ".xr-section-summary > span {\n",
       "  display: inline-block;\n",
       "  padding-left: 0.5em;\n",
       "}\n",
       "\n",
       ".xr-section-summary-in:disabled + label {\n",
       "  color: var(--xr-font-color2);\n",
       "}\n",
       "\n",
       ".xr-section-summary-in + label:before {\n",
       "  display: inline-block;\n",
       "  content: '►';\n",
       "  font-size: 11px;\n",
       "  width: 15px;\n",
       "  text-align: center;\n",
       "}\n",
       "\n",
       ".xr-section-summary-in:disabled + label:before {\n",
       "  color: var(--xr-disabled-color);\n",
       "}\n",
       "\n",
       ".xr-section-summary-in:checked + label:before {\n",
       "  content: '▼';\n",
       "}\n",
       "\n",
       ".xr-section-summary-in:checked + label > span {\n",
       "  display: none;\n",
       "}\n",
       "\n",
       ".xr-section-summary,\n",
       ".xr-section-inline-details {\n",
       "  padding-top: 4px;\n",
       "  padding-bottom: 4px;\n",
       "}\n",
       "\n",
       ".xr-section-inline-details {\n",
       "  grid-column: 2 / -1;\n",
       "}\n",
       "\n",
       ".xr-section-details {\n",
       "  display: none;\n",
       "  grid-column: 1 / -1;\n",
       "  margin-bottom: 5px;\n",
       "}\n",
       "\n",
       ".xr-section-summary-in:checked ~ .xr-section-details {\n",
       "  display: contents;\n",
       "}\n",
       "\n",
       ".xr-array-wrap {\n",
       "  grid-column: 1 / -1;\n",
       "  display: grid;\n",
       "  grid-template-columns: 20px auto;\n",
       "}\n",
       "\n",
       ".xr-array-wrap > label {\n",
       "  grid-column: 1;\n",
       "  vertical-align: top;\n",
       "}\n",
       "\n",
       ".xr-preview {\n",
       "  color: var(--xr-font-color3);\n",
       "}\n",
       "\n",
       ".xr-array-preview,\n",
       ".xr-array-data {\n",
       "  padding: 0 5px !important;\n",
       "  grid-column: 2;\n",
       "}\n",
       "\n",
       ".xr-array-data,\n",
       ".xr-array-in:checked ~ .xr-array-preview {\n",
       "  display: none;\n",
       "}\n",
       "\n",
       ".xr-array-in:checked ~ .xr-array-data,\n",
       ".xr-array-preview {\n",
       "  display: inline-block;\n",
       "}\n",
       "\n",
       ".xr-dim-list {\n",
       "  display: inline-block !important;\n",
       "  list-style: none;\n",
       "  padding: 0 !important;\n",
       "  margin: 0;\n",
       "}\n",
       "\n",
       ".xr-dim-list li {\n",
       "  display: inline-block;\n",
       "  padding: 0;\n",
       "  margin: 0;\n",
       "}\n",
       "\n",
       ".xr-dim-list:before {\n",
       "  content: '(';\n",
       "}\n",
       "\n",
       ".xr-dim-list:after {\n",
       "  content: ')';\n",
       "}\n",
       "\n",
       ".xr-dim-list li:not(:last-child):after {\n",
       "  content: ',';\n",
       "  padding-right: 5px;\n",
       "}\n",
       "\n",
       ".xr-has-index {\n",
       "  font-weight: bold;\n",
       "}\n",
       "\n",
       ".xr-var-list,\n",
       ".xr-var-item {\n",
       "  display: contents;\n",
       "}\n",
       "\n",
       ".xr-var-item > div,\n",
       ".xr-var-item label,\n",
       ".xr-var-item > .xr-var-name span {\n",
       "  background-color: var(--xr-background-color-row-even);\n",
       "  margin-bottom: 0;\n",
       "}\n",
       "\n",
       ".xr-var-item > .xr-var-name:hover span {\n",
       "  padding-right: 5px;\n",
       "}\n",
       "\n",
       ".xr-var-list > li:nth-child(odd) > div,\n",
       ".xr-var-list > li:nth-child(odd) > label,\n",
       ".xr-var-list > li:nth-child(odd) > .xr-var-name span {\n",
       "  background-color: var(--xr-background-color-row-odd);\n",
       "}\n",
       "\n",
       ".xr-var-name {\n",
       "  grid-column: 1;\n",
       "}\n",
       "\n",
       ".xr-var-dims {\n",
       "  grid-column: 2;\n",
       "}\n",
       "\n",
       ".xr-var-dtype {\n",
       "  grid-column: 3;\n",
       "  text-align: right;\n",
       "  color: var(--xr-font-color2);\n",
       "}\n",
       "\n",
       ".xr-var-preview {\n",
       "  grid-column: 4;\n",
       "}\n",
       "\n",
       ".xr-var-name,\n",
       ".xr-var-dims,\n",
       ".xr-var-dtype,\n",
       ".xr-preview,\n",
       ".xr-attrs dt {\n",
       "  white-space: nowrap;\n",
       "  overflow: hidden;\n",
       "  text-overflow: ellipsis;\n",
       "  padding-right: 10px;\n",
       "}\n",
       "\n",
       ".xr-var-name:hover,\n",
       ".xr-var-dims:hover,\n",
       ".xr-var-dtype:hover,\n",
       ".xr-attrs dt:hover {\n",
       "  overflow: visible;\n",
       "  width: auto;\n",
       "  z-index: 1;\n",
       "}\n",
       "\n",
       ".xr-var-attrs,\n",
       ".xr-var-data {\n",
       "  display: none;\n",
       "  background-color: var(--xr-background-color) !important;\n",
       "  padding-bottom: 5px !important;\n",
       "}\n",
       "\n",
       ".xr-var-attrs-in:checked ~ .xr-var-attrs,\n",
       ".xr-var-data-in:checked ~ .xr-var-data {\n",
       "  display: block;\n",
       "}\n",
       "\n",
       ".xr-var-data > table {\n",
       "  float: right;\n",
       "}\n",
       "\n",
       ".xr-var-name span,\n",
       ".xr-var-data,\n",
       ".xr-attrs {\n",
       "  padding-left: 25px !important;\n",
       "}\n",
       "\n",
       ".xr-attrs,\n",
       ".xr-var-attrs,\n",
       ".xr-var-data {\n",
       "  grid-column: 1 / -1;\n",
       "}\n",
       "\n",
       "dl.xr-attrs {\n",
       "  padding: 0;\n",
       "  margin: 0;\n",
       "  display: grid;\n",
       "  grid-template-columns: 125px auto;\n",
       "}\n",
       "\n",
       ".xr-attrs dt,\n",
       ".xr-attrs dd {\n",
       "  padding: 0;\n",
       "  margin: 0;\n",
       "  float: left;\n",
       "  padding-right: 10px;\n",
       "  width: auto;\n",
       "}\n",
       "\n",
       ".xr-attrs dt {\n",
       "  font-weight: normal;\n",
       "  grid-column: 1;\n",
       "}\n",
       "\n",
       ".xr-attrs dt:hover span {\n",
       "  display: inline-block;\n",
       "  background: var(--xr-background-color);\n",
       "  padding-right: 10px;\n",
       "}\n",
       "\n",
       ".xr-attrs dd {\n",
       "  grid-column: 2;\n",
       "  white-space: pre-wrap;\n",
       "  word-break: break-all;\n",
       "}\n",
       "\n",
       ".xr-icon-database,\n",
       ".xr-icon-file-text2 {\n",
       "  display: inline-block;\n",
       "  vertical-align: middle;\n",
       "  width: 1em;\n",
       "  height: 1.5em !important;\n",
       "  stroke-width: 0;\n",
       "  stroke: currentColor;\n",
       "  fill: currentColor;\n",
       "}\n",
       "</style><pre class='xr-text-repr-fallback'>&lt;xarray.IndexVariable &#x27;plev&#x27; (plev: 8)&gt;\n",
       "array([100000.,  85000.,  70000.,  50000.,  25000.,  10000.,   5000.,   1000.])\n",
       "Attributes:\n",
       "    units:          Pa\n",
       "    axis:           Z\n",
       "    positive:       down\n",
       "    long_name:      pressure\n",
       "    standard_name:  air_pressure</pre><div class='xr-wrap' style='display:none'><div class='xr-header'><div class='xr-obj-type'>xarray.IndexVariable</div><div class='xr-array-name'>'plev'</div><ul class='xr-dim-list'><li><span>plev</span>: 8</li></ul></div><ul class='xr-sections'><li class='xr-section-item'><div class='xr-array-wrap'><input id='section-16188bc5-165a-4347-8535-954442bba5ba' class='xr-array-in' type='checkbox' checked><label for='section-16188bc5-165a-4347-8535-954442bba5ba' title='Show/hide data repr'><svg class='icon xr-icon-database'><use xlink:href='#icon-database'></use></svg></label><div class='xr-array-preview xr-preview'><span>1e+05 8.5e+04 7e+04 5e+04 2.5e+04 1e+04 5e+03 1e+03</span></div><div class='xr-array-data'><pre>array([100000.,  85000.,  70000.,  50000.,  25000.,  10000.,   5000.,   1000.])</pre></div></div></li><li class='xr-section-item'><input id='section-f371fe97-38f3-4076-bab5-4522ba7b7832' class='xr-section-summary-in' type='checkbox'  checked><label for='section-f371fe97-38f3-4076-bab5-4522ba7b7832' class='xr-section-summary' >Attributes: <span>(5)</span></label><div class='xr-section-inline-details'></div><div class='xr-section-details'><dl class='xr-attrs'><dt><span>units :</span></dt><dd>Pa</dd><dt><span>axis :</span></dt><dd>Z</dd><dt><span>positive :</span></dt><dd>down</dd><dt><span>long_name :</span></dt><dd>pressure</dd><dt><span>standard_name :</span></dt><dd>air_pressure</dd></dl></div></li></ul></div></div>"
      ],
      "text/plain": [
       "<xarray.IndexVariable 'plev' (plev: 8)>\n",
       "array([100000.,  85000.,  70000.,  50000.,  25000.,  10000.,   5000.,   1000.])\n",
       "Attributes:\n",
       "    units:          Pa\n",
       "    axis:           Z\n",
       "    positive:       down\n",
       "    long_name:      pressure\n",
       "    standard_name:  air_pressure"
      ]
     },
     "execution_count": 7,
     "metadata": {},
     "output_type": "execute_result"
    }
   ],
   "source": [
    "lev"
   ]
  },
  {
   "cell_type": "code",
   "execution_count": 10,
   "id": "e9b005b5-d143-4c70-8bc6-ee971ca49c52",
   "metadata": {},
   "outputs": [
    {
     "name": "stdout",
     "output_type": "stream",
     "text": [
      "sfcWind0 (1080, 144, 192)\n",
      "tas0 (1080, 144, 192)\n",
      "psl0 (1080, 144, 192)\n",
      "ta0 (1080, 8, 144, 192)\n"
     ]
    }
   ],
   "source": [
    "for j in varname:\n",
    "    locals()[j+str(0)] = locals()[j+'_'+str(0)][21600:22680,:,:]\n",
    "    print(j+'0', np.shape(locals()[j+str(0)]))\n",
    "    \n",
    "for j in pvarname:\n",
    "    locals()[j+str(0)] = locals()[j+'_'+str(0)][3600:4680,:,:]\n",
    "    print(j+'0', np.shape(locals()[j+str(0)]))\n"
   ]
  },
  {
   "cell_type": "code",
   "execution_count": 11,
   "id": "8c736f78-abd7-4a75-946d-7f20c0b644e5",
   "metadata": {},
   "outputs": [
    {
     "name": "stdout",
     "output_type": "stream",
     "text": [
      "<xarray.Variable ()>\n",
      "array(cftime.Datetime360Day(2010, 1, 1, 12, 0, 0, 0, has_year_zero=True),\n",
      "      dtype=object)\n",
      "Attributes:\n",
      "    bounds:         time_bnds\n",
      "    axis:           T\n",
      "    long_name:      time\n",
      "    standard_name:  time <xarray.Variable ()>\n",
      "array(cftime.Datetime360Day(2012, 12, 30, 12, 0, 0, 0, has_year_zero=True),\n",
      "      dtype=object)\n",
      "Attributes:\n",
      "    bounds:         time_bnds\n",
      "    axis:           T\n",
      "    long_name:      time\n",
      "    standard_name:  time\n"
     ]
    }
   ],
   "source": [
    "print(time[21600],time[22679])"
   ]
  },
  {
   "cell_type": "code",
   "execution_count": 12,
   "id": "48e2f871-99e7-441e-a1c7-ad5d70697e4e",
   "metadata": {},
   "outputs": [
    {
     "name": "stdout",
     "output_type": "stream",
     "text": [
      "<xarray.Variable ()>\n",
      "array(cftime.Datetime360Day(2010, 1, 1, 12, 0, 0, 0, has_year_zero=True),\n",
      "      dtype=object)\n",
      "Attributes:\n",
      "    bounds:         time_bnds\n",
      "    axis:           T\n",
      "    long_name:      time\n",
      "    standard_name:  time <xarray.Variable ()>\n",
      "array(cftime.Datetime360Day(2012, 12, 30, 12, 0, 0, 0, has_year_zero=True),\n",
      "      dtype=object)\n",
      "Attributes:\n",
      "    bounds:         time_bnds\n",
      "    axis:           T\n",
      "    long_name:      time\n",
      "    standard_name:  time\n"
     ]
    }
   ],
   "source": [
    "print(time_ta[3600],time_ta[4679])"
   ]
  },
  {
   "cell_type": "code",
   "execution_count": 13,
   "id": "47bc64d2-ab5b-4c34-9f75-399670a3854e",
   "metadata": {},
   "outputs": [],
   "source": [
    "theta_850 = ta0[:,1,:,:]*(100000/85000)**con\n"
   ]
  },
  {
   "cell_type": "code",
   "execution_count": 14,
   "id": "ae9ecae8-1390-4a4f-a5c2-fc948f406861",
   "metadata": {},
   "outputs": [],
   "source": [
    "theta_700 = ta0[:,2,:,:]*(100000/70000)**con"
   ]
  },
  {
   "cell_type": "code",
   "execution_count": 15,
   "id": "3ffe57ed-63b6-458c-9f6a-aa0c3efc3a9a",
   "metadata": {},
   "outputs": [],
   "source": [
    "theta_800 = theta_700 + ((2/3) * (theta_850 - theta_700))"
   ]
  },
  {
   "cell_type": "code",
   "execution_count": 16,
   "id": "35583553-db69-427f-acbb-1ab20cf74e67",
   "metadata": {},
   "outputs": [],
   "source": [
    "theta_sfc = tas0*(100000/psl0)**con"
   ]
  },
  {
   "cell_type": "code",
   "execution_count": 17,
   "id": "5e7929b5-1033-4056-bd05-a0f4b6469a97",
   "metadata": {},
   "outputs": [],
   "source": [
    "M = theta_sfc - theta_800\n"
   ]
  },
  {
   "cell_type": "code",
   "execution_count": 89,
   "id": "f847e6d4-a698-4ca7-a091-562e9ab81b3b",
   "metadata": {},
   "outputs": [
    {
     "name": "stdout",
     "output_type": "stream",
     "text": [
      "<xarray.Variable ()>\n",
      "array(106573.81, dtype=float32) <xarray.Variable ()>\n",
      "array(92797.875, dtype=float32)\n",
      "<xarray.Variable ()>\n",
      "array(1.23404589) <xarray.Variable ()>\n",
      "array(-60.51881248)\n",
      "<xarray.Variable ()>\n",
      "array(328.31766, dtype=float32) <xarray.Variable ()>\n",
      "array(224.97458, dtype=float32)\n"
     ]
    }
   ],
   "source": [
    "print(np.max(psl0),np.min(psl0))\n",
    "print(np.max(M),np.min(M))\n",
    "print(np.max(theta_850),np.min(theta_850))"
   ]
  },
  {
   "cell_type": "code",
   "execution_count": 18,
   "id": "b6023a26-0555-4d3c-b94f-f81db757ef8b",
   "metadata": {},
   "outputs": [],
   "source": [
    "x_lat = np.array(lat)\n",
    "lat_ind1 = np.where(x_lat == x_lat.flat[np.abs(x_lat - (30)).argmin()])[0]\n",
    "lat_ind2 = np.where(x_lat == x_lat.flat[np.abs(x_lat - (70)).argmin()])[0]    \n",
    "\n",
    "x_lon = lon\n",
    "# lon_ind1 = np.where(x_lon == x_lon.flat[np.abs(x_lon - (-180)).argmin()])[0]\n",
    "# lon_ind2 = np.where(x_lon == x_lon.flat[np.abs(x_lon - (180)).argmin()])[0]\n",
    "\n",
    "x_sfcWind = sfcWind0\n",
    "m_sfcWind = x_sfcWind[0:1094,lat_ind1[0]:lat_ind2[0],:]\n",
    "lats = lat[lat_ind1[0]:lat_ind2[0]]\n",
    "\n",
    "x_M = M\n",
    "m_M = x_M[0:1094,lat_ind1[0]:lat_ind2[0],:]\n"
   ]
  },
  {
   "cell_type": "code",
   "execution_count": 19,
   "id": "9043f78c-62a6-4367-9ed3-26730a77a0f7",
   "metadata": {},
   "outputs": [],
   "source": [
    "cao = np.array(m_M)\n",
    "sw  = np.array(m_sfcWind)"
   ]
  },
  {
   "cell_type": "code",
   "execution_count": 20,
   "id": "e11d0f75-dba7-43da-ada7-485eeacf2ffc",
   "metadata": {},
   "outputs": [],
   "source": [
    "maskm = np.ones((len(sw),len(lats),len(lon)))\n",
    "\n",
    "for a in range(len(lats)):\n",
    "    for b in range(len(lon)):\n",
    "        if globe.is_land(lats[a], lon[b]-180.)==True:\n",
    "            maskm[:,a,b] = math.nan"
   ]
  },
  {
   "cell_type": "code",
   "execution_count": 21,
   "id": "a48f1958-af38-47af-8442-96cf0fa0dcd9",
   "metadata": {},
   "outputs": [],
   "source": [
    "plot_CAOI = np.array(np.multiply(maskm,cao))\n",
    "wind      = np.array(np.multiply(maskm,sw))"
   ]
  },
  {
   "cell_type": "code",
   "execution_count": 25,
   "id": "fb3cf211-8de7-4ca8-b823-4e608444dc16",
   "metadata": {},
   "outputs": [
    {
     "data": {
      "text/plain": [
       "0.12233734"
      ]
     },
     "execution_count": 25,
     "metadata": {},
     "output_type": "execute_result"
    }
   ],
   "source": [
    "np.min(sw)"
   ]
  },
  {
   "cell_type": "code",
   "execution_count": 26,
   "id": "7d7af805-98da-4493-a768-01aa7990a299",
   "metadata": {},
   "outputs": [],
   "source": [
    "plot_theta = plot_CAOI.ravel()\n",
    "plot_wind = wind.ravel()"
   ]
  },
  {
   "cell_type": "code",
   "execution_count": 106,
   "id": "04d2ea85-df4f-4c00-be75-7f4cbcac5179",
   "metadata": {},
   "outputs": [
    {
     "data": {
      "text/plain": [
       "(6635520,)"
      ]
     },
     "execution_count": 106,
     "metadata": {},
     "output_type": "execute_result"
    }
   ],
   "source": [
    "np.shape(plot_theta)"
   ]
  },
  {
   "cell_type": "code",
   "execution_count": 107,
   "id": "c861dc9a-0935-4488-b87e-d8ebb9cc3250",
   "metadata": {},
   "outputs": [
    {
     "data": {
      "text/plain": [
       "(6635520,)"
      ]
     },
     "execution_count": 107,
     "metadata": {},
     "output_type": "execute_result"
    }
   ],
   "source": [
    "np.shape(plot_wind)"
   ]
  },
  {
   "cell_type": "code",
   "execution_count": 27,
   "id": "d07e9bbb-11df-4de5-a752-b9cbaeffed84",
   "metadata": {},
   "outputs": [],
   "source": [
    "ind = np.argsort(plot_theta)\n",
    "xx = np.sort(plot_theta)\n",
    "yy = plot_wind[ind]"
   ]
  },
  {
   "cell_type": "code",
   "execution_count": 29,
   "id": "bc1372a6-b53d-4d8b-b6d5-3515e910f5f8",
   "metadata": {},
   "outputs": [],
   "source": [
    "indx = np.isnan(xx*yy)==False"
   ]
  },
  {
   "cell_type": "code",
   "execution_count": 31,
   "id": "f99ce168-692d-4103-9a54-d46fb8e144f5",
   "metadata": {},
   "outputs": [
    {
     "data": {
      "text/plain": [
       "Text(0.5, 1.0, 'HadGEM3-GC31-LL : M PDF')"
      ]
     },
     "execution_count": 31,
     "metadata": {},
     "output_type": "execute_result"
    },
    {
     "data": {
      "image/png": "[encoded data removed]",
      "text/plain": [
       "<Figure size 432x288 with 1 Axes>"
      ]
     },
     "metadata": {
      "needs_background": "light"
     },
     "output_type": "display_data"
    },
    {
     "data": {
      "image/png": "[encoded data removed]",
      "text/plain": [
       "<Figure size 432x288 with 1 Axes>"
      ]
     },
     "metadata": {
      "needs_background": "light"
     },
     "output_type": "display_data"
    }
   ],
   "source": [
    "######## U10 PDF ##################\n",
    "from scipy.stats import norm\n",
    "fig = plt.figure()\n",
    "plt.plot(np.sort(yy[indx]), norm.pdf(np.sort(yy[indx])))\n",
    "# plt.legend()\n",
    "plt.title('HadGEM3-GC31-LL : U10 PDF')\n",
    "######################################\n",
    "\n",
    "######## M PDF ##################\n",
    "from scipy.stats import norm\n",
    "fig = plt.figure()\n",
    "plt.plot(xx[indx], norm.pdf(xx[indx]))\n",
    "# plt.legend()\n",
    "plt.title('HadGEM3-GC31-LL : M PDF')\n",
    "######################################"
   ]
  },
  {
   "cell_type": "code",
   "execution_count": 78,
   "id": "bda9a9d6-737c-43dd-833d-7ce6091efc40",
   "metadata": {},
   "outputs": [],
   "source": [
    "# hb = plt.hexbin(xx, yy, gridsize=40, cmap='Blues')\n",
    "# plt.ylabel('U10 [m/s]',fontsize='15')\n",
    "# plt.xlabel('CAOI [K]',fontsize='15')\n",
    "# plt.title('GCM wind vs M\\nfor 30N to 70N ocean only')"
   ]
  },
  {
   "cell_type": "code",
   "execution_count": 110,
   "id": "dd87fb60-c638-4a90-8dec-feb20951a61d",
   "metadata": {},
   "outputs": [],
   "source": [
    "from scipy import stats\n",
    "bin_means, bin_edges, binnumber = stats.binned_statistic(xx[indx], yy[indx], 'mean', bins=1000)\n",
    "bin_means_x, bin_edges_x, binnumber_x = stats.binned_statistic(xx[indx], xx[indx], 'mean', bins=1000)\n"
   ]
  },
  {
   "cell_type": "code",
   "execution_count": 111,
   "id": "40a593ed-2df7-4b1e-80a4-a85e6127adff",
   "metadata": {},
   "outputs": [
    {
     "data": {
      "text/plain": [
       "Text(0.5, 1.0, 'GCM-HadGEM3-GC31-LL')"
      ]
     },
     "execution_count": 111,
     "metadata": {},
     "output_type": "execute_result"
    },
    {
     "data": {
      "image/png": "[encoded data removed]",
      "text/plain": [
       "<Figure size 432x288 with 1 Axes>"
      ]
     },
     "metadata": {
      "needs_background": "light"
     },
     "output_type": "display_data"
    }
   ],
   "source": [
    "from skmisc.loess import loess\n",
    "index = np.isnan(bin_means_x*bin_means)==False\n",
    "\n",
    "# plt.plot(bin_means_x, bin_means)\n",
    "# l = loess(bin_means_x[index], bin_means[index])\n",
    "# l.fit()\n",
    "# pred = l.predict(bin_means_x[index], stderror=True)\n",
    "# conf = pred.confidence()\n",
    "\n",
    "# lowess = pred.values\n",
    "plt.plot(bin_means_x[index], bin_means[index])\n",
    "plt.ylabel('U10 [m/s]',fontsize='15')\n",
    "plt.xlabel('CAOI [K]',fontsize='15')\n",
    "plt.title('GCM-HadGEM3-GC31-LL')"
   ]
  },
  {
   "cell_type": "code",
   "execution_count": null,
   "id": "8ddcb4e2-4031-4258-b509-2afe99c5f187",
   "metadata": {},
   "outputs": [],
   "source": [
    "bin_means_x_gcm = bin_means_x[index]\n",
    "bin_means_gcm   = lowess"
   ]
  },
  {
   "cell_type": "code",
   "execution_count": null,
   "id": "996bb510-b60e-4e2f-a664-27a7faf9b363",
   "metadata": {},
   "outputs": [],
   "source": [
    "x_gcm = []\n",
    "y_gcm = []\n"
   ]
  },
  {
   "cell_type": "code",
   "execution_count": null,
   "id": "539b1f03-f23e-4866-b9a6-b2c579a96fbe",
   "metadata": {},
   "outputs": [],
   "source": [
    "x_gcm.append(bin_means_x_gcm)\n",
    "y_gcm.append(bin_means_gcm)"
   ]
  },
  {
   "cell_type": "markdown",
   "id": "84e1f395-db43-44c3-b7b1-b46d8c300b68",
   "metadata": {},
   "source": [
    "# Observations"
   ]
  },
  {
   "cell_type": "code",
   "execution_count": null,
   "id": "e0addbd6-d6a9-4592-b685-684f1a933814",
   "metadata": {},
   "outputs": [],
   "source": [
    "import glob\n",
    "merlist = np.sort(glob.glob('../data_merra/lat_30_70/new/MERRA2_*.nc'))\n",
    "sfclist = np.sort(glob.glob('../data_merra/lat_30_70/surface/new/MERRA2_*.nc'))\n",
    "maclist = np.sort(glob.glob('../MACLWP_dailymean/take/wind1deg*.nc4'))"
   ]
  },
  {
   "cell_type": "code",
   "execution_count": null,
   "id": "2077884f-6396-4b5b-8c4b-a39fa775b80e",
   "metadata": {},
   "outputs": [],
   "source": [
    "import netCDF4 as nc\n",
    "import xarray as xr\n",
    "p_mer_T   = []\n",
    "p_mac_w   = []\n",
    "sfc_mer_T = []\n",
    "sfc_mer_P = []\n",
    "\n",
    "for i in range(len(merlist)): #len(merlist)\n",
    "    d_path = merlist[i]\n",
    "    data   = nc.Dataset(d_path)\n",
    "    # print(d_path)\n",
    "    \n",
    "    if i==0:\n",
    "        merlat = data.variables['lat'][:]\n",
    "        merlon = data.variables['lon'][:]\n",
    "        merlev = data.variables['lev'][:]\n",
    "        #shape latitude\n",
    "        mer_lat = np.flip(merlat)\n",
    "        mer_lat = np.array(mer_lat)\n",
    "        #shape longitude\n",
    "        mer_lon = np.array(merlon)\n",
    "        \n",
    "        \n",
    "    merT   = data.variables['T'][:] #(time, lev, lat, lon)\n",
    "    mer_T = np.array(merT[:,:,::-1,:])\n",
    "    p_mer_T.extend(mer_T)\n",
    "    \n",
    "temp = np.array(p_mer_T)\n",
    "\n",
    "for i in range(len(sfclist)): #len(merlist)\n",
    "    s_path = sfclist[i]\n",
    "    sdata  = nc.Dataset(s_path)\n",
    "    # print(d_path)\n",
    "    \n",
    "    if i==0:\n",
    "        sfclat = sdata.variables['lat'][:]\n",
    "        sfclon = data.variables['lon'][:]\n",
    "        #shape latitude\n",
    "        sfc_lat = np.flip(sfclat)\n",
    "        sfc_lat = np.array(sfc_lat)\n",
    "        #shape longitude\n",
    "        sfc_lon = np.array(sfclon)\n",
    "        \n",
    "    sfcT   = sdata.variables['TS'][:] \n",
    "    sfc_T = np.array(sfcT[:,::-1,:])\n",
    "    sfc_mer_T.extend(sfc_T)\n",
    "    \n",
    "    sfcP   = sdata.variables['SLP'][:] \n",
    "    sfc_P = np.array(sfcP[:,::-1,:])\n",
    "    sfc_mer_P.extend(sfc_P)\n",
    "    \n",
    "sfctemp = np.array(sfc_mer_T)\n",
    "sfcpres = np.array(sfc_mer_P)\n",
    "\n",
    "for i in range(len(maclist)): #len(maclist)\n",
    "    ddpath = maclist[i]\n",
    "    ddata  = nc.Dataset(ddpath)\n",
    "    macw   = ddata.variables['sfcwind'][:] #(time,lat,lon)\n",
    "    # print(ddpath)\n",
    "    \n",
    "    if i==0:\n",
    "        maclat = ddata.variables['lat'][:]\n",
    "        maclon = ddata.variables['lon'][:]\n",
    "        #shape latitude\n",
    "        mac_lat = np.array(maclat)\n",
    "        slat_ind1 = np.where(mac_lat == mac_lat.flat[np.abs(mac_lat - (31)).argmin()])[0]\n",
    "        slat_ind2 = np.where(mac_lat == mac_lat.flat[np.abs(mac_lat - (71)).argmin()])[0]\n",
    "        p_mac_lat  = np.array(mac_lat[slat_ind1[0]:slat_ind2[0]])\n",
    "        #shape longitude\n",
    "        maclon[maclon > 180] = maclon[maclon > 180]-360\n",
    "        mac_lon = np.array(maclon)\n",
    "        p_mac_lon = []\n",
    "        p_mac_lon.extend(mac_lon[180::])\n",
    "        p_mac_lon.extend(mac_lon[0:180])\n",
    "        p_mac_lon = np.array(p_mac_lon)\n",
    "    n_w = macw[:,slat_ind1[0]:slat_ind2[0],180::]\n",
    "    new_w = np.append(n_w,macw[:,slat_ind1[0]:slat_ind2[0],0:180],2)\n",
    "    p_mac_w.extend(new_w)\n",
    "\n",
    "wind = np.array(p_mac_w)\n",
    "# wind = np.ma.masked_where(p_mac_w == np.min(p_mac_w), p_mac_w)\n",
    "# # wind = np.ma.compressed(wind)\n",
    "# wind = np.ma.masked_where(wind < 5, wind)\n",
    "# wind = np.ma.compressed(wind)\n",
    "    "
   ]
  },
  {
   "cell_type": "code",
   "execution_count": null,
   "id": "99d1cf1c-d521-42b7-b81f-71ca0bb59ece",
   "metadata": {},
   "outputs": [],
   "source": [
    "merlev"
   ]
  },
  {
   "cell_type": "code",
   "execution_count": null,
   "id": "eb555a3f-bd9e-4413-b285-daea90d2bbb8",
   "metadata": {},
   "outputs": [],
   "source": [
    "print(sfclat[0],sfclat[-1])\n",
    "print(sfc_lat[0],sfc_lat[-1])\n",
    "print(mer_lat[0],mer_lat[-1])\n",
    "print(p_mac_lat[0],p_mac_lat[-1])\n"
   ]
  },
  {
   "cell_type": "code",
   "execution_count": null,
   "id": "d0108ea1-1e93-43d5-bd1b-1d4d7668d645",
   "metadata": {},
   "outputs": [],
   "source": [
    "print(np.shape(temp[:,1,:,:]))\n",
    "print(np.min(sfcpres))"
   ]
  },
  {
   "cell_type": "code",
   "execution_count": null,
   "id": "22f0361c-d0d8-4b0d-9183-c1978e51181b",
   "metadata": {},
   "outputs": [],
   "source": [
    "theta_850 = np.array(np.multiply(temp[:,1,:,:], (sfcpres/85000)**(Rd/Cp)))\n"
   ]
  },
  {
   "cell_type": "code",
   "execution_count": null,
   "id": "e0972fe5-faa3-46f8-b8db-e201164b3c95",
   "metadata": {},
   "outputs": [],
   "source": [
    "p_CAOI = np.array(np.subtract(sfctemp,theta_850))\n"
   ]
  },
  {
   "cell_type": "code",
   "execution_count": null,
   "id": "fe95e75c-234b-4cdc-a1a6-6609ed36c7aa",
   "metadata": {},
   "outputs": [],
   "source": [
    "maskm = np.ones((1096,len(mer_lat),len(mer_lon)))\n",
    "\n",
    "for a in range(len(mer_lat)):\n",
    "    for b in range(len(mer_lon)):\n",
    "        if globe.is_land(mer_lat[a], mer_lon[b])==True:\n",
    "            maskm[:,a,b] = 0"
   ]
  },
  {
   "cell_type": "code",
   "execution_count": null,
   "id": "ff2f7b4b-b6c6-4f47-ab35-34909a03ee95",
   "metadata": {},
   "outputs": [],
   "source": [
    "plot_CAOI = np.array(np.multiply(maskm,p_CAOI))\n",
    "plot_wind = np.array(np.multiply(maskm,wind))\n"
   ]
  },
  {
   "cell_type": "code",
   "execution_count": null,
   "id": "bdabd6fa-fa69-4b86-ac27-c550b1dad4cc",
   "metadata": {},
   "outputs": [],
   "source": [
    "plot_mer_theta = plot_CAOI.ravel()\n",
    "plot_mac_wind  = plot_wind.ravel()"
   ]
  },
  {
   "cell_type": "code",
   "execution_count": null,
   "id": "d4e3340c-5d2d-42b9-80a7-3d7fdfdb6b60",
   "metadata": {},
   "outputs": [],
   "source": [
    "print(np.min(plot_mer_theta), np.min(plot_mac_wind))"
   ]
  },
  {
   "cell_type": "code",
   "execution_count": null,
   "id": "ade0400d-188e-4c9e-a349-f2193c3dc4ab",
   "metadata": {},
   "outputs": [],
   "source": [
    "ind = np.argsort(plot_mer_theta)\n",
    "xx = np.sort(plot_mer_theta)\n",
    "yy = plot_mac_wind[ind]"
   ]
  },
  {
   "cell_type": "code",
   "execution_count": null,
   "id": "8ed04f7f-31a5-41cf-9939-c4af0aa1d014",
   "metadata": {},
   "outputs": [],
   "source": [
    "x_new = xx[xx<np.max(xx)]\n",
    "y_new = yy[xx<np.max(xx)]\n",
    "\n",
    "xx_new = x_new[y_new>0]\n",
    "yy_new = y_new[y_new>0]"
   ]
  },
  {
   "cell_type": "code",
   "execution_count": null,
   "id": "3c8f196d-5bd6-405c-adab-6939c97ddd5f",
   "metadata": {},
   "outputs": [],
   "source": [
    "plt.plot(xx_new,yy_new)"
   ]
  },
  {
   "cell_type": "code",
   "execution_count": null,
   "id": "a3a1b491-aec7-4259-8eed-d28f29da40f1",
   "metadata": {},
   "outputs": [],
   "source": [
    "indx = np.isnan(xx_new*yy_new)==False"
   ]
  },
  {
   "cell_type": "code",
   "execution_count": null,
   "id": "2f2db34b-f02d-46d3-9080-bfcdfe402dc4",
   "metadata": {},
   "outputs": [],
   "source": [
    "np.where(indx==False)"
   ]
  },
  {
   "cell_type": "code",
   "execution_count": null,
   "id": "98718a8b-05b0-4c6f-820b-87e271106f6e",
   "metadata": {},
   "outputs": [],
   "source": [
    "bin_means, bin_edges, binnumber = stats.binned_statistic(xx_new, yy_new, 'mean', bins=1000)\n",
    "bin_means_x, bin_edges_x, binnumber_x = stats.binned_statistic(xx_new, xx_new, 'mean', bins=1000)\n"
   ]
  },
  {
   "cell_type": "code",
   "execution_count": null,
   "id": "ca4d2b1e-35fa-451e-8ec5-5303d630cda6",
   "metadata": {},
   "outputs": [],
   "source": [
    "index = np.isnan(bin_means_x*bin_means)==False"
   ]
  },
  {
   "cell_type": "code",
   "execution_count": null,
   "id": "1c8007cf-7c40-4e9c-896c-b1ba9c197df9",
   "metadata": {},
   "outputs": [],
   "source": [
    "\n",
    "\n",
    "\n",
    "# plt.plot(bin_means_x, bin_means)\n",
    "l = loess(bin_means_x[index], bin_means[index])\n",
    "l.fit()\n",
    "pred = l.predict(bin_means_x[index], stderror=True)\n",
    "conf = pred.confidence()\n",
    "\n",
    "lowess = pred.values\n",
    "plt.plot(bin_means_x[index], lowess)\n",
    "plt.ylabel('U10 [m/s]',fontsize='15')\n",
    "plt.xlabel('CAOI [K]',fontsize='15')\n",
    "plt.title('observation')"
   ]
  },
  {
   "cell_type": "code",
   "execution_count": null,
   "id": "f0450cd8-27a0-41d1-9d48-2d541653c17c",
   "metadata": {},
   "outputs": [],
   "source": [
    "bin_means_x_obs = bin_means_x[index]\n",
    "bin_means_obs   = lowess"
   ]
  },
  {
   "cell_type": "code",
   "execution_count": null,
   "id": "06dedc0e-759a-49e6-8ac4-ed66efdc7414",
   "metadata": {},
   "outputs": [],
   "source": [
    "fig= plt.figure(figsize=(5, 6))\n",
    "plt.plot(bin_means_x_obs, bin_means_obs, label='MACLWP+MERRA2')\n",
    "plt.plot(bin_means_x_gcm, bin_means_gcm, label='CESM2')\n",
    "plt.xticks(np.arange(-20,6,5),fontsize='12')\n",
    "plt.yticks(np.arange(4,13),fontsize='12')\n",
    "plt.xlim([-20,5])\n",
    "plt.ylim([3,13])\n",
    "plt.legend()\n",
    "plt.ylabel('U10 [m/s]',fontsize='15')\n",
    "plt.xlabel('CAOI [K]',fontsize='15')\n",
    "# plt.title('MACLWP wind vs MERRA2 M\\nfor 30N to 70N ocean only\\n850hPa')"
   ]
  },
  {
   "cell_type": "markdown",
   "id": "d5cdad2e-2d11-4f17-8961-6f9c5c1d5b3d",
   "metadata": {},
   "source": [
    "# PPE"
   ]
  },
  {
   "cell_type": "code",
   "execution_count": null,
   "id": "138efda6-c266-4904-8278-7b0a470f932d",
   "metadata": {},
   "outputs": [],
   "source": [
    "enn = np.arange(201,251)"
   ]
  },
  {
   "cell_type": "code",
   "execution_count": null,
   "id": "14ab3c1b-d506-4993-90ae-b93a428a572d",
   "metadata": {},
   "outputs": [],
   "source": [
    "ppe_var = ['U10', 'PSL', 'T850','TREFHT']"
   ]
  },
  {
   "cell_type": "code",
   "execution_count": null,
   "id": "8d642198-30e4-4ccd-aee9-1c18b3090711",
   "metadata": {},
   "outputs": [],
   "source": [
    "for en in enn:\n",
    "    if en != 175:\n",
    "        for i in ppe_var: #TREFHT was used since no TS. Should double check this.\n",
    "            d_path = '/glade/campaign/cgd/projects/ppe/cam_ppe/rerun_PPE_250/PD/PD_timeseries/PPE_250_ensemble_PD.'+f'{en:03d}'+'/atm/hist/cc_PPE_250_ensemble_PD.'+f'{en:03d}'+'.h1.'+str(i)+'.nc'\n",
    "            data =xr.open_dataset(d_path)\n",
    "\n",
    "            if en == enn[0]:\n",
    "                lon  = data.variables['lon'][:]  #(lon: 288) [0.0, 1.25, 2.5, ... 356.25, 357.5, 358.75]\n",
    "                lat  = data.variables['lat'][:]  #(lat: 192) [-90.0 , -89.057592, -88.115183, ... 88.115183,  89.057592, 90.0]\n",
    "                time = data.variables['time'][:] #(time: 36)\n",
    "\n",
    "            locals()[str(en)+'_'+i] = data.variables[i][:]"
   ]
  },
  {
   "cell_type": "code",
   "execution_count": null,
   "id": "8970d775-070f-40e8-9f79-bb50a7ebae3c",
   "metadata": {},
   "outputs": [],
   "source": [
    "x_lat = np.array(lat)\n",
    "lat_ind1 = np.where(x_lat == x_lat.flat[np.abs(x_lat - (30)).argmin()])[0]\n",
    "lat_ind2 = np.where(x_lat == x_lat.flat[np.abs(x_lat - (70)).argmin()])[0]\n",
    "lat_new  = lat[lat_ind1[0]:lat_ind2[0]]\n",
    "\n",
    "mask = np.ones((1096,len(lat_new),len(lon)))\n",
    "\n",
    "for a in range(len(lat_new)):\n",
    "    for b in range(len(lon)):\n",
    "        if globe.is_land(lat_new[a], lon[b]-180.)==True:\n",
    "            mask[:,a,b] = 0\n",
    "\n",
    "for en in enn:\n",
    "    if en != 175:\n",
    "        # print(en)\n",
    "        for i in ppe_var: #\n",
    "            tmp  = locals()[str(en)+'_'+i]\n",
    "            tmp2 = tmp[0:1096,lat_ind1[0]:lat_ind2[0],:]\n",
    "            locals()['MID'+i+'_'+str(en)] = np.multiply(mask,tmp2)"
   ]
  },
  {
   "cell_type": "code",
   "execution_count": null,
   "id": "a8de2913-6990-4ba8-897a-a5a40e2f0484",
   "metadata": {},
   "outputs": [],
   "source": [
    "for en in enn:\n",
    "    if en != 175:\n",
    "        locals()['theta_850_'+str(en)] = np.multiply(locals()['MIDT850_'+str(en)],(np.divide(locals()['MIDPSL_'+str(en)],85000))**(Rd/Cp))"
   ]
  },
  {
   "cell_type": "code",
   "execution_count": null,
   "id": "725dc666-4465-4023-a221-e11cd734bda5",
   "metadata": {},
   "outputs": [],
   "source": [
    "np.shape(theta_850_247)"
   ]
  },
  {
   "cell_type": "code",
   "execution_count": null,
   "id": "f615f4d4-fee1-40d9-b2d4-139f270600fa",
   "metadata": {},
   "outputs": [],
   "source": [
    "for en in enn:\n",
    "    if en != 175:\n",
    "        locals()['M_'+str(en)]   = np.array(np.subtract(locals()['MIDTREFHT_'+str(en)],locals()['theta_850_'+str(en)])).reshape(-1)\n",
    "        locals()['U10_'+str(en)] = np.array(locals()['MIDU10_'+str(en)]).reshape(-1)"
   ]
  },
  {
   "cell_type": "code",
   "execution_count": null,
   "id": "9d2b0d60-f663-4e6a-b9de-e44d2eede687",
   "metadata": {},
   "outputs": [],
   "source": [
    "np.max(U10_246)"
   ]
  },
  {
   "cell_type": "code",
   "execution_count": null,
   "id": "0fd122d3-36d0-4d77-8a32-71838140147a",
   "metadata": {},
   "outputs": [],
   "source": [
    "from scipy import stats\n",
    "from skmisc.loess import loess"
   ]
  },
  {
   "cell_type": "code",
   "execution_count": null,
   "id": "6aa8ab17-c550-4e1c-8581-0650e71f0d99",
   "metadata": {},
   "outputs": [],
   "source": [
    "fig= plt.figure(figsize=(6, 7))\n",
    "# plt.plot(bin_means_x_gcm, bin_means_gcm,color='magenta' ,marker='*', linestyle='dashed',\n",
    "#      markersize=5,linewidth=1, label='CESM2') #marker='*', markersize=12,\n",
    "# plt.plot(bin_means_x_obs, bin_means_obs,color='blue' ,marker='*', linestyle='dashed',\n",
    "#      markersize=5,linewidth=1, label='Observations')\n",
    "for en in enn:\n",
    "    if en != 175:\n",
    "        x = locals()['M_'+str(en)]\n",
    "        y = locals()['U10_'+str(en)]\n",
    "        ind = np.argsort(x)\n",
    "        xx = np.sort(x)\n",
    "        yy = y[ind]\n",
    "\n",
    "        indx = np.isnan(xx*yy)==False\n",
    "\n",
    "        bin_means, bin_edges, binnumber = stats.binned_statistic(xx[indx], yy[indx], 'mean', bins=1000)\n",
    "        bin_means_x, bin_edges_x, binnumber_x = stats.binned_statistic(xx[indx], xx[indx], 'mean', bins=1000)\n",
    "\n",
    "        index = np.isnan(bin_means_x*bin_means)==False\n",
    "\n",
    "        # plt.plot(bin_means_x, bin_means)\n",
    "        l = loess(bin_means_x[index], bin_means[index])\n",
    "        l.fit()\n",
    "        pred = l.predict(bin_means_x[index], stderror=True)\n",
    "        conf = pred.confidence()\n",
    "\n",
    "        lowess = pred.values\n",
    "\n",
    "\n",
    "        if en==250:\n",
    "            plt.plot(bin_means_x[index], lowess, alpha=0.2,label='PPE')\n",
    "\n",
    "        else:\n",
    "            plt.plot(bin_means_x[index], lowess, alpha=0.2)\n",
    "    \n",
    "\n",
    "# plt.plot(bin_means_x_obs, bin_means_obs, label='MACLWP+MERRA2')\n",
    "# plt.plot(bin_means_x_gcm, bin_means_gcm, label='CESM2')\n",
    "# plt.xticks(np.arange(-20,6,5),fontsize='12')\n",
    "# plt.yticks(np.arange(4,13),fontsize='12')\n",
    "plt.plot(bin_means_x_gcm, bin_means_gcm,color='magenta' ,marker='*', linestyle='dashed',\n",
    "     markersize=5,linewidth=1, label='CESM2')\n",
    "plt.plot(bin_means_x_obs, bin_means_obs,color='blue' ,marker='*', linestyle='dashed',\n",
    "     markersize=5,linewidth=1, label='Observations')\n",
    "plt.xlim([-20,5])\n",
    "\n",
    "plt.legend()\n",
    "plt.ylabel('U10 [m/s]',fontsize='15')\n",
    "plt.xlabel('CAOI [K]',fontsize='15')\n",
    "# plt.title('CAM6 PPE')\n",
    "# plt.savefig('ppe.png')"
   ]
  },
  {
   "cell_type": "code",
   "execution_count": null,
   "id": "58a8af3b-87d2-4746-82a7-e64cdc912e88",
   "metadata": {},
   "outputs": [],
   "source": []
  }
 ],
 "metadata": {
  "kernelspec": {
   "display_name": "geethma-npl-kernel",
   "language": "python",
   "name": "geethma-npl-kernel"
  },
  "language_info": {
   "codemirror_mode": {
    "name": "ipython",
    "version": 3
   },
   "file_extension": ".py",
   "mimetype": "text/x-python",
   "name": "python",
   "nbconvert_exporter": "python",
   "pygments_lexer": "ipython3",
   "version": "3.9.4"
  }
 },
 "nbformat": 4,
 "nbformat_minor": 5
}
