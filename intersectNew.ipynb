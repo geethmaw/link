{
 "cells": [
  {
   "cell_type": "markdown",
   "id": "bcdc1bd8-23e9-4538-8e40-7ae73b16e70f",
   "metadata": {},
   "source": [
    "AMSR VS CYGNSS without interpolation"
   ]
  },
  {
   "cell_type": "code",
   "execution_count": 23,
   "id": "30031d24-adf7-4835-97ab-b93055ae07a9",
   "metadata": {},
   "outputs": [],
   "source": [
    "import netCDF4 as nc\n",
    "import numpy as np\n",
    "import matplotlib.pyplot as plt\n",
    "import array\n",
    "from scipy.interpolate import RegularGridInterpolator\n",
    "import sys\n",
    "import math"
   ]
  },
  {
   "cell_type": "code",
   "execution_count": 30,
   "id": "41afbefa-d7aa-46cc-b185-e52ef345f12c",
   "metadata": {},
   "outputs": [],
   "source": [
    "def main(day):\n",
    "    # print('in')\n",
    "    fn      = '/glade/work/geethma/research/data_cygnss/2019/cyg.ddmi.s201902'+f'{day:02d}'+'-003000-e201902'+f'{day:02d}'+'-233000.l3.grid-wind.a30.d31.nc'\n",
    "    dsi     = nc.Dataset(fn)\n",
    "    # ds.append(dsi)\n",
    "    lons = dsi.variables['lon'][:]           #size=1800 #Range is 0.1 .. 359.9\n",
    "    lats = dsi.variables['lat'][:]        #size=400 #Range is -39.9 .. 39.9\n",
    "    globals()['u'] = dsi.variables['wind_speed'][:,:,:]    #float wind_speed(time, lat, lon) #units = \"m s-1\"\n",
    "    globals()['time']    = dsi.variables['time'][:]          #size=24\n",
    "    dsi.close\n",
    "##############\n",
    "    fna     = '/glade/work/geethma/research/data_amsr2/2019/RSS_AMSR2_ocean_L3_daily_2019-02-'+f'{day:02d}'+'_v08.2.nc'\n",
    "    dsa     = nc.Dataset(fna)\n",
    "    lonsa   = dsa.variables['lon'][:]          #size=1440  #Range is 0.125 .. 359.875\n",
    "    latsa   = dsa.variables['lat'][:]          #size=720 #Range is -89.875 .. 89.875\n",
    "    globals()['ua']      = dsa.variables['wind_speed_AW'][:,:,:]  #float32 wind_speed_LF(pass, lat, lon)\n",
    "    globals()['timea']   = dsa.variables['time'][:,:,:]            #(pass, lat, lon) shape=(2,720,1440)\n",
    "    globals()['passa']   = dsa.variables['pass'][:]        #[1 2]\n",
    "    raina   = dsa.variables['rain_rate'][:,:,:]\n",
    "    dsa.close\n",
    "\n",
    "    globals()['lons'] = lons\n",
    "    globals()['lonsa'] = lonsa\n",
    "    globals()['lats'] = lats\n",
    "    globals()['latsa'] = latsa\n",
    "    \n",
    "    "
   ]
  },
  {
   "cell_type": "markdown",
   "id": "f3568ad4-f54d-4be5-be33-2e22c312cb11",
   "metadata": {},
   "source": [
    "import numpy.ma as ma\n",
    "x = ma.array(u)\n",
    "Y = x[~x.mask]\n",
    "print(np.shape(Y))"
   ]
  },
  {
   "cell_type": "markdown",
   "id": "99616759-9561-4fc1-8178-cc8abf2f326a",
   "metadata": {},
   "source": []
  },
  {
   "cell_type": "code",
   "execution_count": 40,
   "id": "ea6387ea-7887-4e70-9b22-9db838653bfe",
   "metadata": {},
   "outputs": [],
   "source": [
    "para = 2\n",
    "main(para)\n",
    "# ind(i)\n",
    "# t(i)\n",
    "# c(i)\n",
    "# a(i)\n",
    "# app(i)\n",
    "# coord(i)\n",
    "# save(i)\n",
    "    \n"
   ]
  },
  {
   "cell_type": "code",
   "execution_count": 41,
   "id": "bb0cf0a8-d83f-4cb3-a4a7-0b8e11b84d1a",
   "metadata": {},
   "outputs": [],
   "source": [
    "\n",
    "lon_ind = []\n",
    "lon_inda = []\n",
    "lat_ind = []\n",
    "lat_inda = []\n",
    "\n",
    "\n",
    "for i in range(len(lons)):\n",
    "    for j in range(len(lonsa)):\n",
    "        if (abs(lonsa[j]-lons[i])<=0.025):\n",
    "            lon_ind.append(i)\n",
    "            lon_inda.append(j)\n",
    "\n",
    "for i in range(len(lats)):\n",
    "    for j in range(len(latsa)):\n",
    "        if (abs(latsa[j]-lats[i])<=0.025):\n",
    "            lat_ind.append(i)\n",
    "            lat_inda.append(j)\n",
    "\n",
    "\n",
    "\n",
    "# np.savez_compressed('/glade/work/geethma/research/npzfilesn/2019_/january/near_01012019', cw=cyg, aw=am, b=bias, ar=r, cT=cT, aT=aT, lon=longt, lat=latit) #u10_monthdateyear.npz\n"
   ]
  },
  {
   "cell_type": "code",
   "execution_count": 42,
   "id": "30a357c6-45d8-4136-be12-864cbc540dbe",
   "metadata": {},
   "outputs": [
    {
     "name": "stderr",
     "output_type": "stream",
     "text": [
      "/glade/u/ssg/ch/usr/jupyterhub/envs/npl-3.7.9/dav/lib/python3.7/site-packages/ipykernel_launcher.py:9: UserWarning: Warning: converting a masked element to nan.\n",
      "  if __name__ == '__main__':\n"
     ]
    }
   ],
   "source": [
    "\n",
    "a_time = np.empty((2,len(lat_inda),len(lon_inda)))\n",
    "z = 0\n",
    "for i in (lon_inda):\n",
    "    y = 0\n",
    "    for j in (lat_inda):\n",
    "        x= 0\n",
    "        for k in range(2):\n",
    "#             a_time[x,y,z] = np.rint(timea[k,j,i])\n",
    "            a_time[x,y,z] = timea[k,j,i]\n",
    "#             print(x,y,z,a_time[x,y,z],timea[k,j,i],'e')\n",
    "            x = x+1\n",
    "        y = y+1\n",
    "    z = z+1"
   ]
  },
  {
   "cell_type": "code",
   "execution_count": 43,
   "id": "847747e4-ae19-4988-a3a5-8ed26731ad46",
   "metadata": {},
   "outputs": [],
   "source": [
    "\n",
    "cyg_wind = np.empty((24,len(lat_ind),len(lon_ind)))\n",
    "z = 0\n",
    "for i in (lon_ind):\n",
    "    y = 0\n",
    "    for j in (lat_ind):\n",
    "        x= 0\n",
    "        for k in range(24):\n",
    "#             x = 0\n",
    "            cyg_wind[x,y,z] == u[k,j,i]\n",
    "#             print(cyg_wind[x,y,z])\n",
    "            x = x+1\n",
    "        y = y+1\n",
    "    z = z+1"
   ]
  },
  {
   "cell_type": "code",
   "execution_count": 44,
   "id": "63c49d66-2132-40d0-8871-c721b4b74254",
   "metadata": {},
   "outputs": [],
   "source": [
    "\n",
    "am_wind = np.empty((2,len(lat_inda),len(lon_inda)))\n",
    "z = 0\n",
    "for i in (lon_inda):\n",
    "    y = 0\n",
    "    for j in (lat_inda):\n",
    "        x= 0\n",
    "        for k in range(2):\n",
    "#             x = 0\n",
    "            am_wind[x,y,z] == ua[k,j,i]\n",
    "            x = x+1\n",
    "        y = y+1\n",
    "    z = z+1"
   ]
  },
  {
   "cell_type": "code",
   "execution_count": 764,
   "id": "7240a7a8-e1c1-486f-96e1-49cc306ff7b5",
   "metadata": {},
   "outputs": [],
   "source": [
    "#cyg_wind[np.isnan(cyg_wind)] = 0\n",
    "#am_wind[np.isnan(am_wind)] = 0"
   ]
  },
  {
   "cell_type": "code",
   "execution_count": 45,
   "id": "351a4715-c9da-4f5a-acfa-7e575a638c23",
   "metadata": {},
   "outputs": [
    {
     "ename": "TypeError",
     "evalue": "list indices must be integers or slices, not tuple",
     "output_type": "error",
     "traceback": [
      "\u001b[0;31m---------------------------------------------------------------------------\u001b[0m",
      "\u001b[0;31mTypeError\u001b[0m                                 Traceback (most recent call last)",
      "\u001b[0;32m<ipython-input-45-95b607b6c5b9>\u001b[0m in \u001b[0;36m<module>\u001b[0;34m\u001b[0m\n\u001b[1;32m     13\u001b[0m                             \u001b[0mcyg\u001b[0m\u001b[0;34m.\u001b[0m\u001b[0mappend\u001b[0m\u001b[0;34m(\u001b[0m\u001b[0mcyg_wind\u001b[0m\u001b[0;34m[\u001b[0m\u001b[0mn\u001b[0m\u001b[0;34m,\u001b[0m\u001b[0mj\u001b[0m\u001b[0;34m,\u001b[0m\u001b[0mi\u001b[0m\u001b[0;34m]\u001b[0m\u001b[0;34m)\u001b[0m\u001b[0;34m\u001b[0m\u001b[0;34m\u001b[0m\u001b[0m\n\u001b[1;32m     14\u001b[0m                             \u001b[0mam\u001b[0m\u001b[0;34m.\u001b[0m\u001b[0mappend\u001b[0m\u001b[0;34m(\u001b[0m\u001b[0mam_wind\u001b[0m\u001b[0;34m[\u001b[0m\u001b[0mm\u001b[0m\u001b[0;34m,\u001b[0m\u001b[0mj\u001b[0m\u001b[0;34m,\u001b[0m\u001b[0mi\u001b[0m\u001b[0;34m]\u001b[0m\u001b[0;34m)\u001b[0m\u001b[0;34m\u001b[0m\u001b[0;34m\u001b[0m\u001b[0m\n\u001b[0;32m---> 15\u001b[0;31m                             \u001b[0mbias\u001b[0m\u001b[0;34m[\u001b[0m\u001b[0mlatsa\u001b[0m\u001b[0;34m[\u001b[0m\u001b[0mlat_inda\u001b[0m\u001b[0;34m]\u001b[0m\u001b[0;34m,\u001b[0m\u001b[0mlons\u001b[0m\u001b[0;34m[\u001b[0m\u001b[0mlon_ind\u001b[0m\u001b[0;34m]\u001b[0m\u001b[0;34m]\u001b[0m\u001b[0;34m=\u001b[0m\u001b[0;34m(\u001b[0m\u001b[0mcyg_wind\u001b[0m\u001b[0;34m[\u001b[0m\u001b[0mn\u001b[0m\u001b[0;34m,\u001b[0m\u001b[0mj\u001b[0m\u001b[0;34m,\u001b[0m\u001b[0mi\u001b[0m\u001b[0;34m]\u001b[0m \u001b[0;34m-\u001b[0m \u001b[0mam_wind\u001b[0m\u001b[0;34m[\u001b[0m\u001b[0mm\u001b[0m\u001b[0;34m,\u001b[0m\u001b[0mj\u001b[0m\u001b[0;34m,\u001b[0m\u001b[0mi\u001b[0m\u001b[0;34m]\u001b[0m\u001b[0;34m)\u001b[0m\u001b[0;34m\u001b[0m\u001b[0;34m\u001b[0m\u001b[0m\n\u001b[0m\u001b[1;32m     16\u001b[0m     \u001b[0;31m#                         print(a_time[m,j,i],time[n],m,j,i,cyg_wind[n,j,i],am_wind[m,j,i])\u001b[0m\u001b[0;34m\u001b[0m\u001b[0;34m\u001b[0m\u001b[0;34m\u001b[0m\u001b[0m\n\u001b[1;32m     17\u001b[0m                             \u001b[0mc\u001b[0m\u001b[0;34m=\u001b[0m\u001b[0mc\u001b[0m\u001b[0;34m+\u001b[0m\u001b[0;36m1\u001b[0m\u001b[0;34m\u001b[0m\u001b[0;34m\u001b[0m\u001b[0m\n",
      "\u001b[0;31mTypeError\u001b[0m: list indices must be integers or slices, not tuple"
     ]
    }
   ],
   "source": [
    "\n",
    "c = 0\n",
    "cyg =[]\n",
    "am=[]\n",
    "bias=[]\n",
    "for i in range(len(lon_ind)):\n",
    "    for j in range(len(lat_inda)):\n",
    "        for m in range(2):\n",
    "            for n in range(0,24):\n",
    "                if ((cyg_wind[n,j,i]>0.5) and (cyg_wind[n,j,i]<25)):\n",
    "                    if ((am_wind[m,j,i]>0.5) and (am_wind[m,j,i]<25)):\n",
    "#                     print(a_time[m,j,i],time[n])\n",
    "                        if abs(a_time[m,j,i]-time[n])<0.5:\n",
    "                            cyg.append(cyg_wind[n,j,i])\n",
    "                            am.append(am_wind[m,j,i])\n",
    "                            bias[latsa[lat_inda],lons[lon_ind]]=(cyg_wind[n,j,i] - am_wind[m,j,i])\n",
    "    #                         print(a_time[m,j,i],time[n],m,j,i,cyg_wind[n,j,i],am_wind[m,j,i])\n",
    "                            c=c+1\n",
    "#                         print(timea[m,j,i],time[n])\n",
    "\n",
    "print(c)\n",
    "# globals()['cyg'] = cyg\n",
    "# globals()['am'] = am\n",
    "# globals()['bias'] = bias"
   ]
  },
  {
   "cell_type": "code",
   "execution_count": 37,
   "id": "cbb27425-5d94-46cb-9c51-1de0c8fe6c66",
   "metadata": {},
   "outputs": [],
   "source": [
    "\n",
    "longta = lonsa[lon_inda]\n",
    "longt = lons[lon_ind]\n",
    "latita = latsa[lat_inda]\n",
    "latit = lats[lat_ind]"
   ]
  },
  {
   "cell_type": "code",
   "execution_count": 38,
   "id": "8eb2ba2e-c1c6-4d10-a7bc-497c4ef011d8",
   "metadata": {},
   "outputs": [],
   "source": [
    "def save(day):\n",
    "    np.savez_compressed('/glade/work/geethma/research/npzfilesn/2019_/january_/final_02'+f'{day:02d}'+'2019', cw=cyg, aw=am, b=bias, lon=longt, lat=latit,lona=longta, lata=latita) #u10_monthdateyear.npz\n"
   ]
  },
  {
   "cell_type": "code",
   "execution_count": 39,
   "id": "bfc49b35-61f8-43a2-b0f9-80035a996d6d",
   "metadata": {},
   "outputs": [],
   "source": [
    "save(para)"
   ]
  },
  {
   "cell_type": "markdown",
   "id": "10e1eb50-feae-4533-ab20-91d7ffca5834",
   "metadata": {},
   "source": [
    "# for i in range(3,31):\n",
    "#     main(i)\n",
    "#     ind(i)\n",
    "#     t(i)\n",
    "#     c(i)\n",
    "#     a(i)\n",
    "#     app(i)\n",
    "#     coord(i)\n",
    "#     save(i)\n",
    "    \n"
   ]
  },
  {
   "cell_type": "code",
   "execution_count": 16,
   "id": "d23976d4-5b86-429a-8a5b-e3b725b8abe1",
   "metadata": {},
   "outputs": [],
   "source": [
    "import matplotlib.pyplot as plt\n",
    "import numpy as np\n",
    "import glob\n",
    "#####cw=cyg, aw=am, b=bias, lon=longt, lat=latit,lona=longta, lata=latita\n",
    "\n",
    "fn = glob.glob('/glade/work/geethma/research/npzfilesn/2019/january/u10*npz')\n",
    "fn = np.array(fn)"
   ]
  },
  {
   "cell_type": "code",
   "execution_count": 21,
   "id": "a2e8744a-f17d-40c0-b750-ef2e9cde134e",
   "metadata": {},
   "outputs": [
    {
     "name": "stdout",
     "output_type": "stream",
     "text": [
      "0\n",
      "1\n",
      "2\n",
      "3\n",
      "4\n",
      "5\n",
      "6\n",
      "7\n",
      "8\n",
      "9\n",
      "10\n",
      "11\n",
      "12\n",
      "13\n",
      "14\n",
      "15\n",
      "16\n",
      "17\n",
      "18\n",
      "19\n",
      "20\n",
      "21\n",
      "22\n",
      "23\n",
      "24\n",
      "25\n",
      "26\n",
      "27\n",
      "28\n",
      "29\n",
      "30\n"
     ]
    }
   ],
   "source": [
    "awf=[]\n",
    "cwf = []\n",
    "bf = []\n",
    "# print(fn)\n",
    "for i in range(0,len(fn)): #len(fn)\n",
    "    print (i)\n",
    "    d = np.load(fn[i])\n",
    "    aw = np.array(d['aw'])\n",
    "    cw = np.array(d['cw'])\n",
    "    # bi = np.array(d['b'])\n",
    "#     print(aw,'cyg',cw,'bias',bi)\n",
    "    ##################\n",
    "    awf.extend(aw)\n",
    "    cwf.extend(cw)\n",
    "    bf.extend(aw-cw)\n",
    "#     for i in range(0,len(aw)):\n",
    "#         awf.append(aw[i])\n",
    "#         cwf.append(cw[i])\n",
    "#         bf.append(b[i])"
   ]
  },
  {
   "cell_type": "code",
   "execution_count": 18,
   "id": "94abbb57-5c9e-43f4-adf9-60df2dc97a5c",
   "metadata": {},
   "outputs": [
    {
     "data": {
      "text/plain": [
       "4.38554218740579"
      ]
     },
     "execution_count": 18,
     "metadata": {},
     "output_type": "execute_result"
    }
   ],
   "source": [
    "np.mean(bf)"
   ]
  },
  {
   "cell_type": "code",
   "execution_count": 26,
   "id": "d6dc92a6-a484-453c-8517-749319e808ff",
   "metadata": {},
   "outputs": [
    {
     "data": {
      "text/plain": [
       "1.1900719903743346"
      ]
     },
     "execution_count": 26,
     "metadata": {},
     "output_type": "execute_result"
    }
   ],
   "source": [
    "np.mean(bf)"
   ]
  },
  {
   "cell_type": "markdown",
   "id": "669718a0-39d4-4e24-83b4-f2fdb0fd1ab8",
   "metadata": {},
   "source": [
    "fig = plt.figure(figsize=(12,6))\n",
    "plt.scatter(cwf, awf)\n",
    "coefficients = np.polyfit(cwf, awf, 1)\n",
    "m = round(coefficients[0],2)\n",
    "c = round(coefficients[1],2)\n",
    "poly = np.poly1d(coefficients)\n",
    "new_x = np.linspace(min(cwf), max(cwf))\n",
    "new_y = poly(new_x)\n",
    "x = [0,17.5]\n",
    "y = [0,17.5]\n",
    "plt.plot(x,y,c='r',label='ideal mapping')\n",
    "plt.plot(new_x,new_y,c='g',label='poly fit')\n",
    "plt.legend()\n",
    "plt.text(12, 4, 'gradient = '+str(m))\n",
    "plt.text(12, 3, 'intercept = '+str(c)+' ms-1')\n",
    "# # print(m, c)\n",
    "plt.title('AMSR vs CYGNSS Wind Speeds on Jan 2019')\n",
    "plt.xlabel('CYGNSS (m/s)')\n",
    "plt.ylabel('AMSR (m/s)')\n",
    "plt.show()"
   ]
  },
  {
   "cell_type": "markdown",
   "id": "8e5deda6-70cf-4a2b-a844-32e820851dd1",
   "metadata": {},
   "source": [
    "min(bf)"
   ]
  },
  {
   "cell_type": "markdown",
   "id": "efa0a481-8533-486b-a35d-9dbbe7eb6414",
   "metadata": {},
   "source": [
    "max(cwf)"
   ]
  },
  {
   "cell_type": "markdown",
   "id": "1d460b00-1058-406f-bba3-7870bfb15858",
   "metadata": {},
   "source": []
  }
 ],
 "metadata": {
  "kernelspec": {
   "display_name": "NPL-3.7.9",
   "language": "python",
   "name": "npl-3.7.9"
  },
  "language_info": {
   "codemirror_mode": {
    "name": "ipython",
    "version": 3
   },
   "file_extension": ".py",
   "mimetype": "text/x-python",
   "name": "python",
   "nbconvert_exporter": "python",
   "pygments_lexer": "ipython3",
   "version": "3.7.9"
  }
 },
 "nbformat": 4,
 "nbformat_minor": 5
}
