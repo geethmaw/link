{
 "cells": [
  {
   "cell_type": "markdown",
   "id": "bcdc1bd8-23e9-4538-8e40-7ae73b16e70f",
   "metadata": {},
   "source": [
    "AMSR VS CYGNSS without interpolation"
   ]
  },
  {
   "cell_type": "code",
   "execution_count": null,
   "id": "30031d24-adf7-4835-97ab-b93055ae07a9",
   "metadata": {},
   "outputs": [],
   "source": [
    "import netCDF4 as nc\n",
    "import numpy as np\n",
    "import matplotlib.pyplot as plt\n",
    "import array\n",
    "from scipy.interpolate import RegularGridInterpolator\n",
    "import sys\n",
    "import math"
   ]
  },
  {
   "cell_type": "code",
   "execution_count": 758,
   "id": "41afbefa-d7aa-46cc-b185-e52ef345f12c",
   "metadata": {},
   "outputs": [],
   "source": [
    "def main(day):\n",
    "    # print('in')\n",
    "    fn      = '/glade/work/geethma/research/data_cygnss/2019/cyg.ddmi.s201901'+f'{day:02d}'+'-003000-e201901'+f'{day:02d}'+'-233000.l3.grid-wind.a30.d31.nc'\n",
    "    dsi     = nc.Dataset(fn)\n",
    "    # ds.append(dsi)\n",
    "    lons = dsi.variables['lon'][:]           #size=1800 #Range is 0.1 .. 359.9\n",
    "    lats = dsi.variables['lat'][:]        #size=400 #Range is -39.9 .. 39.9\n",
    "    globals()['u'] = dsi.variables['wind_speed'][:,:,:]    #float wind_speed(time, lat, lon) #units = \"m s-1\"\n",
    "    globals()['time']    = dsi.variables['time'][:]          #size=24\n",
    "    dsi.close\n",
    "##############\n",
    "    fna     = '/glade/work/geethma/research/data_amsr2/2019/RSS_AMSR2_ocean_L3_daily_2019-01-'+f'{day:02d}'+'_v08.2.nc'\n",
    "    dsa     = nc.Dataset(fna)\n",
    "    lonsa   = dsa.variables['lon'][:]          #size=1440  #Range is 0.125 .. 359.875\n",
    "    latsa   = dsa.variables['lat'][:]          #size=720 #Range is -89.875 .. 89.875\n",
    "    globals()['ua']      = dsa.variables['wind_speed_AW'][:,:,:]  #float32 wind_speed_LF(pass, lat, lon)\n",
    "    globals()['timea']   = dsa.variables['time'][:,:,:]            #(pass, lat, lon) shape=(2,720,1440)\n",
    "    globals()['passa']   = dsa.variables['pass'][:]        #[1 2]\n",
    "    raina   = dsa.variables['rain_rate'][:,:,:]\n",
    "    dsa.close\n",
    "\n",
    "    globals()['lons'] = lons\n",
    "    globals()['lonsa'] = lonsa\n",
    "    globals()['lats'] = lats\n",
    "    globals()['latsa'] = latsa\n",
    "    \n",
    "    "
   ]
  },
  {
   "cell_type": "markdown",
   "id": "f3568ad4-f54d-4be5-be33-2e22c312cb11",
   "metadata": {},
   "source": [
    "import numpy.ma as ma\n",
    "x = ma.array(u)\n",
    "Y = x[~x.mask]\n",
    "print(np.shape(Y))"
   ]
  },
  {
   "cell_type": "markdown",
   "id": "99616759-9561-4fc1-8178-cc8abf2f326a",
   "metadata": {},
   "source": []
  },
  {
   "cell_type": "code",
   "execution_count": 759,
   "id": "ea6387ea-7887-4e70-9b22-9db838653bfe",
   "metadata": {},
   "outputs": [],
   "source": [
    "para = 10\n",
    "main(para)\n",
    "# ind(i)\n",
    "# t(i)\n",
    "# c(i)\n",
    "# a(i)\n",
    "# app(i)\n",
    "# coord(i)\n",
    "# save(i)\n",
    "    \n"
   ]
  },
  {
   "cell_type": "code",
   "execution_count": 760,
   "id": "bb0cf0a8-d83f-4cb3-a4a7-0b8e11b84d1a",
   "metadata": {},
   "outputs": [],
   "source": [
    "\n",
    "lon_ind = []\n",
    "lon_inda = []\n",
    "lat_ind = []\n",
    "lat_inda = []\n",
    "\n",
    "\n",
    "for i in range(len(lons)):\n",
    "    for j in range(len(lonsa)):\n",
    "        if (abs(lonsa[j]-lons[i])<=0.025):\n",
    "            lon_ind.append(i)\n",
    "            lon_inda.append(j)\n",
    "\n",
    "for i in range(len(lats)):\n",
    "    for j in range(len(latsa)):\n",
    "        if (abs(latsa[j]-lats[i])<=0.025):\n",
    "            lat_ind.append(i)\n",
    "            lat_inda.append(j)\n",
    "\n",
    "\n",
    "\n",
    "# np.savez_compressed('/glade/work/geethma/research/npzfilesn/2019_/january/near_01012019', cw=cyg, aw=am, b=bias, ar=r, cT=cT, aT=aT, lon=longt, lat=latit) #u10_monthdateyear.npz\n"
   ]
  },
  {
   "cell_type": "code",
   "execution_count": 761,
   "id": "30a357c6-45d8-4136-be12-864cbc540dbe",
   "metadata": {},
   "outputs": [
    {
     "name": "stderr",
     "output_type": "stream",
     "text": [
      "/glade/u/ssg/ch/usr/jupyterhub/envs/npl-3.7.9/dav/lib/python3.7/site-packages/ipykernel_launcher.py:9: UserWarning: Warning: converting a masked element to nan.\n",
      "  if __name__ == '__main__':\n"
     ]
    }
   ],
   "source": [
    "\n",
    "a_time = np.empty((2,len(lat_inda),len(lon_inda)))\n",
    "z = 0\n",
    "for i in (lon_inda):\n",
    "    y = 0\n",
    "    for j in (lat_inda):\n",
    "        x= 0\n",
    "        for k in range(2):\n",
    "#             a_time[x,y,z] = np.rint(timea[k,j,i])\n",
    "            a_time[x,y,z] = timea[k,j,i]\n",
    "#             print(x,y,z,a_time[x,y,z],timea[k,j,i],'e')\n",
    "            x = x+1\n",
    "        y = y+1\n",
    "    z = z+1"
   ]
  },
  {
   "cell_type": "code",
   "execution_count": 762,
   "id": "847747e4-ae19-4988-a3a5-8ed26731ad46",
   "metadata": {},
   "outputs": [],
   "source": [
    "\n",
    "cyg_wind = np.empty((24,len(lat_ind),len(lon_ind)))\n",
    "z = 0\n",
    "for i in (lon_ind):\n",
    "    y = 0\n",
    "    for j in (lat_ind):\n",
    "        x= 0\n",
    "        for k in range(24):\n",
    "#             x = 0\n",
    "            cyg_wind[x,y,z] == u[k,j,i]\n",
    "#             print(cyg_wind[x,y,z])\n",
    "            x = x+1\n",
    "        y = y+1\n",
    "    z = z+1"
   ]
  },
  {
   "cell_type": "code",
   "execution_count": 763,
   "id": "63c49d66-2132-40d0-8871-c721b4b74254",
   "metadata": {},
   "outputs": [],
   "source": [
    "\n",
    "am_wind = np.empty((2,len(lat_inda),len(lon_inda)))\n",
    "z = 0\n",
    "for i in (lon_inda):\n",
    "    y = 0\n",
    "    for j in (lat_inda):\n",
    "        x= 0\n",
    "        for k in range(2):\n",
    "#             x = 0\n",
    "            am_wind[x,y,z] == ua[k,j,i]\n",
    "            x = x+1\n",
    "        y = y+1\n",
    "    z = z+1"
   ]
  },
  {
   "cell_type": "code",
   "execution_count": 764,
   "id": "7240a7a8-e1c1-486f-96e1-49cc306ff7b5",
   "metadata": {},
   "outputs": [],
   "source": [
    "#cyg_wind[np.isnan(cyg_wind)] = 0\n",
    "#am_wind[np.isnan(am_wind)] = 0"
   ]
  },
  {
   "cell_type": "code",
   "execution_count": 765,
   "id": "351a4715-c9da-4f5a-acfa-7e575a638c23",
   "metadata": {},
   "outputs": [
    {
     "name": "stdout",
     "output_type": "stream",
     "text": [
      "0\n"
     ]
    }
   ],
   "source": [
    "\n",
    "c = 0\n",
    "cyg =[]\n",
    "am=[]\n",
    "bias=[]\n",
    "for i in range(len(lon_ind)):\n",
    "    for j in range(len(lat_inda)):\n",
    "        for m in range(2):\n",
    "            for n in range(0,24):\n",
    "                if ((cyg_wind[n,j,i]>0.5) and (cyg_wind[n,j,i]<25)):\n",
    "                    if ((am_wind[m,j,i]>0.5) and (am_wind[m,j,i]<25)):\n",
    "#                     print(a_time[m,j,i],time[n])\n",
    "                        if abs(a_time[m,j,i]-time[n])<0.5:\n",
    "                            cyg.append(cyg_wind[n,j,i])\n",
    "                            am.append(am_wind[m,j,i])\n",
    "                            bias[latsa[lat_inda],lons[lon_ind]]=(cyg_wind[n,j,i] - am_wind[m,j,i])\n",
    "    #                         print(a_time[m,j,i],time[n],m,j,i,cyg_wind[n,j,i],am_wind[m,j,i])\n",
    "                            c=c+1\n",
    "#                         print(timea[m,j,i],time[n])\n",
    "\n",
    "print(c)\n",
    "# globals()['cyg'] = cyg\n",
    "# globals()['am'] = am\n",
    "# globals()['bias'] = bias"
   ]
  },
  {
   "cell_type": "code",
   "execution_count": 766,
   "id": "cbb27425-5d94-46cb-9c51-1de0c8fe6c66",
   "metadata": {},
   "outputs": [],
   "source": [
    "\n",
    "longta = lonsa[lon_inda]\n",
    "longt = lons[lon_ind]\n",
    "latita = latsa[lat_inda]\n",
    "latit = lats[lat_ind]"
   ]
  },
  {
   "cell_type": "code",
   "execution_count": 767,
   "id": "8eb2ba2e-c1c6-4d10-a7bc-497c4ef011d8",
   "metadata": {},
   "outputs": [],
   "source": [
    "def save(day):\n",
    "    np.savez_compressed('/glade/work/geethma/research/npzfilesn/2019_/january_/final_01'+f'{day:02d}'+'2019', cw=cyg, aw=am, b=bias, lon=longt, lat=latit,lona=longta, lata=latita) #u10_monthdateyear.npz\n"
   ]
  },
  {
   "cell_type": "code",
   "execution_count": 768,
   "id": "bfc49b35-61f8-43a2-b0f9-80035a996d6d",
   "metadata": {},
   "outputs": [],
   "source": [
    "save(para)"
   ]
  },
  {
   "cell_type": "markdown",
   "id": "10e1eb50-feae-4533-ab20-91d7ffca5834",
   "metadata": {},
   "source": [
    "# for i in range(3,31):\n",
    "#     main(i)\n",
    "#     ind(i)\n",
    "#     t(i)\n",
    "#     c(i)\n",
    "#     a(i)\n",
    "#     app(i)\n",
    "#     coord(i)\n",
    "#     save(i)\n",
    "    \n"
   ]
  },
  {
   "cell_type": "code",
   "execution_count": null,
   "id": "d23976d4-5b86-429a-8a5b-e3b725b8abe1",
   "metadata": {},
   "outputs": [],
   "source": [
    "import matplotlib.pyplot as plt\n",
    "import numpy as np\n",
    "import glob\n",
    "#####cw=cyg, aw=am, b=bias, lon=longt, lat=latit,lona=longta, lata=latita\n",
    "\n",
    "fn = glob.glob('/glade/work/geethma/research/npzfilesn/2019_/january_/final*npz')\n",
    "fn = np.array(fn)"
   ]
  },
  {
   "cell_type": "code",
   "execution_count": null,
   "id": "a2e8744a-f17d-40c0-b750-ef2e9cde134e",
   "metadata": {},
   "outputs": [],
   "source": [
    "awf=[]\n",
    "cwf = []\n",
    "bf = []\n",
    "# print(fn)\n",
    "for i in range(0,len(fn)): #len(fn)\n",
    "    # print (i)\n",
    "    d = np.load(fn[i])\n",
    "    aw = np.array(d['aw'])\n",
    "    cw = np.array(d['cw'])\n",
    "    bi = np.array(d['b'])\n",
    "#     print(aw,'cyg',cw,'bias',bi)\n",
    "    ##################\n",
    "    awf.extend(aw)\n",
    "    cwf.extend(cw)\n",
    "    bf.extend(bi)\n",
    "#     for i in range(0,len(aw)):\n",
    "#         awf.append(aw[i])\n",
    "#         cwf.append(cw[i])\n",
    "#         bf.append(b[i])"
   ]
  },
  {
   "cell_type": "markdown",
   "id": "fa8d986b-6ec4-4d0e-ac70-be1f2782df4a",
   "metadata": {},
   "source": [
    "np.mean(bf)"
   ]
  },
  {
   "cell_type": "markdown",
   "id": "669718a0-39d4-4e24-83b4-f2fdb0fd1ab8",
   "metadata": {},
   "source": [
    "fig = plt.figure(figsize=(12,6))\n",
    "plt.scatter(cwf, awf)\n",
    "coefficients = np.polyfit(cwf, awf, 1)\n",
    "m = round(coefficients[0],2)\n",
    "c = round(coefficients[1],2)\n",
    "poly = np.poly1d(coefficients)\n",
    "new_x = np.linspace(min(cwf), max(cwf))\n",
    "new_y = poly(new_x)\n",
    "x = [0,17.5]\n",
    "y = [0,17.5]\n",
    "plt.plot(x,y,c='r',label='ideal mapping')\n",
    "plt.plot(new_x,new_y,c='g',label='poly fit')\n",
    "plt.legend()\n",
    "plt.text(12, 4, 'gradient = '+str(m))\n",
    "plt.text(12, 3, 'intercept = '+str(c)+' ms-1')\n",
    "# # print(m, c)\n",
    "plt.title('AMSR vs CYGNSS Wind Speeds on Jan 2019')\n",
    "plt.xlabel('CYGNSS (m/s)')\n",
    "plt.ylabel('AMSR (m/s)')\n",
    "plt.show()"
   ]
  },
  {
   "cell_type": "markdown",
   "id": "8e5deda6-70cf-4a2b-a844-32e820851dd1",
   "metadata": {},
   "source": [
    "min(bf)"
   ]
  },
  {
   "cell_type": "markdown",
   "id": "efa0a481-8533-486b-a35d-9dbbe7eb6414",
   "metadata": {},
   "source": [
    "max(cwf)"
   ]
  },
  {
   "cell_type": "markdown",
   "id": "1d460b00-1058-406f-bba3-7870bfb15858",
   "metadata": {},
   "source": []
  },
  {
   "cell_type": "code",
   "execution_count": null,
   "id": "c016b6d0-2a48-4e3d-9968-f62e900f6258",
   "metadata": {},
   "outputs": [],
   "source": []
  },
  {
   "cell_type": "code",
   "execution_count": null,
   "id": "384cf41d-7a56-4fc8-8190-7de14bc321cc",
   "metadata": {},
   "outputs": [],
   "source": []
  },
  {
   "cell_type": "code",
   "execution_count": null,
   "id": "93c2c4e3-35ca-4cc7-a3b6-296bbdaf46cd",
   "metadata": {},
   "outputs": [],
   "source": []
  },
  {
   "cell_type": "code",
   "execution_count": null,
   "id": "fab2b098-78dc-4e0f-9b6b-5e9b4bb9ee32",
   "metadata": {},
   "outputs": [],
   "source": []
  },
  {
   "cell_type": "code",
   "execution_count": null,
   "id": "5192b3f3-8c4c-486e-86f9-d8bb2f939a50",
   "metadata": {},
   "outputs": [],
   "source": []
  },
  {
   "cell_type": "code",
   "execution_count": null,
   "id": "6d91cf02-6fde-4d5e-907e-f744bb0f8c75",
   "metadata": {},
   "outputs": [],
   "source": []
  },
  {
   "cell_type": "code",
   "execution_count": null,
   "id": "9da9765d-fca2-4439-9288-a9a568f23a57",
   "metadata": {},
   "outputs": [],
   "source": []
  },
  {
   "cell_type": "code",
   "execution_count": null,
   "id": "4f7be313-d0da-404c-ad03-ca200fb1f7dc",
   "metadata": {},
   "outputs": [],
   "source": []
  },
  {
   "cell_type": "code",
   "execution_count": null,
   "id": "5fe6a10b-defb-4c95-8121-1ad3b927790f",
   "metadata": {},
   "outputs": [],
   "source": []
  },
  {
   "cell_type": "code",
   "execution_count": null,
   "id": "aadb8d02-aea0-4f89-afa6-aca0b6dc7395",
   "metadata": {},
   "outputs": [],
   "source": []
  },
  {
   "cell_type": "code",
   "execution_count": null,
   "id": "3e702d9c-651e-4320-9f1f-3c7760f94554",
   "metadata": {},
   "outputs": [],
   "source": []
  },
  {
   "cell_type": "code",
   "execution_count": null,
   "id": "76780f3d-096f-4d72-8d9c-d1a47cb5b3fd",
   "metadata": {},
   "outputs": [],
   "source": []
  },
  {
   "cell_type": "code",
   "execution_count": null,
   "id": "6066c4af-dce2-4adb-929e-098903ab4f6e",
   "metadata": {},
   "outputs": [],
   "source": []
  },
  {
   "cell_type": "code",
   "execution_count": null,
   "id": "9d93e667-d752-49df-9a09-35106c862130",
   "metadata": {},
   "outputs": [],
   "source": []
  },
  {
   "cell_type": "code",
   "execution_count": null,
   "id": "74b6e3d1-4242-413f-b463-e49b44c10d51",
   "metadata": {},
   "outputs": [],
   "source": []
  },
  {
   "cell_type": "code",
   "execution_count": null,
   "id": "beed07c6-bb5e-41b5-a402-d39179fc716e",
   "metadata": {},
   "outputs": [],
   "source": []
  },
  {
   "cell_type": "code",
   "execution_count": null,
   "id": "df87abb3-e543-4a24-8319-3f55e36a8ac5",
   "metadata": {},
   "outputs": [],
   "source": []
  },
  {
   "cell_type": "code",
   "execution_count": null,
   "id": "9ede9804-472e-4b0d-8d2a-609491beeedd",
   "metadata": {},
   "outputs": [],
   "source": []
  },
  {
   "cell_type": "code",
   "execution_count": null,
   "id": "00280c4e-c4a3-450d-85c5-d352b7f7a9d6",
   "metadata": {},
   "outputs": [],
   "source": []
  },
  {
   "cell_type": "code",
   "execution_count": null,
   "id": "3f539cda-11e3-4cfb-ae24-ec6d96431146",
   "metadata": {},
   "outputs": [],
   "source": []
  },
  {
   "cell_type": "code",
   "execution_count": null,
   "id": "7006b5a4-5d1b-470f-a7a3-d181f86ab733",
   "metadata": {},
   "outputs": [],
   "source": []
  },
  {
   "cell_type": "code",
   "execution_count": null,
   "id": "32fbc0f9-f317-413e-aeb3-4018e013d47d",
   "metadata": {},
   "outputs": [],
   "source": []
  },
  {
   "cell_type": "code",
   "execution_count": null,
   "id": "daa838a0-86fe-430a-80f1-e66a3ef6998a",
   "metadata": {},
   "outputs": [],
   "source": []
  },
  {
   "cell_type": "code",
   "execution_count": null,
   "id": "e58793e8-da9a-4f96-b995-127979db41ab",
   "metadata": {},
   "outputs": [],
   "source": []
  },
  {
   "cell_type": "code",
   "execution_count": null,
   "id": "acc09a11-119c-4937-b5e7-ac23df169f6f",
   "metadata": {},
   "outputs": [],
   "source": []
  },
  {
   "cell_type": "code",
   "execution_count": null,
   "id": "c9b731c5-6aa9-4da1-9b48-5d21945914b7",
   "metadata": {},
   "outputs": [],
   "source": []
  },
  {
   "cell_type": "code",
   "execution_count": null,
   "id": "64b1554c-27be-4771-9c06-46f01881e1ce",
   "metadata": {},
   "outputs": [],
   "source": []
  },
  {
   "cell_type": "code",
   "execution_count": null,
   "id": "6a274fbf-1391-43e3-8fd3-50d891a5e809",
   "metadata": {},
   "outputs": [],
   "source": []
  },
  {
   "cell_type": "code",
   "execution_count": null,
   "id": "f8deac12-66ee-4b35-9483-ce6127830947",
   "metadata": {},
   "outputs": [],
   "source": []
  },
  {
   "cell_type": "code",
   "execution_count": null,
   "id": "b94fef4f-7ca0-4331-9106-ab904b283225",
   "metadata": {},
   "outputs": [],
   "source": []
  },
  {
   "cell_type": "code",
   "execution_count": null,
   "id": "855b8b21-1619-44ae-a338-719e867ff5c6",
   "metadata": {},
   "outputs": [],
   "source": []
  },
  {
   "cell_type": "code",
   "execution_count": null,
   "id": "00ddfbce-c547-41da-844a-5c244decee97",
   "metadata": {},
   "outputs": [],
   "source": []
  }
 ],
 "metadata": {
  "kernelspec": {
   "display_name": "NPL-3.7.9",
   "language": "python",
   "name": "npl-3.7.9"
  },
  "language_info": {
   "codemirror_mode": {
    "name": "ipython",
    "version": 3
   },
   "file_extension": ".py",
   "mimetype": "text/x-python",
   "name": "python",
   "nbconvert_exporter": "python",
   "pygments_lexer": "ipython3",
   "version": "3.7.9"
  }
 },
 "nbformat": 4,
 "nbformat_minor": 5
}
