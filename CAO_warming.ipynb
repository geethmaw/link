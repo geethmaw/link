{
 "cells": [
  {
   "cell_type": "code",
   "execution_count": 1,
   "id": "4ebb051f-6ee8-46b7-8a84-035e93b2dc36",
   "metadata": {},
   "outputs": [
    {
     "data": {
      "text/plain": [
       "<Figure size 460.8x345.6 with 0 Axes>"
      ]
     },
     "metadata": {},
     "output_type": "display_data"
    }
   ],
   "source": [
    "import xarray as xr\n",
    "import matplotlib.pyplot as plt\n",
    "import numpy as np\n",
    "import sys\n",
    "# sys.path.append(\"/glade/u/home/dtmccoy/scripts\")\n",
    "import seaborn as sns\n",
    "from numpy.ma import *\n",
    "import datetime\n",
    "from numpy import *\n",
    "import glob\n",
    "import matplotlib.pyplot as plt\n",
    "import scipy.stats as st\n",
    "import netCDF4 as nc\n",
    "from global_land_mask import globe\n",
    "from scipy import stats\n",
    "from warming_gcm_function import read_warming\n",
    "%matplotlib inline \n",
    "\n",
    "import matplotlib as mpl\n",
    "plt.clf()\n",
    "mpl.rcParams['figure.dpi'] = 100\n",
    "plt.gcf().set_size_inches(6.4, 4.8)"
   ]
  },
  {
   "cell_type": "code",
   "execution_count": 2,
   "id": "02397bb6-8d46-4c4a-befb-0fe375712e90",
   "metadata": {},
   "outputs": [],
   "source": [
    "from con_models import get_cons\n",
    "con, use_colors, varname, pvarname, modname, warming_modname, hiresmd, amip = get_cons()"
   ]
  },
  {
   "cell_type": "code",
   "execution_count": 7,
   "id": "defddc0b-4c35-473f-a905-6c1bd38bed27",
   "metadata": {},
   "outputs": [],
   "source": [
    "pp_path_scratch='/glade/scratch/geethma/cmip6'\n",
    "def read_warming_temp(level, modn, exper, varnm, n_month):\n",
    "    files = []\n",
    "    path    = pp_path_scratch+'/'+level+'/'\n",
    "\n",
    "    ncname  = 'CMIP6.CMIP.*'+modn+'.'+exper+'.*'+varnm\n",
    "\n",
    "    fn      = np.sort(glob.glob(path+ncname+'*nc*'))\n",
    "    data    = xr.open_dataset(fn[-1])\n",
    "\n",
    "    Jan     = data.where((data['time.month'] == n_month), drop=True)\n",
    "    data1   = Jan[varnm]\n",
    "    times   = Jan['time']\n",
    "    data    = []\n",
    "    \n",
    "    if (np.shape(data1)[0]>=270):\n",
    "        data   = data1[-270::,:,:]\n",
    "        \n",
    "    else:\n",
    "        print('last file too small')\n",
    "        data.extend(data1)\n",
    "        data_e    = xr.open_dataset(fn[-2])\n",
    "        Jan_e     = data_e.where((data_e['time.month'] == n_month), drop=True)\n",
    "        data1_e   = Jan_e[varnm]\n",
    "        data.extend(data1_e[-270::,:,:])\n",
    "        times.extend(Jan_e['time'])\n",
    "        \n",
    "    lats    = Jan['lat']\n",
    "    lons    = Jan['lon']\n",
    "    lev     = []\n",
    "    \n",
    "\n",
    "    if level=='p_level':\n",
    "        lev = Jan['plev']\n",
    "\n",
    "\n",
    "    return(lats,lons,times[-270::],lev,np.array(data))"
   ]
  },
  {
   "cell_type": "code",
   "execution_count": 8,
   "id": "ed3e0f0a-e64a-476a-84d2-3539a4fd924c",
   "metadata": {},
   "outputs": [
    {
     "name": "stderr",
     "output_type": "stream",
     "text": [
      "/glade/u/home/geethma/.local/lib/python3.9/site-packages/xarray/conventions.py:512: SerializationWarning: variable 'sfcWind' has multiple fill values {1e+20, 1e+20}, decoding all values to NaN.\n",
      "  new_vars[k] = decode_cf_variable(\n",
      "/glade/u/home/geethma/.local/lib/python3.9/site-packages/xarray/conventions.py:512: SerializationWarning: variable 'tas' has multiple fill values {1e+20, 1e+20}, decoding all values to NaN.\n",
      "  new_vars[k] = decode_cf_variable(\n",
      "/glade/u/home/geethma/.local/lib/python3.9/site-packages/xarray/conventions.py:512: SerializationWarning: variable 'psl' has multiple fill values {1e+20, 1e+20}, decoding all values to NaN.\n",
      "  new_vars[k] = decode_cf_variable(\n",
      "/glade/u/home/geethma/.local/lib/python3.9/site-packages/xarray/conventions.py:512: SerializationWarning: variable 'psl' has multiple fill values {1e+20, 1e+20}, decoding all values to NaN.\n",
      "  new_vars[k] = decode_cf_variable(\n",
      "/glade/u/home/geethma/.local/lib/python3.9/site-packages/xarray/conventions.py:512: SerializationWarning: variable 'sfcWind' has multiple fill values {1e+20, 1e+20}, decoding all values to NaN.\n",
      "  new_vars[k] = decode_cf_variable(\n",
      "/glade/u/home/geethma/.local/lib/python3.9/site-packages/xarray/conventions.py:512: SerializationWarning: variable 'tas' has multiple fill values {1e+20, 1e+20}, decoding all values to NaN.\n",
      "  new_vars[k] = decode_cf_variable(\n",
      "/glade/u/home/geethma/.local/lib/python3.9/site-packages/xarray/conventions.py:512: SerializationWarning: variable 'psl' has multiple fill values {1e+20, 1e+20}, decoding all values to NaN.\n",
      "  new_vars[k] = decode_cf_variable(\n",
      "/glade/u/home/geethma/.local/lib/python3.9/site-packages/xarray/conventions.py:512: SerializationWarning: variable 'psl' has multiple fill values {1e+20, 1e+20}, decoding all values to NaN.\n",
      "  new_vars[k] = decode_cf_variable(\n",
      "/glade/u/home/geethma/.local/lib/python3.9/site-packages/xarray/conventions.py:512: SerializationWarning: variable 'sfcWind' has multiple fill values {1e+20, 1e+20}, decoding all values to NaN.\n",
      "  new_vars[k] = decode_cf_variable(\n",
      "/glade/u/home/geethma/.local/lib/python3.9/site-packages/xarray/conventions.py:512: SerializationWarning: variable 'tas' has multiple fill values {1e+20, 1e+20}, decoding all values to NaN.\n",
      "  new_vars[k] = decode_cf_variable(\n",
      "/glade/u/home/geethma/.local/lib/python3.9/site-packages/xarray/conventions.py:512: SerializationWarning: variable 'psl' has multiple fill values {1e+20, 1e+20}, decoding all values to NaN.\n",
      "  new_vars[k] = decode_cf_variable(\n",
      "/glade/u/home/geethma/.local/lib/python3.9/site-packages/xarray/conventions.py:512: SerializationWarning: variable 'psl' has multiple fill values {1e+20, 1e+20}, decoding all values to NaN.\n",
      "  new_vars[k] = decode_cf_variable(\n"
     ]
    }
   ],
   "source": [
    "m    = len(warming_modname)\n",
    "n_month = 1\n",
    "for j in range(0,m):\n",
    "    for i in varname:\n",
    "        locals()[str(n_month)+'warm_'+i+'__'+str(j+1)] = read_warming_temp('surface', warming_modname[j], 'abrupt-4xCO2', i, n_month)\n",
    "\n",
    "    for k in pvarname:\n",
    "        locals()[str(n_month)+'warm_'+i+'__'+str(j+1)] = read_warming_temp('surface', warming_modname[j], 'abrupt-4xCO2', i, n_month)"
   ]
  },
  {
   "cell_type": "code",
   "execution_count": null,
   "id": "a2b21ad8-dcb3-4daf-bd64-ee9ed91c34e8",
   "metadata": {},
   "outputs": [],
   "source": []
  },
  {
   "cell_type": "code",
   "execution_count": null,
   "id": "43cb9083-a555-4fde-b0fa-ba5f43d0d009",
   "metadata": {},
   "outputs": [],
   "source": []
  }
 ],
 "metadata": {
  "kernelspec": {
   "display_name": "wgh",
   "language": "python",
   "name": "wgh"
  },
  "language_info": {
   "codemirror_mode": {
    "name": "ipython",
    "version": 3
   },
   "file_extension": ".py",
   "mimetype": "text/x-python",
   "name": "python",
   "nbconvert_exporter": "python",
   "pygments_lexer": "ipython3",
   "version": "3.9.7"
  }
 },
 "nbformat": 4,
 "nbformat_minor": 5
}
