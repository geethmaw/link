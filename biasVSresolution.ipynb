{
 "cells": [
  {
   "cell_type": "markdown",
   "id": "63b272f5-20f5-4a37-9289-89d753934515",
   "metadata": {},
   "source": [
    "##### Created on 06/16/2022\n",
    "##### plot bias vs resolution in cmip6\n",
    "##### using merra2 TS and gcm ts\n",
    "##### my code to read GCMs "
   ]
  },
  {
   "cell_type": "code",
   "execution_count": 23,
   "id": "1921e00c-33de-4372-960f-01182115c2b9",
   "metadata": {},
   "outputs": [],
   "source": [
    "import xarray as xr\n",
    "import matplotlib.pyplot as plt\n",
    "import numpy as np\n",
    "from matplotlib.cm import get_cmap\n",
    "from myReadGCMsDaily import read_var_mod\n",
    "import calendar\n",
    "from global_land_mask import globe\n",
    "import glob\n",
    "import math\n",
    "from scipy.interpolate import griddata\n",
    "from scipy import stats"
   ]
  },
  {
   "cell_type": "code",
   "execution_count": 2,
   "id": "506304dd-a522-4a5c-970d-9ab419dab024",
   "metadata": {},
   "outputs": [],
   "source": [
    "#####Constants\n",
    "Cp = 1004           #J/kg/K\n",
    "Rd = 287            #J/kg/K\n",
    "con= Rd/Cp"
   ]
  },
  {
   "cell_type": "code",
   "execution_count": 3,
   "id": "45815e87-3c04-4035-bfa3-2947756f6d5b",
   "metadata": {},
   "outputs": [],
   "source": [
    "latr1 = 30\n",
    "latr2 = 70"
   ]
  },
  {
   "cell_type": "code",
   "execution_count": 4,
   "id": "1dafc70c-378b-4380-b77c-bb294b963a1e",
   "metadata": {},
   "outputs": [],
   "source": [
    "modname = ['CESM2','CESM2-WACCM','HadGEM3-GC31-LL','HadGEM3-GC31-MM','IPSL-CM6A-LR','CNRM-ESM2-1','INM-CM5-0','MPI-ESM1-2-HR','UKESM1-0-LL','MPI-ESM1-2-LR','MPI-ESM-1-2-HAM','CMCC-CM2-SR5','CMCC-CM2-HR4','CMCC-ESM2','CNRM-CM6-1','CNRM-ESM2-1','IPSL-CM5A2-INCA']\n",
    "varname = ['sfcWind', 'ts','psl'] #'sfcWind', 'hfss', 'hfls', 'tas', 'ps', 'psl',,'pr'\n",
    "pvarname= ['ta']\n"
   ]
  },
  {
   "cell_type": "code",
   "execution_count": 16,
   "id": "e833f848-52f0-48da-8619-b92032b02be0",
   "metadata": {},
   "outputs": [],
   "source": [
    "l=0\n",
    "m=1"
   ]
  },
  {
   "cell_type": "code",
   "execution_count": 17,
   "id": "07afeb2a-2065-4bca-b9e7-e9a2beabd900",
   "metadata": {},
   "outputs": [],
   "source": [
    "time1=[2010, 1, 1]\n",
    "time2=[2012, 12, 30]"
   ]
  },
  {
   "cell_type": "code",
   "execution_count": 18,
   "id": "3eb19a7d-01d1-4d1a-aba5-8c9bd8bf258d",
   "metadata": {},
   "outputs": [
    {
     "name": "stdout",
     "output_type": "stream",
     "text": [
      "CESM2\n"
     ]
    },
    {
     "name": "stderr",
     "output_type": "stream",
     "text": [
      "/glade/work/geethma/research/codes/myReadGCMsDaily.py:60: UserWarning: WARNING: missing_value not used since it\n",
      "cannot be safely cast to variable data type\n",
      "  data.extend(np.array(datai[ind1:ind2+1,:,:]))\n"
     ]
    },
    {
     "name": "stdout",
     "output_type": "stream",
     "text": [
      "done\n"
     ]
    }
   ],
   "source": [
    "# try:\n",
    "for j in range(l,m): #\n",
    "    print(modname[j])\n",
    "    for i in varname:\n",
    "        locals()[i+'__'+str(j+1)] = read_var_mod('surface', modname[j], 'historical', i, time1, time2)\n",
    "        # print(i)\n",
    "    for k in pvarname:\n",
    "        locals()[k+'__'+str(j+1)] = read_var_mod('p_level', modname[j], 'historical', k, time1, time2)\n",
    "        \n",
    "# except IndexError:\n",
    "#     print(str(j+1)+' not available')\n",
    "print('done')    "
   ]
  },
  {
   "cell_type": "code",
   "execution_count": 19,
   "id": "d3185123-4779-4e25-aa68-dcf224870519",
   "metadata": {},
   "outputs": [
    {
     "name": "stdout",
     "output_type": "stream",
     "text": [
      "(1094, 192, 288)\n",
      "(1094, 192, 288)\n",
      "(1094, 192, 288)\n",
      "(1094, 8, 192, 288)\n"
     ]
    }
   ],
   "source": [
    "# i = l\n",
    "for i in range(l,m):\n",
    "    lat  = locals()['sfcWind__'+str(i+1)][0]\n",
    "    lon  = locals()['sfcWind__'+str(i+1)][1]\n",
    "    time = locals()['sfcWind__'+str(i+1)][2]\n",
    "    \n",
    "    g_lat_diff = np.abs(lat[1]-lat[0])\n",
    "    g_lon_diff = np.abs(lon[1]-lon[0])\n",
    "    locals()['g_res'+str(i+1)] = (np.sqrt(g_lat_diff**2 + g_lon_diff**2)) * 110.574\n",
    "\n",
    "    for j in varname:\n",
    "        locals()[j+str(i+1)] = locals()[j+'__'+str(i+1)][4]\n",
    "        locals()[j+str(i+1)] = np.ma.filled(locals()[j+str(i+1)], fill_value=np.nan)\n",
    "        print(np.shape(locals()[j+str(i+1)]))\n",
    "# \n",
    "    for k in pvarname:\n",
    "        locals()[k+str(i+1)] = locals()[k+'__'+str(i+1)][4]\n",
    "        locals()[k+str(i+1)] = np.ma.filled(locals()[k+str(i+1)], fill_value=np.nan)\n",
    "        print(np.shape(locals()[k+str(i+1)]))\n",
    "        \n",
    "        locals()['lev'+str(i+1)] = locals()['ta__'+str(i+1)][3]"
   ]
  },
  {
   "cell_type": "code",
   "execution_count": 20,
   "id": "4711282c-5b06-4619-8448-1c1394ffc1a2",
   "metadata": {},
   "outputs": [
    {
     "name": "stdout",
     "output_type": "stream",
     "text": [
      "85000.0 70000.0\n"
     ]
    }
   ],
   "source": [
    "print(lev1[1], lev1[2])"
   ]
  },
  {
   "cell_type": "code",
   "execution_count": 21,
   "id": "6c0c494e-a882-4269-ba62-05cef5e4ed7e",
   "metadata": {},
   "outputs": [],
   "source": [
    "for i in range(l,m):\n",
    "    x_lat = np.array(lat)\n",
    "    lat_ind1 = np.where(x_lat == x_lat.flat[np.abs(x_lat - (latr1)).argmin()])[0]\n",
    "    lat_ind2 = np.where(x_lat == x_lat.flat[np.abs(x_lat - (latr2)).argmin()])[0]    \n",
    "    lats = lat[lat_ind1[0]:lat_ind2[0]]\n",
    "\n",
    "    x_lon = lon\n",
    "    lons = np.array(lon)\n",
    "    lons[lons > 180] = lons[lons > 180]-360\n",
    "    \n",
    "    maskm = np.ones((len(time),len(lats),len(lon)))\n",
    "\n",
    "    for a in range(len(lats)):\n",
    "        for b in range(len(lons)):\n",
    "            if globe.is_land(lats[a], lons[b])==True:\n",
    "                maskm[:,a,b] = math.nan\n",
    " \n",
    " ###  averaged theta at 800hPa and surface \n",
    "    theta_850 = locals()['ta'+str(i+1)][:,1,:,:]*(100000/85000)**con\n",
    "    theta_700 = locals()['ta'+str(i+1)][:,2,:,:]*(100000/70000)**con\n",
    "    theta_800 = theta_700 + ((2/3) * (theta_850 - theta_700))\n",
    "    \n",
    "    theta_sfc = locals()['ts'+str(i+1)]*(100000/locals()['psl'+str(i+1)])**con\n",
    "\n",
    "### CAOI at 800hPa\n",
    "    M = theta_sfc - theta_800\n",
    "    \n",
    "    x_sfcWind = locals()['sfcWind'+str(i+1)]\n",
    "    m_sfcWind = x_sfcWind[:,lat_ind1[0]:lat_ind2[0],:]\n",
    "    lats = lat[lat_ind1[0]:lat_ind2[0]]\n",
    "\n",
    "    x_M = M\n",
    "    m_M = x_M[:,lat_ind1[0]:lat_ind2[0],:]\n",
    "    \n",
    "    cao = np.array(m_M)\n",
    "    sw  = np.array(m_sfcWind)\n",
    "    \n",
    "    plot_CAOI = np.array(np.multiply(maskm,cao))\n",
    "    wind      = np.array(np.multiply(maskm,sw))\n",
    "    \n",
    "    # pl_theta  = plot_CAOI #.reshape(-1)\n",
    "    # pl_wind   = wind #.reshape(-1)\n",
    "    \n",
    "    # plo_theta = pl_theta[pl_theta>-40]\n",
    "    # plo_wind  = pl_wind[pl_theta>-40]\n",
    "    \n",
    "#     plot_theta = plo_theta[plo_theta<40]\n",
    "#     plot_wind  = plo_wind[plo_theta<40]\n",
    "    \n",
    "#     ind = np.argsort(plot_theta)\n",
    "#     xx = np.sort(plot_theta)\n",
    "#     yy = plot_wind[ind]\n",
    "    \n",
    "#     g_indx = np.isnan(xx*yy)==False\n",
    "\n",
    "#     g_M = xx[g_indx]\n",
    "#     g_W = yy[g_indx]\n",
    "\n",
    "#     g_re_theta  = g_M[g_M>2.5]\n",
    "#     g_re_wind   = g_W[g_M>2.5]\n",
    "#     g_res_theta = g_re_theta[g_re_theta<3.5]\n",
    "#     g_res_wind  = g_re_wind[g_re_theta<3.5]\n",
    "    \n",
    "    # g_bin_means, g_bin_edges, g_binnumber = stats.binned_statistic_2d(plot_CAOI, plot_CAOI, 'mean', bins=500)\n",
    "    "
   ]
  },
  {
   "cell_type": "code",
   "execution_count": 27,
   "id": "45e1aed9-ebf3-4e19-b1aa-d09ea101f759",
   "metadata": {},
   "outputs": [],
   "source": [
    "o_M = np.nanmean(obs_plot_CAOI)"
   ]
  },
  {
   "cell_type": "code",
   "execution_count": 26,
   "id": "48af3593-0d9f-4a5e-b8e5-54d1f857d1bd",
   "metadata": {},
   "outputs": [
    {
     "ename": "ValueError",
     "evalue": "operands could not be broadcast together with shapes (1094,43,288) (1096,40,360) ",
     "output_type": "error",
     "traceback": [
      "\u001b[0;31m---------------------------------------------------------------------------\u001b[0m",
      "\u001b[0;31mValueError\u001b[0m                                Traceback (most recent call last)",
      "\u001b[0;32m/glade/scratch/geethma/ipykernel_262977/1982333284.py\u001b[0m in \u001b[0;36m<module>\u001b[0;34m\u001b[0m\n\u001b[0;32m----> 1\u001b[0;31m \u001b[0midx\u001b[0m \u001b[0;34m=\u001b[0m \u001b[0mnp\u001b[0m\u001b[0;34m.\u001b[0m\u001b[0misnan\u001b[0m\u001b[0;34m(\u001b[0m\u001b[0mplot_CAOI\u001b[0m\u001b[0;34m[\u001b[0m\u001b[0;34m:\u001b[0m\u001b[0;34m,\u001b[0m\u001b[0;34m:\u001b[0m\u001b[0;34m,\u001b[0m\u001b[0;34m:\u001b[0m\u001b[0;34m]\u001b[0m \u001b[0;34m*\u001b[0m \u001b[0mobs_plot_CAOI\u001b[0m\u001b[0;34m[\u001b[0m\u001b[0;34m:\u001b[0m\u001b[0;34m,\u001b[0m\u001b[0;34m:\u001b[0m\u001b[0;34m,\u001b[0m\u001b[0;34m:\u001b[0m\u001b[0;34m]\u001b[0m\u001b[0;34m)\u001b[0m\u001b[0;34m==\u001b[0m\u001b[0;32mFalse\u001b[0m\u001b[0;34m\u001b[0m\u001b[0;34m\u001b[0m\u001b[0m\n\u001b[0m",
      "\u001b[0;31mValueError\u001b[0m: operands could not be broadcast together with shapes (1094,43,288) (1096,40,360) "
     ]
    }
   ],
   "source": [
    "idx = np.isnan(plot_CAOI[:,:,:] * obs_plot_CAOI[:,:,:])==False"
   ]
  },
  {
   "cell_type": "code",
   "execution_count": 25,
   "id": "167a1389-7535-4f3b-85ff-cb6b8e7a347a",
   "metadata": {},
   "outputs": [],
   "source": [
    "# g_bin_means, g_bin_edges, g_binnumber = stats.binned_statistic_2d(plot_CAOI, plot_CAOI, 'mean', bins=500)"
   ]
  },
  {
   "cell_type": "code",
   "execution_count": 28,
   "id": "465432ae-3e86-4160-b2ae-63380272038b",
   "metadata": {},
   "outputs": [
    {
     "data": {
      "text/plain": [
       "-10695284372287.291"
      ]
     },
     "execution_count": 28,
     "metadata": {},
     "output_type": "execute_result"
    }
   ],
   "source": [
    "o_M"
   ]
  },
  {
   "cell_type": "code",
   "execution_count": null,
   "id": "0ad0414e-1b31-4c99-bec9-f5e76a335011",
   "metadata": {},
   "outputs": [],
   "source": []
  },
  {
   "cell_type": "code",
   "execution_count": 5,
   "id": "70a936d7-2f28-4a6a-b208-185f04bc286f",
   "metadata": {},
   "outputs": [],
   "source": [
    "import glob\n",
    "merlist = np.sort(glob.glob('../data_merra/all_lat_lon/levels/MERRA2_*.nc'))\n",
    "sfclist = np.sort(glob.glob('../data_merra/all_lat_lon/surface_old/MERRA2_*.nc'))\n",
    "maclist = np.sort(glob.glob('../MACLWP_dailymean/take/wind1deg*.nc4'))"
   ]
  },
  {
   "cell_type": "code",
   "execution_count": 6,
   "id": "9d4eb7b0-86e7-492d-b2bd-e8129b3b4ade",
   "metadata": {},
   "outputs": [],
   "source": [
    "import netCDF4 as nc\n",
    "import xarray as xr\n",
    "p_mer_T   = []\n",
    "p_mac_w   = []\n",
    "sfc_mer_T = []\n",
    "sfc_mer_P = []\n",
    "\n",
    "for i in range(len(merlist)): #len(merlist)\n",
    "    d_path = merlist[i]\n",
    "    data   = nc.Dataset(d_path)\n",
    "    # print(d_path)\n",
    "    \n",
    "    if i==0:\n",
    "        merlat = data.variables['lat'][:]\n",
    "        merlon = data.variables['lon'][:]\n",
    "        merlev = data.variables['lev'][:]\n",
    "        #shape latitude\n",
    "        mer_lat = np.flip(merlat)\n",
    "        mer_lat = np.array(mer_lat)\n",
    "        mlat_ind1 = np.where(mer_lat == mer_lat.flat[np.abs(mer_lat - (latr1)).argmin()])[0]\n",
    "        mlat_ind2 = np.where(mer_lat == mer_lat.flat[np.abs(mer_lat - (latr2)).argmin()])[0]\n",
    "        p_mer_lat  = np.array(mer_lat[mlat_ind1[0]:mlat_ind2[0]])\n",
    "        #shape longitude\n",
    "        merlon[merlon > 180] = merlon[merlon > 180]-360\n",
    "        # mer_lon = np.array(merlon)\n",
    "        \n",
    "    merT   = data.variables['T'][:] #(time, lev, lat, lon)\n",
    "    mer_T = np.array(merT[:,:,::-1,:])\n",
    "    p_mer_T.extend(mer_T[:,:,mlat_ind1[0]:mlat_ind2[0],:])\n",
    "    \n",
    "temp = np.array(p_mer_T)\n",
    "\n",
    "for i in range(len(sfclist)): #len(merlist)\n",
    "    s_path = sfclist[i]\n",
    "    sdata  = nc.Dataset(s_path)\n",
    "    # print(d_path)\n",
    "    \n",
    "    if i==0:\n",
    "        sfclat = sdata.variables['lat'][:]\n",
    "        sfclon = sdata.variables['lon'][:]\n",
    "        #shape latitude\n",
    "        sfc_lat = np.flip(sfclat)\n",
    "        sfc_lat = np.array(sfc_lat)\n",
    "        flat_ind1 = np.where(sfc_lat == sfc_lat.flat[np.abs(sfc_lat - (latr1)).argmin()])[0]\n",
    "        flat_ind2 = np.where(sfc_lat == sfc_lat.flat[np.abs(sfc_lat - (latr2)).argmin()])[0]\n",
    "        p_sfc_lat  = np.array(sfc_lat[flat_ind1[0]:flat_ind2[0]])\n",
    "        #shape longitude\n",
    "        sfclon[sfclon > 180] = sfclon[sfclon > 180]-360\n",
    "        # sfc_lon = np.array(sfclon)\n",
    "        \n",
    "    sfcT   = sdata.variables['TS'][:] \n",
    "    sfc_T = np.array(sfcT[:,::-1,:])\n",
    "    sfc_mer_T.extend(sfc_T[:,flat_ind1[0]:flat_ind2[0],:])\n",
    "    \n",
    "    sfcP   = sdata.variables['SLP'][:] \n",
    "    sfc_P = np.array(sfcP[:,::-1,:])\n",
    "    sfc_mer_P.extend(sfc_P[:,flat_ind1[0]:flat_ind2[0],:])\n",
    "    \n",
    "sfctemp = np.array(sfc_mer_T)\n",
    "sfcpres = np.array(sfc_mer_P)\n",
    "\n",
    "for i in range(len(maclist)): #len(maclist)\n",
    "    ddpath = maclist[i]\n",
    "    ddata  = nc.Dataset(ddpath)\n",
    "    macw   = ddata.variables['sfcwind'][:] #(time,lat,lon)\n",
    "    # print(ddpath)\n",
    "    \n",
    "    if i==0:\n",
    "        maclat = ddata.variables['lat'][:]\n",
    "        maclon = ddata.variables['lon'][:]\n",
    "        #shape latitude\n",
    "        mac_lat = np.array(maclat)\n",
    "        slat_ind1 = np.where(mac_lat == mac_lat.flat[np.abs(mac_lat - (latr1)).argmin()])[0]\n",
    "        slat_ind2 = np.where(mac_lat == mac_lat.flat[np.abs(mac_lat - (latr2)).argmin()])[0]\n",
    "        p_mac_lat  = np.array(mac_lat[slat_ind1[0]:slat_ind2[0]])\n",
    "        #shape longitude\n",
    "        maclon[maclon > 180] = maclon[maclon > 180]-360\n",
    "        # mac_lon = np.array(maclon)\n",
    "\n",
    "    n_w = macw[:,slat_ind1[0]:slat_ind2[0],:]\n",
    "    p_mac_w.extend(n_w)\n",
    "\n",
    "wind = np.array(p_mac_w)\n"
   ]
  },
  {
   "cell_type": "code",
   "execution_count": 7,
   "id": "6f984157-4ab6-4852-9897-52eb151b0fae",
   "metadata": {},
   "outputs": [],
   "source": [
    "p_level = 1\n",
    "theta_800 = np.array(np.multiply(temp[:,p_level,:,:], (100000/(merlev[p_level]*100))**(Rd/Cp)))\n",
    "theta_sfc = np.array(np.multiply(sfctemp, (100000/sfcpres)**(Rd/Cp)))\n",
    "p_CAOI = np.array(np.subtract(theta_sfc,theta_800))\n"
   ]
  },
  {
   "cell_type": "code",
   "execution_count": 8,
   "id": "7755e2b5-ad01-4ce7-8fa5-c71b7348acf9",
   "metadata": {},
   "outputs": [],
   "source": [
    "maskm = np.ones((len(temp),len(p_mer_lat),len(merlon)))\n",
    "\n",
    "for a in range(len(p_mer_lat)):\n",
    "    for b in range(len(merlon)):\n",
    "        if globe.is_land(p_mer_lat[a], merlon[b])==True:\n",
    "            maskm[:,a,b] = math.nan"
   ]
  },
  {
   "cell_type": "code",
   "execution_count": 9,
   "id": "7c0241f4-b922-4d13-88cf-a6d73a638f7d",
   "metadata": {},
   "outputs": [],
   "source": [
    "caoi_test = p_CAOI\n",
    "wind_test = wind"
   ]
  },
  {
   "cell_type": "code",
   "execution_count": 11,
   "id": "81163fad-943c-4b9d-9689-c32c4f8d64e2",
   "metadata": {},
   "outputs": [],
   "source": [
    "obs_plot_CAOI = np.ones((len(temp),len(p_mer_lat),len(merlon)))\n",
    "obs_plot_CAOI[:,:,180:360] = caoi_test[:,:,0:180]\n",
    "obs_plot_CAOI[:,:,0:180]   = caoi_test[:,:,180:360]\n",
    "obs_plot_CAOI = np.array(obs_plot_CAOI)"
   ]
  },
  {
   "cell_type": "code",
   "execution_count": 12,
   "id": "2dcb407e-3130-4c1f-bff0-191a81d47d85",
   "metadata": {},
   "outputs": [],
   "source": [
    "obs_plot_wind = np.ones((len(temp),len(p_mer_lat),len(merlon)))\n",
    "obs_plot_wind[:,:,180:360] = wind_test[:,:,0:180]\n",
    "obs_plot_wind[:,:,0:180]   = wind_test[:,:,180:360]\n",
    "obs_plot_wind = np.array(obs_plot_wind)"
   ]
  },
  {
   "cell_type": "code",
   "execution_count": 13,
   "id": "55609b7f-d87e-4550-927e-6b1d5cd88802",
   "metadata": {},
   "outputs": [],
   "source": [
    "obs_plot_CAOI = np.array(np.multiply(maskm,obs_plot_CAOI))\n",
    "obs_plot_wind = np.array(np.multiply(maskm,obs_plot_wind))"
   ]
  },
  {
   "cell_type": "code",
   "execution_count": 14,
   "id": "6db3ede1-55e2-49e4-ad41-e7372d29b80a",
   "metadata": {},
   "outputs": [
    {
     "data": {
      "text/plain": [
       "(1096, 40, 360)"
      ]
     },
     "execution_count": 14,
     "metadata": {},
     "output_type": "execute_result"
    }
   ],
   "source": [
    "np.shape(obs_plot_CAOI)"
   ]
  },
  {
   "cell_type": "code",
   "execution_count": 15,
   "id": "f146d39f-b210-42e3-aa00-1cf3264cd0f4",
   "metadata": {},
   "outputs": [
    {
     "data": {
      "text/plain": [
       "(1096, 40, 360)"
      ]
     },
     "execution_count": 15,
     "metadata": {},
     "output_type": "execute_result"
    }
   ],
   "source": [
    "np.shape(obs_plot_wind)"
   ]
  },
  {
   "cell_type": "code",
   "execution_count": null,
   "id": "832ce89d-98c1-4233-a497-b7b8b5671bce",
   "metadata": {},
   "outputs": [],
   "source": []
  },
  {
   "cell_type": "code",
   "execution_count": null,
   "id": "6f67dab1-60ad-4fe8-8b59-9a7645e1b353",
   "metadata": {},
   "outputs": [],
   "source": []
  },
  {
   "cell_type": "code",
   "execution_count": null,
   "id": "765715a4-971f-439a-a98d-006abbdaa2c0",
   "metadata": {},
   "outputs": [],
   "source": []
  },
  {
   "cell_type": "code",
   "execution_count": null,
   "id": "db520ff2-9451-4f0a-8d41-8a1032e92b8e",
   "metadata": {},
   "outputs": [],
   "source": []
  },
  {
   "cell_type": "code",
   "execution_count": null,
   "id": "3ae3a983-9608-4f17-9697-c58354cecdfa",
   "metadata": {},
   "outputs": [],
   "source": []
  },
  {
   "cell_type": "code",
   "execution_count": null,
   "id": "6cb6caba-2827-4ccf-ab60-1d0b6ff1a76f",
   "metadata": {},
   "outputs": [],
   "source": []
  },
  {
   "cell_type": "code",
   "execution_count": null,
   "id": "d769f3dc-9d27-4b24-a503-cdb02b2f8521",
   "metadata": {},
   "outputs": [],
   "source": [
    "plot_indx = np.isnan(plot_CAOI*plot_CAOI)==False"
   ]
  },
  {
   "cell_type": "code",
   "execution_count": null,
   "id": "533843bc-e0c1-4374-b6b4-92ac0aaae5e5",
   "metadata": {},
   "outputs": [],
   "source": [
    "plot_mer_theta = plot_CAOI[plot_indx]\n",
    "plot_mac_wind  = plot_wind[plot_indx]"
   ]
  },
  {
   "cell_type": "code",
   "execution_count": null,
   "id": "91a0f4d8-7f7e-4c82-a372-59a36bc2c225",
   "metadata": {},
   "outputs": [],
   "source": [
    "ind = np.argsort(plot_mer_theta)\n",
    "xx = np.sort(plot_mer_theta)\n",
    "yy = plot_mac_wind[ind]"
   ]
  },
  {
   "cell_type": "code",
   "execution_count": null,
   "id": "38df5d53-dfd7-44aa-ae73-80b5edd23a90",
   "metadata": {},
   "outputs": [],
   "source": []
  },
  {
   "cell_type": "code",
   "execution_count": null,
   "id": "d57a4671-06be-4a9e-947a-0ab0a40444a7",
   "metadata": {},
   "outputs": [],
   "source": []
  },
  {
   "cell_type": "code",
   "execution_count": null,
   "id": "34574ba8-ee12-4c12-a64b-68d5650bfac6",
   "metadata": {},
   "outputs": [],
   "source": []
  },
  {
   "cell_type": "code",
   "execution_count": null,
   "id": "966eed03-735c-4aac-bd54-7311d0109929",
   "metadata": {},
   "outputs": [],
   "source": []
  },
  {
   "cell_type": "code",
   "execution_count": null,
   "id": "e6c91894-d228-4d13-ba53-3f0978fb08a8",
   "metadata": {},
   "outputs": [],
   "source": []
  },
  {
   "cell_type": "code",
   "execution_count": null,
   "id": "4f03a735-878b-4798-b5ab-cc4fc11ab7a6",
   "metadata": {},
   "outputs": [],
   "source": []
  },
  {
   "cell_type": "code",
   "execution_count": null,
   "id": "ef06038c-2055-492f-83c6-817cec41f9ec",
   "metadata": {},
   "outputs": [],
   "source": []
  },
  {
   "cell_type": "code",
   "execution_count": null,
   "id": "59e2e9a3-3f56-49e4-8ed2-e88303f4c143",
   "metadata": {},
   "outputs": [],
   "source": []
  },
  {
   "cell_type": "code",
   "execution_count": null,
   "id": "e486cd60-3da8-4a7f-8670-c28f30087846",
   "metadata": {},
   "outputs": [],
   "source": []
  },
  {
   "cell_type": "code",
   "execution_count": 88,
   "id": "1bdd0434-191b-482d-9f01-a5923acc574b",
   "metadata": {},
   "outputs": [
    {
     "ename": "TypeError",
     "evalue": "binned_statistic_dd() got multiple values for argument 'statistic'",
     "output_type": "error",
     "traceback": [
      "\u001b[0;31m---------------------------------------------------------------------------\u001b[0m",
      "\u001b[0;31mTypeError\u001b[0m                                 Traceback (most recent call last)",
      "\u001b[0;32m/glade/scratch/geethma/ipykernel_190640/2043985128.py\u001b[0m in \u001b[0;36m<module>\u001b[0;34m\u001b[0m\n\u001b[1;32m     10\u001b[0m \u001b[0mdata\u001b[0m \u001b[0;34m=\u001b[0m \u001b[0mplot_CAOI\u001b[0m\u001b[0;34m\u001b[0m\u001b[0;34m\u001b[0m\u001b[0m\n\u001b[1;32m     11\u001b[0m \u001b[0;31m# idx = np.isnan(data[j,:,:])==False\u001b[0m\u001b[0;34m\u001b[0m\u001b[0;34m\u001b[0m\u001b[0m\n\u001b[0;32m---> 12\u001b[0;31m \u001b[0minterp_data\u001b[0m \u001b[0;34m=\u001b[0m \u001b[0mstats\u001b[0m\u001b[0;34m.\u001b[0m\u001b[0mbinned_statistic_dd\u001b[0m\u001b[0;34m(\u001b[0m\u001b[0mzz\u001b[0m\u001b[0;34m,\u001b[0m\u001b[0mxx\u001b[0m\u001b[0;34m,\u001b[0m \u001b[0myy\u001b[0m\u001b[0;34m,\u001b[0m \u001b[0mdata\u001b[0m\u001b[0;34m,\u001b[0m \u001b[0mstatistic\u001b[0m\u001b[0;34m=\u001b[0m\u001b[0;34m'mean'\u001b[0m\u001b[0;34m,\u001b[0m \u001b[0mbins\u001b[0m\u001b[0;34m=\u001b[0m\u001b[0;34m[\u001b[0m\u001b[0mbinz\u001b[0m\u001b[0;34m,\u001b[0m\u001b[0mbinx\u001b[0m\u001b[0;34m,\u001b[0m\u001b[0mbiny\u001b[0m\u001b[0;34m]\u001b[0m\u001b[0;34m)\u001b[0m\u001b[0;34m\u001b[0m\u001b[0;34m\u001b[0m\u001b[0m\n\u001b[0m\u001b[1;32m     13\u001b[0m \u001b[0;34m\u001b[0m\u001b[0m\n\u001b[1;32m     14\u001b[0m \u001b[0;31m# for j in range(len(time)):\u001b[0m\u001b[0;34m\u001b[0m\u001b[0;34m\u001b[0m\u001b[0m\n",
      "\u001b[0;31mTypeError\u001b[0m: binned_statistic_dd() got multiple values for argument 'statistic'"
     ]
    }
   ],
   "source": [
    "from scipy import stats\n",
    "x = np.array(lon)\n",
    "y = np.array(lats)\n",
    "z = np.array(time)\n",
    "zz, yy, xx = np.meshgrid(z,y,x,indexing='xy')\n",
    "binx = np.arange(0,360,1)\n",
    "biny = np.arange(30,70,1)\n",
    "binz = np.arange(0,len(time),1)\n",
    "\n",
    "data = plot_CAOI\n",
    "# idx = np.isnan(data[j,:,:])==False\n",
    "interp_data = stats.binned_statistic_dd(zz,xx, yy, data, statistic='mean', bins=[binz,binx,biny])\n",
    "\n",
    "# for j in range(len(time)):\n",
    "    # data = plot_CAOI\n",
    "    # idx = np.isnan(data[j,:,:])==False\n",
    "    # interp_data = stats.binned_statistic_dd(xx[idx].ravel(), yy[idx].ravel(), data[idx].ravel(), statistic='mean', bins=[binx,biny]).statistic"
   ]
  },
  {
   "cell_type": "code",
   "execution_count": 80,
   "id": "a03081a1-a175-4aea-993e-fed373dbef31",
   "metadata": {},
   "outputs": [
    {
     "ename": "ValueError",
     "evalue": "There are 40 points and 43 values in dimension 0",
     "output_type": "error",
     "traceback": [
      "\u001b[0;31m---------------------------------------------------------------------------\u001b[0m",
      "\u001b[0;31mValueError\u001b[0m                                Traceback (most recent call last)",
      "\u001b[0;32m/glade/scratch/geethma/ipykernel_190640/4111248063.py\u001b[0m in \u001b[0;36m<module>\u001b[0;34m\u001b[0m\n\u001b[1;32m      8\u001b[0m \u001b[0;32mfor\u001b[0m \u001b[0mk\u001b[0m \u001b[0;32min\u001b[0m \u001b[0mrange\u001b[0m\u001b[0;34m(\u001b[0m\u001b[0mlen\u001b[0m\u001b[0;34m(\u001b[0m\u001b[0mtime\u001b[0m\u001b[0;34m)\u001b[0m\u001b[0;34m)\u001b[0m\u001b[0;34m:\u001b[0m \u001b[0;31m#\u001b[0m\u001b[0;34m\u001b[0m\u001b[0;34m\u001b[0m\u001b[0m\n\u001b[1;32m      9\u001b[0m     \u001b[0;31m# interp = interpn((ya,xa), plot_CAOI[k,:,:], (yga,xga))\u001b[0m\u001b[0;34m\u001b[0m\u001b[0;34m\u001b[0m\u001b[0m\n\u001b[0;32m---> 10\u001b[0;31m     \u001b[0minterp\u001b[0m \u001b[0;34m=\u001b[0m \u001b[0mRegularGridInterpolator\u001b[0m\u001b[0;34m(\u001b[0m\u001b[0;34m(\u001b[0m\u001b[0mya\u001b[0m\u001b[0;34m,\u001b[0m\u001b[0mxa\u001b[0m\u001b[0;34m)\u001b[0m\u001b[0;34m,\u001b[0m \u001b[0mplot_CAOI\u001b[0m\u001b[0;34m[\u001b[0m\u001b[0mk\u001b[0m\u001b[0;34m,\u001b[0m\u001b[0;34m:\u001b[0m\u001b[0;34m,\u001b[0m\u001b[0;34m:\u001b[0m\u001b[0;34m]\u001b[0m\u001b[0;34m,\u001b[0m \u001b[0mmethod\u001b[0m\u001b[0;34m=\u001b[0m\u001b[0;34m'nearest'\u001b[0m\u001b[0;34m)\u001b[0m\u001b[0;34m\u001b[0m\u001b[0;34m\u001b[0m\u001b[0m\n\u001b[0m\u001b[1;32m     11\u001b[0m     \u001b[0minterp_CAOI\u001b[0m\u001b[0;34m.\u001b[0m\u001b[0mappend\u001b[0m\u001b[0;34m(\u001b[0m\u001b[0minterp\u001b[0m\u001b[0;34m)\u001b[0m\u001b[0;34m\u001b[0m\u001b[0;34m\u001b[0m\u001b[0m\n",
      "\u001b[0;32m~/.local/lib/python3.9/site-packages/scipy/interpolate/interpolate.py\u001b[0m in \u001b[0;36m__init__\u001b[0;34m(self, points, values, method, bounds_error, fill_value)\u001b[0m\n\u001b[1;32m   2478\u001b[0m                                  \"1-dimensional\" % i)\n\u001b[1;32m   2479\u001b[0m             \u001b[0;32mif\u001b[0m \u001b[0;32mnot\u001b[0m \u001b[0mvalues\u001b[0m\u001b[0;34m.\u001b[0m\u001b[0mshape\u001b[0m\u001b[0;34m[\u001b[0m\u001b[0mi\u001b[0m\u001b[0;34m]\u001b[0m \u001b[0;34m==\u001b[0m \u001b[0mlen\u001b[0m\u001b[0;34m(\u001b[0m\u001b[0mp\u001b[0m\u001b[0;34m)\u001b[0m\u001b[0;34m:\u001b[0m\u001b[0;34m\u001b[0m\u001b[0;34m\u001b[0m\u001b[0m\n\u001b[0;32m-> 2480\u001b[0;31m                 raise ValueError(\"There are %d points and %d values in \"\n\u001b[0m\u001b[1;32m   2481\u001b[0m                                  \"dimension %d\" % (len(p), values.shape[i], i))\n\u001b[1;32m   2482\u001b[0m         \u001b[0mself\u001b[0m\u001b[0;34m.\u001b[0m\u001b[0mgrid\u001b[0m \u001b[0;34m=\u001b[0m \u001b[0mtuple\u001b[0m\u001b[0;34m(\u001b[0m\u001b[0;34m[\u001b[0m\u001b[0mnp\u001b[0m\u001b[0;34m.\u001b[0m\u001b[0masarray\u001b[0m\u001b[0;34m(\u001b[0m\u001b[0mp\u001b[0m\u001b[0;34m)\u001b[0m \u001b[0;32mfor\u001b[0m \u001b[0mp\u001b[0m \u001b[0;32min\u001b[0m \u001b[0mpoints\u001b[0m\u001b[0;34m]\u001b[0m\u001b[0;34m)\u001b[0m\u001b[0;34m\u001b[0m\u001b[0;34m\u001b[0m\u001b[0m\n",
      "\u001b[0;31mValueError\u001b[0m: There are 40 points and 43 values in dimension 0"
     ]
    }
   ],
   "source": [
    "from scipy.interpolate import interpn\n",
    "from scipy.interpolate import RegularGridInterpolator\n",
    "xa = np.arange(0,360,1)\n",
    "ya = np.arange(30,70,1)\n",
    "# za = np.array(time)\n",
    "yga, xga = np.meshgrid(ya, xa, indexing='ij', sparse=True)\n",
    "interp_CAOI = []\n",
    "for k in range(len(time)): #\n",
    "    # interp = interpn((ya,xa), plot_CAOI[k,:,:], (yga,xga))\n",
    "    interp = RegularGridInterpolator((ya,xa), plot_CAOI[k,:,:], method='nearest')\n",
    "    interp_CAOI.append(interp)"
   ]
  },
  {
   "cell_type": "code",
   "execution_count": 62,
   "id": "bbcced67-f7c3-4485-8ce9-ececda7b4b5d",
   "metadata": {},
   "outputs": [
    {
     "data": {
      "text/plain": [
       "(1094, 43, 288)"
      ]
     },
     "execution_count": 62,
     "metadata": {},
     "output_type": "execute_result"
    }
   ],
   "source": [
    "np.shape(plot_CAOI)"
   ]
  },
  {
   "cell_type": "code",
   "execution_count": 69,
   "id": "a18e5bcb-c6c6-4f00-a605-0ba1b8ac3980",
   "metadata": {},
   "outputs": [
    {
     "data": {
      "text/plain": [
       "(1094,)"
      ]
     },
     "execution_count": 69,
     "metadata": {},
     "output_type": "execute_result"
    }
   ],
   "source": [
    "np.shape(interp_CAOI)"
   ]
  },
  {
   "cell_type": "code",
   "execution_count": 76,
   "id": "c3714494-3725-4d46-b987-9e062b9530ae",
   "metadata": {},
   "outputs": [
    {
     "data": {
      "text/plain": [
       "69.26701570680629"
      ]
     },
     "execution_count": 76,
     "metadata": {},
     "output_type": "execute_result"
    }
   ],
   "source": [
    "lats[-1]"
   ]
  },
  {
   "cell_type": "code",
   "execution_count": 15,
   "id": "9d911f34-5804-4dec-8495-a7a6b4f1fa70",
   "metadata": {},
   "outputs": [
    {
     "name": "stdout",
     "output_type": "stream",
     "text": [
      "19.5496550061186 -39.989846186403724\n",
      "29.761993408203125 0.01262784656137228\n"
     ]
    }
   ],
   "source": [
    "print(np.max(g_M), np.min(g_M))\n",
    "print(np.max(g_W), np.min(g_W))"
   ]
  },
  {
   "cell_type": "code",
   "execution_count": 19,
   "id": "44051b44-2480-43f4-bee0-ddce9648cc4f",
   "metadata": {},
   "outputs": [
    {
     "name": "stdout",
     "output_type": "stream",
     "text": [
      "3.499998823493911 2.5000117108659197\n"
     ]
    }
   ],
   "source": [
    "print(np.max(g_res_theta1), np.min(g_res_theta1))\n",
    "# print(np.max(o_res_theta), np.min(o_res_theta))"
   ]
  },
  {
   "cell_type": "code",
   "execution_count": null,
   "id": "0c692e61-c7dc-401f-95a6-f1a9ddb3993e",
   "metadata": {},
   "outputs": [],
   "source": []
  }
 ],
 "metadata": {
  "kernelspec": {
   "display_name": "wgh",
   "language": "python",
   "name": "wgh"
  },
  "language_info": {
   "codemirror_mode": {
    "name": "ipython",
    "version": 3
   },
   "file_extension": ".py",
   "mimetype": "text/x-python",
   "name": "python",
   "nbconvert_exporter": "python",
   "pygments_lexer": "ipython3",
   "version": "3.9.7"
  }
 },
 "nbformat": 4,
 "nbformat_minor": 5
}
