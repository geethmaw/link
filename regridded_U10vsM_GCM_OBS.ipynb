{
 "cells": [
  {
   "cell_type": "code",
   "execution_count": 1,
   "id": "f94b4b46-37fd-497a-a1aa-469d7efbe55f",
   "metadata": {},
   "outputs": [
    {
     "data": {
      "text/plain": [
       "<Figure size 600x400 with 0 Axes>"
      ]
     },
     "metadata": {},
     "output_type": "display_data"
    }
   ],
   "source": [
    "import xarray as xr\n",
    "import matplotlib.pyplot as plt\n",
    "import numpy as np\n",
    "from matplotlib.cm import get_cmap\n",
    "import calendar\n",
    "from global_land_mask import globe\n",
    "import glob\n",
    "import math\n",
    "from scipy import stats\n",
    "import os\n",
    "import netCDF4 as nc\n",
    "\n",
    "from gcm_loading.highres_read import read_var_hires\n",
    "from gcm_loading.myReadGCMsDaily import read_var_mod\n",
    "from gcm_loading.read_amip import read_amip_var\n",
    "from regrid_wght_3d import regrid_wght_wnans\n",
    "\n",
    "import matplotlib as mpl\n",
    "mpl.rcParams['figure.dpi'] = 100\n",
    "plt.clf()\n",
    "plt.rcParams['figure.figsize'] = (10, 10)"
   ]
  },
  {
   "cell_type": "code",
   "execution_count": 2,
   "id": "cbe80364-f974-4498-9f5b-c02682b031e6",
   "metadata": {},
   "outputs": [],
   "source": [
    "from con_models import get_cons\n",
    "con, use_colors, varname, pvarname, modname, warming_modname, hiresmd, amip_md = get_cons()"
   ]
  },
  {
   "cell_type": "code",
   "execution_count": 3,
   "id": "fa695543-3fb6-49e4-80ed-8a9065525535",
   "metadata": {},
   "outputs": [],
   "source": [
    "#latitude range\n",
    "latr1 = 30\n",
    "latr2 = 80\n"
   ]
  },
  {
   "cell_type": "code",
   "execution_count": 4,
   "id": "59718970-1a69-4a61-926d-61576fd79a3e",
   "metadata": {},
   "outputs": [],
   "source": [
    "time1=[2010, 1, 1]\n",
    "time2=[2012, 12, 30]\n",
    "\n",
    "lats_edges = np.arange(latr1,latr2+1,5)\n",
    "lons_edges = np.arange(-180,181,5)\n",
    "\n",
    "#binning\n",
    "n_bins  = 20\n",
    "max_c   = 500\n"
   ]
  },
  {
   "cell_type": "code",
   "execution_count": 5,
   "id": "48c60390-a4d1-4939-9ab5-e4237f0f5747",
   "metadata": {},
   "outputs": [
    {
     "name": "stdout",
     "output_type": "stream",
     "text": [
      "\n",
      " CESM2\n",
      "sfcWind\n",
      "/glade/scratch/geethma/cmip6/surface/CESM2/CMIP6.CMIP.NCAR.CESM2.historical.r11i1p1f1.day.sfcWind.gn.v20190514.sfcWind_day_CESM2_historical_r11i1p1f1_gn_20100101-20150101.nc\n"
     ]
    },
    {
     "name": "stderr",
     "output_type": "stream",
     "text": [
      "/glade/work/geethma/research/codes/gcm_loading/myReadGCMsDaily.py:73: UserWarning: WARNING: missing_value not used since it\n",
      "cannot be safely cast to variable data type\n",
      "  data.extend(np.array(datai[ind1:ind2+1,:,:]))\n"
     ]
    },
    {
     "name": "stdout",
     "output_type": "stream",
     "text": [
      "ts\n",
      "/glade/scratch/geethma/cmip6/surface/CESM2/CMIP6.CMIP.NCAR.CESM2.historical.r11i1p1f1.Eday.ts.gn.v20190514.ts_Eday_CESM2_historical_r11i1p1f1_gn_20100101-20150101.nc\n",
      "psl\n",
      "/glade/scratch/geethma/cmip6/surface/CESM2/CMIP6.CMIP.NCAR.CESM2.historical.r11i1p1f1.day.psl.gn.v20190514.psl_day_CESM2_historical_r11i1p1f1_gn_20100101-20150101.nc\n",
      "ta\n",
      "/glade/scratch/geethma/cmip6/p_level/CESM2/CMIP6.CMIP.NCAR.CESM2.historical.r11i1p1f1.day.ta.gn.v20190514.ta_day_CESM2_historical_r11i1p1f1_gn_20100101-20150101.nc\n",
      "historical done\n"
     ]
    }
   ],
   "source": [
    "for j in range(0,1): #len(modname)\n",
    "    print('\\n',modname[j])\n",
    "    for i in varname:\n",
    "        print(i)\n",
    "        locals()[i+'__'+str(j+1)] = read_var_mod('surface', modname[j], 'historical', i, time1, time2)\n",
    "\n",
    "    for k in pvarname:\n",
    "        print(k)\n",
    "        locals()[k+'__'+str(j+1)] = read_var_mod('p_level', modname[j], 'historical', k, time1, time2)\n",
    "\n",
    "print('historical done')"
   ]
  },
  {
   "cell_type": "code",
   "execution_count": 13,
   "id": "85030562-f67c-4bc0-8662-a6bf1ea420d3",
   "metadata": {},
   "outputs": [
    {
     "name": "stdout",
     "output_type": "stream",
     "text": [
      "FGOALS-f3-L\n",
      "sfcWind\n",
      "length files: 1\n",
      "tas\n",
      "length files: 1\n",
      "psl\n",
      "length files: 1\n",
      "ta\n",
      "length files: 3\n",
      "BCC-CSM2-HR\n",
      "sfcWind\n",
      "length files: 3\n",
      "tas\n",
      "length files: 4\n",
      "psl\n",
      "length files: 4\n",
      "ta\n",
      "length files: 16\n",
      "MRI-AGCM3-2-H\n",
      "sfcWind\n",
      "length files: 1\n",
      "tas\n",
      "length files: 1\n",
      "psl\n",
      "length files: 1\n",
      "ta\n",
      "length files: 3\n",
      "MRI-AGCM3-2-S\n",
      "sfcWind\n",
      "length files: 3\n",
      "tas\n",
      "length files: 3\n",
      "psl\n",
      "length files: 3\n",
      "ta\n",
      "length files: 38\n"
     ]
    }
   ],
   "source": [
    "mm = len(modname)\n",
    "for j in range(0,len(hiresmd)):\n",
    "    print('\\n',hiresmd[j])\n",
    "    for i in varname:\n",
    "        locals()[i+'__'+str(j+1+mm)] = read_var_hires('surface', hiresmd[j], 'highresSST-present', i, time1, time2)\n",
    "\n",
    "    for k in pvarname:\n",
    "        locals()[k+'__'+str(j+1+mm)] = read_var_hires('p_level', hiresmd[j], 'highresSST-present', k, time1, time2)\n",
    "\n",
    "print('hires done')"
   ]
  },
  {
   "cell_type": "code",
   "execution_count": null,
   "id": "d5cdf981-7976-4054-a297-d6d996cf2cfb",
   "metadata": {},
   "outputs": [],
   "source": [
    "mmm = len(modname)+len(hiresmd)\n",
    "j = 2\n",
    "print('\\n',amip_md[j])\n",
    "# def read_amip_var(level, modn, exper, varnm, time1, time2):\n",
    "for i in varname:\n",
    "    if i!='ts':\n",
    "        locals()[i+'__'+str(1+mmm)] = read_amip_var('surface', amip_md[j], 'amip', i, time1, time2)\n",
    "\n",
    "for k in pvarname:\n",
    "    locals()[k+'__'+str(1+mmm)] = read_amip_var('p_level', amip_md[j], 'amip', k, time1, time2)\n",
    "\n",
    "print('amip done')\n"
   ]
  },
  {
   "cell_type": "code",
   "execution_count": 7,
   "id": "55c93d17-2cf3-4ead-a8d4-3808b8ae4091",
   "metadata": {},
   "outputs": [],
   "source": [
    "M_plot = []\n",
    "W_plot = []\n",
    "W_erro = []\n",
    "bin_count = 1000\n",
    "UL_pres = 850\n",
    "M_range = (-30,20)\n"
   ]
  },
  {
   "cell_type": "code",
   "execution_count": 2,
   "id": "ea5c539c-0945-40d8-bd35-c7eec885ded9",
   "metadata": {},
   "outputs": [],
   "source": [
    "\n",
    "test_num = 0\n",
    "for i in range(len(all_models)-1,len(all_models)): #l,mm+len(hiresmd)\n",
    "    print(i)\n",
    "    if i<len(modname):\n",
    "        print(modname[i],str(i))\n",
    "    elif i==mmm:\n",
    "        print(amip_md[2])\n",
    "    else:\n",
    "        print(hiresmd[i-mm],str(i))\n",
    "\n",
    "    for j in varname:\n",
    "        lat  = locals()[j+'__'+str(i+1)][0]\n",
    "        lon  = locals()[j+'__'+str(i+1)][1]\n",
    "        time = locals()[j+'__'+str(i+1)][2]\n",
    "\n",
    "        x_lat = np.array(lat)\n",
    "        lat_ind1 = np.where(x_lat == x_lat.flat[np.abs(x_lat - (latr1)).argmin()])[0]\n",
    "        lat_ind2 = np.where(x_lat == x_lat.flat[np.abs(x_lat - (latr2)).argmin()])[0]\n",
    "        lats = lat[lat_ind1[0]:lat_ind2[0]]\n",
    "\n",
    "        x_lon = lon\n",
    "        lon = np.array(lon)\n",
    "        lon[lon > 180] = lon[lon > 180]-360\n",
    "\n",
    "        maskm = np.ones((len(time),len(lats),len(lon)))\n",
    "\n",
    "        for a in range(len(lats)):\n",
    "            for b in range(len(lon)):\n",
    "                if globe.is_land(lats[a], lon[b])==True:\n",
    "                    maskm[:,a,b] = math.nan\n",
    "        #print(j)\n",
    "        locals()[j+str(i+1)] = locals()[j+'__'+str(i+1)][4]\n",
    "        locals()[j+str(i+1)] = np.ma.filled(locals()[j+str(i+1)], fill_value=np.nan)\n",
    "        locals()['plot_'+j+str(i+1)] = np.array(np.multiply(maskm,locals()[j+str(i+1)][:,lat_ind1[0]:lat_ind2[0],:]))\n",
    "        locals()['grid_'+j+str(i+1)] = regrid_wght_wnans(lats,lon,locals()['plot_'+j+str(i+1)],lats_edges,lons_edges)[0]\n",
    "\n",
    "\n",
    "\n",
    "    for k in pvarname:\n",
    "        #print(k)\n",
    "        lat  = locals()[k+'__'+str(i+1)][0]\n",
    "        lon  = locals()[k+'__'+str(i+1)][1]\n",
    "        time = locals()[k+'__'+str(i+1)][2]\n",
    "\n",
    "        x_lat = np.array(lat)\n",
    "        lat_ind1 = np.where(x_lat == x_lat.flat[np.abs(x_lat - (latr1)).argmin()])[0]\n",
    "        lat_ind2 = np.where(x_lat == x_lat.flat[np.abs(x_lat - (latr2)).argmin()])[0]\n",
    "        lats = lat[lat_ind1[0]:lat_ind2[0]]\n",
    "\n",
    "        x_lon = lon\n",
    "        lon = np.array(lon)\n",
    "        lon[lon > 180] = lon[lon > 180]-360\n",
    "\n",
    "        maskm = np.ones((len(time),len(lats),len(lon)))\n",
    "\n",
    "        for a in range(len(lats)):\n",
    "            for b in range(len(lon)):\n",
    "                if globe.is_land(lats[a], lon[b])==True:\n",
    "                    maskm[:,a,b] = math.nan\n",
    "        locals()['plot_levels'+str(i+1)] = locals()['ta__'+str(i+1)][3]\n",
    "        locals()['grid_'+k+str(i+1)] = []\n",
    "\n",
    "        levels = locals()['plot_levels'+str(i+1)]\n",
    "\n",
    "        for p in range(len(levels)):\n",
    "            if levels[p] == UL_pres*100:\n",
    "                print(levels[p])\n",
    "                locals()[k+str(i+1)] = locals()[k+'__'+str(i+1)][4]\n",
    "                locals()[k+str(i+1)] = np.ma.filled(locals()[k+str(i+1)], fill_value=np.nan)\n",
    "                temp_700   = np.array(np.multiply(maskm,locals()[k+str(i+1)][:,p,lat_ind1[0]:lat_ind2[0],:]))\n",
    "                grid_t_700 = regrid_wght_wnans(lats,lon,temp_700,lats_edges,lons_edges)[0]\n",
    "                break;\n",
    "\n",
    "    theta_700 = grid_t_700*(100000/ (UL_pres*100))**con\n",
    "    theta_t2m = locals()['grid_ts'+str(i+1)]*(100000/locals()['grid_psl'+str(i+1)])**con\n",
    "\n",
    "    t = min(len(theta_t2m),len(theta_700))\n",
    "    M_700  = theta_t2m[0:t,:,:] - theta_700[0:t,:,:]\n",
    "    plot_M = M_700.flatten()\n",
    "    try_W  = locals()['grid_sfcWind'+str(i+1)][0:t,:,:]\n",
    "    plot_W = try_W.flatten()\n",
    "\n",
    "    ind = np.argsort(plot_M)\n",
    "\n",
    "    final_M = np.sort(plot_M)\n",
    "    final_W = plot_W[ind]\n",
    "\n",
    "    indx = np.isnan(final_M*final_W)==False\n",
    "\n",
    "    bin_means, bin_edges, binnumber       = stats.binned_statistic(final_M[indx], final_W[indx], 'mean', bins=n_bins,range=M_range)\n",
    "    bin_means_c, bin_edges_c, binnumber_c = stats.binned_statistic(final_M[indx], final_W[indx], 'count', bins=n_bins,range=M_range)\n",
    "    bin_means_s, bin_edges_s, binnumber_s = stats.binned_statistic(final_M[indx], final_W[indx], 'std', bins=n_bins,range=M_range)\n",
    "    bin_means_x, bin_edges_x, binnumber_x = stats.binned_statistic(final_M[indx], final_M[indx], 'mean', bins=n_bins,range=M_range)\n",
    "\n",
    "    ind_c = np.where(bin_means_c > max_c)\n",
    "\n",
    "    std_err = bin_means_s/np.sqrt(bin_means_c)\n",
    "    M_plot.append(np.ma.masked_invalid(bin_means_x[ind_c])) #[ind_c]\n",
    "    W_plot.append(np.ma.masked_invalid(bin_means[ind_c]))\n",
    "    W_erro.append(np.ma.masked_invalid(std_err[ind_c]))\n",
    "    bin_count = min(bin_count,len(bin_means_c[ind_c]))\n",
    "\n",
    "        "
   ]
  },
  {
   "cell_type": "code",
   "execution_count": 9,
   "id": "9fb7ab73-7e4a-4035-a4ea-26c562145a72",
   "metadata": {},
   "outputs": [
    {
     "name": "stdout",
     "output_type": "stream",
     "text": [
      "OBSERVATIONS\n",
      "(1091, 1127)\n",
      "macwind done\n"
     ]
    }
   ],
   "source": [
    "from obs_data_function import obs\n",
    "merwind, macwind, temp, sfctemp, sfcpres, p_lev_obs, p_mer_lat, merlon, merlev, obs_time = obs('surface','T2M',  UL_pres, latr1, latr2)\n"
   ]
  },
  {
   "cell_type": "code",
   "execution_count": 10,
   "id": "9337b800-8a9e-40d2-afe2-b90024e16b3d",
   "metadata": {},
   "outputs": [
    {
     "name": "stdout",
     "output_type": "stream",
     "text": [
      "theta_800 (1055, 10, 72)\n",
      "theta_sfc (1055, 10, 72)\n"
     ]
    }
   ],
   "source": [
    "grid_obs_wind     = regrid_wght_wnans(p_mer_lat,merlon,macwind,lats_edges,lons_edges)[0]\n",
    "grid_obs_temp_700 = regrid_wght_wnans(p_mer_lat,merlon,temp,lats_edges,lons_edges)[0]\n",
    "grid_obs_temp_sfc = regrid_wght_wnans(p_mer_lat,merlon,sfctemp,lats_edges,lons_edges)[0]\n",
    "grid_obs_pres_sfc = regrid_wght_wnans(p_mer_lat,merlon,sfcpres,lats_edges,lons_edges)[0]\n",
    "\n",
    "lat_n = regrid_wght_wnans(p_mer_lat,merlon,sfcpres,lats_edges,lons_edges)[2][:,0]\n",
    "lon_n = regrid_wght_wnans(p_mer_lat,merlon,sfcpres,lats_edges,lons_edges)[1][0,:]\n",
    "\n",
    "theta_700 = np.array(np.multiply(grid_obs_temp_700, (100000/(merlev[p_lev_obs]*100))**(con)))\n",
    "theta_sfc = np.array(np.multiply(grid_obs_temp_sfc, (100000/grid_obs_pres_sfc)**(con)))\n",
    "print('theta_800', np.shape(theta_700))\n",
    "print('theta_sfc', np.shape(theta_sfc))\n",
    "\n",
    "\n",
    "p_CAOI = np.array(np.subtract(theta_sfc,theta_700))\n",
    "\n"
   ]
  },
  {
   "cell_type": "code",
   "execution_count": 11,
   "id": "789e6afa-7f3d-4c93-8fb0-421088eeb199",
   "metadata": {},
   "outputs": [],
   "source": [
    "#Mask for the ocean\n",
    "maskm = np.ones((len(temp),len(lat_n),len(lon_n)))\n",
    "\n",
    "for a in range(len(lat_n)):\n",
    "    for b in range(len(lon_n)):\n",
    "        if globe.is_land(lat_n[a], lon_n[b])==True:\n",
    "            maskm[:,a,b] = math.nan\n",
    "##############################\n"
   ]
  },
  {
   "cell_type": "code",
   "execution_count": 12,
   "id": "de14b79a-d4a2-4a00-81a0-a2fc45f349ac",
   "metadata": {},
   "outputs": [],
   "source": [
    "#ocean only mask\n",
    "plot_CAOI = np.array(np.multiply(maskm,p_CAOI))\n",
    "plot_wind = np.array(np.multiply(maskm,grid_obs_wind))\n",
    "\n",
    "plot_indx = np.isnan(plot_CAOI*plot_wind)==False\n",
    "plot_mer_theta = plot_CAOI[plot_indx]\n",
    "plot_mac_wind  = plot_wind[plot_indx]\n",
    "\n",
    "w_sfc = plot_mac_wind[plot_mac_wind>0]\n",
    "m_700 = plot_mer_theta[plot_mac_wind>0]\n",
    "###################################\n"
   ]
  },
  {
   "cell_type": "code",
   "execution_count": 13,
   "id": "6bd2aaf3-5117-4dbe-89ea-33e289a482fe",
   "metadata": {},
   "outputs": [],
   "source": [
    "from scipy import stats\n",
    "bin_means, bin_edges, binnumber       = stats.binned_statistic(m_700, w_sfc, 'mean', bins=n_bins, range=M_range)\n",
    "bin_means_c, bin_edges_c, binnumber_c = stats.binned_statistic(m_700, w_sfc, 'count', bins=n_bins, range=M_range)\n",
    "bin_means_s, bin_edges_s, binnumber_s = stats.binned_statistic(m_700, w_sfc, 'std', bins=n_bins, range=M_range)\n",
    "bin_means_x, bin_edges_x, binnumber_x = stats.binned_statistic(m_700, m_700, 'mean', bins=n_bins, range=M_range)\n",
    "\n",
    "W_SFC = np.ma.masked_invalid(bin_means[bin_means_c>max_c])\n",
    "M_700 = np.ma.masked_invalid(bin_means_x[bin_means_c>max_c])\n",
    "s_err = bin_means_s[bin_means_c>max_c]/np.sqrt(bin_means_c[bin_means_c>max_c])\n",
    "W_err = np.ma.masked_invalid(s_err)"
   ]
  },
  {
   "cell_type": "code",
   "execution_count": null,
   "id": "8a129d12-6b55-4a18-b2a2-bb7d25b768bd",
   "metadata": {},
   "outputs": [],
   "source": [
    "bin_count = min(bin_count, len(W_SFC))\n"
   ]
  },
  {
   "cell_type": "code",
   "execution_count": null,
   "id": "b87cf5c9-89f6-4ae1-8e30-ff476cd2b397",
   "metadata": {},
   "outputs": [],
   "source": [
    "all_models = []\n",
    "all_models.extend(modname)\n",
    "all_models.extend(hiresmd)\n",
    "all_models.append('GISS-E3-G')"
   ]
  },
  {
   "cell_type": "code",
   "execution_count": null,
   "id": "d354ad1a-d9a0-4a08-afe5-546b19e8f9ce",
   "metadata": {},
   "outputs": [],
   "source": [
    "plt.clf()\n",
    "\n",
    "for i in range(len(all_models)):\n",
    "    plt.plot(M_plot[i][0:bin_count], W_plot[i][0:bin_count], label=all_models[i], color=use_colors[i], alpha=0.6)\n",
    "    # plt.fill_between(M_plot[i][0:bin_count], W_plot[i][0:bin_count]-W_erro[i][0:bin_count], W_plot[i][0:bin_count]+W_erro[i][0:bin_count], color=use_colors[i], alpha=0.2)\n",
    "    plt.annotate(xy=(M_plot[i][bin_count-1],W_plot[i][bin_count-1]), text=all_models[i],color=use_colors[i],fontsize=5)\n",
    "    # print(i)\n",
    "    "
   ]
  },
  {
   "cell_type": "code",
   "execution_count": null,
   "id": "362730a2-8e49-403a-8a3e-9ee9fa231e92",
   "metadata": {},
   "outputs": [],
   "source": [
    "plt.clf()\n",
    "\n",
    "i = -1\n",
    "plt.plot(M_plot[i][0:bin_count], W_plot[i][0:bin_count], label=all_models[i], color=use_colors[i])\n",
    "# plt.fill_between(M_plot[i][0:bin_count], W_plot[i][0:bin_count]-W_erro[i][0:bin_count], W_plot[i][0:bin_count]+W_erro[i][0:bin_count], color=use_colors[i], alpha=0.2)\n",
    "plt.annotate(xy=(M_plot[i][bin_count-1],W_plot[i][bin_count-1]), text=all_models[i],color=use_colors[i],fontsize=5)\n",
    "    # print(i)\n",
    "    "
   ]
  },
  {
   "cell_type": "code",
   "execution_count": null,
   "id": "5a3483e7-9126-4637-8d1b-e17a692f7d6d",
   "metadata": {},
   "outputs": [],
   "source": [
    "# for i in range(mm,mm+len(hiresmd)):\n",
    "#     plt.plot(M_plot[i][0:bin_count], W_plot[i][0:bin_count], label=hiresmd[i-mm], color=use_colors[i])\n",
    "#     plt.fill_between(M_plot[i][0:bin_count], W_plot[i][0:bin_count]-W_erro[i][0:bin_count], W_plot[i][0:bin_count]+W_erro[i][0:bin_count], color=use_colors[i], alpha=0.2)\n",
    "#     plt.annotate(xy=(M_plot[i][bin_count-1],W_plot[i][bin_count-1]), text=hiresmd[i-mm],color=use_colors[i],fontsize=5)\n",
    "#     # print(i)\n",
    "    "
   ]
  },
  {
   "cell_type": "code",
   "execution_count": null,
   "id": "0a96f1bb-959e-436c-9113-be13d87548b5",
   "metadata": {},
   "outputs": [],
   "source": [
    "\n",
    "\n",
    "plt.plot(M_700[0:bin_count], W_SFC[0:bin_count], color='black' ,linestyle='dashed',\n",
    "     markersize=5,linewidth=2, label='Observations')\n",
    "# plt.fill_between(M_700[0:bin_count], W_SFC[0:bin_count]-W_err[0:bin_count], W_SFC[0:bin_count]+W_err[0:bin_count], color='black' ,alpha=0.2)\n",
    "plt.annotate(xy=(M_700[bin_count-1],W_SFC[bin_count-1]), text='Observations', color='black',fontsize=7)\n",
    "\n",
    "\n",
    "# plt.fill_between([-8.6,-5.3],[5,5],[13,13],color='grey',alpha=0.2)\n",
    "# plt.annotate(xy=(-8.3,12.5), text='Unstable CAOI',color='grey',fontsize=9)\n"
   ]
  },
  {
   "cell_type": "code",
   "execution_count": null,
   "id": "4e612c0a-30c0-471d-bdc6-47c6f300aef4",
   "metadata": {},
   "outputs": [],
   "source": [
    "plt.ylabel('U10 [m/s]')\n",
    "# plt.xlim(-20,0)\n",
    "yti = str(UL_pres)\n",
    "plt.xlabel(r\"M ($\\Theta_{t2m}$ - $\\Theta_{\"+yti+\"})$ [K]\")\n",
    "plt.title('U10 vs M for oceans between '+str(latr1)+'N to '+str(latr2)+'N')\n",
    "plt.savefig('../figures/GISS-E3-G_'+str(UL_pres)+'_t2m_U10vsM.png')\n"
   ]
  },
  {
   "cell_type": "markdown",
   "id": "f4b7de51-0304-4858-b8e1-402c4d8fdb33",
   "metadata": {},
   "source": [
    "## M / U10 PDF"
   ]
  },
  {
   "cell_type": "code",
   "execution_count": null,
   "id": "8db17fed-3aa8-4b1b-ac61-9314500d5bb4",
   "metadata": {},
   "outputs": [],
   "source": [
    "plt.clf()\n",
    "from scipy.stats import norm\n",
    "import seaborn as sns"
   ]
  },
  {
   "cell_type": "code",
   "execution_count": null,
   "id": "a517acc0-edbc-43eb-ad9d-ef81c72fef9b",
   "metadata": {},
   "outputs": [],
   "source": [
    "\n",
    "test_num = test_num+10\n",
    "for i in range(25,27): #l,mm+len(hiresmd)\n",
    "    if i<len(modname):\n",
    "        print(modname[i],str(i))\n",
    "    else:\n",
    "        print(hiresmd[i-mm],str(i))\n",
    "\n",
    "    for j in varname:\n",
    "        lat  = locals()[j+'__'+str(i+1)][0]\n",
    "        lon  = locals()[j+'__'+str(i+1)][1]\n",
    "        time = locals()[j+'__'+str(i+1)][2]\n",
    "\n",
    "        x_lat = np.array(lat)\n",
    "        lat_ind1 = np.where(x_lat == x_lat.flat[np.abs(x_lat - (latr1)).argmin()])[0]\n",
    "        lat_ind2 = np.where(x_lat == x_lat.flat[np.abs(x_lat - (latr2)).argmin()])[0]\n",
    "        lats = lat[lat_ind1[0]:lat_ind2[0]]\n",
    "\n",
    "        x_lon = lon\n",
    "        lon = np.array(lon)\n",
    "        lon[lon > 180] = lon[lon > 180]-360\n",
    "\n",
    "        maskm = np.ones((len(time),len(lats),len(lon)))\n",
    "\n",
    "        for a in range(len(lats)):\n",
    "            for b in range(len(lon)):\n",
    "                if globe.is_land(lats[a], lon[b])==True:\n",
    "                    maskm[:,a,b] = math.nan\n",
    "        #print(j)\n",
    "        locals()[j+str(i+1)] = locals()[j+'__'+str(i+1)][4]\n",
    "        locals()[j+str(i+1)] = np.ma.filled(locals()[j+str(i+1)], fill_value=np.nan)\n",
    "        locals()['plot_'+j+str(i+1)] = np.array(np.multiply(maskm,locals()[j+str(i+1)][:,lat_ind1[0]:lat_ind2[0],:]))\n",
    "        locals()['grid_'+j+str(i+1)] = regrid_wght_wnans(lats,lon,locals()['plot_'+j+str(i+1)],lats_edges,lons_edges)[0]\n",
    "\n",
    "\n",
    "\n",
    "    for k in pvarname:\n",
    "        #print(k)\n",
    "        lat  = locals()[k+'__'+str(i+1)][0]\n",
    "        lon  = locals()[k+'__'+str(i+1)][1]\n",
    "        time = locals()[k+'__'+str(i+1)][2]\n",
    "\n",
    "        x_lat = np.array(lat)\n",
    "        lat_ind1 = np.where(x_lat == x_lat.flat[np.abs(x_lat - (latr1)).argmin()])[0]\n",
    "        lat_ind2 = np.where(x_lat == x_lat.flat[np.abs(x_lat - (latr2)).argmin()])[0]\n",
    "        lats = lat[lat_ind1[0]:lat_ind2[0]]\n",
    "\n",
    "        x_lon = lon\n",
    "        lon = np.array(lon)\n",
    "        lon[lon > 180] = lon[lon > 180]-360\n",
    "\n",
    "        maskm = np.ones((len(time),len(lats),len(lon)))\n",
    "\n",
    "        for a in range(len(lats)):\n",
    "            for b in range(len(lon)):\n",
    "                if globe.is_land(lats[a], lon[b])==True:\n",
    "                    maskm[:,a,b] = math.nan\n",
    "        locals()['plot_levels'+str(i+1)] = locals()['ta__'+str(i+1)][3]\n",
    "        locals()['grid_'+k+str(i+1)] = []\n",
    "\n",
    "        levels = locals()['plot_levels'+str(i+1)]\n",
    "\n",
    "        for p in range(len(levels)):\n",
    "            if levels[p] ==  UL_pres*100:\n",
    "                #print(levels[p])\n",
    "                locals()[k+str(i+1)] = locals()[k+'__'+str(i+1)][4]\n",
    "                locals()[k+str(i+1)] = np.ma.filled(locals()[k+str(i+1)], fill_value=np.nan)\n",
    "                temp_700   = np.array(np.multiply(maskm,locals()[k+str(i+1)][:,p,lat_ind1[0]:lat_ind2[0],:]))\n",
    "                grid_t_700 = regrid_wght_wnans(lats,lon,temp_700,lats_edges,lons_edges)[0]\n",
    "                break;\n",
    "\n",
    "    theta_700 = grid_t_700*(100000/(UL_pres*100))**con\n",
    "    theta_t2m = locals()['grid_tas'+str(i+1)]*(100000/locals()['grid_psl'+str(i+1)])**con\n",
    "\n",
    "    t = min(len(theta_t2m),len(theta_700))\n",
    "    M_700  = theta_t2m[0:t,:,:] - theta_700[0:t,:,:]\n",
    "    plot_M = M_700.flatten()\n",
    "    try_W  = locals()['grid_sfcWind'+str(i+1)][0:t,:,:]\n",
    "    plot_W = try_W.flatten()\n",
    "\n",
    "    ind = np.argsort(plot_M)\n",
    "\n",
    "    final_M = np.sort(plot_M)\n",
    "    final_W = plot_W[ind]\n",
    "\n",
    "    indx = np.isnan(final_M*final_W)==False\n",
    "\n",
    "    variableG = final_W[indx]  ######change W/M here\n",
    "    hx = np.histogram(variableG,1000)\n",
    "    xvals = hx[1][:-1]\n",
    "    xvalsSmooth = np.linspace(np.min(xvals),np.max(xvals),100)\n",
    "    kernel = stats.gaussian_kde(variableG)\n",
    "    plt.plot(xvalsSmooth,kernel.pdf(xvalsSmooth),color=use_colors[i],alpha=0.5)\n",
    "# plt.savefig('../figures/testpdf.png')\n",
    "        "
   ]
  },
  {
   "cell_type": "code",
   "execution_count": null,
   "id": "53b97ae8-e15f-42c8-88e0-99bb2a15f7f9",
   "metadata": {},
   "outputs": [],
   "source": [
    "variableO = w_sfc[np.isnan(w_sfc)==False]   ###change m_700 / w_sfc\n",
    "test_yy_new = np.sort(variableO)\n",
    "\n",
    "##############################################\n",
    "hx = np.histogram(test_yy_new,1000)\n",
    "xvals = hx[1][:-1]\n",
    "xvalsSmooth = np.linspace(np.min(xvals),np.max(xvals),100)\n",
    "kernel = stats.gaussian_kde(test_yy_new)\n",
    "plt.plot(xvalsSmooth,kernel.pdf(xvalsSmooth),linestyle = '--', color = 'k')\n",
    "##############################################\n",
    "####change U10 / M\n",
    "plt.title('U10 PDF')\n",
    "plt.savefig('../figures/new_final_U10PDF.png')\n"
   ]
  }
 ],
 "metadata": {
  "kernelspec": {
   "display_name": "wgh",
   "language": "python",
   "name": "wgh"
  },
  "language_info": {
   "codemirror_mode": {
    "name": "ipython",
    "version": 3
   },
   "file_extension": ".py",
   "mimetype": "text/x-python",
   "name": "python",
   "nbconvert_exporter": "python",
   "pygments_lexer": "ipython3",
   "version": "3.9.7"
  }
 },
 "nbformat": 4,
 "nbformat_minor": 5
}
