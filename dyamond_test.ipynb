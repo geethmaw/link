{
 "cells": [
  {
   "cell_type": "code",
   "execution_count": 5,
   "id": "7c0d43b2-dc02-4c68-8318-8249811cc719",
   "metadata": {},
   "outputs": [],
   "source": [
    "import xarray as xr\n",
    "import matplotlib.pyplot as plt\n",
    "import numpy as np\n",
    "from matplotlib.cm import get_cmap\n",
    "from myReadGCMsDaily import read_var_mod\n",
    "import calendar\n",
    "from global_land_mask import globe\n",
    "import glob\n",
    "import math\n",
    "from scipy import stats\n",
    "import netCDF4 as nc"
   ]
  },
  {
   "cell_type": "code",
   "execution_count": 2,
   "id": "f63c1d48-5277-46d7-afc8-ba0ea8721c8e",
   "metadata": {},
   "outputs": [],
   "source": [
    "import glob\n",
    "import numpy as np\n",
    "list = np.sort(glob.glob('../data_dyamond/*IFS*.nc'))"
   ]
  },
  {
   "cell_type": "code",
   "execution_count": 3,
   "id": "90825504-40d8-47c9-bc72-b2acee824215",
   "metadata": {},
   "outputs": [
    {
     "data": {
      "text/plain": [
       "array(['../data_dyamond/wind_12hr_IFS-4km_DW-CPL_r1i1p1f1_ml_gn_20200120000000-20200120120000.nc'],\n",
       "      dtype='<U88')"
      ]
     },
     "execution_count": 3,
     "metadata": {},
     "output_type": "execute_result"
    }
   ],
   "source": [
    "list"
   ]
  },
  {
   "cell_type": "code",
   "execution_count": 6,
   "id": "69894d1b-c91f-45c4-a627-83436f296c6c",
   "metadata": {},
   "outputs": [],
   "source": [
    "for i in range(len(list)): #len(merlist)\n",
    "    d_path = list[i]\n",
    "    data   = nc.Dataset(d_path)"
   ]
  },
  {
   "cell_type": "code",
   "execution_count": 7,
   "id": "d40af06e-a179-42e3-a552-4f76db5acb8e",
   "metadata": {},
   "outputs": [
    {
     "data": {
      "text/plain": [
       "<class 'netCDF4._netCDF4.Dataset'>\n",
       "root group (NETCDF4 data model, file format HDF5):\n",
       "    CDI: Climate Data Interface version 1.9.9 (https://mpimet.mpg.de/cdi)\n",
       "    Conventions: CF-1.6\n",
       "    institution: European Centre for Medium-Range Weather Forecasts\n",
       "    history: Tue Mar 16 18:52:46 2021: cdo -P 4 -f nc4 -z zip --eccodes -splitname,swap -chunit,WARNING_UNIT_CONVERSION_DEACTIVATEDm of water equivalent,kg m-2,(0-1),1,kg m**-2 s**-1,kg m-2 s-1,kg m**-2,kg m-2,kg m**-3,kg m-3,J kg**-1,J kg-1,J m**-2,J m-2,m s**-1,m s-1,m**2 s**-2,m-2 s-2,m**3 m**-3,m3 m-3,N m**-2,Pa,N m**-2 s,Pa s,W m**-2,W m-2 /mnt/lustre02/work/bk1040/DYAMOND/.input_winter_data/IFS_4km/wave_1.grib _12hr_IFS-4km_DW-CPL_r1i1p1f1_ml_gn_20200120000000-20200120120000\n",
       "    CDO: Climate Data Operators version 1.9.9 (https://mpimet.mpg.de/cdo)\n",
       "    cdo_openmp_thread_number: 4\n",
       "    dimensions(sizes): time(2), gsize(2612294), height(1)\n",
       "    variables(dimensions): float64 time(time), float64 height(height), float32 wind(time, height, gsize)\n",
       "    groups: "
      ]
     },
     "execution_count": 7,
     "metadata": {},
     "output_type": "execute_result"
    }
   ],
   "source": [
    "data"
   ]
  },
  {
   "cell_type": "code",
   "execution_count": 10,
   "id": "2136530a-f66d-4ad5-907e-946e81a00931",
   "metadata": {},
   "outputs": [],
   "source": [
    "time = data.variables['time'][:]"
   ]
  },
  {
   "cell_type": "code",
   "execution_count": 11,
   "id": "a8f27f97-c244-4c52-bdce-5a33ecc03f88",
   "metadata": {},
   "outputs": [
    {
     "data": {
      "text/plain": [
       "masked_array(data=[ 0., 12.],\n",
       "             mask=False,\n",
       "       fill_value=1e+20)"
      ]
     },
     "execution_count": 11,
     "metadata": {},
     "output_type": "execute_result"
    }
   ],
   "source": [
    "time"
   ]
  },
  {
   "cell_type": "code",
   "execution_count": 12,
   "id": "63a61b05-9173-4694-bce8-6446c27e73fa",
   "metadata": {},
   "outputs": [],
   "source": [
    "height = data.variables['height'][:]"
   ]
  },
  {
   "cell_type": "code",
   "execution_count": 16,
   "id": "d8bd3d6e-e3d8-49fc-bca0-8eea167d5fcb",
   "metadata": {},
   "outputs": [],
   "source": [
    "wind = data.variables['wind'][:]"
   ]
  },
  {
   "cell_type": "code",
   "execution_count": null,
   "id": "b227b92e-6206-4dae-af66-fdcd02b22c02",
   "metadata": {},
   "outputs": [],
   "source": []
  }
 ],
 "metadata": {
  "kernelspec": {
   "display_name": "wgh",
   "language": "python",
   "name": "wgh"
  },
  "language_info": {
   "codemirror_mode": {
    "name": "ipython",
    "version": 3
   },
   "file_extension": ".py",
   "mimetype": "text/x-python",
   "name": "python",
   "nbconvert_exporter": "python",
   "pygments_lexer": "ipython3",
   "version": "3.9.7"
  }
 },
 "nbformat": 4,
 "nbformat_minor": 5
}
