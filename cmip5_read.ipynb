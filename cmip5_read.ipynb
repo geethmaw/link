{
 "cells": [
  {
   "cell_type": "markdown",
   "id": "f780266c-7772-4950-a78c-3e5003150a9b",
   "metadata": {},
   "source": [
    "##### Created on 06/14/2022\n",
    "##### CMIP5 gcms from Daniel's code"
   ]
  },
  {
   "cell_type": "code",
   "execution_count": 1,
   "id": "d9f46993-c48c-4a70-8bd0-e15f28db8272",
   "metadata": {},
   "outputs": [],
   "source": [
    "import xarray as xr\n",
    "import matplotlib.pyplot as plt\n",
    "import numpy as np\n",
    "from matplotlib.cm import get_cmap\n",
    "from readGCMs import read_var_mod\n",
    "import calendar\n",
    "from global_land_mask import globe\n",
    "import glob\n",
    "import math"
   ]
  },
  {
   "cell_type": "code",
   "execution_count": 2,
   "id": "a311c46e-5419-4db1-be6f-586245e3d4f5",
   "metadata": {},
   "outputs": [],
   "source": [
    "#####Constants\n",
    "Cp = 1004           #J/kg/K\n",
    "Rd = 287            #J/kg/K\n",
    "con= Rd/Cp"
   ]
  },
  {
   "cell_type": "code",
   "execution_count": 3,
   "id": "9a079fcf-5979-4dd1-865c-573b4a5bc7dc",
   "metadata": {},
   "outputs": [],
   "source": [
    "latr1 = 30\n",
    "latr2 = 70"
   ]
  },
  {
   "cell_type": "code",
   "execution_count": null,
   "id": "dabfc508-fbab-46fa-8132-957f17b55eb9",
   "metadata": {},
   "outputs": [],
   "source": [
    "modname = ['CESM2','CNRM-CM6-1','CESM2-WACCM','HadGEM3-GC31-LL','NorESM2-LM']\n",
    "varname = ['sfcWind', 'psl'] #'sfcWind', 'hfss', 'hfls', 'tas', 'ps', 'psl',,'pr'\n",
    "pvarname= ['ta']\n",
    "conname = ['NCAR', 'CNRM-CERFACS','NCAR', 'MOHC', 'NCC'] \n",
    "ensname = ['r11i1p1f1', 'r1i1p1f2', 'r1i1p1f1', \n",
    "           'r1i1p1f3', 'r1i1p1f1']\n",
    "ggname  = ['gn', 'gr','gn', 'gn', 'gn']"
   ]
  }
 ],
 "metadata": {
  "kernelspec": {
   "display_name": "wgh",
   "language": "python",
   "name": "wgh"
  },
  "language_info": {
   "codemirror_mode": {
    "name": "ipython",
    "version": 3
   },
   "file_extension": ".py",
   "mimetype": "text/x-python",
   "name": "python",
   "nbconvert_exporter": "python",
   "pygments_lexer": "ipython3",
   "version": "3.9.7"
  }
 },
 "nbformat": 4,
 "nbformat_minor": 5
}
