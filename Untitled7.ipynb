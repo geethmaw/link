{
 "cells": [
  {
   "cell_type": "code",
   "execution_count": null,
   "id": "17f39a5b-afa0-474b-8c8a-6bd6bcbf62ea",
   "metadata": {},
   "outputs": [],
   "source": [
    "from global_land_mask import globe\n",
    "import numpy as np\n"
   ]
  },
  {
   "cell_type": "code",
   "execution_count": null,
   "id": "a0e371f7-7bfb-4def-8c81-83f1f9153f52",
   "metadata": {},
   "outputs": [],
   "source": []
  }
 ],
 "metadata": {
  "kernelspec": {
   "display_name": "NPL3 (20201220)",
   "language": "python",
   "name": "npl3-20201220"
  },
  "language_info": {
   "name": ""
  }
 },
 "nbformat": 4,
 "nbformat_minor": 5
}
