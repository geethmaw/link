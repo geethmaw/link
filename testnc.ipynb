{
 "cells": [
  {
   "cell_type": "code",
   "execution_count": 2,
   "id": "006c3e21-7d9f-4c2e-b12f-382ed1ca1dac",
   "metadata": {},
   "outputs": [],
   "source": [
    "from con_models import get_cons"
   ]
  },
  {
   "cell_type": "code",
   "execution_count": 8,
   "id": "19c4d827-a060-41ad-b8f0-a223eceabc22",
   "metadata": {},
   "outputs": [],
   "source": [
    "con, use_colors, varname, pvarname, modname, warming_modname, hiresmd = get_cons()"
   ]
  },
  {
   "cell_type": "code",
   "execution_count": 7,
   "id": "0f8cb039-1392-4c0e-a718-82d3968150cd",
   "metadata": {},
   "outputs": [
    {
     "data": {
      "text/plain": [
       "'#88CCEE'"
      ]
     },
     "execution_count": 7,
     "metadata": {},
     "output_type": "execute_result"
    }
   ],
   "source": [
    "use_colors[0]"
   ]
  },
  {
   "cell_type": "code",
   "execution_count": 6,
   "id": "e3a4049d-a564-45d7-a4bb-49a535c7ca8d",
   "metadata": {},
   "outputs": [
    {
     "data": {
      "text/plain": [
       "<Figure size 600x400 with 0 Axes>"
      ]
     },
     "metadata": {},
     "output_type": "display_data"
    }
   ],
   "source": [
    "import xarray as xr\n",
    "import matplotlib.pyplot as plt\n",
    "import numpy as np\n",
    "from matplotlib.cm import get_cmap\n",
    "import calendar\n",
    "from global_land_mask import globe\n",
    "import glob\n",
    "import math\n",
    "from scipy import stats\n",
    "import os\n",
    "import netCDF4 as nc\n",
    "\n",
    "from highres_read import read_var_hires\n",
    "from myReadGCMsDaily import read_var_mod\n",
    "from regrid_wght_3d import regrid_wght_wnans\n",
    "\n",
    "import matplotlib as mpl\n",
    "mpl.rcParams['figure.dpi'] = 100\n",
    "plt.clf()\n",
    "plt.rcParams['figure.figsize'] = (15.0/2.5, 15.0/2.5)"
   ]
  },
  {
   "cell_type": "code",
   "execution_count": 41,
   "id": "f0f17301-4217-4928-a0b3-a48b73f4e1d3",
   "metadata": {},
   "outputs": [],
   "source": [
    "#####Constants\n",
    "Cp = 1004           #J/kg/K\n",
    "Rd = 287            #J/kg/K\n",
    "con= Rd/Cp\n",
    "\n",
    "#latitude range\n",
    "latr1 = 30\n",
    "latr2 = 80\n",
    "\n",
    "#pressure levels in observations\n",
    "p_level_700 = 3  ### 700hPa\n",
    "\n",
    "# use_colors = ['rosybrown','goldenrod','teal','blue','hotpink','green','red','cyan','magenta','cornflowerblue','mediumpurple','blueviolet',\n",
    "# 'deeppink','lawngreen','coral','peru','salmon','burlywood','rosybrown','goldenrod','teal','blue','hotpink','green','red','cyan','magenta','yellow','cornflowerblue','mediumpurple','blueviolet',\n",
    "# 'deeppink','lawngreen','coral','peru','salmon','burlywood']\n",
    "\n",
    "use_colors = ['#88CCEE','#CC6677','#117733','#332288','#AA4499','#44AA99','#999933','#882255','#661100','#6699CC','#888888','#e6194b',\n",
    "'#3cb44b','#0082c8','#f58231','#911eb4','#46f0f0','#f032e6','#d2f53c','#fabebe','#008080','#e6beff','#aa6e28','#fffac8','#800000','#aaffc3',\n",
    "'#808000','#ffd8b1','#000080','#808080','#ffffff','#000000'] #'#ffe119', ,'#DDCC77'\n",
    "\n",
    "highres_modname = ['FGOALS-f3-L','BCC-CSM2-HR','MRI-AGCM3-2-H','MRI-AGCM3-2-S'] \n",
    "\n",
    "varname = ['sfcWind', 'tas','psl'] #'sfcWind', 'hfss', 'hfls', 'tas', 'ps', 'psl',,'pr'\n",
    "pvarname= ['ta']"
   ]
  },
  {
   "cell_type": "code",
   "execution_count": 37,
   "id": "6ac4ba56-44c0-4b70-b840-8e3b2a6a6032",
   "metadata": {},
   "outputs": [],
   "source": [
    "time1=[2010, 1, 1]\n",
    "time2=[2012, 12, 30]"
   ]
  },
  {
   "cell_type": "code",
   "execution_count": 43,
   "id": "4c5f2074-b315-4939-87f1-e7098916aa00",
   "metadata": {},
   "outputs": [],
   "source": [
    "l = 0\n",
    "m = len(highres_modname)"
   ]
  },
  {
   "cell_type": "code",
   "execution_count": null,
   "id": "5e92561d-1492-4251-8089-15a6cef4e037",
   "metadata": {},
   "outputs": [
    {
     "name": "stdout",
     "output_type": "stream",
     "text": [
      "FGOALS-f3-L\n",
      "sfcWind\n",
      "length files: 1\n",
      "tas\n",
      "length files: 1\n",
      "psl\n",
      "length files: 1\n",
      "ta\n",
      "length files: 3\n",
      "done\n",
      "BCC-CSM2-HR\n",
      "sfcWind\n",
      "length files: 3\n",
      "tas\n",
      "length files: 4\n",
      "psl\n",
      "length files: 4\n",
      "ta\n",
      "length files: 16\n",
      "done\n",
      "MRI-AGCM3-2-H\n",
      "sfcWind\n",
      "length files: 1\n",
      "tas\n",
      "length files: 1\n",
      "psl\n",
      "length files: 1\n",
      "ta\n",
      "length files: 3\n",
      "done\n",
      "MRI-AGCM3-2-S\n",
      "sfcWind\n",
      "length files: 3\n",
      "tas\n",
      "length files: 3\n",
      "psl\n",
      "length files: 3\n",
      "ta\n",
      "length files: 38\n"
     ]
    }
   ],
   "source": [
    "#read_var_hires(level, modn, exper, varnm, time1, time2)\n",
    "for j in range(l,m):\n",
    "    print(highres_modname[j])\n",
    "    for i in varname:\n",
    "        print(i)\n",
    "        locals()[i+'__'+str(j+1)] = read_var_hires('surface', highres_modname[j], 'highresSST-present', i, time1, time2)\n",
    "\n",
    "    for k in pvarname:\n",
    "        print(k)\n",
    "        locals()[k+'__'+str(j+1)] = read_var_hires('p_level', highres_modname[j], 'highresSST-present', k, time1, time2)\n",
    "\n",
    "    print('done')"
   ]
  },
  {
   "cell_type": "code",
   "execution_count": null,
   "id": "1d617be5-18e1-4a99-8730-37ab49a164ae",
   "metadata": {},
   "outputs": [],
   "source": []
  },
  {
   "cell_type": "code",
   "execution_count": 10,
   "id": "2364c29e-61cd-464f-a628-064654755eb1",
   "metadata": {},
   "outputs": [
    {
     "name": "stdout",
     "output_type": "stream",
     "text": [
      "66\n"
     ]
    }
   ],
   "source": [
    "time1=[2010, 1, 1]\n",
    "time2=[2012, 12, 30]\n",
    "try2 = read_var_mod('surface', 'CESM2', 'historical', 'sfcWind', time1, time2)"
   ]
  },
  {
   "cell_type": "code",
   "execution_count": 11,
   "id": "92e5baf7-fceb-4634-baff-1cd874b4920d",
   "metadata": {},
   "outputs": [
    {
     "name": "stdout",
     "output_type": "stream",
     "text": [
      "(96,)\n",
      "(144,)\n",
      "(1094, 3)\n",
      "(0,)\n",
      "(1094, 96, 144)\n"
     ]
    }
   ],
   "source": [
    "print(np.shape(try2[0]))\n",
    "print(np.shape(try2[1]))\n",
    "print(np.shape(try2[2]))\n",
    "print(np.shape(try2[3]))\n",
    "print(np.shape(try2[4]))"
   ]
  },
  {
   "cell_type": "code",
   "execution_count": 3,
   "id": "6900e827-0e8e-4985-a71c-b23b473e1c47",
   "metadata": {},
   "outputs": [],
   "source": [
    "#latitude range\n",
    "latr1 = 30\n",
    "latr2 = 80"
   ]
  },
  {
   "cell_type": "code",
   "execution_count": 4,
   "id": "0c231721-3d9d-48bf-a4af-a4881928b172",
   "metadata": {},
   "outputs": [],
   "source": [
    "Cp = 1004           #J/kg/K\n",
    "Rd = 287            #J/kg/K\n",
    "con= Rd/Cp"
   ]
  },
  {
   "cell_type": "code",
   "execution_count": 5,
   "id": "ccec807e-c017-415a-8421-874f5ea9383c",
   "metadata": {},
   "outputs": [
    {
     "name": "stdout",
     "output_type": "stream",
     "text": [
      "MRI-AGCM3-2-S\n"
     ]
    },
    {
     "ename": "TypeError",
     "evalue": "can only concatenate str (not \"int\") to str",
     "output_type": "error",
     "traceback": [
      "\u001b[0;31m---------------------------------------------------------------------------\u001b[0m",
      "\u001b[0;31mTypeError\u001b[0m                                 Traceback (most recent call last)",
      "\u001b[0;32m/glade/scratch/geethma/ipykernel_290381/2372577803.py\u001b[0m in \u001b[0;36m<module>\u001b[0;34m\u001b[0m\n\u001b[1;32m     21\u001b[0m     \u001b[0mprint\u001b[0m\u001b[0;34m(\u001b[0m\u001b[0mmodname\u001b[0m\u001b[0;34m[\u001b[0m\u001b[0mj\u001b[0m\u001b[0;34m]\u001b[0m\u001b[0;34m)\u001b[0m\u001b[0;34m\u001b[0m\u001b[0;34m\u001b[0m\u001b[0m\n\u001b[1;32m     22\u001b[0m     \u001b[0;32mfor\u001b[0m \u001b[0mi\u001b[0m \u001b[0;32min\u001b[0m \u001b[0mvarname\u001b[0m\u001b[0;34m:\u001b[0m\u001b[0;34m\u001b[0m\u001b[0;34m\u001b[0m\u001b[0m\n\u001b[0;32m---> 23\u001b[0;31m         \u001b[0mlocals\u001b[0m\u001b[0;34m(\u001b[0m\u001b[0;34m)\u001b[0m\u001b[0;34m[\u001b[0m\u001b[0mi\u001b[0m\u001b[0;34m+\u001b[0m\u001b[0;34m'__'\u001b[0m\u001b[0;34m+\u001b[0m\u001b[0mstr\u001b[0m\u001b[0;34m(\u001b[0m\u001b[0mj\u001b[0m\u001b[0;34m+\u001b[0m\u001b[0;36m1\u001b[0m\u001b[0;34m)\u001b[0m\u001b[0;34m]\u001b[0m \u001b[0;34m=\u001b[0m \u001b[0mread_var_hires\u001b[0m\u001b[0;34m(\u001b[0m\u001b[0;34m'surface'\u001b[0m\u001b[0;34m,\u001b[0m \u001b[0mmodname\u001b[0m\u001b[0;34m[\u001b[0m\u001b[0mj\u001b[0m\u001b[0;34m]\u001b[0m\u001b[0;34m,\u001b[0m \u001b[0;34m'highresSST-present'\u001b[0m\u001b[0;34m,\u001b[0m \u001b[0mi\u001b[0m\u001b[0;34m,\u001b[0m \u001b[0mtime1\u001b[0m\u001b[0;34m,\u001b[0m \u001b[0mtime2\u001b[0m\u001b[0;34m)\u001b[0m\u001b[0;34m\u001b[0m\u001b[0;34m\u001b[0m\u001b[0m\n\u001b[0m\u001b[1;32m     24\u001b[0m \u001b[0;34m\u001b[0m\u001b[0m\n\u001b[1;32m     25\u001b[0m     \u001b[0;32mfor\u001b[0m \u001b[0mk\u001b[0m \u001b[0;32min\u001b[0m \u001b[0mpvarname\u001b[0m\u001b[0;34m:\u001b[0m\u001b[0;34m\u001b[0m\u001b[0;34m\u001b[0m\u001b[0m\n",
      "\u001b[0;32m/glade/scratch/geethma/ipykernel_290381/867863556.py\u001b[0m in \u001b[0;36mread_var_hires\u001b[0;34m(level, modn, exper, varnm, time1, time2)\u001b[0m\n\u001b[1;32m     20\u001b[0m     \u001b[0mtimes\u001b[0m \u001b[0;34m=\u001b[0m \u001b[0;34m[\u001b[0m\u001b[0;34m]\u001b[0m\u001b[0;34m\u001b[0m\u001b[0;34m\u001b[0m\u001b[0m\n\u001b[1;32m     21\u001b[0m     \u001b[0mdata\u001b[0m  \u001b[0;34m=\u001b[0m \u001b[0;34m[\u001b[0m\u001b[0;34m]\u001b[0m\u001b[0;34m\u001b[0m\u001b[0;34m\u001b[0m\u001b[0m\n\u001b[0;32m---> 22\u001b[0;31m     \u001b[0mprint\u001b[0m\u001b[0;34m(\u001b[0m\u001b[0;34m'file length: '\u001b[0m\u001b[0;34m+\u001b[0m \u001b[0mlen\u001b[0m\u001b[0;34m(\u001b[0m\u001b[0mfn\u001b[0m\u001b[0;34m)\u001b[0m\u001b[0;34m)\u001b[0m\u001b[0;34m\u001b[0m\u001b[0;34m\u001b[0m\u001b[0m\n\u001b[0m\u001b[1;32m     23\u001b[0m \u001b[0;34m\u001b[0m\u001b[0m\n\u001b[1;32m     24\u001b[0m     \u001b[0;32mfor\u001b[0m \u001b[0mi\u001b[0m \u001b[0;32min\u001b[0m \u001b[0mrange\u001b[0m\u001b[0;34m(\u001b[0m\u001b[0mlen\u001b[0m\u001b[0;34m(\u001b[0m\u001b[0mfn\u001b[0m\u001b[0;34m)\u001b[0m\u001b[0;34m)\u001b[0m\u001b[0;34m:\u001b[0m\u001b[0;34m\u001b[0m\u001b[0;34m\u001b[0m\u001b[0m\n",
      "\u001b[0;31mTypeError\u001b[0m: can only concatenate str (not \"int\") to str"
     ]
    }
   ],
   "source": [
    "modname = ['MRI-AGCM3-2-S']   #'NorESM2-LM','CanESM5','GFDL-CM4','CESM2-WACCM-FV2','FGOALS-f3-L',''INM-CM5-H'\n",
    "\n",
    "varname = ['sfcWind', 'tas','psl'] #'sfcWind', 'hfss', 'hfls', 'tas', 'ps', 'psl',,'pr'\n",
    "pvarname= ['ta']\n",
    "\n",
    "#sfcWind_day_BCC-CSM2-HR_highresSST-present_r1i1p1f1_gn_20120301-20130228.nc\n",
    "l = 0\n",
    "m = len(modname)   #l+1\n",
    "\n",
    "time1=[2010, 1, 1]\n",
    "time2=[2012, 12, 30]\n",
    "\n",
    "lats_edges = np.arange(latr1,latr2+1,5)\n",
    "lons_edges = np.arange(-180,181,5)\n",
    "\n",
    "#binning\n",
    "n_bins  = 50\n",
    "M_range = (-20,5)\n",
    "\n",
    "for j in range(l,m):\n",
    "    print(modname[j])\n",
    "    for i in varname:\n",
    "        locals()[i+'__'+str(j+1)] = read_var_hires('surface', modname[j], 'highresSST-present', i, time1, time2)\n",
    "\n",
    "    for k in pvarname:\n",
    "        locals()[k+'__'+str(j+1)] = read_var_hires('p_level', modname[j], 'highresSST-present', k, time1, time2)"
   ]
  },
  {
   "cell_type": "code",
   "execution_count": 67,
   "id": "932d65b6-49c2-4e05-956b-e95b6b5179e5",
   "metadata": {},
   "outputs": [
    {
     "name": "stdout",
     "output_type": "stream",
     "text": [
      "MRI-AGCM3-2-S\n",
      "sfcWind\n",
      "tas\n",
      "psl\n",
      "ta\n",
      "70000.0\n"
     ]
    },
    {
     "ename": "ValueError",
     "evalue": "operands could not be broadcast together with shapes (1095,10,72) (1154,10,72) ",
     "output_type": "error",
     "traceback": [
      "\u001b[0;31m---------------------------------------------------------------------------\u001b[0m",
      "\u001b[0;31mValueError\u001b[0m                                Traceback (most recent call last)",
      "\u001b[0;32m/glade/scratch/geethma/ipykernel_241163/194931659.py\u001b[0m in \u001b[0;36m<module>\u001b[0;34m\u001b[0m\n\u001b[1;32m     73\u001b[0m     \u001b[0mtheta_t2m\u001b[0m \u001b[0;34m=\u001b[0m \u001b[0mlocals\u001b[0m\u001b[0;34m(\u001b[0m\u001b[0;34m)\u001b[0m\u001b[0;34m[\u001b[0m\u001b[0;34m'grid_tas'\u001b[0m\u001b[0;34m+\u001b[0m\u001b[0mstr\u001b[0m\u001b[0;34m(\u001b[0m\u001b[0mi\u001b[0m\u001b[0;34m+\u001b[0m\u001b[0;36m1\u001b[0m\u001b[0;34m)\u001b[0m\u001b[0;34m]\u001b[0m\u001b[0;34m*\u001b[0m\u001b[0;34m(\u001b[0m\u001b[0;36m100000\u001b[0m\u001b[0;34m/\u001b[0m\u001b[0mlocals\u001b[0m\u001b[0;34m(\u001b[0m\u001b[0;34m)\u001b[0m\u001b[0;34m[\u001b[0m\u001b[0;34m'grid_psl'\u001b[0m\u001b[0;34m+\u001b[0m\u001b[0mstr\u001b[0m\u001b[0;34m(\u001b[0m\u001b[0mi\u001b[0m\u001b[0;34m+\u001b[0m\u001b[0;36m1\u001b[0m\u001b[0;34m)\u001b[0m\u001b[0;34m]\u001b[0m\u001b[0;34m)\u001b[0m\u001b[0;34m**\u001b[0m\u001b[0mcon\u001b[0m\u001b[0;34m\u001b[0m\u001b[0;34m\u001b[0m\u001b[0m\n\u001b[1;32m     74\u001b[0m \u001b[0;34m\u001b[0m\u001b[0m\n\u001b[0;32m---> 75\u001b[0;31m     \u001b[0mM_700\u001b[0m  \u001b[0;34m=\u001b[0m \u001b[0mtheta_t2m\u001b[0m \u001b[0;34m-\u001b[0m \u001b[0mtheta_700\u001b[0m\u001b[0;34m\u001b[0m\u001b[0;34m\u001b[0m\u001b[0m\n\u001b[0m\u001b[1;32m     76\u001b[0m \u001b[0;31m#     plot_M = M_700.flatten()\u001b[0m\u001b[0;34m\u001b[0m\u001b[0;34m\u001b[0m\u001b[0m\n\u001b[1;32m     77\u001b[0m \u001b[0;31m#     plot_W = locals()['grid_sfcWind'+str(i+1)].flatten()\u001b[0m\u001b[0;34m\u001b[0m\u001b[0;34m\u001b[0m\u001b[0m\n",
      "\u001b[0;31mValueError\u001b[0m: operands could not be broadcast together with shapes (1095,10,72) (1154,10,72) "
     ]
    }
   ],
   "source": [
    "M_plot = []\n",
    "W_plot = []\n",
    "W_erro = []\n",
    "b_coun = []\n",
    "m = len(modname)\n",
    "\n",
    "for i in range(l,m):\n",
    "    print(modname[i])\n",
    "    for j in varname:\n",
    "        lat  = locals()[j+'__'+str(i+1)][0]\n",
    "        lon  = locals()[j+'__'+str(i+1)][1]\n",
    "        time = locals()[j+'__'+str(i+1)][2]\n",
    "\n",
    "        x_lat = np.array(lat)\n",
    "        lat_ind1 = np.where(x_lat == x_lat.flat[np.abs(x_lat - (latr1)).argmin()])[0]\n",
    "        lat_ind2 = np.where(x_lat == x_lat.flat[np.abs(x_lat - (latr2)).argmin()])[0]\n",
    "        lats = lat[lat_ind1[0]:lat_ind2[0]]\n",
    "\n",
    "        x_lon = lon\n",
    "        lon = np.array(lon)\n",
    "        lon[lon > 180] = lon[lon > 180]-360\n",
    "\n",
    "        maskm = np.ones((len(time),len(lats),len(lon)))\n",
    "\n",
    "        for a in range(len(lats)):\n",
    "            for b in range(len(lon)):\n",
    "                if globe.is_land(lats[a], lon[b])==True:\n",
    "                    maskm[:,a,b] = math.nan\n",
    "        print(j)\n",
    "        locals()[j+str(i+1)] = locals()[j+'__'+str(i+1)][4]\n",
    "        locals()[j+str(i+1)] = np.ma.filled(locals()[j+str(i+1)], fill_value=np.nan)\n",
    "        locals()['plot_'+j+str(i+1)] = np.array(np.multiply(maskm,locals()[j+str(i+1)][:,lat_ind1[0]:lat_ind2[0],:]))\n",
    "        locals()['grid_'+j+str(i+1)] = regrid_wght_wnans(lats,lon,locals()['plot_'+j+str(i+1)],lats_edges,lons_edges)[0]\n",
    "\n",
    "\n",
    "\n",
    "    for k in pvarname:\n",
    "        print(k)\n",
    "        lat  = locals()[k+'__'+str(i+1)][0]\n",
    "        lon  = locals()[k+'__'+str(i+1)][1]\n",
    "        time = locals()[k+'__'+str(i+1)][2]\n",
    "\n",
    "        x_lat = np.array(lat)\n",
    "        lat_ind1 = np.where(x_lat == x_lat.flat[np.abs(x_lat - (latr1)).argmin()])[0]\n",
    "        lat_ind2 = np.where(x_lat == x_lat.flat[np.abs(x_lat - (latr2)).argmin()])[0]\n",
    "        lats = lat[lat_ind1[0]:lat_ind2[0]]\n",
    "\n",
    "        x_lon = lon\n",
    "        lon = np.array(lon)\n",
    "        lon[lon > 180] = lon[lon > 180]-360\n",
    "\n",
    "        maskm = np.ones((len(time),len(lats),len(lon)))\n",
    "\n",
    "        for a in range(len(lats)):\n",
    "            for b in range(len(lon)):\n",
    "                if globe.is_land(lats[a], lon[b])==True:\n",
    "                    maskm[:,a,b] = math.nan\n",
    "        locals()['plot_levels'+str(i+1)] = locals()['ta__'+str(i+1)][3]\n",
    "        locals()['grid_'+k+str(i+1)] = []\n",
    "\n",
    "        levels = locals()['plot_levels'+str(i+1)]\n",
    "\n",
    "        for p in range(len(levels)):\n",
    "            if levels[p] == 70000:\n",
    "                print(levels[p])\n",
    "                locals()[k+str(i+1)] = locals()[k+'__'+str(i+1)][4]\n",
    "                locals()[k+str(i+1)] = np.ma.filled(locals()[k+str(i+1)], fill_value=np.nan)\n",
    "                temp_700   = np.array(np.multiply(maskm,locals()[k+str(i+1)][:,p,lat_ind1[0]:lat_ind2[0],:]))\n",
    "                grid_t_700 = regrid_wght_wnans(lats,lon,temp_700,lats_edges,lons_edges)[0]\n",
    "                break;\n",
    "\n",
    "    theta_700 = grid_t_700*(100000/70000)**con\n",
    "    theta_t2m = locals()['grid_tas'+str(i+1)]*(100000/locals()['grid_psl'+str(i+1)])**con\n",
    "\n",
    "    M_700  = theta_t2m - theta_700\n",
    "#     plot_M = M_700.flatten()\n",
    "#     plot_W = locals()['grid_sfcWind'+str(i+1)].flatten()\n",
    "\n",
    "#     ind = np.argsort(plot_M)\n",
    "\n",
    "#     final_M = np.sort(plot_M)\n",
    "#     final_W = plot_W[ind]\n",
    "\n",
    "#     indx = np.isnan(final_M*final_W)==False\n",
    "\n",
    "    # bin_means, bin_edges, binnumber       = stats.binned_statistic(final_M[indx], final_W[indx], 'mean', bins=n_bins)\n",
    "    # bin_means_c, bin_edges_c, binnumber_c = stats.binned_statistic(final_M[indx], final_W[indx], 'count',bins=n_bins)\n",
    "    # bin_means_s, bin_edges_s, binnumber_s = stats.binned_statistic(final_M[indx], final_W[indx], 'std',  bins=n_bins)\n",
    "    # bin_means_x, bin_edges_x, binnumber_x = stats.binned_statistic(final_M[indx], final_M[indx], 'mean', bins=n_bins)\n",
    "\n",
    "    # ind_c = np.where("
   ]
  },
  {
   "cell_type": "code",
   "execution_count": 57,
   "id": "ef40a9ba-2e80-4c73-a1ca-3a7e6c99fbb1",
   "metadata": {},
   "outputs": [
    {
     "data": {
      "text/plain": [
       "(364, 10, 72)"
      ]
     },
     "execution_count": 57,
     "metadata": {},
     "output_type": "execute_result"
    }
   ],
   "source": [
    "np.shape(grid_t_700)"
   ]
  },
  {
   "cell_type": "code",
   "execution_count": 38,
   "id": "c0f70992-dddd-4825-ae54-f0b3286f0f42",
   "metadata": {},
   "outputs": [
    {
     "name": "stdout",
     "output_type": "stream",
     "text": [
      "GFDL-CM4\n",
      "sfcWind\n",
      "tas\n",
      "psl\n",
      "done\n"
     ]
    }
   ],
   "source": [
    "modname = ['GFDL-CM4']\n",
    "for j in range(l,m):\n",
    "    print(modname[j])\n",
    "    for i in varname:\n",
    "        print(i)\n",
    "        locals()[i+'__'+str(j+1)] = read_var_mod('surface', modname[j], 'historical', i, time1, time2)\n",
    "\n",
    "    for k in pvarname:\n",
    "        print(k)\n",
    "        locals()[k+'__'+str(j+1)] = read_var_mod('p_level', modname[j], 'historical', k, time1, time2)\n",
    "\n",
    "    print('done')"
   ]
  },
  {
   "cell_type": "code",
   "execution_count": 48,
   "id": "b68277bc-f29b-4cb2-a8d1-92c42a94c407",
   "metadata": {},
   "outputs": [
    {
     "name": "stdout",
     "output_type": "stream",
     "text": [
      "GFDL-CM4\n",
      "sfcWind\n"
     ]
    },
    {
     "name": "stderr",
     "output_type": "stream",
     "text": [
      "/glade/work/geethma/research/codes/regrid_wght_3d.py:46: RuntimeWarning: invalid value encountered in true_divide\n",
      "  zout[i]=zz[0]/ww[0]\n"
     ]
    },
    {
     "name": "stdout",
     "output_type": "stream",
     "text": [
      "tas\n",
      "psl\n",
      "ta\n",
      "70000.0\n"
     ]
    }
   ],
   "source": [
    "M_plot = []\n",
    "W_plot = []\n",
    "W_erro = []\n",
    "b_coun = []\n",
    "m = len(modname)\n",
    "for i in range(l,m):\n",
    "    print(modname[i])\n",
    "\n",
    "    for j in varname:\n",
    "        lat  = locals()[j+'__'+str(i+1)][0]\n",
    "        lon  = locals()[j+'__'+str(i+1)][1]\n",
    "        time = locals()[j+'__'+str(i+1)][2]\n",
    "\n",
    "        x_lat = np.array(lat)\n",
    "        lat_ind1 = np.where(x_lat == x_lat.flat[np.abs(x_lat - (latr1)).argmin()])[0]\n",
    "        lat_ind2 = np.where(x_lat == x_lat.flat[np.abs(x_lat - (latr2)).argmin()])[0]\n",
    "        lats = lat[lat_ind1[0]:lat_ind2[0]]\n",
    "\n",
    "        x_lon = lon\n",
    "        lon = np.array(lon)\n",
    "        lon[lon > 180] = lon[lon > 180]-360\n",
    "\n",
    "        maskm = np.ones((len(time),len(lats),len(lon)))\n",
    "\n",
    "        for a in range(len(lats)):\n",
    "            for b in range(len(lon)):\n",
    "                if globe.is_land(lats[a], lon[b])==True:\n",
    "                    maskm[:,a,b] = math.nan\n",
    "        print(j)\n",
    "        locals()[j+str(i+1)] = locals()[j+'__'+str(i+1)][4]\n",
    "        locals()[j+str(i+1)] = np.ma.filled(locals()[j+str(i+1)], fill_value=np.nan)\n",
    "        locals()['plot_'+j+str(i+1)] = np.array(np.multiply(maskm,locals()[j+str(i+1)][:,lat_ind1[0]:lat_ind2[0],:]))\n",
    "        locals()['grid_'+j+str(i+1)] = regrid_wght_wnans(lats,lon,locals()['plot_'+j+str(i+1)],lats_edges,lons_edges)[0]\n",
    "\n",
    "\n",
    "\n",
    "    for k in pvarname:\n",
    "        print(k)\n",
    "        lat  = locals()[k+'__'+str(i+1)][0]\n",
    "        lon  = locals()[k+'__'+str(i+1)][1]\n",
    "        time = locals()[k+'__'+str(i+1)][2]\n",
    "\n",
    "        x_lat = np.array(lat)\n",
    "        lat_ind1 = np.where(x_lat == x_lat.flat[np.abs(x_lat - (latr1)).argmin()])[0]\n",
    "        lat_ind2 = np.where(x_lat == x_lat.flat[np.abs(x_lat - (latr2)).argmin()])[0]\n",
    "        lats = lat[lat_ind1[0]:lat_ind2[0]]\n",
    "\n",
    "        x_lon = lon\n",
    "        lon = np.array(lon)\n",
    "        lon[lon > 180] = lon[lon > 180]-360\n",
    "\n",
    "        maskm = np.ones((len(time),len(lats),len(lon)))\n",
    "\n",
    "        for a in range(len(lats)):\n",
    "            for b in range(len(lon)):\n",
    "                if globe.is_land(lats[a], lon[b])==True:\n",
    "                    maskm[:,a,b] = math.nan\n",
    "        locals()['plot_levels'+str(i+1)] = locals()['ta__'+str(i+1)][3]\n",
    "        locals()['grid_'+k+str(i+1)] = []\n",
    "\n",
    "        levels = locals()['plot_levels'+str(i+1)]\n",
    "\n",
    "        for p in range(len(levels)):\n",
    "            if levels[p] == 70000:\n",
    "                print(levels[p])\n",
    "                locals()[k+str(i+1)] = locals()[k+'__'+str(i+1)][4]\n",
    "                locals()[k+str(i+1)] = np.ma.filled(locals()[k+str(i+1)], fill_value=np.nan)\n",
    "                temp_700   = np.array(np.multiply(maskm,locals()[k+str(i+1)][:,p,lat_ind1[0]:lat_ind2[0],:]))\n",
    "                grid_t_700 = regrid_wght_wnans(lats,lon,temp_700,lats_edges,lons_edges)[0]\n",
    "                break;\n"
   ]
  },
  {
   "cell_type": "code",
   "execution_count": 47,
   "id": "65109650-d842-4c92-a5d1-7662a8a715a6",
   "metadata": {},
   "outputs": [
    {
     "data": {
      "text/plain": [
       "(1094, 8, 90, 144)"
      ]
     },
     "execution_count": 47,
     "metadata": {},
     "output_type": "execute_result"
    }
   ],
   "source": [
    "np.shape(ta1)"
   ]
  },
  {
   "cell_type": "code",
   "execution_count": null,
   "id": "caf5f565-2efe-43b7-925a-63ce3a9099d3",
   "metadata": {},
   "outputs": [],
   "source": [
    "fn     ='/glade/scratch/geethma/cmip6/p_level/'\n",
    "name   = 'CMIP6.CMIP.NCAR.CESM2-WACCM.abrupt-4xCO2.r1i1p1f1.day.ta.gn.v20190425.ta_day_CESM2-WACCM_abrupt-4xCO2_r1i1p1f1_gn_01500101-01510101.nc'\n",
    "ds     = nc.Dataset(fn+name)\n"
   ]
  },
  {
   "cell_type": "code",
   "execution_count": null,
   "id": "3032cfb5-1b35-4269-9c67-bbb8c74059a8",
   "metadata": {},
   "outputs": [],
   "source": [
    "ds"
   ]
  },
  {
   "cell_type": "code",
   "execution_count": null,
   "id": "e09199cf-26db-4f30-9fdf-ce896ff5c4b5",
   "metadata": {},
   "outputs": [],
   "source": [
    "lons\t= ds.variables['lon'][:]          #size=1800 #Range is 0 .. 358.75\n",
    "lats\t= ds.variables['lat'][:]       #size=400 #Range is -90...90\n",
    "u\t\t= ds.variables['ta'][:]    #size = 3650,192,288\n",
    "time    = ds.variables['time'][:]\n",
    "plev    = ds.variables['plev'][:]"
   ]
  },
  {
   "cell_type": "code",
   "execution_count": null,
   "id": "9809d02d-3d2b-426a-96b8-8468925a557e",
   "metadata": {},
   "outputs": [],
   "source": [
    "np.shape(plev)"
   ]
  },
  {
   "cell_type": "code",
   "execution_count": null,
   "id": "59554d49-01e5-41c4-a59b-281056737d83",
   "metadata": {},
   "outputs": [],
   "source": [
    "plev"
   ]
  },
  {
   "cell_type": "code",
   "execution_count": null,
   "id": "70b4d820-38b7-4a1d-9e6a-190bd3a2cafe",
   "metadata": {},
   "outputs": [],
   "source": [
    "fn+name\n"
   ]
  },
  {
   "cell_type": "code",
   "execution_count": null,
   "id": "ae3c2ade-41f0-4d36-b43e-29fc169d6871",
   "metadata": {},
   "outputs": [],
   "source": [
    "fn      ='/glade/collections/cmip/CMIP6/HighResMIP/CNRM-CERFACS/CNRM-CM6-1-HR/hist-1950/r1i1p1f2/day/pr/gr/v20190221/pr/pr_day_CNRM-CM6-1-HR_hist-1950_r1i1p1f2_gr_19500101-19541231.nc'\n",
    "ds     = nc.Dataset(fn)\n",
    "# ds.append(dsi)\n",
    "lons\t= ds.variables['lon'][:]          #size=1800 #Range is 0.1 .. 359.9\n",
    "lats\t= ds.variables['lat'][:]       #size=400 #Range is -39.9 .. 39.9\n",
    "# u\t\t= dsi.variables['wind_speed'][:,:,:]    #float wind_speed(time, lat, lon) #units = \"m s-1\"\n",
    "# time    = ds.variables['time'][:]          #size=24\n",
    "# level   = ds.variables['plev'][:]\n",
    "# dsi.close"
   ]
  },
  {
   "cell_type": "code",
   "execution_count": null,
   "id": "c3c2c57a-1e0e-4345-afad-ecf54f7cd4e0",
   "metadata": {},
   "outputs": [],
   "source": [
    "lons[0:2]"
   ]
  },
  {
   "cell_type": "code",
   "execution_count": null,
   "id": "c337612c-3bda-44c5-abf4-c2373b481d6c",
   "metadata": {},
   "outputs": [],
   "source": [
    "level[0]"
   ]
  },
  {
   "cell_type": "code",
   "execution_count": null,
   "id": "75140239-493a-4a64-8dc4-6de91c643b35",
   "metadata": {},
   "outputs": [],
   "source": [
    "lons[-1]"
   ]
  },
  {
   "cell_type": "code",
   "execution_count": null,
   "id": "fd498138-6197-42cb-80fc-b4eefb861a17",
   "metadata": {},
   "outputs": [],
   "source": [
    "lats[42]"
   ]
  },
  {
   "cell_type": "code",
   "execution_count": null,
   "id": "89f720df-bd20-4704-b3b0-aac67861f7e1",
   "metadata": {},
   "outputs": [],
   "source": [
    "lats[149]"
   ]
  },
  {
   "cell_type": "code",
   "execution_count": null,
   "id": "38e4137b-21ad-44dc-804b-aedf82c7fbcc",
   "metadata": {},
   "outputs": [],
   "source": [
    "level"
   ]
  },
  {
   "cell_type": "code",
   "execution_count": null,
   "id": "67a2085e-0de9-449c-8f9a-36175c858513",
   "metadata": {},
   "outputs": [],
   "source": [
    "np.shape(time)"
   ]
  },
  {
   "cell_type": "code",
   "execution_count": null,
   "id": "35d3cf65-d0e5-4044-92c3-ed02ae476b79",
   "metadata": {},
   "outputs": [],
   "source": [
    "time[0]"
   ]
  },
  {
   "cell_type": "code",
   "execution_count": null,
   "id": "b6f9cf00-714c-41ae-a6e9-33b633a5c707",
   "metadata": {},
   "outputs": [],
   "source": [
    "a =np.arange(9)\n",
    "print(a)\n",
    "b = np.reshape(a,(-1,9))"
   ]
  },
  {
   "cell_type": "code",
   "execution_count": null,
   "id": "77bfc978-ab82-4071-a0c9-72af7a64863e",
   "metadata": {},
   "outputs": [],
   "source": [
    "print(b[0,0])"
   ]
  },
  {
   "cell_type": "code",
   "execution_count": null,
   "id": "98a4f401-24e3-40f1-bee9-c68c4b68533f",
   "metadata": {},
   "outputs": [],
   "source": [
    "import xarray as xr\n",
    "import matplotlib.pyplot as plt\n",
    "import numpy as np\n",
    "from matplotlib.cm import get_cmap\n",
    "import cartopy.crs as ccrs\n",
    "import calendar\n",
    "import glob"
   ]
  },
  {
   "cell_type": "code",
   "execution_count": null,
   "id": "a388b326-e61d-4a6a-83cc-ef954f4aaf4a",
   "metadata": {},
   "outputs": [],
   "source": [
    "from scipy import stats\n",
    "\n"
   ]
  },
  {
   "cell_type": "code",
   "execution_count": null,
   "id": "840d8338-e379-4103-b79c-420c83ca4534",
   "metadata": {},
   "outputs": [],
   "source": [
    "\n",
    "cao = []\n",
    "sw  = []\n",
    "\n",
    "fi = glob.glob('/glade/work/geethma/research/npzfilesn/cao/2016/M.npz')\n",
    "fi = np.array(fi)\n",
    "di = np.load(fi[0])\n",
    "cao.extend(di['cao'])\n",
    "\n",
    "fnn = glob.glob('/glade/work/geethma/research/npzfilesn/macsfcwind/2016/m*npz')\n",
    "fnn = np.array(fnn)\n",
    "\n",
    "for i in range(0,len(fnn)):\n",
    "    dd = np.load(fnn[i])\n",
    "    sw.extend(dd['sfcW'])\n",
    "\n",
    "print(np.shape(cao))\n",
    "print(np.shape(sw))\n",
    "\n",
    "\n",
    "\n",
    "\n"
   ]
  },
  {
   "cell_type": "code",
   "execution_count": null,
   "id": "a2cd7e26-4df9-4a74-95d9-bab9e6c2f90a",
   "metadata": {},
   "outputs": [],
   "source": [
    "d_r = []\n",
    "for i in range(len(cao)):\n",
    "    d_r.append(round(cao[i],1))"
   ]
  },
  {
   "cell_type": "code",
   "execution_count": null,
   "id": "973f9dc3-2ef6-4b1d-9aee-62ff7e7722c3",
   "metadata": {},
   "outputs": [],
   "source": [
    "cao_r = [np.round(x,1) for x in cao]"
   ]
  },
  {
   "cell_type": "code",
   "execution_count": null,
   "id": "8978ecd9-012e-43b9-b664-7cb93fadede4",
   "metadata": {},
   "outputs": [],
   "source": [
    "sw_r = [np.round(x,1) for x in sw]"
   ]
  },
  {
   "cell_type": "code",
   "execution_count": null,
   "id": "dd2ffc49-27e7-4449-bc3e-bb807833f826",
   "metadata": {},
   "outputs": [],
   "source": [
    "cao_rr = cao_r[~np.isnan(cao_r)]"
   ]
  },
  {
   "cell_type": "code",
   "execution_count": null,
   "id": "69b4fad4-a9c1-410c-b310-0132669eb363",
   "metadata": {},
   "outputs": [],
   "source": [
    "ii = np.isfinite(cao_r[0])"
   ]
  },
  {
   "cell_type": "code",
   "execution_count": null,
   "id": "4c645395-b769-490d-a90c-10529ea78288",
   "metadata": {},
   "outputs": [],
   "source": [
    "ind = []\n",
    "for i in range(len(cao_r)):\n",
    "    ii = np.isfinite(cao_r)\n",
    "    ind.extend(ii)\n",
    "print(np.shape(ind))"
   ]
  },
  {
   "cell_type": "code",
   "execution_count": null,
   "id": "f5e82cdb-6856-4eb4-acbe-c28e43b58629",
   "metadata": {},
   "outputs": [],
   "source": [
    "print(ind[0:10])"
   ]
  },
  {
   "cell_type": "code",
   "execution_count": null,
   "id": "2c799874-e62b-4e05-bad8-025e94867ea7",
   "metadata": {},
   "outputs": [],
   "source": [
    "cao_r[0:10]"
   ]
  },
  {
   "cell_type": "code",
   "execution_count": null,
   "id": "1e99af02-0b0b-4ee5-b238-c3a14c681812",
   "metadata": {},
   "outputs": [],
   "source": [
    "fig = plt.figure()\n",
    "\n",
    "plt.hexbin(cao_r[:], sw_r[:], gridsize=(15,15), cmap=plt.cm.Purples_r )\n",
    "plt.xlabel('CAO [K]')\n",
    "plt.ylabel('surface wind (m/s)')\n",
    "plt.colorbar()\n",
    "\n",
    "plt.show()\n",
    "\n"
   ]
  },
  {
   "cell_type": "code",
   "execution_count": null,
   "id": "cf36acf8-518f-4fe2-96bf-338ceb0d6c93",
   "metadata": {},
   "outputs": [],
   "source": [
    "c =[]\n",
    "w =[]\n",
    "\n",
    "for i in range(336):\n",
    "    for j in range(101):\n",
    "        for k in range(360):\n",
    "            if  np.isnan(cao[i][j][k])==False & np.isnan(sw[i][j][k])==False:\n",
    "                c.append(cao[i][j][k])\n",
    "                w.append(sw[i][j][k])\n",
    "bin_means, bin_edges, binnumber = stats.binned_statistic(c, w, statistic='mean')\n",
    "\n",
    "fig = plt.figure()\n",
    "plt.hlines(bin_means, bin_edges[:-1], bin_edges[1:], colors='g', lw=2,label='binned statistic of data')\n",
    "plt.plot(c, x_pdf, 'r-', label='analytical pdf')\n",
    "# plt.hist(w, bins=50, normed=True, histtype='stepfilled',alpha=0.2, label='histogram of data')\n",
    "plt.show()"
   ]
  },
  {
   "cell_type": "code",
   "execution_count": null,
   "id": "e779954d-1876-4f3f-afba-612c005da42a",
   "metadata": {},
   "outputs": [],
   "source": [
    "x_pdf = stats.maxwell.pdf(c)"
   ]
  },
  {
   "cell_type": "code",
   "execution_count": null,
   "id": "6bed98d2-99d9-4d9d-b6e3-a707606071b9",
   "metadata": {},
   "outputs": [],
   "source": [
    "plt.hist(w, bins=50, normed=True, histtype='stepfilled',alpha=0.2, label='histogram of data')"
   ]
  }
 ],
 "metadata": {
  "kernelspec": {
   "display_name": "wgh",
   "language": "python",
   "name": "wgh"
  },
  "language_info": {
   "codemirror_mode": {
    "name": "ipython",
    "version": 3
   },
   "file_extension": ".py",
   "mimetype": "text/x-python",
   "name": "python",
   "nbconvert_exporter": "python",
   "pygments_lexer": "ipython3",
   "version": "3.9.7"
  }
 },
 "nbformat": 4,
 "nbformat_minor": 5
}
