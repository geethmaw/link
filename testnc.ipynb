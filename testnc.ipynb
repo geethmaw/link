{
 "cells": [
  {
   "cell_type": "code",
   "execution_count": 1,
   "id": "e3a4049d-a564-45d7-a4bb-49a535c7ca8d",
   "metadata": {},
   "outputs": [],
   "source": [
    "import netCDF4 as nc\n",
    "import numpy as np\n",
    "import matplotlib.pyplot as plt\n",
    "import array\n",
    "from scipy.interpolate import RegularGridInterpolator\n",
    "import sys\n",
    "import math"
   ]
  },
  {
   "cell_type": "code",
   "execution_count": 3,
   "id": "ae3c2ade-41f0-4d36-b43e-29fc169d6871",
   "metadata": {},
   "outputs": [
    {
     "ename": "FileNotFoundError",
     "evalue": "[Errno 2] No such file or directory: b'/glade/collections/cmip/CMIP6/CMIP/CCCma/CanESM5/historical/r10i1p1f1/Amon/ta/gn/v20190306/ta/ta_Amon_CanESM5_historical_r10i1p1f1_gn_185001-201412'",
     "output_type": "error",
     "traceback": [
      "\u001b[0;31m---------------------------------------------------------------------------\u001b[0m",
      "\u001b[0;31mFileNotFoundError\u001b[0m                         Traceback (most recent call last)",
      "\u001b[0;32m<ipython-input-3-bd71f8fc253c>\u001b[0m in \u001b[0;36m<module>\u001b[0;34m\u001b[0m\n\u001b[1;32m      1\u001b[0m \u001b[0mfn\u001b[0m      \u001b[0;34m=\u001b[0m\u001b[0;34m'/glade/collections/cmip/CMIP6/CMIP/CCCma/CanESM5/historical/r10i1p1f1/Amon/ta/gn/v20190306/ta/ta_Amon_CanESM5_historical_r10i1p1f1_gn_185001-201412'\u001b[0m\u001b[0;34m\u001b[0m\u001b[0;34m\u001b[0m\u001b[0m\n\u001b[0;32m----> 2\u001b[0;31m \u001b[0mds\u001b[0m     \u001b[0;34m=\u001b[0m \u001b[0mnc\u001b[0m\u001b[0;34m.\u001b[0m\u001b[0mDataset\u001b[0m\u001b[0;34m(\u001b[0m\u001b[0mfn\u001b[0m\u001b[0;34m)\u001b[0m\u001b[0;34m\u001b[0m\u001b[0;34m\u001b[0m\u001b[0m\n\u001b[0m\u001b[1;32m      3\u001b[0m \u001b[0;31m# ds.append(dsi)\u001b[0m\u001b[0;34m\u001b[0m\u001b[0;34m\u001b[0m\u001b[0;34m\u001b[0m\u001b[0m\n\u001b[1;32m      4\u001b[0m \u001b[0mlons\u001b[0m    \u001b[0;34m=\u001b[0m \u001b[0mds\u001b[0m\u001b[0;34m.\u001b[0m\u001b[0mvariables\u001b[0m\u001b[0;34m[\u001b[0m\u001b[0;34m'lon'\u001b[0m\u001b[0;34m]\u001b[0m\u001b[0;34m[\u001b[0m\u001b[0;34m:\u001b[0m\u001b[0;34m]\u001b[0m          \u001b[0;31m#size=1800 #Range is 0.1 .. 359.9\u001b[0m\u001b[0;34m\u001b[0m\u001b[0;34m\u001b[0m\u001b[0m\n\u001b[1;32m      5\u001b[0m \u001b[0mlats\u001b[0m    \u001b[0;34m=\u001b[0m \u001b[0mds\u001b[0m\u001b[0;34m.\u001b[0m\u001b[0mvariables\u001b[0m\u001b[0;34m[\u001b[0m\u001b[0;34m'lat'\u001b[0m\u001b[0;34m]\u001b[0m\u001b[0;34m[\u001b[0m\u001b[0;34m:\u001b[0m\u001b[0;34m]\u001b[0m       \u001b[0;31m#size=400 #Range is -39.9 .. 39.9\u001b[0m\u001b[0;34m\u001b[0m\u001b[0;34m\u001b[0m\u001b[0m\n",
      "\u001b[0;32mnetCDF4/_netCDF4.pyx\u001b[0m in \u001b[0;36mnetCDF4._netCDF4.Dataset.__init__\u001b[0;34m()\u001b[0m\n",
      "\u001b[0;32mnetCDF4/_netCDF4.pyx\u001b[0m in \u001b[0;36mnetCDF4._netCDF4._ensure_nc_success\u001b[0;34m()\u001b[0m\n",
      "\u001b[0;31mFileNotFoundError\u001b[0m: [Errno 2] No such file or directory: b'/glade/collections/cmip/CMIP6/CMIP/CCCma/CanESM5/historical/r10i1p1f1/Amon/ta/gn/v20190306/ta/ta_Amon_CanESM5_historical_r10i1p1f1_gn_185001-201412'"
     ]
    }
   ],
   "source": [
    "fn      ='/glade/collections/cmip/CMIP6/CMIP/CCCma/CanESM5/historical/r10i1p1f1/Amon/ta/gn/v20190306/ta/ta_Amon_CanESM5_historical_r10i1p1f1_gn_185001-201412'\n",
    "ds     = nc.Dataset(fn)\n",
    "# ds.append(dsi)\n",
    "lons\t= ds.variables['lon'][:]          #size=1800 #Range is 0.1 .. 359.9\n",
    "lats\t= ds.variables['lat'][:]       #size=400 #Range is -39.9 .. 39.9\n",
    "# u\t\t= dsi.variables['wind_speed'][:,:,:]    #float wind_speed(time, lat, lon) #units = \"m s-1\"\n",
    "time    = ds.variables['time'][:]          #size=24\n",
    "level   = ds.variables['plev'][:]\n",
    "# dsi.close"
   ]
  },
  {
   "cell_type": "code",
   "execution_count": 31,
   "id": "c3c2c57a-1e0e-4345-afad-ecf54f7cd4e0",
   "metadata": {},
   "outputs": [
    {
     "data": {
      "text/plain": [
       "(1188, 192, 288)"
      ]
     },
     "execution_count": 31,
     "metadata": {},
     "output_type": "execute_result"
    }
   ],
   "source": [
    "np.shape(level)"
   ]
  },
  {
   "cell_type": "code",
   "execution_count": 26,
   "id": "c337612c-3bda-44c5-abf4-c2373b481d6c",
   "metadata": {},
   "outputs": [
    {
     "data": {
      "text/plain": [
       "100000.0"
      ]
     },
     "execution_count": 26,
     "metadata": {},
     "output_type": "execute_result"
    }
   ],
   "source": [
    "level[0]"
   ]
  },
  {
   "cell_type": "code",
   "execution_count": 7,
   "id": "75140239-493a-4a64-8dc4-6de91c643b35",
   "metadata": {},
   "outputs": [
    {
     "data": {
      "text/plain": [
       "358.75"
      ]
     },
     "execution_count": 7,
     "metadata": {},
     "output_type": "execute_result"
    }
   ],
   "source": [
    "lons[-1]"
   ]
  },
  {
   "cell_type": "code",
   "execution_count": 16,
   "id": "fd498138-6197-42cb-80fc-b4eefb861a17",
   "metadata": {},
   "outputs": [
    {
     "data": {
      "text/plain": [
       "-50.41884816753927"
      ]
     },
     "execution_count": 16,
     "metadata": {},
     "output_type": "execute_result"
    }
   ],
   "source": [
    "lats[42]"
   ]
  },
  {
   "cell_type": "code",
   "execution_count": 23,
   "id": "89f720df-bd20-4704-b3b0-aac67861f7e1",
   "metadata": {},
   "outputs": [
    {
     "data": {
      "text/plain": [
       "50.41884816753927"
      ]
     },
     "execution_count": 23,
     "metadata": {},
     "output_type": "execute_result"
    }
   ],
   "source": [
    "lats[149]"
   ]
  },
  {
   "cell_type": "code",
   "execution_count": 27,
   "id": "38e4137b-21ad-44dc-804b-aedf82c7fbcc",
   "metadata": {},
   "outputs": [
    {
     "data": {
      "text/plain": [
       "masked_array(data=[100000.,  92500.,  85000.,  70000.,  60000.,  50000.,\n",
       "                    40000.,  30000.,  25000.,  20000.,  15000.,  10000.,\n",
       "                     7000.,   5000.,   3000.,   2000.,   1000.,    500.,\n",
       "                      100.],\n",
       "             mask=False,\n",
       "       fill_value=1e+20)"
      ]
     },
     "execution_count": 27,
     "metadata": {},
     "output_type": "execute_result"
    }
   ],
   "source": [
    "level"
   ]
  },
  {
   "cell_type": "code",
   "execution_count": 11,
   "id": "67a2085e-0de9-449c-8f9a-36175c858513",
   "metadata": {},
   "outputs": [
    {
     "data": {
      "text/plain": [
       "(1188,)"
      ]
     },
     "execution_count": 11,
     "metadata": {},
     "output_type": "execute_result"
    }
   ],
   "source": [
    "np.shape(time)"
   ]
  },
  {
   "cell_type": "code",
   "execution_count": 12,
   "id": "35d3cf65-d0e5-4044-92c3-ed02ae476b79",
   "metadata": {},
   "outputs": [
    {
     "data": {
      "text/plain": [
       "14.5"
      ]
     },
     "execution_count": 12,
     "metadata": {},
     "output_type": "execute_result"
    }
   ],
   "source": [
    "time[0]"
   ]
  },
  {
   "cell_type": "code",
   "execution_count": 15,
   "id": "b6f9cf00-714c-41ae-a6e9-33b633a5c707",
   "metadata": {},
   "outputs": [
    {
     "name": "stdout",
     "output_type": "stream",
     "text": [
      "[0 1 2 3 4 5 6 7 8]\n"
     ]
    }
   ],
   "source": [
    "a =np.arange(9)\n",
    "print(a)\n",
    "b = np.reshape(a,(-1,9))"
   ]
  },
  {
   "cell_type": "code",
   "execution_count": 12,
   "id": "77bfc978-ab82-4071-a0c9-72af7a64863e",
   "metadata": {},
   "outputs": [
    {
     "name": "stdout",
     "output_type": "stream",
     "text": [
      "0\n"
     ]
    }
   ],
   "source": [
    "print(b[0,0])"
   ]
  },
  {
   "cell_type": "code",
   "execution_count": 1,
   "id": "98a4f401-24e3-40f1-bee9-c68c4b68533f",
   "metadata": {},
   "outputs": [],
   "source": [
    "import xarray as xr\n",
    "import matplotlib.pyplot as plt\n",
    "import numpy as np\n",
    "from matplotlib.cm import get_cmap\n",
    "import cartopy.crs as ccrs\n",
    "import calendar\n",
    "import glob"
   ]
  },
  {
   "cell_type": "code",
   "execution_count": 2,
   "id": "a388b326-e61d-4a6a-83cc-ef954f4aaf4a",
   "metadata": {},
   "outputs": [],
   "source": [
    "from scipy import stats\n",
    "\n"
   ]
  },
  {
   "cell_type": "code",
   "execution_count": 3,
   "id": "840d8338-e379-4103-b79c-420c83ca4534",
   "metadata": {},
   "outputs": [
    {
     "name": "stdout",
     "output_type": "stream",
     "text": [
      "(336, 101, 360)\n",
      "(336, 101, 360)\n"
     ]
    }
   ],
   "source": [
    "\n",
    "cao = []\n",
    "sw  = []\n",
    "\n",
    "fi = glob.glob('/glade/work/geethma/research/npzfilesn/cao/2016/M.npz')\n",
    "fi = np.array(fi)\n",
    "di = np.load(fi[0])\n",
    "cao.extend(di['cao'])\n",
    "\n",
    "fnn = glob.glob('/glade/work/geethma/research/npzfilesn/macsfcwind/2016/m*npz')\n",
    "fnn = np.array(fnn)\n",
    "\n",
    "for i in range(0,len(fnn)):\n",
    "    dd = np.load(fnn[i])\n",
    "    sw.extend(dd['sfcW'])\n",
    "\n",
    "print(np.shape(cao))\n",
    "print(np.shape(sw))\n",
    "\n",
    "\n",
    "\n",
    "\n"
   ]
  },
  {
   "cell_type": "code",
   "execution_count": 8,
   "id": "a2cd7e26-4df9-4a74-95d9-bab9e6c2f90a",
   "metadata": {},
   "outputs": [
    {
     "ename": "TypeError",
     "evalue": "type numpy.ndarray doesn't define __round__ method",
     "output_type": "error",
     "traceback": [
      "\u001b[0;31m---------------------------------------------------------------------------\u001b[0m",
      "\u001b[0;31mTypeError\u001b[0m                                 Traceback (most recent call last)",
      "\u001b[0;32m<ipython-input-8-3b533078427e>\u001b[0m in \u001b[0;36m<module>\u001b[0;34m\u001b[0m\n\u001b[1;32m      1\u001b[0m \u001b[0md_r\u001b[0m \u001b[0;34m=\u001b[0m \u001b[0;34m[\u001b[0m\u001b[0;34m]\u001b[0m\u001b[0;34m\u001b[0m\u001b[0;34m\u001b[0m\u001b[0m\n\u001b[1;32m      2\u001b[0m \u001b[0;32mfor\u001b[0m \u001b[0mi\u001b[0m \u001b[0;32min\u001b[0m \u001b[0mrange\u001b[0m\u001b[0;34m(\u001b[0m\u001b[0mlen\u001b[0m\u001b[0;34m(\u001b[0m\u001b[0mcao\u001b[0m\u001b[0;34m)\u001b[0m\u001b[0;34m)\u001b[0m\u001b[0;34m:\u001b[0m\u001b[0;34m\u001b[0m\u001b[0;34m\u001b[0m\u001b[0m\n\u001b[0;32m----> 3\u001b[0;31m     \u001b[0md_r\u001b[0m\u001b[0;34m.\u001b[0m\u001b[0mappend\u001b[0m\u001b[0;34m(\u001b[0m\u001b[0mround\u001b[0m\u001b[0;34m(\u001b[0m\u001b[0mcao\u001b[0m\u001b[0;34m[\u001b[0m\u001b[0mi\u001b[0m\u001b[0;34m]\u001b[0m\u001b[0;34m,\u001b[0m\u001b[0;36m1\u001b[0m\u001b[0;34m)\u001b[0m\u001b[0;34m)\u001b[0m\u001b[0;34m\u001b[0m\u001b[0;34m\u001b[0m\u001b[0m\n\u001b[0m",
      "\u001b[0;31mTypeError\u001b[0m: type numpy.ndarray doesn't define __round__ method"
     ]
    }
   ],
   "source": [
    "d_r = []\n",
    "for i in range(len(cao)):\n",
    "    d_r.append(round(cao[i],1))"
   ]
  },
  {
   "cell_type": "code",
   "execution_count": 9,
   "id": "973f9dc3-2ef6-4b1d-9aee-62ff7e7722c3",
   "metadata": {},
   "outputs": [],
   "source": [
    "cao_r = [np.round(x,1) for x in cao]"
   ]
  },
  {
   "cell_type": "code",
   "execution_count": 10,
   "id": "8978ecd9-012e-43b9-b664-7cb93fadede4",
   "metadata": {},
   "outputs": [],
   "source": [
    "sw_r = [np.round(x,1) for x in sw]"
   ]
  },
  {
   "cell_type": "code",
   "execution_count": 16,
   "id": "dd2ffc49-27e7-4449-bc3e-bb807833f826",
   "metadata": {},
   "outputs": [
    {
     "ename": "TypeError",
     "evalue": "only integer scalar arrays can be converted to a scalar index",
     "output_type": "error",
     "traceback": [
      "\u001b[0;31m---------------------------------------------------------------------------\u001b[0m",
      "\u001b[0;31mTypeError\u001b[0m                                 Traceback (most recent call last)",
      "\u001b[0;32m<ipython-input-16-09bcac69389e>\u001b[0m in \u001b[0;36m<module>\u001b[0;34m\u001b[0m\n\u001b[0;32m----> 1\u001b[0;31m \u001b[0mcao_rr\u001b[0m \u001b[0;34m=\u001b[0m \u001b[0mcao_r\u001b[0m\u001b[0;34m[\u001b[0m\u001b[0;34m~\u001b[0m\u001b[0mnp\u001b[0m\u001b[0;34m.\u001b[0m\u001b[0misnan\u001b[0m\u001b[0;34m(\u001b[0m\u001b[0mcao_r\u001b[0m\u001b[0;34m)\u001b[0m\u001b[0;34m]\u001b[0m\u001b[0;34m\u001b[0m\u001b[0;34m\u001b[0m\u001b[0m\n\u001b[0m",
      "\u001b[0;31mTypeError\u001b[0m: only integer scalar arrays can be converted to a scalar index"
     ]
    }
   ],
   "source": [
    "cao_rr = cao_r[~np.isnan(cao_r)]"
   ]
  },
  {
   "cell_type": "code",
   "execution_count": 17,
   "id": "69b4fad4-a9c1-410c-b310-0132669eb363",
   "metadata": {},
   "outputs": [],
   "source": [
    "ii = np.isfinite(cao_r[0])"
   ]
  },
  {
   "cell_type": "code",
   "execution_count": 19,
   "id": "4c645395-b769-490d-a90c-10529ea78288",
   "metadata": {},
   "outputs": [
    {
     "name": "stdout",
     "output_type": "stream",
     "text": [
      "(112896, 101, 360)\n"
     ]
    }
   ],
   "source": [
    "ind = []\n",
    "for i in range(len(cao_r)):\n",
    "    ii = np.isfinite(cao_r)\n",
    "    ind.extend(ii)\n",
    "print(np.shape(ind))"
   ]
  },
  {
   "cell_type": "code",
   "execution_count": null,
   "id": "f5e82cdb-6856-4eb4-acbe-c28e43b58629",
   "metadata": {},
   "outputs": [],
   "source": [
    "print(ind[0:10])"
   ]
  },
  {
   "cell_type": "code",
   "execution_count": 13,
   "id": "2c799874-e62b-4e05-bad8-025e94867ea7",
   "metadata": {},
   "outputs": [
    {
     "data": {
      "text/plain": [
       "[array([[-16.3,   nan,   nan, ..., -15.4, -15.8, -16.3],\n",
       "        [  nan,   nan,   nan, ..., -17.6, -17.3,   nan],\n",
       "        [  nan,   nan,   nan, ...,   nan, -18.5,   nan],\n",
       "        ...,\n",
       "        [-22.8, -22.4, -21.8, ..., -23.9, -23.5, -23.1],\n",
       "        [-23.5, -23.5, -23.3, ..., -23.3, -23. , -22.3],\n",
       "        [-24.9, -25.3, -25.3, ..., -24. , -24.2, -24.4]]),\n",
       " array([[-10.5, -10.5, -10.1, ..., -10.1, -10.1, -10.3],\n",
       "        [  nan,   nan,   nan, ..., -12.7, -12. , -11.9],\n",
       "        [  nan,   nan, -11.4, ..., -13.5, -13.2,   nan],\n",
       "        ...,\n",
       "        [-18.1, -18.2, -18.2, ..., -17.9, -17.9, -18.3],\n",
       "        [-16.6, -16.9, -17.4, ..., -15.4, -15.9, -16.3],\n",
       "        [  nan,   nan,   nan, ...,   nan,   nan,   nan]]),\n",
       " array([[-15.2, -13.7, -12.4, ..., -17. , -16.9, -16.2],\n",
       "        [  nan,   nan,   nan, ..., -19.6, -18. , -17.9],\n",
       "        [  nan,   nan, -15.7, ..., -18.8, -18.4,   nan],\n",
       "        ...,\n",
       "        [-17.3, -17.9, -18.6, ..., -16.2, -16.6, -17. ],\n",
       "        [  nan,   nan, -16. , ...,   nan, -13.1, -13.7],\n",
       "        [  nan,   nan,   nan, ...,   nan,   nan,   nan]]),\n",
       " array([[-20. , -19. , -17.3, ..., -19. , -19.6, -20. ],\n",
       "        [  nan,   nan,   nan, ..., -20.9, -20.2, -20.9],\n",
       "        [  nan,   nan, -18.1, ..., -18.7, -18.6,   nan],\n",
       "        ...,\n",
       "        [  nan,   nan,   nan, ..., -11. , -11.3,   nan],\n",
       "        [  nan,   nan,   nan, ..., -11.3, -11.5,   nan],\n",
       "        [  nan,   nan,   nan, ..., -11.6, -11.7,   nan]]),\n",
       " array([[-18. , -17.6, -15.9, ..., -19.2, -18.3, -18. ],\n",
       "        [-20. , -19.5, -18.3, ..., -21. , -20.1, -19.6],\n",
       "        [  nan, -18.8, -18. , ..., -19.9, -19.5,   nan],\n",
       "        ...,\n",
       "        [-13.6, -13.1, -12.7, ..., -14.8, -14.4, -14. ],\n",
       "        [-13.9, -13.5, -13.2, ..., -15. , -14.7, -14.3],\n",
       "        [-14.3, -14. , -13.7, ..., -15.6, -15. , -14.6]]),\n",
       " array([[-19.9, -18.8, -17.4, ..., -21. , -20.9, -20.5],\n",
       "        [-18.9, -17.8, -17.3, ..., -23. , -21. , -20.5],\n",
       "        [  nan, -18.4, -17.7, ..., -21.8, -20.6,   nan],\n",
       "        ...,\n",
       "        [-15. , -15.6, -15.3, ...,   nan,   nan, -14.3],\n",
       "        [-14.5, -14.9, -15. , ...,   nan,   nan, -13.9],\n",
       "        [  nan, -14. , -14.3, ...,   nan,   nan,   nan]]),\n",
       " array([[-20. , -18.7, -16.2, ..., -19.5, -20.2, -20.4],\n",
       "        [-20.3, -19.5, -18.7, ..., -21.2, -19.2, -21. ],\n",
       "        [  nan, -20.3, -18.4, ..., -18.6, -17.5,   nan],\n",
       "        ...,\n",
       "        [  nan,   nan,   nan, ...,   nan,   nan,   nan],\n",
       "        [  nan,   nan,   nan, ...,   nan,   nan,   nan],\n",
       "        [  nan,   nan,   nan, ...,   nan,   nan,   nan]]),\n",
       " array([[-17.8, -17.3, -15.4, ..., -17.3, -17.8, -17.9],\n",
       "        [-17.6, -16.9, -16.1, ..., -19.5, -18.5, -17.3],\n",
       "        [  nan, -15. , -14.7, ..., -18. , -17.5,   nan],\n",
       "        ...,\n",
       "        [-22.6, -21.6, -21. , ...,   nan, -22.6, -22.7],\n",
       "        [  nan,   nan,   nan, ...,   nan,   nan,   nan],\n",
       "        [  nan,   nan,   nan, ...,   nan,   nan,   nan]]),\n",
       " array([[-20.8, -20. , -19. , ..., -21.1, -21.1, -20.8],\n",
       "        [-21.4, -19.6, -19.6, ..., -20.9, -20.2, -21.3],\n",
       "        [-20.7, -20.1, -18.5, ..., -19.7, -19.4,   nan],\n",
       "        ...,\n",
       "        [  nan,   nan,   nan, ...,   nan,   nan,   nan],\n",
       "        [  nan,   nan,   nan, ...,   nan,   nan,   nan],\n",
       "        [  nan,   nan,   nan, ...,   nan,   nan,   nan]]),\n",
       " array([[-19.7, -17.6,   nan, ..., -18.3, -18.7, -19.5],\n",
       "        [  nan,   nan,   nan, ..., -19.1, -19.3,   nan],\n",
       "        [  nan,   nan,   nan, ...,   nan, -20.6,   nan],\n",
       "        ...,\n",
       "        [  nan,   nan,   nan, ...,   nan,   nan,   nan],\n",
       "        [  nan,   nan,   nan, ...,   nan,   nan,   nan],\n",
       "        [  nan,   nan,   nan, ...,   nan,   nan,   nan]])]"
      ]
     },
     "execution_count": 13,
     "metadata": {},
     "output_type": "execute_result"
    }
   ],
   "source": [
    "cao_r[0:10]"
   ]
  },
  {
   "cell_type": "code",
   "execution_count": 11,
   "id": "1e99af02-0b0b-4ee5-b238-c3a14c681812",
   "metadata": {},
   "outputs": [
    {
     "name": "stderr",
     "output_type": "stream",
     "text": [
      "/glade/u/ssg/ch/usr/jupyterhub/envs/npl-3.7.9/dav/lib/python3.7/site-packages/matplotlib/axes/_axes.py:4720: RuntimeWarning: invalid value encountered in less\n",
      "  bdist = (d1 < d2)\n"
     ]
    },
    {
     "data": {
      "image/png": "[encoded data removed]",
      "text/plain": [
       "<Figure size 432x288 with 2 Axes>"
      ]
     },
     "metadata": {
      "needs_background": "light"
     },
     "output_type": "display_data"
    }
   ],
   "source": [
    "fig = plt.figure()\n",
    "\n",
    "plt.hexbin(cao_r[:], sw_r[:], gridsize=(15,15), cmap=plt.cm.Purples_r )\n",
    "plt.xlabel('CAO [K]')\n",
    "plt.ylabel('surface wind (m/s)')\n",
    "plt.colorbar()\n",
    "\n",
    "plt.show()\n",
    "\n"
   ]
  },
  {
   "cell_type": "code",
   "execution_count": 20,
   "id": "cf36acf8-518f-4fe2-96bf-338ceb0d6c93",
   "metadata": {},
   "outputs": [
    {
     "data": {
      "image/png": "[encoded data removed]",
      "text/plain": [
       "<Figure size 432x288 with 1 Axes>"
      ]
     },
     "metadata": {
      "needs_background": "light"
     },
     "output_type": "display_data"
    }
   ],
   "source": [
    "c =[]\n",
    "w =[]\n",
    "\n",
    "for i in range(336):\n",
    "    for j in range(101):\n",
    "        for k in range(360):\n",
    "            if  np.isnan(cao[i][j][k])==False & np.isnan(sw[i][j][k])==False:\n",
    "                c.append(cao[i][j][k])\n",
    "                w.append(sw[i][j][k])\n",
    "bin_means, bin_edges, binnumber = stats.binned_statistic(c, w, statistic='mean')\n",
    "\n",
    "fig = plt.figure()\n",
    "plt.hlines(bin_means, bin_edges[:-1], bin_edges[1:], colors='g', lw=2,label='binned statistic of data')\n",
    "plt.plot(c, x_pdf, 'r-', label='analytical pdf')\n",
    "# plt.hist(w, bins=50, normed=True, histtype='stepfilled',alpha=0.2, label='histogram of data')\n",
    "plt.show()"
   ]
  },
  {
   "cell_type": "code",
   "execution_count": 17,
   "id": "e779954d-1876-4f3f-afba-612c005da42a",
   "metadata": {},
   "outputs": [],
   "source": [
    "x_pdf = stats.maxwell.pdf(c)"
   ]
  },
  {
   "cell_type": "code",
   "execution_count": null,
   "id": "6bed98d2-99d9-4d9d-b6e3-a707606071b9",
   "metadata": {},
   "outputs": [],
   "source": [
    "plt.hist(w, bins=50, normed=True, histtype='stepfilled',alpha=0.2, label='histogram of data')"
   ]
  }
 ],
 "metadata": {
  "kernelspec": {
   "display_name": "NPL-3.7.9",
   "language": "python",
   "name": "npl-3.7.9"
  },
  "language_info": {
   "codemirror_mode": {
    "name": "ipython",
    "version": 3
   },
   "file_extension": ".py",
   "mimetype": "text/x-python",
   "name": "python",
   "nbconvert_exporter": "python",
   "pygments_lexer": "ipython3",
   "version": "3.7.9"
  }
 },
 "nbformat": 4,
 "nbformat_minor": 5
}
