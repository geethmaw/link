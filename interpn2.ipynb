{
 "cells": [
  {
   "cell_type": "code",
   "execution_count": 1,
   "id": "12cb3fff-8d32-41ac-96ef-5a942f1b2cb2",
   "metadata": {},
   "outputs": [],
   "source": [
    "import netCDF4 as nc\n",
    "import numpy as np\n",
    "import matplotlib.pyplot as plt\n",
    "import array\n",
    "from scipy.interpolate import RegularGridInterpolator\n",
    "import sys\n",
    "import math\n",
    "from skmisc.loess import loess\n",
    "from scipy.interpolate import interpn"
   ]
  },
  {
   "cell_type": "code",
   "execution_count": null,
   "id": "4e61320c-9b2c-47ac-a098-d4d959a71c30",
   "metadata": {},
   "outputs": [],
   "source": []
  },
  {
   "cell_type": "code",
   "execution_count": null,
   "id": "a683219f-204c-414f-a07d-a299ad54e48b",
   "metadata": {},
   "outputs": [],
   "source": [
    "def main(day):\n",
    "    # print('in')\n",
    "    fn      = '/glade/work/geethma/research/data_cygnss/2019/cyg.ddmi.s201901'+f'{day:02d}'+'-003000-e201901'+f'{day:02d}'+'-233000.l3.grid-wind.a30.d31.nc'\n",
    "    dsi     = nc.Dataset(fn)\n",
    "    # ds.append(dsi)\n",
    "    lons\t= dsi.variables['lon'][:]           #size=1800 #Range is 0.1 .. 359.9 #resolution=0.2\n",
    "    lats\t= dsi.variables['lat'][:]        #size=400 #Range is -39.9 .. 39.9 #resolution=0.2\n",
    "    u\t\t= dsi.variables['wind_speed'][:,:,:]    #float wind_speed(time, lat, lon) #units = \"m s-1\"\n",
    "    globals()['time']    = dsi.variables['time'][:]          #size=24\n",
    "    dsi.close\n",
    "##############\n",
    "    fna     = '/glade/work/geethma/research/data_amsr2/2019/RSS_AMSR2_ocean_L3_daily_2019-01-'+f'{day:02d}'+'_v08.2.nc'\n",
    "    dsa     = nc.Dataset(fna)\n",
    "    lonsa   = dsa.variables['lon'][:]          #size=1440  #Range is 0.125 .. 359.875 #resolution=0.25\n",
    "    latsa\t= dsa.variables['lat'][:]          #size=720 #Range is -89.875 .. 89.875 #resolution=0.25\n",
    "    ua      = dsa.variables['wind_speed_MF'][:,:,:]  #float32 wind_speed_LF(pass, lat, lon)\n",
    "    timea   = dsa.variables['time'][:,:,:]            #(pass, lat, lon) shape=(2,720,1440)\n",
    "    passa   = dsa.variables['pass'][:]\n",
    "    # raina   = dsa.variables['rain_rate'][:,:,:]\n",
    "    dsa.close\n",
    "# ############\n",
    "# ##############\n",
    "    # x = lons\n",
    "    x = np.array(lons)\n",
    "    y = np.array(lats)\n",
    "    globals()['cyg_lat'] = y\n",
    "    globals()['cyg_lon'] = x\n",
    "    z = np.array(time)\n",
    "    zg, yg, xg = np.meshgrid(z,y, x, indexing='ij', sparse=True)\n",
    "\n",
    "    globals()['ui'] = interpn((z,y,x), u,(zg,yg,xg))\n",
    "\n",
    "    xa = np.array(lonsa)\n",
    "    ya = np.array(latsa)\n",
    "    globals()['ams_lat'] = ya\n",
    "    globals()['ams_lon'] = xa\n",
    "    za = np.array(passa)\n",
    "    zga, yga, xga = np.meshgrid(za, ya, xa, indexing='ij', sparse=True)\n",
    "\n",
    "    globals()['uai'] = interpn((za,ya,xa), ua, (zga,yga,xga))#a function [1:2,-89.9:89.9,0.1:359]\n",
    "    globals()['timeai'] = interpn((za,ya,xa), timea, (zga,yga,xga))\n",
    "    # globals()['my_interpolate_r'] = RegularGridInterpolator((za,ya,xa), raina, method='nearest') #rain_rate\n",
    "    ##########\n",
    "    #cyg | lat 4,399 | lon 0,1799\n",
    "    #amsr | lat 203,519 | lon 0,1439\n",
    "    print(ui.max(),uai.max())\n",
    "    print(yg[(0,4,0)],yg[(0,5,0)],yg[(0,6,0)],yg[(0,399,0)])\n",
    "    print('n',yga[(0,203,0)],yga[(0,204,0)],yga[(0,205,0)],yga[(0,519,0)])\n",
    "    "
   ]
  }
 ],
 "metadata": {
  "kernelspec": {
   "display_name": "geethma-npl-kernel",
   "language": "python",
   "name": "geethma-npl-kernel"
  },
  "language_info": {
   "codemirror_mode": {
    "name": "ipython",
    "version": 3
   },
   "file_extension": ".py",
   "mimetype": "text/x-python",
   "name": "python",
   "nbconvert_exporter": "python",
   "pygments_lexer": "ipython3",
   "version": "3.9.4"
  }
 },
 "nbformat": 4,
 "nbformat_minor": 5
}
